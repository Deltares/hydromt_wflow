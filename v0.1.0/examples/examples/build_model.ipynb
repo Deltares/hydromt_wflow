{
 "cells": [
  {
   "cell_type": "markdown",
   "id": "9a73590b",
   "metadata": {},
   "source": [
    "## Build a Wflow model from scratch"
   ]
  },
  {
   "cell_type": "markdown",
   "id": "ee510c6e",
   "metadata": {},
   "source": [
    "This notebook demonstrates how to prepare **Wflow** model from scratch using the command line interace (CLI)."
   ]
  },
  {
   "cell_type": "markdown",
   "id": "6b96aa15",
   "metadata": {},
   "source": [
    "All lines in this notebook which start with `!` are executed from the command line. Within the notebook environment the logging messages are shown after completion. You can also copy these lines and paste these in your shell to get more direct feedback."
   ]
  },
  {
   "cell_type": "markdown",
   "id": "451c8168",
   "metadata": {},
   "source": [
    "### hydroMT CLI build interface"
   ]
  },
  {
   "cell_type": "markdown",
   "id": "2c70853e",
   "metadata": {},
   "source": [
    "Lets first check if the Wflow model is recognized by hydromt"
   ]
  },
  {
   "cell_type": "code",
   "execution_count": 1,
   "id": "40470302",
   "metadata": {
    "execution": {
     "iopub.execute_input": "2021-04-28T08:46:17.329804Z",
     "iopub.status.busy": "2021-04-28T08:46:17.329408Z",
     "iopub.status.idle": "2021-04-28T08:46:19.781650Z",
     "shell.execute_reply": "2021-04-28T08:46:19.780838Z"
    }
   },
   "outputs": [
    {
     "name": "stdout",
     "output_type": "stream",
     "text": [
      "hydroMT model plugins: wflow, wflow_sediment\r\n",
      "\u001b[0m"
     ]
    }
   ],
   "source": [
    "# this should return \"wflow, wflow_seciment\"\n",
    "!hydromt --models"
   ]
  },
  {
   "cell_type": "markdown",
   "id": "7d9b5a20",
   "metadata": {},
   "source": [
    "Using the **hydromt build** API we can setup a complete model from scratch. Let's get an overview of all the available options:"
   ]
  },
  {
   "cell_type": "code",
   "execution_count": 2,
   "id": "1d39e4a1",
   "metadata": {
    "execution": {
     "iopub.execute_input": "2021-04-28T08:46:19.787394Z",
     "iopub.status.busy": "2021-04-28T08:46:19.785317Z",
     "iopub.status.idle": "2021-04-28T08:46:22.204739Z",
     "shell.execute_reply": "2021-04-28T08:46:22.204262Z"
    }
   },
   "outputs": [
    {
     "name": "stdout",
     "output_type": "stream",
     "text": [
      "Usage: hydromt build [OPTIONS] MODEL MODEL_ROOT REGION\r\n",
      "\r\n",
      "  Build models from source data.\r\n",
      "\r\n",
      "  Example usage:\r\n",
      "  --------------\r\n",
      "\r\n",
      "  To build a wflow model for a subbasin using and point coordinates snapped to cells with stream order >= 4\r\n",
      "  hydromt build wflow /path/to/model_root \"{'subbasin': [-7.24, 62.09], 'strord': 4}\" -i /path/to/wflow_config.ini\r\n",
      "\r\n",
      "  To build a wflow model based on basin ID\r\n",
      "  hydromt build wflow /path/to/model_root \"{'basin': 230001006}\"\r\n",
      "\r\n",
      "  To build a sfincs model based on a bbox (for Texel)\r\n",
      "  hydromt build sfincs /path/to/model_root \"{'bbox': [4.6891,52.9750,4.9576,53.1994]}\"\r\n",
      "\r\n",
      "Options:\r\n",
      "  -r, --res FLOAT             Model resolution in model src.\r\n",
      "  --build-base / --build-all  Deprecated!\r\n",
      "  --opt TEXT                  Component specific keyword arguments, see the\r\n",
      "                              setup_<component> method of the specific model\r\n",
      "                              for more information about the arguments.\r\n",
      "\r\n",
      "  -i, --config PATH           Path to hydroMT configuration file, for the\r\n",
      "                              model specific implementation.\r\n",
      "\r\n",
      "  -d, --data PATH             File path to yml data sources file. See\r\n",
      "                              documentation for required yml file format.\r\n",
      "\r\n",
      "  --dd, --deltares-data       Parse default deltares data yml from\r\n",
      "                              https://github.com/DirkEilander/hydromt-\r\n",
      "                              artifacts/releases\r\n",
      "\r\n",
      "  -q, --quiet                 Decrease verbosity.\r\n",
      "  -v, --verbose               Increase verbosity.\r\n",
      "  --help                      Show this message and exit.\r\n",
      "\u001b[0m"
     ]
    }
   ],
   "source": [
    "!hydromt build --help"
   ]
  },
  {
   "cell_type": "markdown",
   "id": "f286fccb",
   "metadata": {},
   "source": [
    "### setup wflow model base layers "
   ]
  },
  {
   "cell_type": "code",
   "execution_count": 3,
   "id": "closed-excerpt",
   "metadata": {
    "execution": {
     "iopub.execute_input": "2021-04-28T08:46:22.210132Z",
     "iopub.status.busy": "2021-04-28T08:46:22.208360Z",
     "iopub.status.idle": "2021-04-28T08:46:46.330847Z",
     "shell.execute_reply": "2021-04-28T08:46:46.330354Z"
    }
   },
   "outputs": [
    {
     "name": "stdout",
     "output_type": "stream",
     "text": [
      "2021-04-28 08:46:24,183 - build - log - INFO - HydroMT version: 0.4.0\r\n",
      "2021-04-28 08:46:24,183 - build - main - INFO - Building instance of wflow model at /home/runner/work/hydromt_wflow/hydromt_wflow/docs/examples/examples/wflow_test_base.\r\n",
      "2021-04-28 08:46:24,183 - build - main - INFO - User settings:\r\n",
      "2021-04-28 08:46:24,183 - build - wflow - INFO - Preparing base hydrography basemaps.\r\n",
      "2021-04-28 08:46:24,184 - build - data_adapter - INFO - Downloading file to /home/runner/.hydromt_data/data/v0.0.2/data.tar.gz\r\n"
     ]
    },
    {
     "name": "stdout",
     "output_type": "stream",
     "text": [
      "2021-04-28 08:46:25,978 - build - data_adapter - INFO - Updating data sources from yml file /home/runner/.hydromt_data/data/v0.0.2/data_catalog.yml\r\n"
     ]
    },
    {
     "name": "stdout",
     "output_type": "stream",
     "text": [
      "2021-04-28 08:46:26,043 - build - data_adapter - INFO - DataCatalog: Getting hydro_merit RasterDataset raster data from /home/runner/.hydromt_data/data/v0.0.2/merit_hydro/{variable}.tif\r\n"
     ]
    },
    {
     "name": "stdout",
     "output_type": "stream",
     "text": [
      "2021-04-28 08:46:29,254 - build - basin_mask - INFO - basin bbox: [11.7750, 45.8042, 12.7450, 46.6900] / size: 664756\r\n"
     ]
    },
    {
     "name": "stdout",
     "output_type": "stream",
     "text": [
      "2021-04-28 08:46:29,517 - build - basemaps - INFO - Upscale flow direction data: 10x, ihu method.\r\n"
     ]
    },
    {
     "name": "stdout",
     "output_type": "stream",
     "text": [
      "2021-04-28 08:46:45,468 - build - wflow - INFO - Write model data to /home/runner/work/hydromt_wflow/hydromt_wflow/docs/examples/examples/wflow_test_base\r\n",
      "2021-04-28 08:46:45,471 - build - model_api - INFO - Writing model config to /home/runner/work/hydromt_wflow/hydromt_wflow/docs/examples/examples/wflow_test_base/wflow_sbm.toml\r\n"
     ]
    },
    {
     "name": "stdout",
     "output_type": "stream",
     "text": [
      "2021-04-28 08:46:45,472 - build - wflow - INFO - Write staticmaps to /home/runner/work/hydromt_wflow/hydromt_wflow/docs/examples/examples/wflow_test_base/staticmaps.nc\r\n"
     ]
    },
    {
     "name": "stdout",
     "output_type": "stream",
     "text": [
      "2021-04-28 08:46:45,579 - build - wflow - INFO - Writing model staticgeom to file.\r\n"
     ]
    },
    {
     "name": "stdout",
     "output_type": "stream",
     "text": [
      "\u001b[0m"
     ]
    }
   ],
   "source": [
    "# NOTE: copy this line (without !) to your shell for more direct feedback\n",
    "!hydromt build wflow \"./wflow_test_base\" \"{'subbasin': [12.2051, 45.8331], 'strord': 4, 'bounds': [11.70, 45.35, 12.95, 46.70]}\" -r 0.00833 -v"
   ]
  },
  {
   "cell_type": "markdown",
   "id": "cb9d0032",
   "metadata": {},
   "source": [
    "The example above means the following: run **hydromt build** with:\n",
    "\n",
    "* `wflow` : i.e. build a wflow model\n",
    "* `./wflow_test_base` : output model folder\n",
    "* `\"{'subbasin': [12.2051, 45.8331], 'strord': 4, 'bounds': [11.70, 45.35, 12.95, 46.70]}\"` : derive a subbasin with its outlet at the given x,y coordinates and within the given bounds [xmin, ymin, xmax, ymax] (WGS84) snapped to a river with minimum stream order (strord) of 4. All *REGION* options are described in the [docs](https://deltares.github.io/hydromt/latest/user_guide/cli.html#region-options)\n",
    "* `-r 0.0083333` : build the model at a 30 arc sec (~1km) resolution\n",
    "* `-vv` : give some extra verbosity (2 * v) to display feedback on screen. Now debug messages are provided.\n",
    "\n",
    "NOTE: As we did not specify a model configuration, only the base maps (topography and hydrography) have been setup using default parameters. To build a complete model we need the use a configuraton ini-file."
   ]
  },
  {
   "cell_type": "markdown",
   "id": "ebd31242",
   "metadata": {},
   "source": [
    "### Model setup configuration"
   ]
  },
  {
   "cell_type": "markdown",
   "id": "fb8282c9",
   "metadata": {},
   "source": [
    "The ini-file contains the model setup configuration and determines which components are build and in which order and optionally sets non-default arguments for each component. This configuration is passed to hydromt using `-i <path_to_ini_file>`. We have prepared several example ini-files which are available in the model repository [examples folder](https://github.com/Deltares/hydromt_wflow/tree/main/examples) and from the [docs(build_configuration)](https://deltares.github.io/hydromt_wflow/latest/user_guide/wflow/build_configuration.html). \n",
    "\n",
    "Each header as shown between `[...]` (e.g. `[setup_basemaps]`) corresponds to a model component. All model components are explained in the [docs(model_components)](https://deltares.github.io/hydromt_wflow/latest/user_guide/wflow/components.html). "
   ]
  },
  {
   "cell_type": "markdown",
   "id": "cc3fd44d",
   "metadata": {},
   "source": [
    "We will load the default wflow build ini file for inspection:"
   ]
  },
  {
   "cell_type": "code",
   "execution_count": 4,
   "id": "e88d4aed",
   "metadata": {
    "execution": {
     "iopub.execute_input": "2021-04-28T08:46:46.335637Z",
     "iopub.status.busy": "2021-04-28T08:46:46.334822Z",
     "iopub.status.idle": "2021-04-28T08:46:46.338335Z",
     "shell.execute_reply": "2021-04-28T08:46:46.338654Z"
    }
   },
   "outputs": [
    {
     "name": "stdout",
     "output_type": "stream",
     "text": [
      "[global]\n",
      "data_libs       = []            # add optional paths to data yml files\n",
      "\n",
      "[setup_config]                  # options parsed to wflow ini file <section>.<option>\n",
      "starttime = 2010-01-01T00:00:00\n",
      "endtime = 2010-03-31T00:00:00\n",
      "timestepsecs = 86400\n",
      "input.path_forcing = inmaps-era5-2010.nc\n",
      "\n",
      "[setup_basemaps]\n",
      "source_name     = hydro_merit   # source hydrography data {hydro_merit, hydro_merit_1k}\n",
      "fn_basin_index  = hydro_merit_index # source of basin index corresponding to source_name\n",
      "upscale_method  = ihu           # upscaling method for flow direction data, by default 'ihu'\n",
      "\n",
      "[setup_rivers]\n",
      "river_upa       = 30            # minimum upstream area threshold for the river map [km2]\n",
      "slope_len       = 2000          # length over which tp calculate river slope [m]\n",
      "\n",
      "[setup_reservoirs]\n",
      "source_name     = hydro_reservoirs  # source for reservoirs based on GRAND: {hydro_reservoirs}; None to skip\n",
      "min_area        = 1.0           # minimum lake area to consider [km2]\n",
      "priority_jrc    = True          # if True then JRC data from hydroengine is used to calculate some reservoir attributes instead of the GRanD and HydroLAKES db.   \n",
      "\n",
      "[setup_lakes]\n",
      "source_name     = hydro_lakes   # source for lakes based on hydroLAKES: {hydro_lakes}; None to skip\n",
      "min_area        = 10.0          # minimum reservoir area to consider [km2]\n",
      "\n",
      "[setup_glaciers]\n",
      "source_name     = rgi           # source for glaciers based on Randolph Glacier Inventory {rgi}; None to skip\n",
      "min_area        = 1.0           # minimum glacier area to consider [km2]\n",
      "\n",
      "[setup_riverwidth]\n",
      "source_precip   = chelsa        # source for precip climatology used to estimate discharge: {chelsa}\n",
      "source_climate  = koppen_geiger # source for climate classification used to estimate discharge: {koppen_geiger}\n",
      "predictor       = discharge     # predictor used in power-law w=a*predictor^b {'discharge'; 'uparea', other staticmaps}; a and b can also be set here.\n",
      "fill            = False         # if False all river width values are set based on predictor, if True only data gaps and lakes/reservoirs in observed width are filled (works only with MERIT hydro)\n",
      "min_wth         = 1             # global minimum width\n",
      "\n",
      "[setup_lulcmaps]\n",
      "source_name     = globcover     # source for lulc maps: {globcover, vito, corine}\n",
      "\n",
      "[setup_laimaps]\n",
      "source_name     = modis_lai     # source for LAI: {modis_lai}\n",
      "\n",
      "[setup_soilmaps]\n",
      "source_name     = soilgrids     # source for soilmaps: {soilgrids}\n",
      "ptf_ksatver     = brakensiek    # pedotransfer function to calculate hydraulic conductivity: {brakensiek, cosby}\n",
      "\n",
      "[setup_gauges]\n",
      "source_name     = grdc          # if not None add gaugemap. Either a path or known source_name: {grdc}\n",
      "snap_to_river   = True          # if True snaps gauges from source to river\n",
      "derive_subcatch = False         # if True derive subcatch map based on gauges.\n",
      "\n",
      "[setup_precip_forcing]\n",
      "precip_fn       = era5          # source for precipitation.\n",
      "climate_fn      = None          # source for high resolution climatology to correct precipitation.\n",
      "\n",
      "[setup_temp_pet_forcing]\n",
      "temp_pet_fn     = era5          # source for temperature and potential evapotranspiration.\n",
      "press_correction= True          # if True temperature is corrected with elevation lapse rate.\n",
      "temp_correction = True          # if True pressure is corrected with elevation lapse rate.\n",
      "dem_forcing_fn  = era5_orography # source of elevation grid corresponding to temp_pet_fn. Used for lapse rate correction.\n",
      "pet_method      = debruin       # method to compute PET: {debruin, makkink}\n",
      "skip_pet        = False         # if True, only temperature is prepared.\n",
      "\n",
      "[setup_constant_pars]\n",
      "KsatHorFrac=100\n",
      "Cfmax = 3.75653\n",
      "cf_soil = 0.038\n",
      "EoverR = 0.11\n",
      "InfiltCapPath = 5\n",
      "InfiltCapSoil = 600 \n",
      "MaxLeakage = 0\n",
      "rootdistpar = -500\n",
      "TT = 0\n",
      "TTI = 2\n",
      "TTM = 0\n",
      "WHC = 0.1\n",
      "G_Cfmax = 5.3\n",
      "G_SIfrac = 0.002\n",
      "G_TT = 1.3\n"
     ]
    }
   ],
   "source": [
    "fn_ini = 'wflow_build.ini'\n",
    "with open(fn_ini, 'r') as f:\n",
    "    txt = f.read()\n",
    "print(txt)"
   ]
  },
  {
   "cell_type": "markdown",
   "id": "7584dcae",
   "metadata": {},
   "source": [
    "### Data for model setup"
   ]
  },
  {
   "cell_type": "markdown",
   "id": "dad35651",
   "metadata": {},
   "source": [
    "The `<...>_fn` arguments correspond to a data source from the `DataCatalog` which is based on a yml-file with reverences to the data paths/urls and how the data should be read. This file can be provided to hydromt using `-d <path_to_yml_file>`. \n",
    "\n",
    "By default some example data for the Piave basin will be downloaded to `~/.hydromt_data/` which is also used for this example. An overview of the available example data is provided [here](https://deltares.github.io/hydromt/latest/user_guide/data.html#available-global-datasets)\n",
    "This example data is a based on the data which available from the Deltares p-drive. \n",
    "If you have acces to this drive, a pre-configured catalog file can be loaded using the `--dd` flag. \n",
    "\n",
    "More background how to write a data catalog yml file can be found in the [hydromt core docs](https://deltares.github.io/hydromt/latest/user_guide/data.html) "
   ]
  },
  {
   "cell_type": "markdown",
   "id": "12860ed2",
   "metadata": {},
   "source": [
    "### Setup complete wflow model "
   ]
  },
  {
   "cell_type": "code",
   "execution_count": 5,
   "id": "hundred-trailer",
   "metadata": {
    "execution": {
     "iopub.execute_input": "2021-04-28T08:46:46.341892Z",
     "iopub.status.busy": "2021-04-28T08:46:46.341487Z",
     "iopub.status.idle": "2021-04-28T08:47:27.560409Z",
     "shell.execute_reply": "2021-04-28T08:47:27.560813Z"
    },
    "scrolled": true
   },
   "outputs": [
    {
     "name": "stdout",
     "output_type": "stream",
     "text": [
      "2021-04-28 08:46:48,313 - build - log - DEBUG - Writing log messages to new file /home/runner/work/hydromt_wflow/hydromt_wflow/docs/examples/examples/wflow_test_full/hydromt.log.\r\n",
      "2021-04-28 08:46:48,314 - build - log - INFO - HydroMT version: 0.4.0\r\n",
      "2021-04-28 08:46:48,314 - build - main - INFO - Building instance of wflow model at /home/runner/work/hydromt_wflow/hydromt_wflow/docs/examples/examples/wflow_test_full.\r\n",
      "2021-04-28 08:46:48,314 - build - main - INFO - User settings:\r\n",
      "2021-04-28 08:46:48,317 - build - cli_utils - INFO - global.data_libs: []\r\n",
      "2021-04-28 08:46:48,317 - build - cli_utils - INFO - setup_config.starttime: 2010-01-01T00:00:00\r\n",
      "2021-04-28 08:46:48,317 - build - cli_utils - INFO - setup_config.endtime: 2010-03-31T00:00:00\r\n",
      "2021-04-28 08:46:48,317 - build - cli_utils - INFO - setup_config.timestepsecs: 86400\r\n",
      "2021-04-28 08:46:48,317 - build - cli_utils - INFO - setup_config.input.path_forcing: inmaps-era5-2010.nc\r\n",
      "2021-04-28 08:46:48,317 - build - cli_utils - INFO - setup_basemaps.source_name: hydro_merit\r\n",
      "2021-04-28 08:46:48,317 - build - cli_utils - INFO - setup_basemaps.fn_basin_index: hydro_merit_index\r\n",
      "2021-04-28 08:46:48,317 - build - cli_utils - INFO - setup_basemaps.upscale_method: ihu\r\n",
      "2021-04-28 08:46:48,317 - build - cli_utils - INFO - setup_rivers.river_upa: 30\r\n",
      "2021-04-28 08:46:48,317 - build - cli_utils - INFO - setup_rivers.slope_len: 2000\r\n",
      "2021-04-28 08:46:48,317 - build - cli_utils - INFO - setup_reservoirs.source_name: hydro_reservoirs\r\n",
      "2021-04-28 08:46:48,317 - build - cli_utils - INFO - setup_reservoirs.min_area: 1.0\r\n",
      "2021-04-28 08:46:48,317 - build - cli_utils - INFO - setup_reservoirs.priority_jrc: True\r\n",
      "2021-04-28 08:46:48,317 - build - cli_utils - INFO - setup_lakes.source_name: hydro_lakes\r\n",
      "2021-04-28 08:46:48,317 - build - cli_utils - INFO - setup_lakes.min_area: 10.0\r\n",
      "2021-04-28 08:46:48,317 - build - cli_utils - INFO - setup_glaciers.source_name: rgi\r\n",
      "2021-04-28 08:46:48,317 - build - cli_utils - INFO - setup_glaciers.min_area: 1.0\r\n",
      "2021-04-28 08:46:48,317 - build - cli_utils - INFO - setup_riverwidth.source_precip: chelsa\r\n",
      "2021-04-28 08:46:48,317 - build - cli_utils - INFO - setup_riverwidth.source_climate: koppen_geiger\r\n",
      "2021-04-28 08:46:48,317 - build - cli_utils - INFO - setup_riverwidth.predictor: discharge\r\n",
      "2021-04-28 08:46:48,317 - build - cli_utils - INFO - setup_riverwidth.fill: False\r\n",
      "2021-04-28 08:46:48,317 - build - cli_utils - INFO - setup_riverwidth.min_wth: 1\r\n",
      "2021-04-28 08:46:48,318 - build - cli_utils - INFO - setup_lulcmaps.source_name: globcover\r\n",
      "2021-04-28 08:46:48,318 - build - cli_utils - INFO - setup_laimaps.source_name: modis_lai\r\n",
      "2021-04-28 08:46:48,318 - build - cli_utils - INFO - setup_soilmaps.source_name: soilgrids\r\n",
      "2021-04-28 08:46:48,318 - build - cli_utils - INFO - setup_soilmaps.ptf_ksatver: brakensiek\r\n",
      "2021-04-28 08:46:48,318 - build - cli_utils - INFO - setup_gauges.source_name: grdc\r\n",
      "2021-04-28 08:46:48,318 - build - cli_utils - INFO - setup_gauges.snap_to_river: True\r\n",
      "2021-04-28 08:46:48,318 - build - cli_utils - INFO - setup_gauges.derive_subcatch: False\r\n",
      "2021-04-28 08:46:48,318 - build - cli_utils - INFO - setup_precip_forcing.precip_fn: era5\r\n",
      "2021-04-28 08:46:48,318 - build - cli_utils - INFO - setup_precip_forcing.climate_fn: None\r\n",
      "2021-04-28 08:46:48,318 - build - cli_utils - INFO - setup_temp_pet_forcing.temp_pet_fn: era5\r\n",
      "2021-04-28 08:46:48,318 - build - cli_utils - INFO - setup_temp_pet_forcing.press_correction: True\r\n",
      "2021-04-28 08:46:48,318 - build - cli_utils - INFO - setup_temp_pet_forcing.temp_correction: True\r\n",
      "2021-04-28 08:46:48,318 - build - cli_utils - INFO - setup_temp_pet_forcing.dem_forcing_fn: era5_orography\r\n",
      "2021-04-28 08:46:48,318 - build - cli_utils - INFO - setup_temp_pet_forcing.pet_method: debruin\r\n",
      "2021-04-28 08:46:48,318 - build - cli_utils - INFO - setup_temp_pet_forcing.skip_pet: False\r\n",
      "2021-04-28 08:46:48,318 - build - cli_utils - INFO - setup_constant_pars.KsatHorFrac: 100\r\n",
      "2021-04-28 08:46:48,318 - build - cli_utils - INFO - setup_constant_pars.Cfmax: 3.75653\r\n",
      "2021-04-28 08:46:48,318 - build - cli_utils - INFO - setup_constant_pars.cf_soil: 0.038\r\n",
      "2021-04-28 08:46:48,318 - build - cli_utils - INFO - setup_constant_pars.EoverR: 0.11\r\n",
      "2021-04-28 08:46:48,318 - build - cli_utils - INFO - setup_constant_pars.InfiltCapPath: 5\r\n",
      "2021-04-28 08:46:48,318 - build - cli_utils - INFO - setup_constant_pars.InfiltCapSoil: 600\r\n",
      "2021-04-28 08:46:48,318 - build - cli_utils - INFO - setup_constant_pars.MaxLeakage: 0\r\n",
      "2021-04-28 08:46:48,318 - build - cli_utils - INFO - setup_constant_pars.rootdistpar: -500\r\n",
      "2021-04-28 08:46:48,318 - build - cli_utils - INFO - setup_constant_pars.TT: 0\r\n",
      "2021-04-28 08:46:48,318 - build - cli_utils - INFO - setup_constant_pars.TTI: 2\r\n",
      "2021-04-28 08:46:48,318 - build - cli_utils - INFO - setup_constant_pars.TTM: 0\r\n",
      "2021-04-28 08:46:48,318 - build - cli_utils - INFO - setup_constant_pars.WHC: 0.1\r\n",
      "2021-04-28 08:46:48,318 - build - cli_utils - INFO - setup_constant_pars.G_Cfmax: 5.3\r\n",
      "2021-04-28 08:46:48,318 - build - cli_utils - INFO - setup_constant_pars.G_SIfrac: 0.002\r\n",
      "2021-04-28 08:46:48,319 - build - cli_utils - INFO - setup_constant_pars.G_TT: 1.3\r\n",
      "2021-04-28 08:46:48,319 - build - model_api - DEBUG - Setting model config options.\r\n",
      "2021-04-28 08:46:48,322 - build - model_api - DEBUG - Default config read from /usr/share/miniconda/envs/hydromt-wflow/lib/python3.9/site-packages/hydromt_wflow/data/wflow/wflow_sbm.toml\r\n",
      "2021-04-28 08:46:48,322 - build - model_api - DEBUG - setup_basemaps.region: {'subbasin': [12.2051, 45.8331], 'strord': 4, 'bounds': [11.7, 45.35, 12.95, 46.7]}\r\n",
      "2021-04-28 08:46:48,322 - build - model_api - DEBUG - setup_basemaps.res: 0.00833\r\n",
      "2021-04-28 08:46:48,322 - build - model_api - DEBUG - setup_basemaps.source_name: hydro_merit\r\n",
      "2021-04-28 08:46:48,322 - build - model_api - DEBUG - setup_basemaps.fn_basin_index: hydro_merit_index\r\n",
      "2021-04-28 08:46:48,322 - build - model_api - DEBUG - setup_basemaps.upscale_method: ihu\r\n",
      "2021-04-28 08:46:48,322 - build - wflow - INFO - Preparing base hydrography basemaps.\r\n",
      "2021-04-28 08:46:48,322 - build - data_adapter - INFO - Updating data sources from yml file /home/runner/.hydromt_data/data/v0.0.2/data_catalog.yml\r\n"
     ]
    },
    {
     "name": "stdout",
     "output_type": "stream",
     "text": [
      "2021-04-28 08:46:48,385 - build - data_adapter - INFO - DataCatalog: Getting hydro_merit RasterDataset raster data from /home/runner/.hydromt_data/data/v0.0.2/merit_hydro/{variable}.tif\r\n"
     ]
    },
    {
     "name": "stdout",
     "output_type": "stream",
     "text": [
      "2021-04-28 08:46:48,455 - build - basin_mask - DEBUG - Parsed region (kind=subbasin): {'strord': 4, 'bounds': [11.7, 45.35, 12.95, 46.7], 'xy': [12.2051, 45.8331]}\r\n"
     ]
    },
    {
     "name": "stdout",
     "output_type": "stream",
     "text": [
      "2021-04-28 08:46:51,615 - build - basin_mask - INFO - basin bbox: [11.7750, 45.8042, 12.7450, 46.6900] / size: 664756\r\n"
     ]
    },
    {
     "name": "stdout",
     "output_type": "stream",
     "text": [
      "2021-04-28 08:46:51,718 - build - wflow - DEBUG - Adding basins vector to staticgeoms.\r\n",
      "2021-04-28 08:46:51,718 - build - basemaps - DEBUG - Mask in dataset assumed to represent subbasins.\r\n",
      "2021-04-28 08:46:51,720 - build - basemaps - DEBUG - (Sub)basin at original resolution has 664756 cells.\r\n"
     ]
    },
    {
     "name": "stdout",
     "output_type": "stream",
     "text": [
      "2021-04-28 08:46:51,862 - build - basemaps - DEBUG - Burn subbasin outlet in upstream area data.\r\n",
      "2021-04-28 08:46:51,879 - build - basemaps - INFO - Upscale flow direction data: 10x, ihu method.\r\n"
     ]
    },
    {
     "name": "stdout",
     "output_type": "stream",
     "text": [
      "2021-04-28 08:47:07,607 - build - basemaps - DEBUG - Derive stream order.\r\n"
     ]
    },
    {
     "name": "stdout",
     "output_type": "stream",
     "text": [
      "2021-04-28 08:47:07,783 - build - basemaps - DEBUG - Map shape: (106, 116); active cells: 6637.\r\n",
      "2021-04-28 08:47:07,783 - build - basemaps - DEBUG - Outlet coordinates (head): (12.20750,45.83583).\r\n"
     ]
    },
    {
     "name": "stdout",
     "output_type": "stream",
     "text": [
      "2021-04-28 08:47:07,840 - build - wflow - DEBUG - Adding region vector to staticgeoms.\r\n",
      "2021-04-28 08:47:07,850 - build - model_api - DEBUG - setup_rivers.river_upa: 30\r\n",
      "2021-04-28 08:47:07,851 - build - model_api - DEBUG - setup_rivers.slope_len: 2000\r\n",
      "2021-04-28 08:47:07,851 - build - model_api - DEBUG - setup_rivers.source_name: hydro_merit\r\n",
      "2021-04-28 08:47:07,851 - build - model_api - DEBUG - setup_rivers.n_river_mapping: None\r\n",
      "2021-04-28 08:47:07,851 - build - model_api - DEBUG - setup_rivers.min_rivlen_ratio: 0.1\r\n",
      "2021-04-28 08:47:07,851 - build - wflow - INFO - Preparing river maps.\r\n",
      "2021-04-28 08:47:07,851 - build - data_adapter - INFO - DataCatalog: Getting hydro_merit RasterDataset raster data from /home/runner/.hydromt_data/data/v0.0.2/merit_hydro/{variable}.tif\r\n"
     ]
    },
    {
     "name": "stdout",
     "output_type": "stream",
     "text": [
      "2021-04-28 08:47:07,912 - build - data_adapter - DEBUG - RasterDataset: Clip with geom - [11.778, 45.807, 12.745, 46.690]\r\n"
     ]
    },
    {
     "name": "stdout",
     "output_type": "stream",
     "text": [
      "2021-04-28 08:47:07,939 - build - river - DEBUG - Set river mask with upstream area threshold: 30 km2.\r\n",
      "2021-04-28 08:47:07,948 - build - river - DEBUG - Derive river length.\r\n"
     ]
    },
    {
     "name": "stdout",
     "output_type": "stream",
     "text": [
      "2021-04-28 08:47:12,848 - build - river - DEBUG - Derive river slope.\r\n"
     ]
    },
    {
     "name": "stdout",
     "output_type": "stream",
     "text": [
      "2021-04-28 08:47:13,394 - build - landuse - INFO - Deriving N_River using average resampling (nodata=-999.0).\r\n",
      "2021-04-28 08:47:13,406 - build - wflow - DEBUG - Adding rivers vector to staticgeoms.\r\n"
     ]
    },
    {
     "name": "stdout",
     "output_type": "stream",
     "text": [
      "2021-04-28 08:47:13,834 - build - model_api - DEBUG - setup_reservoirs.source_name: hydro_reservoirs\r\n",
      "2021-04-28 08:47:13,834 - build - model_api - DEBUG - setup_reservoirs.min_area: 1.0\r\n",
      "2021-04-28 08:47:13,835 - build - model_api - DEBUG - setup_reservoirs.priority_jrc: True\r\n",
      "2021-04-28 08:47:13,835 - build - wflow - INFO - Preparing reservoir maps.\r\n",
      "2021-04-28 08:47:13,835 - build - data_adapter - INFO - DataCatalog: Getting hydro_reservoirs GeoDataFrame vector data from /home/runner/.hydromt_data/data/v0.0.2/hydro_reservoirs.gpkg\r\n"
     ]
    },
    {
     "name": "stdout",
     "output_type": "stream",
     "text": [
      "2021-04-28 08:47:13,876 - build - data_adapter - DEBUG - GeoDataFrame: Convert units for 5 columns.\r\n",
      "2021-04-28 08:47:13,880 - build - wflow - WARNING - No reservoirs of sufficient size found within region! Skipping reservoir procedures!\r\n",
      "2021-04-28 08:47:13,880 - build - model_api - DEBUG - setup_lakes.source_name: hydro_lakes\r\n",
      "2021-04-28 08:47:13,880 - build - model_api - DEBUG - setup_lakes.min_area: 10.0\r\n",
      "2021-04-28 08:47:13,880 - build - wflow - INFO - Preparing lake maps.\r\n",
      "2021-04-28 08:47:13,880 - build - data_adapter - INFO - DataCatalog: Getting hydro_lakes GeoDataFrame vector data from /home/runner/.hydromt_data/data/v0.0.2/hydro_lakes.gpkg\r\n"
     ]
    },
    {
     "name": "stdout",
     "output_type": "stream",
     "text": [
      "2021-04-28 08:47:13,916 - build - data_adapter - DEBUG - GeoDataFrame: Convert units for 1 columns.\r\n",
      "2021-04-28 08:47:13,918 - build - wflow - WARNING - No lakes of sufficient size found within region! Skipping lake procedures!\r\n",
      "2021-04-28 08:47:13,918 - build - model_api - DEBUG - setup_glaciers.source_name: rgi\r\n",
      "2021-04-28 08:47:13,918 - build - model_api - DEBUG - setup_glaciers.min_area: 1.0\r\n",
      "2021-04-28 08:47:13,918 - build - wflow - INFO - Preparing glacier maps.\r\n",
      "2021-04-28 08:47:13,918 - build - data_adapter - INFO - DataCatalog: Getting rgi GeoDataFrame vector data from /home/runner/.hydromt_data/data/v0.0.2/rgi.gpkg\r\n"
     ]
    },
    {
     "name": "stdout",
     "output_type": "stream",
     "text": [
      "2021-04-28 08:47:13,962 - build - wflow - INFO - 1 glaciers of sufficient size found within region.\r\n",
      "2021-04-28 08:47:13,982 - build - glaciers - DEBUG - Creating vector grid for calculating glacier fraction and storage per grid cell\r\n"
     ]
    },
    {
     "name": "stdout",
     "output_type": "stream",
     "text": [
      "2021-04-28 08:47:14,182 - build - glaciers - DEBUG - Setting glacierfrac and store values per glacier.\r\n"
     ]
    },
    {
     "name": "stdout",
     "output_type": "stream",
     "text": [
      "2021-04-28 08:47:15,784 - build - model_api - DEBUG - setup_riverwidth.predictor: discharge\r\n",
      "2021-04-28 08:47:15,784 - build - model_api - DEBUG - setup_riverwidth.fill: False\r\n",
      "2021-04-28 08:47:15,784 - build - model_api - DEBUG - setup_riverwidth.fit: False\r\n",
      "2021-04-28 08:47:15,784 - build - model_api - DEBUG - setup_riverwidth.min_wth: 1\r\n",
      "2021-04-28 08:47:15,784 - build - model_api - DEBUG - setup_riverwidth.source_precip: chelsa\r\n",
      "2021-04-28 08:47:15,784 - build - model_api - DEBUG - setup_riverwidth.source_climate: koppen_geiger\r\n",
      "2021-04-28 08:47:15,784 - build - data_adapter - INFO - DataCatalog: Getting chelsa RasterDataset raster data from /home/runner/.hydromt_data/data/v0.0.2/chelsa.tif\r\n",
      "2021-04-28 08:47:15,798 - build - data_adapter - DEBUG - RasterDataset: Clip with geom - [11.778, 45.807, 12.745, 46.690]\r\n"
     ]
    },
    {
     "name": "stdout",
     "output_type": "stream",
     "text": [
      "2021-04-28 08:47:15,821 - build - data_adapter - INFO - DataCatalog: Getting koppen_geiger RasterDataset raster data from /home/runner/.hydromt_data/data/v0.0.2/koppen_geiger.tif\r\n",
      "2021-04-28 08:47:15,834 - build - data_adapter - DEBUG - RasterDataset: Clip with geom - [11.778, 45.807, 12.745, 46.690]\r\n",
      "2021-04-28 08:47:15,856 - build - river - DEBUG - Deriving predictor \"discharge\" values\r\n",
      "2021-04-28 08:47:15,862 - build - river - DEBUG - Basin base climate classification: 3 (Cfb)\r\n"
     ]
    },
    {
     "name": "stdout",
     "output_type": "stream",
     "text": [
      "2021-04-28 08:47:15,906 - build - river - WARNING - mask variable \"lakeareas\" not found in maps.\r\n",
      "2021-04-28 08:47:15,906 - build - river - WARNING - mask variable \"resareas\" not found in maps.\r\n",
      "2021-04-28 08:47:15,906 - build - river - DEBUG - glacareas masked out in rivwth data.\r\n",
      "2021-04-28 08:47:15,906 - build - river - INFO - Using \"width = a*discharge^b\"; where a=6.33, b=0.55 (nse=-0.447; outliers=6.09%)\r\n",
      "2021-04-28 08:47:15,906 - build - river - INFO - rivwth set globally based on width-discharge relationship.\r\n",
      "2021-04-28 08:47:15,909 - build - model_api - DEBUG - setup_lulcmaps.source_name: globcover\r\n",
      "2021-04-28 08:47:15,909 - build - model_api - DEBUG - setup_lulcmaps.lulc_mapping: None\r\n",
      "2021-04-28 08:47:15,909 - build - model_api - DEBUG - setup_lulcmaps.lulc_vars: ['landuse', 'Kext', 'N', 'PathFrac', 'RootingDepth', 'Sl', 'Swood', 'WaterFrac']\r\n",
      "2021-04-28 08:47:15,909 - build - wflow - INFO - Preparing LULC parameter maps.\r\n",
      "2021-04-28 08:47:15,909 - build - data_adapter - INFO - DataCatalog: Getting globcover RasterDataset raster data from /home/runner/.hydromt_data/data/v0.0.2/globcover.tif\r\n"
     ]
    },
    {
     "name": "stdout",
     "output_type": "stream",
     "text": [
      "2021-04-28 08:47:15,924 - build - data_adapter - DEBUG - RasterDataset: Clip with geom - [11.778, 45.807, 12.745, 46.690]\r\n",
      "2021-04-28 08:47:15,955 - build - landuse - INFO - Deriving landuse using nearest resampling (nodata=230).\r\n"
     ]
    },
    {
     "name": "stdout",
     "output_type": "stream",
     "text": [
      "2021-04-28 08:47:15,998 - build - landuse - INFO - Deriving Kext using average resampling (nodata=-999.0).\r\n"
     ]
    },
    {
     "name": "stdout",
     "output_type": "stream",
     "text": [
      "2021-04-28 08:47:16,042 - build - landuse - INFO - Deriving N using average resampling (nodata=-999.0).\r\n"
     ]
    },
    {
     "name": "stdout",
     "output_type": "stream",
     "text": [
      "2021-04-28 08:47:16,085 - build - landuse - INFO - Deriving PathFrac using average resampling (nodata=-999.0).\r\n"
     ]
    },
    {
     "name": "stdout",
     "output_type": "stream",
     "text": [
      "2021-04-28 08:47:16,128 - build - landuse - INFO - Deriving RootingDepth using average resampling (nodata=-999).\r\n",
      "2021-04-28 08:47:16,170 - build - landuse - INFO - Deriving Sl using average resampling (nodata=-999.0).\r\n"
     ]
    },
    {
     "name": "stdout",
     "output_type": "stream",
     "text": [
      "2021-04-28 08:47:16,213 - build - landuse - INFO - Deriving Swood using average resampling (nodata=-999.0).\r\n"
     ]
    },
    {
     "name": "stdout",
     "output_type": "stream",
     "text": [
      "2021-04-28 08:47:16,255 - build - landuse - INFO - Deriving WaterFrac using average resampling (nodata=-999).\r\n"
     ]
    },
    {
     "name": "stdout",
     "output_type": "stream",
     "text": [
      "2021-04-28 08:47:16,305 - build - model_api - DEBUG - setup_laimaps.source_name: modis_lai\r\n",
      "2021-04-28 08:47:16,305 - build - wflow - INFO - Preparing LAI maps.\r\n",
      "2021-04-28 08:47:16,305 - build - data_adapter - INFO - DataCatalog: Getting modis_lai RasterDataset netcdf data from /home/runner/.hydromt_data/data/v0.0.2/modis_lai.nc\r\n",
      "2021-04-28 08:47:16,321 - build - data_adapter - DEBUG - RasterDataset: Clip with geom - [11.778, 45.807, 12.745, 46.690]\r\n"
     ]
    },
    {
     "name": "stdout",
     "output_type": "stream",
     "text": [
      "2021-04-28 08:47:16,343 - build - data_adapter - DEBUG - RasterDataset: Convert units for 1 variables.\r\n",
      "2021-04-28 08:47:16,349 - build - landuse - INFO - Deriving LAI using average resampling (nodata=None).\r\n"
     ]
    },
    {
     "name": "stdout",
     "output_type": "stream",
     "text": [
      "2021-04-28 08:47:16,411 - build - model_api - DEBUG - setup_soilmaps.source_name: soilgrids\r\n",
      "2021-04-28 08:47:16,411 - build - model_api - DEBUG - setup_soilmaps.ptf_ksatver: brakensiek\r\n",
      "2021-04-28 08:47:16,411 - build - wflow - INFO - Preparing soil parameter maps.\r\n",
      "2021-04-28 08:47:16,411 - build - data_adapter - INFO - DataCatalog: Getting soilgrids RasterDataset raster data from /home/runner/.hydromt_data/data/v0.0.2/soilgrids/{variable}.tif\r\n"
     ]
    },
    {
     "name": "stdout",
     "output_type": "stream",
     "text": [
      "2021-04-28 08:47:16,710 - build - data_adapter - DEBUG - RasterDataset: Clip with geom - [11.778, 45.807, 12.745, 46.690]\r\n"
     ]
    },
    {
     "name": "stdout",
     "output_type": "stream",
     "text": [
      "2021-04-28 08:47:16,743 - build - data_adapter - DEBUG - RasterDataset: Convert units for 21 variables.\r\n"
     ]
    },
    {
     "name": "stdout",
     "output_type": "stream",
     "text": [
      "2021-04-28 08:47:16,894 - build - soilgrids - INFO - calculate and resample thetaS\r\n"
     ]
    },
    {
     "name": "stdout",
     "output_type": "stream",
     "text": [
      "2021-04-28 08:47:17,435 - build - soilgrids - INFO - calculate and resample thetaR\r\n"
     ]
    },
    {
     "name": "stdout",
     "output_type": "stream",
     "text": [
      "2021-04-28 08:47:18,204 - build - soilgrids - INFO - calculate and resample KsatVer\r\n"
     ]
    },
    {
     "name": "stdout",
     "output_type": "stream",
     "text": [
      "2021-04-28 08:47:20,137 - build - soilgrids - INFO - calculate and resample pore size distribution index\r\n"
     ]
    },
    {
     "name": "stdout",
     "output_type": "stream",
     "text": [
      "2021-04-28 08:47:22,068 - build - soilgrids - INFO - fit z - log(KsatVer) with numpy linalg regression (y = b*x) -> M_\r\n"
     ]
    },
    {
     "name": "stdout",
     "output_type": "stream",
     "text": [
      "2021-04-28 08:47:22,440 - build - soilgrids - INFO - fit zi - Ksat with curve_fit (scipy.optimize) -> M\r\n"
     ]
    },
    {
     "name": "stdout",
     "output_type": "stream",
     "text": [
      "2021-04-28 08:47:25,527 - build - model_api - DEBUG - setup_gauges.source_name: grdc\r\n",
      "2021-04-28 08:47:25,527 - build - model_api - DEBUG - setup_gauges.source_gdf: None\r\n",
      "2021-04-28 08:47:25,527 - build - model_api - DEBUG - setup_gauges.snap_to_river: True\r\n",
      "2021-04-28 08:47:25,527 - build - model_api - DEBUG - setup_gauges.mask: None\r\n",
      "2021-04-28 08:47:25,527 - build - model_api - DEBUG - setup_gauges.derive_subcatch: False\r\n",
      "2021-04-28 08:47:25,527 - build - model_api - DEBUG - setup_gauges.derive_outlet: True\r\n",
      "2021-04-28 08:47:25,527 - build - model_api - DEBUG - setup_gauges.basename: None\r\n",
      "2021-04-28 08:47:25,527 - build - model_api - DEBUG - setup_gauges.update_toml: True\r\n",
      "2021-04-28 08:47:25,527 - build - model_api - DEBUG - setup_gauges.gauge_toml_header: None\r\n",
      "2021-04-28 08:47:25,527 - build - model_api - DEBUG - setup_gauges.gauge_toml_param: None\r\n",
      "2021-04-28 08:47:25,527 - build - wflow - INFO - Gauges locations set based on outlets.\r\n"
     ]
    },
    {
     "name": "stdout",
     "output_type": "stream",
     "text": [
      "2021-04-28 08:47:25,539 - build - wflow - INFO - Gauges map based on catchment outlets added.\r\n",
      "2021-04-28 08:47:25,539 - build - data_adapter - INFO - DataCatalog: Getting grdc GeoDataFrame csv data from /home/runner/.hydromt_data/data/v0.0.2/grdc.csv\r\n",
      "2021-04-28 08:47:25,564 - build - wflow - INFO - 3 grdc gauge locations found within domain\r\n",
      "2021-04-28 08:47:25,577 - build - wflow - INFO - Gauges map from grdc added.\r\n",
      "2021-04-28 08:47:25,577 - build - model_api - DEBUG - setup_precip_forcing.precip_fn: era5\r\n",
      "2021-04-28 08:47:25,577 - build - model_api - DEBUG - setup_precip_forcing.climate_fn: None\r\n",
      "2021-04-28 08:47:25,577 - build - data_adapter - INFO - DataCatalog: Getting era5 RasterDataset netcdf data from /home/runner/.hydromt_data/data/v0.0.2/era5.nc\r\n"
     ]
    },
    {
     "name": "stdout",
     "output_type": "stream",
     "text": [
      "2021-04-28 08:47:25,588 - build - data_adapter - DEBUG - RasterDataset: Shifting time labels with 86400 sec.\r\n",
      "2021-04-28 08:47:25,589 - build - data_adapter - DEBUG - RasterDataset: Slicing time dim ('2010-01-01T00:00:00', '2010-03-31T00:00:00')\r\n",
      "2021-04-28 08:47:25,602 - build - data_adapter - DEBUG - RasterDataset: Clip with geom - [11.778, 45.807, 12.745, 46.690]\r\n",
      "2021-04-28 08:47:25,624 - build - data_adapter - DEBUG - RasterDataset: Convert units for 1 variables.\r\n"
     ]
    },
    {
     "name": "stdout",
     "output_type": "stream",
     "text": [
      "2021-04-28 08:47:25,698 - build - model_api - DEBUG - setup_temp_pet_forcing.temp_pet_fn: era5\r\n",
      "2021-04-28 08:47:25,698 - build - model_api - DEBUG - setup_temp_pet_forcing.pet_method: debruin\r\n",
      "2021-04-28 08:47:25,698 - build - model_api - DEBUG - setup_temp_pet_forcing.press_correction: True\r\n",
      "2021-04-28 08:47:25,698 - build - model_api - DEBUG - setup_temp_pet_forcing.temp_correction: True\r\n",
      "2021-04-28 08:47:25,698 - build - model_api - DEBUG - setup_temp_pet_forcing.dem_forcing_fn: era5_orography\r\n",
      "2021-04-28 08:47:25,698 - build - model_api - DEBUG - setup_temp_pet_forcing.skip_pet: False\r\n",
      "2021-04-28 08:47:25,698 - build - data_adapter - INFO - DataCatalog: Getting era5 RasterDataset netcdf data from /home/runner/.hydromt_data/data/v0.0.2/era5.nc\r\n",
      "2021-04-28 08:47:25,706 - build - data_adapter - DEBUG - RasterDataset: Shifting time labels with 86400 sec.\r\n",
      "2021-04-28 08:47:25,707 - build - data_adapter - DEBUG - RasterDataset: Slicing time dim ('2010-01-01T00:00:00', '2010-03-31T00:00:00')\r\n",
      "2021-04-28 08:47:25,719 - build - data_adapter - DEBUG - RasterDataset: Clip with geom - [11.778, 45.807, 12.745, 46.690]\r\n"
     ]
    },
    {
     "name": "stdout",
     "output_type": "stream",
     "text": [
      "2021-04-28 08:47:25,745 - build - data_adapter - DEBUG - RasterDataset: Convert units for 4 variables.\r\n",
      "2021-04-28 08:47:25,776 - build - data_adapter - INFO - DataCatalog: Getting era5_orography RasterDataset netcdf data from /home/runner/.hydromt_data/data/v0.0.2/era5_orography.nc\r\n",
      "2021-04-28 08:47:25,791 - build - data_adapter - DEBUG - RasterDataset: Clip with geom - [11.625, 45.625, 12.875, 46.875]\r\n"
     ]
    },
    {
     "name": "stdout",
     "output_type": "stream",
     "text": [
      "2021-04-28 08:47:25,813 - build - data_adapter - DEBUG - RasterDataset: Convert units for 1 variables.\r\n"
     ]
    },
    {
     "name": "stdout",
     "output_type": "stream",
     "text": [
      "2021-04-28 08:47:26,176 - build - wflow - INFO - Write model data to /home/runner/work/hydromt_wflow/hydromt_wflow/docs/examples/examples/wflow_test_full\r\n",
      "2021-04-28 08:47:26,176 - build - model_api - INFO - Writing model config to /home/runner/work/hydromt_wflow/hydromt_wflow/docs/examples/examples/wflow_test_full/wflow_sbm.toml\r\n",
      "2021-04-28 08:47:26,177 - build - wflow - INFO - Write staticmaps to /home/runner/work/hydromt_wflow/hydromt_wflow/docs/examples/examples/wflow_test_full/staticmaps.nc\r\n"
     ]
    },
    {
     "name": "stdout",
     "output_type": "stream",
     "text": [
      "2021-04-28 08:47:26,560 - build - wflow - INFO - Writing model staticgeom to file.\r\n"
     ]
    },
    {
     "name": "stdout",
     "output_type": "stream",
     "text": [
      "2021-04-28 08:47:26,704 - build - wflow - INFO - Write forcing file\r\n"
     ]
    },
    {
     "name": "stdout",
     "output_type": "stream",
     "text": [
      "\u001b[0m"
     ]
    }
   ],
   "source": [
    "# NOTE: copy this line (without !) to your shell for more direct feedback\n",
    "!hydromt build wflow \"./wflow_test_full\" \"{'subbasin': [12.2051, 45.8331], 'strord': 4, 'bounds': [11.70, 45.35, 12.95, 46.70]}\" -r 0.00833 -i wflow_build.ini -vv"
   ]
  },
  {
   "cell_type": "markdown",
   "id": "b31e92d2",
   "metadata": {},
   "source": [
    "With this example we build a complete wflow model including forcing. Compared to the previous **hydromt build** we have added:\n",
    "* `-i wflow_build.ini` : setup configuration file using"
   ]
  },
  {
   "cell_type": "markdown",
   "id": "2eed76e4",
   "metadata": {},
   "source": [
    "Next we check which files have been created. The model root should contain two netcdf (.nc) files, one for the staticmaps and one for the forcing data, a wflow configuration (.toml) file. These files are sufficient to run the wflow model. In addition several geometry (.geojson) files are saved in the *staticgeoms* folder.  Finally, the setup process is logged in the hydromt.log file. "
   ]
  },
  {
   "cell_type": "code",
   "execution_count": 6,
   "id": "wireless-style",
   "metadata": {
    "execution": {
     "iopub.execute_input": "2021-04-28T08:47:27.565689Z",
     "iopub.status.busy": "2021-04-28T08:47:27.564996Z",
     "iopub.status.idle": "2021-04-28T08:47:27.570047Z",
     "shell.execute_reply": "2021-04-28T08:47:27.570393Z"
    }
   },
   "outputs": [
    {
     "name": "stdout",
     "output_type": "stream",
     "text": [
      "wflow_test_full\n",
      " - staticmaps.nc\n",
      " - wflow_sbm.toml\n",
      " - hydromt.log\n",
      " - inmaps-era5-2010.nc\n",
      "wflow_test_full/staticgeoms\n",
      " - region.geojson\n",
      " - gauges.geojson\n",
      " - rivers.geojson\n",
      " - basins.geojson\n",
      " - gauges_grdc.geojson\n",
      " - glaciers.geojson\n",
      "wflow_test_full/staticmaps\n",
      "wflow_test_full/setup\n",
      "wflow_test_full/inmaps\n",
      "wflow_test_full/run_default\n",
      "wflow_test_full/instate\n"
     ]
    }
   ],
   "source": [
    "import os\n",
    "root = 'wflow_test_full'\n",
    "for path, _, files in os.walk(root):\n",
    "    print(path)\n",
    "    for name in files:\n",
    "        if name.endswith('.xml'):\n",
    "            continue\n",
    "        print(f' - {name}')"
   ]
  },
  {
   "cell_type": "markdown",
   "id": "adef7fa1",
   "metadata": {},
   "source": [
    "### Visualize and/or inspect model schematization"
   ]
  },
  {
   "cell_type": "markdown",
   "id": "20ce9df3",
   "metadata": {},
   "source": [
    "* The **wflow plot** example notebook contains scripts to visualize your model\n",
    "* The **wflow nc to raster files** example notebook contains scripts to write the nc model files to a netcdf which can be used to inspect (and modify) the model layers in e.g. QGIS."
   ]
  }
 ],
 "metadata": {
  "kernelspec": {
   "display_name": "Python 3",
   "language": "python",
   "name": "python3"
  },
  "language_info": {
   "codemirror_mode": {
    "name": "ipython",
    "version": 3
   },
   "file_extension": ".py",
   "mimetype": "text/x-python",
   "name": "python",
   "nbconvert_exporter": "python",
   "pygments_lexer": "ipython3",
   "version": "3.9.2"
  }
 },
 "nbformat": 4,
 "nbformat_minor": 5
}
