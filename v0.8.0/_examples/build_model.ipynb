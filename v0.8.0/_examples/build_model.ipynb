{
 "cells": [
  {
   "cell_type": "markdown",
   "id": "9a73590b",
   "metadata": {},
   "source": [
    "## Build a Wflow model from scratch"
   ]
  },
  {
   "cell_type": "markdown",
   "id": "ee510c6e",
   "metadata": {},
   "source": [
    "This notebook demonstrates how to prepare **Wflow** model from scratch using the command line interace (CLI)."
   ]
  },
  {
   "cell_type": "markdown",
   "id": "6b96aa15",
   "metadata": {},
   "source": [
    "All lines in this notebook which start with `!` are executed from the command line. Within the notebook environment the logging messages are shown after completion. You can also copy these lines and paste these in your shell to get more direct feedback."
   ]
  },
  {
   "cell_type": "markdown",
   "id": "451c8168",
   "metadata": {},
   "source": [
    "### HydroMT CLI build interface"
   ]
  },
  {
   "cell_type": "markdown",
   "id": "2c70853e",
   "metadata": {},
   "source": [
    "Lets first check if the Wflow model is recognized by HydroMT"
   ]
  },
  {
   "cell_type": "code",
   "execution_count": 1,
   "id": "40470302",
   "metadata": {
    "execution": {
     "iopub.execute_input": "2025-04-09T14:12:51.529435Z",
     "iopub.status.busy": "2025-04-09T14:12:51.529435Z",
     "iopub.status.idle": "2025-04-09T14:12:55.693931Z",
     "shell.execute_reply": "2025-04-09T14:12:55.693931Z"
    }
   },
   "outputs": [
    {
     "name": "stdout",
     "output_type": "stream",
     "text": [
      "model plugins:\n",
      " - wflow (hydromt_wflow 0.8.0)\n",
      " - wflow_sediment (hydromt_wflow 0.8.0)\n",
      "generic models (hydromt 0.10.1):\n",
      " - grid_model\n",
      " - vector_model\n",
      " - network_model\n",
      "\n"
     ]
    }
   ],
   "source": [
    "# this should return \"wflow, wflow_sediment\"\n",
    "# as well as the generic HydroMT models \"grid_model, lumped_model, network_model, (mesh_model)\"\n",
    "!hydromt --models"
   ]
  },
  {
   "cell_type": "markdown",
   "id": "7d9b5a20",
   "metadata": {},
   "source": [
    "Using the **HydroMT build** API we can setup a complete model from scratch. Let's get an overview of all the available options:"
   ]
  },
  {
   "cell_type": "code",
   "execution_count": 2,
   "id": "1d39e4a1",
   "metadata": {
    "execution": {
     "iopub.execute_input": "2025-04-09T14:12:55.693931Z",
     "iopub.status.busy": "2025-04-09T14:12:55.693931Z",
     "iopub.status.idle": "2025-04-09T14:12:59.777964Z",
     "shell.execute_reply": "2025-04-09T14:12:59.777964Z"
    }
   },
   "outputs": [
    {
     "name": "stdout",
     "output_type": "stream",
     "text": [
      "Usage: hydromt build [OPTIONS] MODEL MODEL_ROOT\n",
      "\n",
      "  Build models from scratch.\n",
      "\n",
      "  Example usage: --------------\n",
      "\n",
      "  To build a wflow model for a subbasin using a point coordinates snapped to\n",
      "  cells with upstream area >= 50 km2 hydromt build wflow /path/to/model_root\n",
      "  -i /path/to/wflow_config.yml  -r \"{'subbasin': [-7.24, 62.09], 'uparea':\n",
      "  50}\" -d deltares_data -d /path/to/data_catalog.yml -v\n",
      "\n",
      "  To build a sfincs model based on a bbox hydromt build sfincs\n",
      "  /path/to/model_root  -i /path/to/sfincs_config.yml  -r \"{'bbox':\n",
      "  [4.6891,52.9750,4.9576,53.1994]}\"  -d /path/to/data_catalog.yml -v\n",
      "\n",
      "Options:\n",
      "  --opt TEXT               Method specific keyword arguments, see the method\n",
      "                           documentation of the specific model for more\n",
      "                           information about the arguments.\n",
      "  -i, --config PATH        Path to hydroMT configuration file, for the model\n",
      "                           specific implementation.\n",
      "  -r, --region TEXT        Set the region for which to build the model, e.g.\n",
      "                           {'subbasin': [-7.24, 62.09]}\n",
      "  -d, --data TEXT          Path to local yaml data catalog file OR name of\n",
      "                           predefined data catalog.\n",
      "  --dd, --deltares-data    Flag: Shortcut to add the \"deltares_data\" catalog\n",
      "  --fo, --force-overwrite  Flag: If provided overwrite existing model files\n",
      "  --cache                  Flag: If provided cache tiled rasterdatasets\n",
      "  -v, --verbose            Increase verbosity.\n",
      "  -q, --quiet              Decrease verbosity.\n",
      "  --help                   Show this message and exit.\n"
     ]
    }
   ],
   "source": [
    "!hydromt build --help"
   ]
  },
  {
   "cell_type": "markdown",
   "id": "ebd31242",
   "metadata": {},
   "source": [
    "### Model setup configuration"
   ]
  },
  {
   "cell_type": "markdown",
   "id": "fb8282c9",
   "metadata": {},
   "source": [
    "The HydroMT configuration file (YAML) contains the model setup configuration and determines which methods are used to prepare the different components of a Wflow model and in which order and optionally sets non-default arguments for each method. This configuration is passed to HydroMT using `-i <path_to_config_file>`. We have prepared several example files which are available in the model repository [examples folder](https://github.com/Deltares/hydromt_wflow/tree/main/examples) and from the [docs (building a model)](https://deltares.github.io/hydromt_wflow/latest/user_guide/wflow_build). \n",
    "\n",
    "Each header (without indent) (e.g. `setup_basemaps:`) corresponds to a model method. All model methods are explained in the [docs (model components)](https://deltares.github.io/hydromt_wflow/latest/user_guide/wflow_model_setup.html). "
   ]
  },
  {
   "cell_type": "markdown",
   "id": "cc3fd44d",
   "metadata": {},
   "source": [
    "We will load the default wflow build configuration yaml file for inspection:"
   ]
  },
  {
   "cell_type": "code",
   "execution_count": 3,
   "id": "e88d4aed",
   "metadata": {
    "execution": {
     "iopub.execute_input": "2025-04-09T14:12:59.782301Z",
     "iopub.status.busy": "2025-04-09T14:12:59.782301Z",
     "iopub.status.idle": "2025-04-09T14:12:59.800733Z",
     "shell.execute_reply": "2025-04-09T14:12:59.800733Z"
    }
   },
   "outputs": [
    {
     "name": "stdout",
     "output_type": "stream",
     "text": [
      "setup_config:                 # options parsed to wflow toml file <section>.<option>\n",
      "  starttime: 2010-01-01T00:00:00\n",
      "  endtime: 2010-03-31T00:00:00\n",
      "  timestepsecs: 86400\n",
      "  input.path_forcing: inmaps-era5-2010.nc\n",
      "\n",
      "setup_basemaps:\n",
      "  hydrography_fn: merit_hydro   # source hydrography data {merit_hydro, merit_hydro_1k}\n",
      "  basin_index_fn: merit_hydro_index # source of basin index corresponding to hydrography_fn\n",
      "  upscale_method: ihu           # upscaling method for flow direction data, by default 'ihu'\n",
      "  res: 0.00833           # build the model at a 30 arc sec (~1km) resolution\n",
      "\n",
      "setup_rivers:\n",
      "  hydrography_fn: merit_hydro      # source hydrography data, should correspond to hydrography_fn in setup_basemaps\n",
      "  river_geom_fn: hydro_rivers_lin # river source data with river width and bankfull discharge\n",
      "  river_upa: 30               # minimum upstream area threshold for the river map [km2]\n",
      "  rivdph_method: powlaw           # method to estimate depth {'powlaw', 'manning', 'gvf'}\n",
      "  min_rivdph: 1                # minimum river depth [m]\n",
      "  min_rivwth: 30               # minimum river width [m]\n",
      "  slope_len: 2000             # length over which tp calculate river slope [m]\n",
      "  smooth_len: 5000             # length over which to smooth river depth and river width [m]\n",
      "  river_routing: kinematic-wave   # {'kinematic-wave', 'local-inertial'}\n",
      "\n",
      "# setup_floodplains: # if 2D floodplains are required\n",
      "#   hydrography_fn: merit_hydro      # source hydrography data, should correspond to hydrography_fn in setup_basemaps\n",
      "#   floodplain_type: 2d #  # If two-dimensional floodplains are required\n",
      "#   elevtn_map: wflow_dem  # {'wflow_dem', 'dem_subgrid'}\n",
      "\n",
      "# setup_floodplains: # if 1D floodplains are required\n",
      "#   hydrography_fn: merit_hydro      # source hydrography data, should correspond to hydrography_fn in setup_basemaps\n",
      "#   floodplain_type: 1d    # If one-dimensional floodplains are required\n",
      "#   flood_depths: # flood depths at which a volume is derived\n",
      "#     - 0.5\n",
      "#     - 1.0\n",
      "#     - 1.5\n",
      "#     - 2.0\n",
      "#     - 2.5\n",
      "#     - 3.0\n",
      "#     - 4.0\n",
      "#     - 5.0\n",
      "\n",
      "setup_reservoirs:\n",
      "  reservoirs_fn: hydro_reservoirs  # source for reservoirs shape and attributes\n",
      "  timeseries_fn: gww           # additionnal source for reservoir are timeseries to compute reservoirs, Either 'gww' using gwwapi or 'jrc' using hydroengine.\n",
      "  min_area: 1.0           # minimum lake area to consider [km2]\n",
      "\n",
      "setup_lakes:\n",
      "  lakes_fn: hydro_lakes   # source for lakes based on hydroLAKES: {hydro_lakes}\n",
      "  min_area: 10.0          # minimum reservoir area to consider [km2]\n",
      "\n",
      "setup_glaciers:\n",
      "  glaciers_fn: rgi           # source for glaciers based on Randolph Glacier Inventory {rgi}\n",
      "  min_area: 1.0           # minimum glacier area to consider [km2]\n",
      "\n",
      "setup_lulcmaps:\n",
      "  lulc_fn : globcover_2009     # source for lulc maps: {globcover, vito, corine}\n",
      "  lulc_mapping_fn: globcover_mapping_default  # default mapping for lulc classes\n",
      "\n",
      "setup_laimaps:\n",
      "  lai_fn: modis_lai     # source for LAI: {modis_lai}\n",
      "\n",
      "setup_soilmaps:\n",
      "  soil_fn: soilgrids     # source for soilmaps: {soilgrids}\n",
      "  ptf_ksatver: brakensiek    # pedotransfer function to calculate hydraulic conductivity: {brakensiek, cosby}\n",
      "\n",
      "setup_outlets:\n",
      "  river_only: True\n",
      "\n",
      "setup_gauges:\n",
      "  gauges_fn: grdc          # if not None add gaugemap. Either a path or known gauges_fn: {grdc}\n",
      "  snap_to_river: True          # if True snaps gauges from source to river\n",
      "  derive_subcatch: False         # if True derive subcatch map based on gauges.\n",
      "\n",
      "setup_precip_forcing:\n",
      "  precip_fn: era5          # source for precipitation.\n",
      "  precip_clim_fn:          # source for high resolution climatology to correct precipitation if any.\n",
      "\n",
      "setup_temp_pet_forcing:\n",
      "  temp_pet_fn: era5          # source for temperature and potential evapotranspiration.\n",
      "  press_correction: True          # if True temperature is corrected with elevation lapse rate.\n",
      "  temp_correction: True          # if True pressure is corrected with elevation lapse rate.\n",
      "  dem_forcing_fn: era5_orography # source of elevation grid corresponding to temp_pet_fn. Used for lapse rate correction.\n",
      "  pet_method: debruin       # method to compute PET: {debruin, makkink}\n",
      "  skip_pet: False         # if True, only temperature is prepared.\n",
      "\n",
      "setup_constant_pars:\n",
      "  KsatHorFrac: 100\n",
      "  Cfmax: 3.75653\n",
      "  cf_soil: 0.038\n",
      "  EoverR: 0.11\n",
      "  InfiltCapPath: 5\n",
      "  InfiltCapSoil: 600\n",
      "  MaxLeakage: 0\n",
      "  rootdistpar: -500\n",
      "  TT: 0\n",
      "  TTI: 2\n",
      "  TTM: 0\n",
      "  WHC: 0.1\n",
      "  G_Cfmax: 5.3\n",
      "  G_SIfrac: 0.002\n",
      "  G_TT: 1.3\n",
      "\n"
     ]
    }
   ],
   "source": [
    "fn_config = \"wflow_build.yml\"\n",
    "with open(fn_config, \"r\") as f:\n",
    "    txt = f.read()\n",
    "print(txt)"
   ]
  },
  {
   "cell_type": "markdown",
   "id": "7584dcae",
   "metadata": {},
   "source": [
    "### Data for model setup"
   ]
  },
  {
   "cell_type": "markdown",
   "id": "dad35651",
   "metadata": {},
   "source": [
    "The `<...>_fn` arguments correspond to a data source from the `DataCatalog` which is based on a yml-file with references to the data paths/urls and how the data should be read. This file can be provided to hydromt using `-d <path_to_yml_file>`. \n",
    "\n",
    "By default, the pre-defined `artifact_data` catalog containing some example data for the Piave basin will be downloaded to `~/.hydromt_data/` which is also used for this example. An overview of the available example data is provided [here](https://deltares.github.io/hydromt/latest/user_guide/data_existing_cat.html)\n",
    "This example data is a based on the data which is available from the Deltares p-drive. \n",
    "If you have acces to this drive, a pre-configured catalog file can be loaded using the `-d deltares_data` pre-defined catalog. \n",
    "\n",
    "More background how to write a data catalog yml file can be found in the [HydroMT core docs](https://deltares.github.io/hydromt/latest/user_guide/data_prepare_cat.html) "
   ]
  },
  {
   "cell_type": "markdown",
   "id": "12860ed2",
   "metadata": {},
   "source": [
    "### Setup complete Wflow model "
   ]
  },
  {
   "cell_type": "markdown",
   "id": "a5062c03",
   "metadata": {},
   "source": [
    "Once we have prepared our data catalog and model build settings file, we are ready to ask HydroMT to build our Wflow model. Building the model can be done from the command line. Down below is an example for the Northern part of the Piave basin in Italy:"
   ]
  },
  {
   "cell_type": "code",
   "execution_count": 4,
   "id": "hundred-trailer",
   "metadata": {
    "execution": {
     "iopub.execute_input": "2025-04-09T14:12:59.800733Z",
     "iopub.status.busy": "2025-04-09T14:12:59.800733Z",
     "iopub.status.idle": "2025-04-09T14:13:49.677708Z",
     "shell.execute_reply": "2025-04-09T14:13:49.676722Z"
    },
    "scrolled": true
   },
   "outputs": [
    {
     "name": "stdout",
     "output_type": "stream",
     "text": [
      "2025-04-09 16:13:03,370 - build - log - DEBUG - Writing log messages to new file C:\\code\\py_dev\\hydromt_wflow\\docs\\_examples\\wflow_test_full\\hydromt.log.\n",
      "2025-04-09 16:13:03,370 - build - log - INFO - HydroMT version: 0.10.1\n",
      "2025-04-09 16:13:03,370 - build - main - INFO - Building instance of wflow model at C:\\code\\py_dev\\hydromt_wflow\\docs\\_examples\\wflow_test_full.\n",
      "2025-04-09 16:13:03,372 - build - main - INFO - User settings:\n",
      "2025-04-09 16:13:04,046 - build - data_catalog - INFO - Reading data catalog artifact_data latest\n",
      "2025-04-09 16:13:04,046 - build - data_catalog - INFO - Parsing data catalog from C:\\Users\\dalmijn\\.hydromt_data\\artifact_data\\v0.0.9\\data_catalog.yml\n",
      "2025-04-09 16:13:04,603 - build - model_api - INFO - Initializing wflow model from hydromt_wflow (v0.8.0).\n",
      "2025-04-09 16:13:04,603 - build - data_catalog - INFO - Parsing data catalog from C:\\code\\py_dev\\hydromt_wflow\\hydromt_wflow\\data\\parameters_data.yml\n",
      "2025-04-09 16:13:04,617 - build - model_api - DEBUG - Setting model config options.\n",
      "2025-04-09 16:13:04,627 - build - model_api - DEBUG - Default config read from C:\\code\\py_dev\\hydromt_wflow\\hydromt_wflow\\data\\wflow\\wflow_sbm.toml\n",
      "2025-04-09 16:13:04,627 - build - model_api - INFO - setup_basemaps.region: {'subbasin': [12.2051, 45.8331], 'strord': 4, 'bounds': [11.7, 45.35, 12.95, 46.7]}\n",
      "2025-04-09 16:13:04,627 - build - model_api - INFO - setup_basemaps.hydrography_fn: merit_hydro\n",
      "2025-04-09 16:13:04,627 - build - model_api - INFO - setup_basemaps.basin_index_fn: merit_hydro_index\n",
      "2025-04-09 16:13:04,627 - build - model_api - INFO - setup_basemaps.res: 0.00833\n",
      "2025-04-09 16:13:04,627 - build - model_api - INFO - setup_basemaps.upscale_method: ihu\n",
      "2025-04-09 16:13:04,627 - build - wflow - INFO - Preparing base hydrography basemaps.\n",
      "2025-04-09 16:13:04,638 - build - rasterdataset - INFO - Reading merit_hydro raster data from C:\\Users\\dalmijn\\.hydromt_data\\artifact_data\\v0.0.9\\data.tar\\merit_hydro\\{variable}.tif\n",
      "2025-04-09 16:13:04,887 - build - basin_mask - DEBUG - Parsed region (kind=subbasin): {'strord': 4, 'bounds': [11.7, 45.35, 12.95, 46.7], 'xy': [12.2051, 45.8331]}\n",
      "2025-04-09 16:13:08,068 - build - basin_mask - INFO - subbasin bbox: [11.7750, 45.8042, 12.7450, 46.6900]\n",
      "2025-04-09 16:13:08,129 - build - wflow - DEBUG - Adding basins vector to geoms.\n",
      "2025-04-09 16:13:08,129 - build - basemaps - DEBUG - Mask in dataset assumed to represent subbasins.\n",
      "2025-04-09 16:13:08,131 - build - basemaps - DEBUG - (Sub)basin at original resolution has 664756 cells.\n",
      "2025-04-09 16:13:08,242 - build - basemaps - DEBUG - Burn subbasin outlet in upstream area data.\n",
      "2025-04-09 16:13:08,322 - build - basemaps - INFO - Upscale flow direction data: 10x, ihu method.\n",
      "2025-04-09 16:13:22,620 - build - basemaps - DEBUG - Derive stream order.\n",
      "2025-04-09 16:13:22,853 - build - basemaps - DEBUG - Map shape: (106, 116); active cells: 6637.\n",
      "2025-04-09 16:13:22,853 - build - basemaps - DEBUG - Outlet coordinates (1/1): (12.20750,45.83583).\n",
      "2025-04-09 16:13:23,042 - build - wflow - DEBUG - Adding region vector to geoms.\n",
      "2025-04-09 16:13:23,045 - build - model_api - INFO - setup_rivers.hydrography_fn: merit_hydro\n",
      "2025-04-09 16:13:23,045 - build - model_api - INFO - setup_rivers.river_geom_fn: hydro_rivers_lin\n",
      "2025-04-09 16:13:23,045 - build - model_api - INFO - setup_rivers.river_upa: 30\n",
      "2025-04-09 16:13:23,045 - build - model_api - INFO - setup_rivers.rivdph_method: powlaw\n",
      "2025-04-09 16:13:23,045 - build - model_api - INFO - setup_rivers.slope_len: 2000\n",
      "2025-04-09 16:13:23,045 - build - model_api - INFO - setup_rivers.min_rivlen_ratio: 0.0\n",
      "2025-04-09 16:13:23,045 - build - model_api - INFO - setup_rivers.min_rivdph: 1\n",
      "2025-04-09 16:13:23,045 - build - model_api - INFO - setup_rivers.min_rivwth: 30\n",
      "2025-04-09 16:13:23,045 - build - model_api - INFO - setup_rivers.smooth_len: 5000\n",
      "2025-04-09 16:13:23,045 - build - model_api - INFO - setup_rivers.rivman_mapping_fn: roughness_river_mapping_default\n",
      "2025-04-09 16:13:23,045 - build - model_api - INFO - setup_rivers.elevtn_map: wflow_dem\n",
      "2025-04-09 16:13:23,046 - build - model_api - INFO - setup_rivers.river_routing: kinematic-wave\n",
      "2025-04-09 16:13:23,046 - build - model_api - INFO - setup_rivers.connectivity: 8\n",
      "2025-04-09 16:13:23,046 - build - wflow - INFO - Preparing river maps.\n",
      "2025-04-09 16:13:23,053 - build - rasterdataset - INFO - Reading merit_hydro raster data from C:\\Users\\dalmijn\\.hydromt_data\\artifact_data\\v0.0.9\\data.tar\\merit_hydro\\{variable}.tif\n",
      "2025-04-09 16:13:23,142 - build - rasterdataset - DEBUG - Clip to [11.778, 45.807, 12.745, 46.690] (epsg:4326))\n",
      "2025-04-09 16:13:23,151 - build - river - DEBUG - Set river mask (min uparea: 30 km2) and prepare flow dirs.\n",
      "2025-04-09 16:13:23,375 - build - river - DEBUG - Derive river length.\n",
      "2025-04-09 16:13:26,763 - build - river - DEBUG - Derive river slope.\n",
      "2025-04-09 16:13:27,357 - build - river - DEBUG - Derive rivwth from hydrography dataset.\n",
      "2025-04-09 16:13:27,385 - build - dataframe - INFO - Reading roughness_river_mapping_default csv data from C:\\code\\py_dev\\hydromt_wflow\\hydromt_wflow\\data\\wflow\\N_river_mapping.csv\n",
      "2025-04-09 16:13:27,394 - build - landuse - INFO - Deriving N_River using average resampling (nodata=-999.0).\n",
      "2025-04-09 16:13:27,400 - build - geodataframe - INFO - Reading hydro_rivers_lin vector data from C:\\Users\\dalmijn\\.hydromt_data\\artifact_data\\v0.0.9\\data.tar\\rivers_lin2019_v1.gpkg\n",
      "2025-04-09 16:13:27,421 - build - geodataframe - DEBUG - Clip intersects [11.778, 45.807, 12.745, 46.690] (EPSG:4326)\n",
      "2025-04-09 16:13:27,646 - build - river - DEBUG - Derive ['rivwth', 'qbankfull'] from shapefile.\n",
      "2025-04-09 16:13:27,691 - build - river - DEBUG - Valid for 381/655 river cells (max dist: 392 m).\n",
      "2025-04-09 16:13:30,494 - build - wflow - DEBUG - Adding rivers vector to geoms.\n",
      "2025-04-09 16:13:31,297 - build - model_api - INFO - setup_reservoirs.reservoirs_fn: hydro_reservoirs\n",
      "2025-04-09 16:13:31,297 - build - model_api - INFO - setup_reservoirs.timeseries_fn: gww\n",
      "2025-04-09 16:13:31,297 - build - model_api - INFO - setup_reservoirs.min_area: 1.0\n",
      "2025-04-09 16:13:31,297 - build - wflow - INFO - Preparing reservoir maps.\n",
      "2025-04-09 16:13:31,298 - build - geodataframe - INFO - Reading hydro_reservoirs vector data from C:\\Users\\dalmijn\\.hydromt_data\\artifact_data\\v0.0.9\\data.tar\\hydro_reservoirs.gpkg\n",
      "2025-04-09 16:13:31,323 - build - geodataframe - DEBUG - Clip contains [11.775, 45.804, 12.745, 46.690] (EPSG:4326)\n",
      "2025-04-09 16:13:31,325 - build - geodataframe - DEBUG - Convert units for 5 columns.\n",
      "2025-04-09 16:13:31,327 - build - wflow - WARNING - No reservoirs of sufficient size found within region! Skipping reservoir procedures!\n",
      "2025-04-09 16:13:31,327 - build - wflow - INFO - Skipping method, as no data has been found\n",
      "2025-04-09 16:13:31,327 - build - model_api - INFO - setup_lakes.lakes_fn: hydro_lakes\n",
      "2025-04-09 16:13:31,328 - build - model_api - INFO - setup_lakes.rating_curve_fns: None\n",
      "2025-04-09 16:13:31,328 - build - model_api - INFO - setup_lakes.min_area: 10.0\n",
      "2025-04-09 16:13:31,328 - build - model_api - INFO - setup_lakes.add_maxstorage: False\n",
      "2025-04-09 16:13:31,328 - build - wflow - INFO - Preparing lake maps.\n",
      "2025-04-09 16:13:31,328 - build - geodataframe - INFO - Reading hydro_lakes vector data from C:\\Users\\dalmijn\\.hydromt_data\\artifact_data\\v0.0.9\\data.tar\\hydro_lakes.gpkg\n",
      "2025-04-09 16:13:31,344 - build - geodataframe - DEBUG - Clip contains [11.775, 45.804, 12.745, 46.690] (EPSG:4326)\n",
      "2025-04-09 16:13:31,346 - build - geodataframe - DEBUG - Convert units for 1 columns.\n",
      "2025-04-09 16:13:31,347 - build - wflow - WARNING - No lakes of sufficient size found within region! Skipping lake procedures!\n",
      "2025-04-09 16:13:31,347 - build - wflow - INFO - Skipping method, as no data has been found\n",
      "2025-04-09 16:13:31,348 - build - model_api - INFO - setup_glaciers.glaciers_fn: rgi\n",
      "2025-04-09 16:13:31,348 - build - model_api - INFO - setup_glaciers.min_area: 1.0\n",
      "2025-04-09 16:13:31,348 - build - wflow - INFO - Preparing glacier maps.\n",
      "2025-04-09 16:13:31,348 - build - geodataframe - INFO - Reading rgi vector data from C:\\Users\\dalmijn\\.hydromt_data\\artifact_data\\v0.0.9\\data.tar\\rgi.gpkg\n",
      "2025-04-09 16:13:31,370 - build - geodataframe - DEBUG - Clip intersects [11.775, 45.804, 12.745, 46.690] (EPSG:4326)\n",
      "2025-04-09 16:13:31,373 - build - wflow - INFO - 1 glaciers of sufficient size found within region.\n",
      "2025-04-09 16:13:31,383 - build - glaciers - DEBUG - Creating vector grid for calculating glacier fraction and storage per grid cell\n",
      "2025-04-09 16:13:31,616 - build - glaciers - DEBUG - Setting glacierfrac and store values per glacier.\n",
      "2025-04-09 16:13:33,658 - build - model_api - INFO - setup_lulcmaps.lulc_fn: globcover_2009\n",
      "2025-04-09 16:13:33,658 - build - model_api - INFO - setup_lulcmaps.lulc_mapping_fn: globcover_mapping_default\n",
      "2025-04-09 16:13:33,658 - build - model_api - INFO - setup_lulcmaps.lulc_vars: ['landuse', 'Kext', 'N', 'PathFrac', 'RootingDepth', 'Sl', 'Swood', 'WaterFrac', 'kc', 'alpha_h1', 'h1', 'h2', 'h3_high', 'h3_low', 'h4']\n",
      "2025-04-09 16:13:33,658 - build - wflow - INFO - Preparing LULC parameter maps.\n",
      "2025-04-09 16:13:33,659 - build - rasterdataset - INFO - Reading globcover_2009 raster data from C:\\Users\\dalmijn\\.hydromt_data\\artifact_data\\v0.0.9\\data.tar\\globcover.tif\n",
      "2025-04-09 16:13:33,673 - build - rasterdataset - DEBUG - Clip to [11.778, 45.807, 12.745, 46.690] (epsg:4326))\n",
      "2025-04-09 16:13:33,675 - build - dataframe - INFO - Reading globcover_mapping_default csv data from C:\\code\\py_dev\\hydromt_wflow\\hydromt_wflow\\data\\lulc\\globcover_mapping.csv\n",
      "2025-04-09 16:13:33,686 - build - landuse - INFO - Deriving landuse using nearest resampling (nodata=230).\n",
      "2025-04-09 16:13:33,704 - build - landuse - INFO - Deriving Kext using average resampling (nodata=-999.0).\n",
      "2025-04-09 16:13:33,719 - build - landuse - INFO - Deriving N using average resampling (nodata=-999.0).\n",
      "2025-04-09 16:13:33,734 - build - landuse - INFO - Deriving PathFrac using average resampling (nodata=-999.0).\n",
      "2025-04-09 16:13:33,750 - build - landuse - INFO - Deriving RootingDepth using average resampling (nodata=-999.0).\n",
      "2025-04-09 16:13:33,764 - build - landuse - INFO - Deriving Sl using average resampling (nodata=-999.0).\n",
      "2025-04-09 16:13:33,781 - build - landuse - INFO - Deriving Swood using average resampling (nodata=-999.0).\n",
      "2025-04-09 16:13:33,795 - build - landuse - INFO - Deriving WaterFrac using average resampling (nodata=-999.0).\n",
      "2025-04-09 16:13:33,810 - build - landuse - INFO - Deriving kc using average resampling (nodata=-999.0).\n",
      "2025-04-09 16:13:33,831 - build - landuse - INFO - Deriving alpha_h1 using mode resampling (nodata=-999).\n",
      "2025-04-09 16:13:33,893 - build - landuse - INFO - Deriving h1 using average resampling (nodata=-999).\n",
      "2025-04-09 16:13:33,912 - build - landuse - INFO - Deriving h2 using average resampling (nodata=-999).\n",
      "2025-04-09 16:13:33,933 - build - landuse - INFO - Deriving h3_high using average resampling (nodata=-999).\n",
      "2025-04-09 16:13:33,955 - build - landuse - INFO - Deriving h3_low using average resampling (nodata=-999).\n",
      "2025-04-09 16:13:33,973 - build - landuse - INFO - Deriving h4 using average resampling (nodata=-999).\n",
      "2025-04-09 16:13:34,000 - build - model_api - INFO - setup_laimaps.lai_fn: modis_lai\n",
      "2025-04-09 16:13:34,000 - build - model_api - INFO - setup_laimaps.lulc_fn: None\n",
      "2025-04-09 16:13:34,000 - build - model_api - INFO - setup_laimaps.lulc_sampling_method: any\n",
      "2025-04-09 16:13:34,000 - build - model_api - INFO - setup_laimaps.lulc_zero_classes: []\n",
      "2025-04-09 16:13:34,000 - build - model_api - INFO - setup_laimaps.buffer: 2\n",
      "2025-04-09 16:13:34,000 - build - wflow - INFO - Preparing LAI maps.\n",
      "2025-04-09 16:13:34,000 - build - rasterdataset - INFO - Reading modis_lai netcdf data from C:\\Users\\dalmijn\\.hydromt_data\\artifact_data\\v0.0.9\\data.tar\\modis_lai.nc\n",
      "2025-04-09 16:13:37,015 - build - rasterdataset - DEBUG - Clip to [11.778, 45.807, 12.745, 46.690] (epsg:4326))\n",
      "2025-04-09 16:13:37,017 - build - rasterdataset - DEBUG - Convert units for 1 variables.\n",
      "2025-04-09 16:13:37,024 - build - landuse - INFO - Deriving LAI using average resampling (nodata=nan).\n",
      "2025-04-09 16:13:37,096 - build - model_api - INFO - setup_soilmaps.soil_fn: soilgrids\n",
      "2025-04-09 16:13:37,097 - build - model_api - INFO - setup_soilmaps.ptf_ksatver: brakensiek\n",
      "2025-04-09 16:13:37,097 - build - model_api - INFO - setup_soilmaps.soil_mapping_fn: None\n",
      "2025-04-09 16:13:37,097 - build - model_api - INFO - setup_soilmaps.wflow_thicknesslayers: [100, 300, 800]\n",
      "2025-04-09 16:13:37,097 - build - wflow - INFO - Preparing soil parameter maps.\n",
      "2025-04-09 16:13:37,099 - build - rasterdataset - INFO - Reading soilgrids raster data from C:\\Users\\dalmijn\\.hydromt_data\\artifact_data\\v0.0.9\\data.tar\\soilgrids\\{variable}.tif\n",
      "2025-04-09 16:13:37,530 - build - rasterdataset - DEBUG - Clip to [11.778, 45.807, 12.745, 46.690] (epsg:4326))\n",
      "2025-04-09 16:13:37,538 - build - rasterdataset - DEBUG - Convert units for 21 variables.\n",
      "2025-04-09 16:13:37,824 - build - soilgrids - INFO - calculate and resample thetaS\n",
      "2025-04-09 16:13:38,189 - build - soilgrids - INFO - calculate and resample thetaR\n",
      "2025-04-09 16:13:38,641 - build - soilgrids - INFO - calculate and resample KsatVer\n",
      "2025-04-09 16:13:38,745 - build - soilgrids - INFO - calculate and resample pore size distribution index\n",
      "2025-04-09 16:13:39,646 - build - soilgrids - INFO - fit z - log(KsatVer) with numpy linalg regression (y = b*x) -> M_\n",
      "2025-04-09 16:13:40,252 - build - soilgrids - INFO - fit zi - Ksat with curve_fit (scipy.optimize) -> M\n",
      "2025-04-09 16:13:42,966 - build - soilgrids - DEBUG - Interpolate nodata (NaN) values for thetaS\n",
      "2025-04-09 16:13:43,239 - build - soilgrids - DEBUG - Interpolate nodata (NaN) values for thetaR\n",
      "2025-04-09 16:13:43,603 - build - soilgrids - DEBUG - Interpolate nodata (NaN) values for SoilThickness\n",
      "2025-04-09 16:13:43,630 - build - soilgrids - DEBUG - Interpolate nodata (NaN) values for SoilMinThickness\n",
      "2025-04-09 16:13:43,650 - build - soilgrids - DEBUG - Interpolate nodata (NaN) values for c\n",
      "2025-04-09 16:13:43,660 - build - soilgrids - DEBUG - Interpolate nodata (NaN) values for KsatVer\n",
      "2025-04-09 16:13:43,756 - build - soilgrids - DEBUG - Interpolate nodata (NaN) values for KsatVer_0.0cm\n",
      "2025-04-09 16:13:43,848 - build - soilgrids - DEBUG - Interpolate nodata (NaN) values for KsatVer_5.0cm\n",
      "2025-04-09 16:13:43,945 - build - soilgrids - DEBUG - Interpolate nodata (NaN) values for KsatVer_15.0cm\n",
      "2025-04-09 16:13:44,053 - build - soilgrids - DEBUG - Interpolate nodata (NaN) values for KsatVer_30.0cm\n",
      "2025-04-09 16:13:44,150 - build - soilgrids - DEBUG - Interpolate nodata (NaN) values for KsatVer_60.0cm\n",
      "2025-04-09 16:13:44,270 - build - soilgrids - DEBUG - Interpolate nodata (NaN) values for KsatVer_100.0cm\n",
      "2025-04-09 16:13:44,370 - build - soilgrids - DEBUG - Interpolate nodata (NaN) values for KsatVer_200.0cm\n",
      "2025-04-09 16:13:44,465 - build - soilgrids - DEBUG - Interpolate nodata (NaN) values for M_original_\n",
      "2025-04-09 16:13:44,854 - build - soilgrids - DEBUG - Interpolate nodata (NaN) values for M_\n",
      "2025-04-09 16:13:45,309 - build - soilgrids - DEBUG - Interpolate nodata (NaN) values for f_\n",
      "2025-04-09 16:13:45,927 - build - soilgrids - DEBUG - Interpolate nodata (NaN) values for M_original\n",
      "2025-04-09 16:13:46,311 - build - soilgrids - DEBUG - Interpolate nodata (NaN) values for M\n",
      "2025-04-09 16:13:46,678 - build - soilgrids - DEBUG - Interpolate nodata (NaN) values for f\n",
      "2025-04-09 16:13:47,054 - build - soilgrids - DEBUG - Interpolate nodata (NaN) values for wflow_soil\n",
      "2025-04-09 16:13:47,209 - build - model_api - INFO - setup_outlets.river_only: True\n",
      "2025-04-09 16:13:47,209 - build - model_api - INFO - setup_outlets.toml_output: csv\n",
      "2025-04-09 16:13:47,209 - build - model_api - INFO - setup_outlets.gauge_toml_header: ['Q']\n",
      "2025-04-09 16:13:47,209 - build - model_api - INFO - setup_outlets.gauge_toml_param: ['lateral.river.q_av']\n",
      "2025-04-09 16:13:47,209 - build - wflow - INFO - Gauges locations set based on river outlets.\n",
      "2025-04-09 16:13:47,214 - build - wflow - INFO - Gauges map based on catchment river outlets added.\n",
      "2025-04-09 16:13:47,215 - build - wflow - INFO - Adding ['lateral.river.q_av'] to csv section of toml.\n",
      "2025-04-09 16:13:47,215 - build - model_api - INFO - setup_gauges.gauges_fn: grdc\n",
      "2025-04-09 16:13:47,215 - build - model_api - INFO - setup_gauges.index_col: None\n",
      "2025-04-09 16:13:47,215 - build - model_api - INFO - setup_gauges.snap_to_river: True\n",
      "2025-04-09 16:13:47,215 - build - model_api - INFO - setup_gauges.mask: None\n",
      "2025-04-09 16:13:47,215 - build - model_api - INFO - setup_gauges.snap_uparea: False\n",
      "2025-04-09 16:13:47,215 - build - model_api - INFO - setup_gauges.max_dist: 10000.0\n",
      "2025-04-09 16:13:47,215 - build - model_api - INFO - setup_gauges.wdw: 3\n",
      "2025-04-09 16:13:47,215 - build - model_api - INFO - setup_gauges.rel_error: 0.05\n",
      "2025-04-09 16:13:47,215 - build - model_api - INFO - setup_gauges.abs_error: 50.0\n",
      "2025-04-09 16:13:47,215 - build - model_api - INFO - setup_gauges.fillna: False\n",
      "2025-04-09 16:13:47,215 - build - model_api - INFO - setup_gauges.derive_subcatch: False\n",
      "2025-04-09 16:13:47,215 - build - model_api - INFO - setup_gauges.basename: None\n",
      "2025-04-09 16:13:47,215 - build - model_api - INFO - setup_gauges.toml_output: csv\n",
      "2025-04-09 16:13:47,216 - build - model_api - INFO - setup_gauges.gauge_toml_header: ['Q', 'P']\n",
      "2025-04-09 16:13:47,216 - build - model_api - INFO - setup_gauges.gauge_toml_param: ['lateral.river.q_av', 'vertical.precipitation']\n",
      "2025-04-09 16:13:47,216 - build - geodataframe - INFO - Reading grdc csv data from C:\\Users\\dalmijn\\.hydromt_data\\artifact_data\\v0.0.9\\data.tar\\grdc.csv\n",
      "2025-04-09 16:13:47,225 - build - geodataframe - DEBUG - Clip intersects [11.778, 45.807, 12.745, 46.690] (EPSG:4326)\n",
      "2025-04-09 16:13:47,226 - build - wflow - INFO - 3 grdc gauge locations found within domain\n",
      "2025-04-09 16:13:47,706 - build - wflow - INFO - Adding ['lateral.river.q_av', 'vertical.precipitation'] to csv section of toml.\n",
      "2025-04-09 16:13:47,706 - build - model_api - INFO - setup_precip_forcing.precip_fn: era5\n",
      "2025-04-09 16:13:47,706 - build - model_api - INFO - setup_precip_forcing.precip_clim_fn: None\n",
      "2025-04-09 16:13:47,706 - build - model_api - INFO - setup_precip_forcing.chunksize: None\n",
      "2025-04-09 16:13:47,708 - build - rasterdataset - INFO - Reading era5 netcdf data from C:\\Users\\dalmijn\\.hydromt_data\\artifact_data\\v0.0.9\\data.tar\\era5.nc\n",
      "2025-04-09 16:13:47,723 - build - rasterdataset - DEBUG - Shifting time labels with 86400 sec.\n",
      "2025-04-09 16:13:47,725 - build - rasterdataset - DEBUG - Slicing time dim (datetime.datetime(2010, 1, 1, 0, 0), datetime.datetime(2010, 3, 31, 0, 0))\n",
      "2025-04-09 16:13:47,733 - build - rasterdataset - DEBUG - Clip to [11.778, 45.807, 12.745, 46.690] (epsg:4326))\n",
      "2025-04-09 16:13:47,734 - build - rasterdataset - DEBUG - Convert units for 1 variables.\n",
      "2025-04-09 16:13:47,786 - build - model_api - INFO - setup_temp_pet_forcing.temp_pet_fn: era5\n",
      "2025-04-09 16:13:47,786 - build - model_api - INFO - setup_temp_pet_forcing.pet_method: debruin\n",
      "2025-04-09 16:13:47,786 - build - model_api - INFO - setup_temp_pet_forcing.press_correction: True\n",
      "2025-04-09 16:13:47,786 - build - model_api - INFO - setup_temp_pet_forcing.temp_correction: True\n",
      "2025-04-09 16:13:47,786 - build - model_api - INFO - setup_temp_pet_forcing.wind_correction: True\n",
      "2025-04-09 16:13:47,786 - build - model_api - INFO - setup_temp_pet_forcing.wind_altitude: 10\n",
      "2025-04-09 16:13:47,786 - build - model_api - INFO - setup_temp_pet_forcing.reproj_method: nearest_index\n",
      "2025-04-09 16:13:47,786 - build - model_api - INFO - setup_temp_pet_forcing.fillna_method: None\n",
      "2025-04-09 16:13:47,786 - build - model_api - INFO - setup_temp_pet_forcing.dem_forcing_fn: era5_orography\n",
      "2025-04-09 16:13:47,786 - build - model_api - INFO - setup_temp_pet_forcing.skip_pet: False\n",
      "2025-04-09 16:13:47,786 - build - model_api - INFO - setup_temp_pet_forcing.chunksize: None\n",
      "2025-04-09 16:13:47,787 - build - rasterdataset - INFO - Reading era5 netcdf data from C:\\Users\\dalmijn\\.hydromt_data\\artifact_data\\v0.0.9\\data.tar\\era5.nc\n",
      "2025-04-09 16:13:47,798 - build - rasterdataset - DEBUG - Shifting time labels with 86400 sec.\n",
      "2025-04-09 16:13:47,799 - build - rasterdataset - DEBUG - Slicing time dim (datetime.datetime(2010, 1, 1, 0, 0), datetime.datetime(2010, 3, 31, 0, 0))\n",
      "2025-04-09 16:13:47,805 - build - rasterdataset - DEBUG - Clip to [11.778, 45.807, 12.745, 46.690] (epsg:4326))\n",
      "2025-04-09 16:13:47,807 - build - rasterdataset - DEBUG - Convert units for 4 variables.\n",
      "2025-04-09 16:13:47,841 - build - rasterdataset - INFO - Reading era5_orography netcdf data from C:\\Users\\dalmijn\\.hydromt_data\\artifact_data\\v0.0.9\\data.tar\\era5_orography.nc\n",
      "2025-04-09 16:13:47,857 - build - rasterdataset - DEBUG - Clip to [11.625, 45.625, 12.875, 46.875] (epsg:4326))\n",
      "2025-04-09 16:13:47,859 - build - rasterdataset - DEBUG - Convert units for 1 variables.\n",
      "2025-04-09 16:13:48,131 - build - model_api - INFO - setup_constant_pars.dtype: float32\n",
      "2025-04-09 16:13:48,131 - build - model_api - INFO - setup_constant_pars.nodata: -999\n",
      "2025-04-09 16:13:48,131 - build - model_api - INFO - setup_constant_pars.KsatHorFrac: 100\n",
      "2025-04-09 16:13:48,131 - build - model_api - INFO - setup_constant_pars.Cfmax: 3.75653\n",
      "2025-04-09 16:13:48,131 - build - model_api - INFO - setup_constant_pars.cf_soil: 0.038\n",
      "2025-04-09 16:13:48,131 - build - model_api - INFO - setup_constant_pars.EoverR: 0.11\n",
      "2025-04-09 16:13:48,131 - build - model_api - INFO - setup_constant_pars.InfiltCapPath: 5\n",
      "2025-04-09 16:13:48,131 - build - model_api - INFO - setup_constant_pars.InfiltCapSoil: 600\n",
      "2025-04-09 16:13:48,131 - build - model_api - INFO - setup_constant_pars.MaxLeakage: 0\n",
      "2025-04-09 16:13:48,131 - build - model_api - INFO - setup_constant_pars.rootdistpar: -500\n",
      "2025-04-09 16:13:48,131 - build - model_api - INFO - setup_constant_pars.TT: 0\n",
      "2025-04-09 16:13:48,132 - build - model_api - INFO - setup_constant_pars.TTI: 2\n",
      "2025-04-09 16:13:48,132 - build - model_api - INFO - setup_constant_pars.TTM: 0\n",
      "2025-04-09 16:13:48,132 - build - model_api - INFO - setup_constant_pars.WHC: 0.1\n",
      "2025-04-09 16:13:48,132 - build - model_api - INFO - setup_constant_pars.G_Cfmax: 5.3\n",
      "2025-04-09 16:13:48,132 - build - model_api - INFO - setup_constant_pars.G_SIfrac: 0.002\n",
      "2025-04-09 16:13:48,132 - build - model_api - INFO - setup_constant_pars.G_TT: 1.3\n",
      "2025-04-09 16:13:48,155 - build - wflow - INFO - Write model data to C:\\code\\py_dev\\hydromt_wflow\\docs\\_examples\\wflow_test_full\n",
      "2025-04-09 16:13:48,194 - build - wflow - INFO - Write grid to C:\\code\\py_dev\\hydromt_wflow\\docs\\_examples\\wflow_test_full\\staticmaps.nc\n",
      "2025-04-09 16:13:48,413 - build - wflow - INFO - Writing model staticgeom to file.\n",
      "2025-04-09 16:13:48,566 - build - wflow - INFO - Write forcing file\n",
      "2025-04-09 16:13:48,570 - build - wflow - WARNING - Not all dates found in precip_fn changing starttime to 2010-02-02 00:00:00 and endtime to 2010-02-15 00:00:00 in the toml.\n",
      "2025-04-09 16:13:48,574 - build - wflow - INFO - Process forcing; saving to C:\\code\\py_dev\\hydromt_wflow\\docs\\_examples\\wflow_test_full\\inmaps-era5-2010.nc\n",
      "\n",
      "[                                        ] | 0% Completed | 960.20 us\n",
      "[########################################] | 100% Completed | 109.54 ms\n",
      "2025-04-09 16:13:48,705 - build - wflow - INFO - Writing model config to C:\\code\\py_dev\\hydromt_wflow\\docs\\_examples\\wflow_test_full\\wflow_sbm.toml\n"
     ]
    },
    {
     "name": "stderr",
     "output_type": "stream",
     "text": [
      "No numerical nodata value found, skipping set_nodata\n",
      "No numerical nodata value found, skipping set_nodata\n",
      "No numerical nodata value found, skipping set_nodata\n",
      "No numerical nodata value found, skipping set_nodata\n",
      "No numerical nodata value found, skipping set_nodata\n",
      "No numerical nodata value found, skipping set_nodata\n",
      "No numerical nodata value found, skipping set_nodata\n",
      "No numerical nodata value found, skipping set_nodata\n"
     ]
    }
   ],
   "source": [
    "# NOTE: copy this line (without !) to your shell for more direct feedback\n",
    "!hydromt build wflow \"./wflow_test_full\" -r \"{'subbasin': [12.2051, 45.8331], 'strord': 4, 'bounds': [11.70, 45.35, 12.95, 46.70]}\" -i wflow_build.yml -d artifact_data -vv"
   ]
  },
  {
   "cell_type": "markdown",
   "id": "b31e92d2",
   "metadata": {},
   "source": [
    "With this example we build a complete Wflow model including forcing. The example means the following: run **hydromt build** with:\n",
    "\n",
    "* `wflow` : i.e. build a Wflow model\n",
    "* `./wflow_test_full` : output model folder\n",
    "* `-r \"{'subbasin': [12.2051, 45.8331], 'strord': 4, 'bounds': [11.70, 45.35, 12.95, 46.70]}\"` : derive a subbasin with its outlet at the given x,y coordinates and within the given bounds [xmin, ymin, xmax, ymax] (WGS84) snapped to a river with minimum stream order (strord) of 4. All *REGION* options are described in the [docs](https://deltares.github.io/hydromt/latest/user_guide/model_region)\n",
    "* `-i wflow_build.yml` : setup configuration file including all components to build and their arguments\n",
    "* `-d artifact_data`: data catalog to use. Here `artifact_data` which contains a global data extract for Northern Italy for demo purposes.\n",
    "* `-vv` : give some extra verbosity (2 * v) to display feedback on screen. Now debug messages are provided.\n"
   ]
  },
  {
   "cell_type": "markdown",
   "id": "2eed76e4",
   "metadata": {},
   "source": [
    "Next we check which files have been created. The model root should contain two netcdf (.nc) files, one for the staticmaps and one for the forcing data, a wflow run configuration (.toml) file. These files are sufficient to run the wflow model. In addition several geometry (.geojson) files are saved in the *staticgeoms* folder.  Finally, the setup process is logged in the hydromt.log file. "
   ]
  },
  {
   "cell_type": "code",
   "execution_count": 5,
   "id": "wireless-style",
   "metadata": {
    "execution": {
     "iopub.execute_input": "2025-04-09T14:13:49.680789Z",
     "iopub.status.busy": "2025-04-09T14:13:49.680789Z",
     "iopub.status.idle": "2025-04-09T14:13:49.691866Z",
     "shell.execute_reply": "2025-04-09T14:13:49.691866Z"
    }
   },
   "outputs": [
    {
     "name": "stdout",
     "output_type": "stream",
     "text": [
      "wflow_test_full\n",
      " - hydromt.log\n",
      " - hydromt_data.yml\n",
      " - inmaps-era5-2010.nc\n",
      " - staticmaps.nc\n",
      " - wflow_sbm.toml\n",
      "wflow_test_full\\instate\n",
      "wflow_test_full\\run_default\n",
      "wflow_test_full\\staticgeoms\n",
      " - basins.geojson\n",
      " - basins_highres.geojson\n",
      " - gauges.geojson\n",
      " - gauges_grdc.geojson\n",
      " - glaciers.geojson\n",
      " - region.geojson\n",
      " - rivers.geojson\n"
     ]
    }
   ],
   "source": [
    "import os\n",
    "\n",
    "root = \"wflow_test_full\"\n",
    "for path, _, files in os.walk(root):\n",
    "    print(path)\n",
    "    for name in files:\n",
    "        if name.endswith(\".xml\"):\n",
    "            continue\n",
    "        print(f\" - {name}\")"
   ]
  },
  {
   "cell_type": "markdown",
   "id": "adef7fa1",
   "metadata": {},
   "source": [
    "### Visualize and/or inspect model schematization"
   ]
  },
  {
   "cell_type": "markdown",
   "id": "20ce9df3",
   "metadata": {},
   "source": [
    "* The **wflow plot** example notebook contains scripts to visualize your model\n",
    "* The **wflow nc to raster files** example notebook contains scripts to write the nc model files to a netcdf which can be used to inspect (and modify) the model layers in e.g. QGIS."
   ]
  }
 ],
 "metadata": {
  "kernelspec": {
   "display_name": "waterbom",
   "language": "python",
   "name": "python3"
  },
  "language_info": {
   "codemirror_mode": {
    "name": "ipython",
    "version": 3
   },
   "file_extension": ".py",
   "mimetype": "text/x-python",
   "name": "python",
   "nbconvert_exporter": "python",
   "pygments_lexer": "ipython3",
   "version": "3.10.16"
  },
  "vscode": {
   "interpreter": {
    "hash": "5fda536963eae36dbaef69f7df44483d2713515b4e134e53fb983ec0eb9438d0"
   }
  }
 },
 "nbformat": 4,
 "nbformat_minor": 5
}
