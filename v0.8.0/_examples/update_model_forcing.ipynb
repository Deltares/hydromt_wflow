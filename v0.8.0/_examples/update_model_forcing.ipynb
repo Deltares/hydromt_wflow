{
 "cells": [
  {
   "cell_type": "markdown",
   "id": "3f28abc3",
   "metadata": {},
   "source": [
    "## Update a Wflow model: forcing"
   ]
  },
  {
   "cell_type": "markdown",
   "id": "a2553c7d",
   "metadata": {},
   "source": [
    "Once you have a **Wflow** model, you may want to update your model in order to use a new landuse map, change a parameter value, add sample locations, use different forcing data, create and run different scenarios etc.\n",
    "\n",
    "With HydroMT, you can easily read your model and update one or several components of your model using the **update** function of the command line interface (CLI). Here are the steps and some examples on how to **update the model forcing**.\n",
    "\n",
    "All lines in this notebook which starts with ! are executed from the command line. Within the notebook environment the logging messages are shown after completion. You can also copy these lines and paste them in your shell to get more feedback."
   ]
  },
  {
   "cell_type": "markdown",
   "id": "eb86e5ad",
   "metadata": {},
   "source": [
    "### Import packages"
   ]
  },
  {
   "cell_type": "markdown",
   "id": "6451cc67",
   "metadata": {},
   "source": [
    "In this notebook, we will use some functions of HydroMT to plot the precipitation from the original and updated models. Here are the libraries to import to realize these steps."
   ]
  },
  {
   "cell_type": "code",
   "execution_count": 1,
   "id": "e9515676",
   "metadata": {
    "execution": {
     "iopub.execute_input": "2025-04-09T14:16:59.118015Z",
     "iopub.status.busy": "2025-04-09T14:16:59.118015Z",
     "iopub.status.idle": "2025-04-09T14:16:59.962535Z",
     "shell.execute_reply": "2025-04-09T14:16:59.961609Z"
    }
   },
   "outputs": [],
   "source": [
    "import xarray as xr\n",
    "import matplotlib.pyplot as plt"
   ]
  },
  {
   "cell_type": "markdown",
   "id": "d897fbcc",
   "metadata": {},
   "source": [
    "### Model setup configuration"
   ]
  },
  {
   "cell_type": "markdown",
   "id": "285bff3c",
   "metadata": {},
   "source": [
    "Updating landuse is an easy step with the command line but sometimes, for example with forcing, you want to update several things at the same time. This is possible by preparing a **configuration file** that includes every methods and settings that you want to do during your update.\n",
    "\n",
    "The HydroMT configuration file (YAML) contains the model setup configuration and determines which methods are updated and in which sequence and sets optional arguments for each method. This configuration is passed to hydromt using `-i <path_to_config_file>`.\n",
    "\n",
    "Each header (without indent) (e.g. `setup_precip_forcing:`) corresponds with a model method which are explained in the [docs (model methods)](https://deltares.github.io/hydromt_wflow/latest/user_guide/wflow_model_setup.html).\n",
    "\n",
    "Let's open the example configuration file **wflow_update_forcing.yml** from the model repository [examples folder] and have a look at the settings."
   ]
  },
  {
   "cell_type": "code",
   "execution_count": 2,
   "id": "033f24ab",
   "metadata": {
    "execution": {
     "iopub.execute_input": "2025-04-09T14:16:59.962535Z",
     "iopub.status.busy": "2025-04-09T14:16:59.962535Z",
     "iopub.status.idle": "2025-04-09T14:16:59.973136Z",
     "shell.execute_reply": "2025-04-09T14:16:59.973136Z"
    }
   },
   "outputs": [
    {
     "name": "stdout",
     "output_type": "stream",
     "text": [
      "setup_config:                  # options parsed to wflow toml file <section>.<option>\n",
      "  starttime: 2010-02-01T00:00:00\n",
      "  endtime: 2010-02-10T00:00:00\n",
      "  timestepsecs: 86400\n",
      "  input.path_forcing: inmaps-chirps.nc\n",
      "\n",
      "setup_precip_forcing:\n",
      "  precip_fn: chirps_global # source for precipitation.\n",
      "\n",
      "setup_temp_pet_forcing:\n",
      "  temp_pet_fn: era5          # source for temperature and potential evapotranspiration.\n",
      "  press_correction: True          # if True temperature is corrected with elevation lapse rate.\n",
      "  temp_correction: True          # if True pressure is corrected with elevation lapse rate.\n",
      "  dem_forcing_fn: era5_orography # source of elevation grid corresponding to temp_pet_fn. Used for lapse rate correction.\n",
      "  pet_method: debruin       # method to compute PET: {debruin, makkink}\n",
      "  skip_pet: False         # if True, only temperature is prepared.\n",
      "\n",
      "write_forcing:                # Write forcing and re-write config if forcing filename or times are updated\n",
      "  freq_out: M             # Set frequency at which forcing files are written, following pandas offset aliases\n",
      "\n",
      "write_grid:             # to make sure that the staticmaps are written as well, can be skipped if update in the same model folder\n",
      "\n",
      "write_geoms:             # to make sure that the staticgeoms are written as well, can be skipped if update in the same model folder\n",
      "\n",
      "write_config:           # to make sure the configurations file is written with the updated start and endtime and the forcing file path\n",
      "\n"
     ]
    }
   ],
   "source": [
    "fn_config = \"wflow_update_forcing.yml\"\n",
    "with open(fn_config, \"r\") as f:\n",
    "    txt = f.read()\n",
    "print(txt)"
   ]
  },
  {
   "cell_type": "markdown",
   "id": "100f6165",
   "metadata": {},
   "source": [
    "Here we can see that to fully update wflow forcing, we will run three methods of **Wflow**:\n",
    "\n",
    "- **setup_config**: modifies the Wflow TOML configuration file and tells hydroMT what are the start, end, timestep of the forcing data we want to prepare. Note that you can change any options in the TOML file here, including for example the name of the output forcing file with the option *input.path_forcing*.\n",
    "- **setup_precip_forcing**: tells hydroMT how to prepare precipitation data including from which data source and with or without downscaling.\n",
    "- **setup_temp_pet_forcing**: tells hydroMT how to prepare temperature and potential evapotranspiration data including which data source, which computation method for PET and with or without downscaling.\n",
    "\n",
    "We also decide to not write our forcing not as one file but one file per month.\n",
    "\n",
    "You can find more information on the different methods and their options in the [docs (model methods)](https://deltares.github.io/hydromt_wflow/latest/user_guide/wflow_model_setup.html).\n",
    "\n",
    "Here we can see that we will prepare daily forcing for 10 days in February 2010 using CHIRPS for precipitation and ERA5 for temperature and potential evapotranspiration."
   ]
  },
  {
   "cell_type": "markdown",
   "id": "d3a9c2d7",
   "metadata": {},
   "source": [
    "### HydroMT CLI update interface"
   ]
  },
  {
   "cell_type": "markdown",
   "id": "84c580a3",
   "metadata": {},
   "source": [
    "Using the **HydroMT build** API, we can update one or several components of an already existing Wflow model. Let's get an overview of the available options:"
   ]
  },
  {
   "cell_type": "code",
   "execution_count": 3,
   "id": "f9253e01",
   "metadata": {
    "execution": {
     "iopub.execute_input": "2025-04-09T14:16:59.973136Z",
     "iopub.status.busy": "2025-04-09T14:16:59.973136Z",
     "iopub.status.idle": "2025-04-09T14:17:03.780830Z",
     "shell.execute_reply": "2025-04-09T14:17:03.780316Z"
    }
   },
   "outputs": [
    {
     "name": "stdout",
     "output_type": "stream",
     "text": [
      "Usage: hydromt update [OPTIONS] MODEL MODEL_ROOT\n",
      "\n",
      "  Update a specific component of a model.\n",
      "\n",
      "  Set an output directory to copy the edited model to a new folder, otherwise\n",
      "  maps are overwritten.\n",
      "\n",
      "  Example usage: --------------\n",
      "\n",
      "  Update (overwrite!) landuse-landcover based maps in a Wflow model: hydromt\n",
      "  update wflow /path/to/model_root -c setup_lulcmaps --opt lulc_fn=vito -d\n",
      "  /path/to/data_catalog.yml -v\n",
      "\n",
      "  Update Wflow model components outlined in an .yml configuration file and\n",
      "  write the model to a directory: hydromt update wflow /path/to/model_root  -o\n",
      "  /path/to/model_out  -i /path/to/wflow_config.yml  -d\n",
      "  /path/to/data_catalog.yml -v\n",
      "\n",
      "Options:\n",
      "  -o, --model-out DIRECTORY  Output model folder. Maps in MODEL_ROOT are\n",
      "                             overwritten if left empty.\n",
      "  -i, --config PATH          Path to hydroMT configuration file, for the model\n",
      "                             specific implementation.\n",
      "  -c, --components TEXT      Model methods from configuration file to run\n",
      "  --opt TEXT                 Method specific keyword arguments, see the method\n",
      "                             documentation of the specific model for more\n",
      "                             information about the arguments.\n",
      "  -d, --data TEXT            Path to local yaml data catalog file OR name of\n",
      "                             predefined data catalog.\n",
      "  --dd, --deltares-data      Flag: Shortcut to add the \"deltares_data\" catalog\n",
      "  --fo, --force-overwrite    Flag: If provided overwrite existing model files\n",
      "  --cache                    Flag: If provided cache tiled rasterdatasets\n",
      "  -q, --quiet                Decrease verbosity.\n",
      "  -v, --verbose              Increase verbosity.\n",
      "  --help                     Show this message and exit.\n"
     ]
    }
   ],
   "source": [
    "# Print the options available from the update command\n",
    "! hydromt update --help"
   ]
  },
  {
   "cell_type": "markdown",
   "id": "ee4d250d",
   "metadata": {},
   "source": [
    "### Update Wflow forcing layers"
   ]
  },
  {
   "cell_type": "code",
   "execution_count": 4,
   "id": "dd69c94d",
   "metadata": {
    "execution": {
     "iopub.execute_input": "2025-04-09T14:17:03.780830Z",
     "iopub.status.busy": "2025-04-09T14:17:03.780830Z",
     "iopub.status.idle": "2025-04-09T14:17:10.719089Z",
     "shell.execute_reply": "2025-04-09T14:17:10.719089Z"
    }
   },
   "outputs": [
    {
     "name": "stdout",
     "output_type": "stream",
     "text": [
      "2025-04-09 16:17:07,641 - update - log - INFO - HydroMT version: 0.10.1\n",
      "2025-04-09 16:17:07,641 - update - main - INFO - Updating wflow model at C:\\code\\py_dev\\hydromt_wflow\\docs\\_examples\\wflow_piave_subbasin (r).\n",
      "2025-04-09 16:17:07,641 - update - main - INFO - Output dir: C:\\code\\py_dev\\hydromt_wflow\\docs\\_examples\\wflow_piave_forcing\n",
      "2025-04-09 16:17:07,641 - update - main - INFO - User settings:\n",
      "2025-04-09 16:17:08,157 - update - data_catalog - INFO - Reading data catalog artifact_data latest\n",
      "2025-04-09 16:17:08,157 - update - data_catalog - INFO - Parsing data catalog from C:\\Users\\dalmijn\\.hydromt_data\\artifact_data\\v0.0.9\\data_catalog.yml\n",
      "2025-04-09 16:17:08,760 - update - model_api - INFO - Initializing wflow model from hydromt_wflow (v0.8.0).\n",
      "2025-04-09 16:17:08,760 - update - data_catalog - INFO - Parsing data catalog from C:\\code\\py_dev\\hydromt_wflow\\hydromt_wflow\\data\\parameters_data.yml\n",
      "2025-04-09 16:17:08,787 - update - wflow - INFO - Read grid from C:\\code\\py_dev\\hydromt_wflow\\docs\\_examples\\wflow_piave_subbasin\\staticmaps.nc\n",
      "2025-04-09 16:17:09,160 - update - wflow - INFO - Reading model staticgeom files.\n",
      "2025-04-09 16:17:09,230 - update - wflow - INFO - Read forcing from C:\\code\\py_dev\\hydromt_wflow\\docs\\_examples\\wflow_piave_subbasin\\inmaps.nc\n",
      "2025-04-09 16:17:09,255 - update - wflow - INFO - Reading model intbl files.\n",
      "2025-04-09 16:17:09,255 - update - wflow - INFO - Reading model table files.\n",
      "2025-04-09 16:17:09,255 - update - wflow - INFO - Model read\n",
      "2025-04-09 16:17:09,262 - update - model_api - INFO - setup_precip_forcing.precip_fn: chirps_global\n",
      "2025-04-09 16:17:09,264 - update - model_api - INFO - setup_precip_forcing.precip_clim_fn: None\n",
      "2025-04-09 16:17:09,264 - update - model_api - INFO - setup_precip_forcing.chunksize: None\n",
      "2025-04-09 16:17:09,268 - update - rasterdataset - INFO - Reading chirps_global netcdf data from C:\\Users\\dalmijn\\.hydromt_data\\artifact_data\\v0.0.9\\data.tar\\chirps_global.nc\n",
      "2025-04-09 16:17:09,333 - update - model_api - WARNING - Replacing forcing: precip\n",
      "2025-04-09 16:17:09,333 - update - model_api - INFO - setup_temp_pet_forcing.temp_pet_fn: era5\n",
      "2025-04-09 16:17:09,333 - update - model_api - INFO - setup_temp_pet_forcing.pet_method: debruin\n",
      "2025-04-09 16:17:09,333 - update - model_api - INFO - setup_temp_pet_forcing.press_correction: True\n",
      "2025-04-09 16:17:09,333 - update - model_api - INFO - setup_temp_pet_forcing.temp_correction: True\n",
      "2025-04-09 16:17:09,333 - update - model_api - INFO - setup_temp_pet_forcing.wind_correction: True\n",
      "2025-04-09 16:17:09,333 - update - model_api - INFO - setup_temp_pet_forcing.wind_altitude: 10\n",
      "2025-04-09 16:17:09,333 - update - model_api - INFO - setup_temp_pet_forcing.reproj_method: nearest_index\n",
      "2025-04-09 16:17:09,333 - update - model_api - INFO - setup_temp_pet_forcing.fillna_method: None\n",
      "2025-04-09 16:17:09,333 - update - model_api - INFO - setup_temp_pet_forcing.dem_forcing_fn: era5_orography\n",
      "2025-04-09 16:17:09,333 - update - model_api - INFO - setup_temp_pet_forcing.skip_pet: False\n",
      "2025-04-09 16:17:09,333 - update - model_api - INFO - setup_temp_pet_forcing.chunksize: None\n",
      "2025-04-09 16:17:09,333 - update - rasterdataset - INFO - Reading era5 netcdf data from C:\\Users\\dalmijn\\.hydromt_data\\artifact_data\\v0.0.9\\data.tar\\era5.nc\n",
      "2025-04-09 16:17:09,390 - update - rasterdataset - INFO - Reading era5_orography netcdf data from C:\\Users\\dalmijn\\.hydromt_data\\artifact_data\\v0.0.9\\data.tar\\era5_orography.nc\n",
      "2025-04-09 16:17:09,637 - update - model_api - WARNING - Replacing forcing: pet\n",
      "2025-04-09 16:17:09,637 - update - model_api - WARNING - Replacing forcing: temp\n",
      "2025-04-09 16:17:09,637 - update - model_api - INFO - write_forcing.fn_out: None\n",
      "2025-04-09 16:17:09,637 - update - model_api - INFO - write_forcing.freq_out: M\n",
      "2025-04-09 16:17:09,637 - update - model_api - INFO - write_forcing.chunksize: 1\n",
      "2025-04-09 16:17:09,637 - update - model_api - INFO - write_forcing.decimals: 2\n",
      "2025-04-09 16:17:09,637 - update - model_api - INFO - write_forcing.time_units: days since 1900-01-01T00:00:00\n",
      "2025-04-09 16:17:09,637 - update - wflow - INFO - Write forcing file\n",
      "2025-04-09 16:17:09,640 - update - wflow - WARNING - Not all dates found in precip_fn changing starttime to 2010-02-02 00:00:00 and endtime to 2010-02-10 00:00:00 in the toml.\n",
      "2025-04-09 16:17:09,640 - update - wflow - INFO - Writing several forcing with freq M\n",
      "2025-04-09 16:17:09,655 - update - wflow - INFO - Process forcing; saving to C:\\code\\py_dev\\hydromt_wflow\\docs\\_examples\\wflow_piave_forcing\\inmaps-chirps_20100202.nc\n",
      "\n",
      "[                                        ] | 0% Completed | 483.60 us\n",
      "[########################################] | 100% Completed | 102.52 ms\n",
      "2025-04-09 16:17:09,783 - update - model_api - INFO - write_grid.fn_out: None\n",
      "2025-04-09 16:17:09,840 - update - wflow - INFO - Write grid to C:\\code\\py_dev\\hydromt_wflow\\docs\\_examples\\wflow_piave_forcing\\staticmaps.nc\n",
      "2025-04-09 16:17:10,079 - update - model_api - INFO - write_geoms.geoms_fn: staticgeoms\n",
      "2025-04-09 16:17:10,079 - update - model_api - INFO - write_geoms.precision: None\n",
      "2025-04-09 16:17:10,079 - update - wflow - INFO - Writing model staticgeom to file.\n",
      "2025-04-09 16:17:10,310 - update - model_api - INFO - write_config.config_name: None\n",
      "2025-04-09 16:17:10,310 - update - model_api - INFO - write_config.config_root: None\n",
      "2025-04-09 16:17:10,310 - update - wflow - INFO - Writing model config to C:\\code\\py_dev\\hydromt_wflow\\docs\\_examples\\wflow_piave_forcing\\wflow_sbm.toml\n"
     ]
    }
   ],
   "source": [
    "# NOTE: copy this line (without !) to your shell for more direct feedback\n",
    "! hydromt update wflow wflow_piave_subbasin -o ./wflow_piave_forcing -i wflow_update_forcing.yml -d artifact_data -v"
   ]
  },
  {
   "cell_type": "markdown",
   "id": "90b9ec42",
   "metadata": {},
   "source": [
    "The example above means the following: run **hydromt** with:\n",
    "\n",
    "- `update wflow`: i.e. update a wflow model\n",
    "- `wflow_piave_subbasin`: original model folder\n",
    "- `-o ./wflow_piave_forcing`: output updated model folder\n",
    "- `-i wflow_update_forcing.yml`: setup configuration file containing the components to update and their different options\n",
    "- `-d artifact_data`: specify to use the artifact_data catalog\n",
    "- `v`: give some extra verbosity (2 * v) to display feedback on screen. Now debug messages are provided."
   ]
  },
  {
   "cell_type": "markdown",
   "id": "c2f94675",
   "metadata": {},
   "source": [
    "### Model comparison"
   ]
  },
  {
   "cell_type": "markdown",
   "id": "1fff56c3",
   "metadata": {},
   "source": [
    "From the information above, you can see that the different forcing variables where updated. Compared to the original model, the temperature and potential evapotranspiration still come from the ERA5 data source but now the precipitation are using CHIRPS data.\n",
    "\n",
    "Using the script from the [plot example](https://deltares.github.io/hydromt_wflow/latest/_examples/plot_wflow_forcing.html), we can compare the two precipitation datasets together (here *basin average* values)."
   ]
  },
  {
   "cell_type": "code",
   "execution_count": 5,
   "id": "4da9d10a",
   "metadata": {
    "execution": {
     "iopub.execute_input": "2025-04-09T14:17:10.720603Z",
     "iopub.status.busy": "2025-04-09T14:17:10.720603Z",
     "iopub.status.idle": "2025-04-09T14:17:13.383265Z",
     "shell.execute_reply": "2025-04-09T14:17:13.381658Z"
    }
   },
   "outputs": [],
   "source": [
    "# Load both models with hydromt\n",
    "from hydromt_wflow import WflowModel\n",
    "\n",
    "mod0 = WflowModel(root=\"wflow_piave_subbasin\", mode=\"r\")\n",
    "mod1 = WflowModel(root=\"wflow_piave_forcing\", mode=\"r\")"
   ]
  },
  {
   "cell_type": "code",
   "execution_count": 6,
   "id": "94a183be",
   "metadata": {
    "execution": {
     "iopub.execute_input": "2025-04-09T14:17:13.384272Z",
     "iopub.status.busy": "2025-04-09T14:17:13.384272Z",
     "iopub.status.idle": "2025-04-09T14:17:13.846242Z",
     "shell.execute_reply": "2025-04-09T14:17:13.845935Z"
    }
   },
   "outputs": [],
   "source": [
    "# read wflow forcing; mask region outside the basin and compute the basin average\n",
    "# NOTE: only very limited forcing data is available from the artifacts\n",
    "ds_forcing0 = xr.merge(mod0.forcing.values()).where(mod0.grid[\"wflow_subcatch\"] > 0)\n",
    "ds_forcing0 = ds_forcing0.mean(dim=[ds_forcing0.raster.x_dim, ds_forcing0.raster.y_dim])\n",
    "\n",
    "ds_forcing1 = xr.merge(mod1.forcing.values()).where(mod1.grid[\"wflow_subcatch\"] > 0)\n",
    "ds_forcing1 = ds_forcing1.mean(dim=[ds_forcing1.raster.x_dim, ds_forcing1.raster.y_dim])"
   ]
  },
  {
   "cell_type": "code",
   "execution_count": 7,
   "id": "e53070e4",
   "metadata": {
    "execution": {
     "iopub.execute_input": "2025-04-09T14:17:13.849541Z",
     "iopub.status.busy": "2025-04-09T14:17:13.849541Z",
     "iopub.status.idle": "2025-04-09T14:17:14.081542Z",
     "shell.execute_reply": "2025-04-09T14:17:14.081542Z"
    }
   },
   "outputs": [
    {
     "data": {
      "text/plain": [
       "Text(0, 0.5, 'precipitation\\nmm.day-1')"
      ]
     },
     "execution_count": 7,
     "metadata": {},
     "output_type": "execute_result"
    },
    {
     "data": {
      "image/png": "[encoded data removed]",
      "text/plain": [
       "<Figure size 600x300 with 1 Axes>"
      ]
     },
     "metadata": {},
     "output_type": "display_data"
    }
   ],
   "source": [
    "# plot precipitation\n",
    "fig, axes = plt.subplots(1, 1, figsize=(6, 3))\n",
    "df0 = ds_forcing0[\"precip\"].squeeze().to_series()\n",
    "df1 = ds_forcing1[\"precip\"].squeeze().to_series()\n",
    "\n",
    "# axes.bar(df1.index, df1.values, facecolor='green', label='CHIRPS')\n",
    "# axes.bar(df0.index, df0.values, facecolor='darkblue', label='ERA5')\n",
    "\n",
    "df0.plot.line(ax=axes, x=\"time\", color=\"darkblue\", label=\"ERA5\")\n",
    "df1.plot.line(ax=axes, x=\"time\", color=\"green\", label=\"CHIRPS\")\n",
    "\n",
    "\n",
    "axes.set_xlabel(\"time\")\n",
    "axes.legend()\n",
    "axes.set_title(\"precipitation\")\n",
    "axes.set_ylabel(\"precipitation\\nmm.day-1\")"
   ]
  }
 ],
 "metadata": {
  "kernelspec": {
   "display_name": "Python 3 (ipykernel)",
   "language": "python",
   "name": "python3"
  },
  "language_info": {
   "codemirror_mode": {
    "name": "ipython",
    "version": 3
   },
   "file_extension": ".py",
   "mimetype": "text/x-python",
   "name": "python",
   "nbconvert_exporter": "python",
   "pygments_lexer": "ipython3",
   "version": "3.10.16"
  }
 },
 "nbformat": 4,
 "nbformat_minor": 5
}
