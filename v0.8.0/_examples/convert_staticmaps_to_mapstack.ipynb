{
 "cells": [
  {
   "cell_type": "markdown",
   "id": "6ea7a8ea",
   "metadata": {},
   "source": [
    "## Convert Wflow staticmaps netcdf to raster files"
   ]
  },
  {
   "cell_type": "markdown",
   "id": "09ab27a8",
   "metadata": {},
   "source": [
    "In order to inspect or (manually) modify Wflow staticmaps it is convenient to export the maps to a raster format. Here we show how to read the model maps and save to a so-called mapstack (i.e.: a set of raster files with identical grid) using HydroMT.  "
   ]
  },
  {
   "cell_type": "markdown",
   "id": "163edfe3",
   "metadata": {},
   "source": [
    "### Load dependencies"
   ]
  },
  {
   "cell_type": "code",
   "execution_count": 1,
   "id": "d480af50",
   "metadata": {
    "execution": {
     "iopub.execute_input": "2025-04-09T14:15:34.045499Z",
     "iopub.status.busy": "2025-04-09T14:15:34.043479Z",
     "iopub.status.idle": "2025-04-09T14:15:37.285516Z",
     "shell.execute_reply": "2025-04-09T14:15:37.285516Z"
    }
   },
   "outputs": [],
   "source": [
    "import xarray as xr\n",
    "from os.path import join\n",
    "import hydromt\n",
    "from hydromt_wflow import WflowModel"
   ]
  },
  {
   "cell_type": "markdown",
   "id": "1c078a08",
   "metadata": {},
   "source": [
    "### Read wflow staticmaps"
   ]
  },
  {
   "cell_type": "markdown",
   "id": "fb790d49",
   "metadata": {},
   "source": [
    "HydroMT provides an easy method to read the model schematization trought the Model API."
   ]
  },
  {
   "cell_type": "code",
   "execution_count": 2,
   "id": "15044d4b",
   "metadata": {
    "execution": {
     "iopub.execute_input": "2025-04-09T14:15:37.289701Z",
     "iopub.status.busy": "2025-04-09T14:15:37.289701Z",
     "iopub.status.idle": "2025-04-09T14:15:37.651369Z",
     "shell.execute_reply": "2025-04-09T14:15:37.651369Z"
    }
   },
   "outputs": [
    {
     "name": "stdout",
     "output_type": "stream",
     "text": [
      "<xarray.Dataset> Size: 1MB\n",
      "Dimensions:               (latitude: 53, longitude: 58, time: 12, layer: 4)\n",
      "Coordinates:\n",
      "  * latitude              (latitude) float64 424B 46.68 46.67 ... 45.83 45.82\n",
      "  * longitude             (longitude) float64 464B 11.78 11.8 ... 12.72 12.73\n",
      "  * time                  (time) int32 48B 1 2 3 4 5 6 7 8 9 10 11 12\n",
      "  * layer                 (layer) int32 16B 0 1 2 3\n",
      "    spatial_ref           int32 4B 0\n",
      "Data variables: (12/92)\n",
      "    x_out                 (latitude, longitude) float64 25kB nan nan ... nan nan\n",
      "    y_out                 (latitude, longitude) float64 25kB nan nan ... nan nan\n",
      "    idx_out               (latitude, longitude) int32 12kB -1 -1 -1 ... -1 -1 -1\n",
      "    wflow_ldd             (latitude, longitude) uint8 3kB 255 255 ... 255 255\n",
      "    wflow_subcatch        (latitude, longitude) int32 12kB 0 0 0 0 0 ... 0 0 0 0\n",
      "    wflow_uparea          (latitude, longitude) float32 12kB -9.999e+03 ... -...\n",
      "    ...                    ...\n",
      "    TTI                   (latitude, longitude) float32 12kB -999.0 ... -999.0\n",
      "    TTM                   (latitude, longitude) float32 12kB -999.0 ... -999.0\n",
      "    WHC                   (latitude, longitude) float32 12kB -999.0 ... -999.0\n",
      "    G_Cfmax               (latitude, longitude) float32 12kB -999.0 ... -999.0\n",
      "    G_SIfrac              (latitude, longitude) float32 12kB -999.0 ... -999.0\n",
      "    G_TT                  (latitude, longitude) float32 12kB -999.0 ... -999.0\n"
     ]
    }
   ],
   "source": [
    "root = \"wflow_piave_subbasin\"\n",
    "mod = WflowModel(root, mode=\"r\")\n",
    "ds = mod.grid  # here the staticmaps netcdf is loaded\n",
    "print(ds)"
   ]
  },
  {
   "cell_type": "markdown",
   "id": "1acdee64",
   "metadata": {},
   "source": [
    "### Write netcdf to mapstack"
   ]
  },
  {
   "cell_type": "markdown",
   "id": "36073d9b",
   "metadata": {},
   "source": [
    "The raster module provides many raster GIS methods throught the **raster** Dataset accessor. To write a Dataset to a mapstack one line with code is sufficient. We only need to provide the output folder in which all raster files are saved. The default output format is *GeoTIFF*, but this can be changed with the `driver` argument. To write to PCRaster map-files it is recommended to have PCRaster python installed."
   ]
  },
  {
   "cell_type": "code",
   "execution_count": 3,
   "id": "07e4d5b7",
   "metadata": {
    "execution": {
     "iopub.execute_input": "2025-04-09T14:15:37.656894Z",
     "iopub.status.busy": "2025-04-09T14:15:37.656894Z",
     "iopub.status.idle": "2025-04-09T14:15:38.321243Z",
     "shell.execute_reply": "2025-04-09T14:15:38.321243Z"
    }
   },
   "outputs": [],
   "source": [
    "outdir = join(root, \"staticmaps\")\n",
    "ds.raster.to_mapstack(outdir)"
   ]
  },
  {
   "cell_type": "markdown",
   "id": "b848f0e9",
   "metadata": {},
   "source": [
    "Now the model files can easily be inspected and modified e.g. QGIS.\n",
    "\n",
    "NOTE: in QGIS, you can also visualize netcdf files but direct modification is not (yet) possible."
   ]
  },
  {
   "cell_type": "markdown",
   "id": "e1f84114",
   "metadata": {},
   "source": [
    "### Create staticmaps netcdf files based on mapstack"
   ]
  },
  {
   "cell_type": "markdown",
   "id": "bbe69373",
   "metadata": {},
   "source": [
    "If you want to update the staticmaps after modification the maps can be read into a Dataset by hydromt. We recommend the following workflow:\n",
    "\n",
    "* read the original model\n",
    "* read the updated mapstack\n",
    "* change the model root to write the updated model to a new directory\n",
    "* update the staticmaps of the model\n",
    "* write the model\n",
    "\n",
    "NOTE: We do not read the forcing as it is probably faster to just copy the file instead of loading it into python and writing it back to netcdf.\n",
    "\n",
    "NOTE: The staticgeoms might be changed because of manual changes in the wflow_river, lakes, reservoir or glacier staticmaps and are therefore not read here. To change these maps we recommend using the hydromt update method to keep the staticgeoms and maps aligned."
   ]
  },
  {
   "cell_type": "code",
   "execution_count": 4,
   "id": "42c8a6f3",
   "metadata": {
    "execution": {
     "iopub.execute_input": "2025-04-09T14:15:38.321243Z",
     "iopub.status.busy": "2025-04-09T14:15:38.321243Z",
     "iopub.status.idle": "2025-04-09T14:15:38.396435Z",
     "shell.execute_reply": "2025-04-09T14:15:38.396435Z"
    }
   },
   "outputs": [],
   "source": [
    "# read the original model\n",
    "root = \"wflow_piave_subbasin\"\n",
    "mod = WflowModel(root, mode=\"r\")\n",
    "mod.read_grid()\n",
    "mod.read_config()"
   ]
  },
  {
   "cell_type": "code",
   "execution_count": 5,
   "id": "438a1d35",
   "metadata": {
    "execution": {
     "iopub.execute_input": "2025-04-09T14:15:38.396435Z",
     "iopub.status.busy": "2025-04-09T14:15:38.396435Z",
     "iopub.status.idle": "2025-04-09T14:15:39.316647Z",
     "shell.execute_reply": "2025-04-09T14:15:39.316647Z"
    }
   },
   "outputs": [],
   "source": [
    "# read the updated mapstack\n",
    "# NOTE: The mapstack does not have to include all staticmaps, only the once that are found will be updated.\n",
    "# The name of the staticmap should however have to be unchanged.\n",
    "ds_updated = hydromt.open_mfraster(join(root, \"staticmaps\", \"*.tif\"))"
   ]
  },
  {
   "cell_type": "code",
   "execution_count": 6,
   "id": "98ba4297",
   "metadata": {
    "execution": {
     "iopub.execute_input": "2025-04-09T14:15:39.321456Z",
     "iopub.status.busy": "2025-04-09T14:15:39.321456Z",
     "iopub.status.idle": "2025-04-09T14:15:39.345814Z",
     "shell.execute_reply": "2025-04-09T14:15:39.345814Z"
    }
   },
   "outputs": [],
   "source": [
    "# change root to a new directory\n",
    "root_updated = \"wflow_piave_subbasin_updated\"\n",
    "mod.set_root(root_updated, mode=\"w+\")"
   ]
  },
  {
   "cell_type": "code",
   "execution_count": 7,
   "id": "1f9fd886",
   "metadata": {
    "execution": {
     "iopub.execute_input": "2025-04-09T14:15:39.354059Z",
     "iopub.status.busy": "2025-04-09T14:15:39.354059Z",
     "iopub.status.idle": "2025-04-09T14:15:39.361335Z",
     "shell.execute_reply": "2025-04-09T14:15:39.361335Z"
    }
   },
   "outputs": [],
   "source": [
    "# Reinitialize and update the new model staticmaps\n",
    "mod._grid = xr.Dataset()\n",
    "mod.set_grid(ds_updated)"
   ]
  },
  {
   "cell_type": "code",
   "execution_count": 8,
   "id": "2fef2a90",
   "metadata": {
    "execution": {
     "iopub.execute_input": "2025-04-09T14:15:39.363027Z",
     "iopub.status.busy": "2025-04-09T14:15:39.363027Z",
     "iopub.status.idle": "2025-04-09T14:15:39.808611Z",
     "shell.execute_reply": "2025-04-09T14:15:39.808611Z"
    }
   },
   "outputs": [],
   "source": [
    "# write the model to the new directory\n",
    "mod.write()"
   ]
  },
  {
   "cell_type": "markdown",
   "id": "7fdabc58",
   "metadata": {},
   "source": [
    "### Update Wflow staticmaps manually using HydroMT"
   ]
  },
  {
   "cell_type": "markdown",
   "id": "e1567262",
   "metadata": {},
   "source": [
    "The previous steps show you how you can easily save a model staticmaps to a GeoTIFF mapstacks and read it again using hydroMT functions **to_mapstack** and **open_mfraster**.\n",
    "\n",
    "However in order to have a fully ready-to-run wflow model, the mapstacks that we create needs to be processed a little more:\n",
    "\n",
    "* The LAI maps have a third *time* dimension (other than x and y coordinates)\n",
    "* The c maps have a third soil *layer* dimension\n",
    "\n",
    "To update manually a wflow model that is then ready to run, we advise to use the following workflow and functions from the pcraster **pcrm** module of hydromt_wflow:\n",
    "\n",
    "* read the original model\n",
    "* save the original model staticmaps to formatted PCRaster mapstacks using the **write_staticmaps_pcr** function (based on to_mapstack with c and LAI pre-processing)\n",
    "* manually update the PCRaster maps (eg using QGIS)\n",
    "* read the updated staticmaps using the **read_staticmaps_pcr** function (based on open_mfraster with c and LAI post-processing)\n",
    "* Change the model root to write the updated model to a new directory\n",
    "* Write the model\n",
    "\n",
    "NOTE: We do not read the forcing as it is probably faster to just copy the file instead of loading it into python and writing it back to netcdf.\n",
    "\n",
    "NOTE: The staticgeoms might be changed because of manual changes in the wflow_river, lakes, reservoir or glacier staticmaps and are therefore not read here. To change these maps we recommend using the hydromt update method to keep the staticgeoms and maps aligned."
   ]
  },
  {
   "cell_type": "markdown",
   "id": "3464a5c3",
   "metadata": {},
   "source": [
    "#### Save the staticmaps as a PCRaster mapstack"
   ]
  },
  {
   "cell_type": "code",
   "execution_count": 9,
   "id": "b06f0f2b",
   "metadata": {
    "execution": {
     "iopub.execute_input": "2025-04-09T14:15:39.812761Z",
     "iopub.status.busy": "2025-04-09T14:15:39.812761Z",
     "iopub.status.idle": "2025-04-09T14:15:40.061039Z",
     "shell.execute_reply": "2025-04-09T14:15:40.061039Z"
    }
   },
   "outputs": [],
   "source": [
    "# read the original model\n",
    "root = \"wflow_piave_subbasin\"\n",
    "mod = WflowModel(root, mode=\"r+\")\n",
    "mod.read_grid()\n",
    "mod.read_config()"
   ]
  },
  {
   "cell_type": "code",
   "execution_count": 10,
   "id": "330cfb52",
   "metadata": {
    "execution": {
     "iopub.execute_input": "2025-04-09T14:15:40.064219Z",
     "iopub.status.busy": "2025-04-09T14:15:40.064219Z",
     "iopub.status.idle": "2025-04-09T14:15:44.804385Z",
     "shell.execute_reply": "2025-04-09T14:15:44.804385Z"
    }
   },
   "outputs": [],
   "source": [
    "# save the staticmaps to PCRaster mapstacks and update them manually where needed\n",
    "from hydromt_wflow.pcrm import write_staticmaps_pcr\n",
    "\n",
    "write_staticmaps_pcr(mod.grid, root=root)"
   ]
  },
  {
   "cell_type": "markdown",
   "id": "7474fc4e",
   "metadata": {},
   "source": [
    "#### Create a new Wflow model based on the updated PCRaster mapstack"
   ]
  },
  {
   "cell_type": "code",
   "execution_count": 11,
   "id": "ca8c57cc",
   "metadata": {
    "execution": {
     "iopub.execute_input": "2025-04-09T14:15:44.810465Z",
     "iopub.status.busy": "2025-04-09T14:15:44.808446Z",
     "iopub.status.idle": "2025-04-09T14:15:48.095472Z",
     "shell.execute_reply": "2025-04-09T14:15:48.095472Z"
    }
   },
   "outputs": [
    {
     "data": {
      "text/html": [
       "<div>\n",
       "<style scoped>\n",
       "    .dataframe tbody tr th:only-of-type {\n",
       "        vertical-align: middle;\n",
       "    }\n",
       "\n",
       "    .dataframe tbody tr th {\n",
       "        vertical-align: top;\n",
       "    }\n",
       "\n",
       "    .dataframe thead th {\n",
       "        text-align: right;\n",
       "    }\n",
       "</style>\n",
       "<table border=\"1\" class=\"dataframe\">\n",
       "  <thead>\n",
       "    <tr style=\"text-align: right;\">\n",
       "      <th></th>\n",
       "      <th>geometry</th>\n",
       "      <th>idx</th>\n",
       "      <th>idx_ds</th>\n",
       "      <th>pit</th>\n",
       "      <th>strord</th>\n",
       "    </tr>\n",
       "  </thead>\n",
       "  <tbody>\n",
       "    <tr>\n",
       "      <th>0</th>\n",
       "      <td>LINESTRING (12.73333 46.61667, 12.71667 46.616...</td>\n",
       "      <td>289</td>\n",
       "      <td>346</td>\n",
       "      <td>False</td>\n",
       "      <td>1</td>\n",
       "    </tr>\n",
       "    <tr>\n",
       "      <th>1</th>\n",
       "      <td>LINESTRING (12.73333 46.6, 12.71667 46.6)</td>\n",
       "      <td>347</td>\n",
       "      <td>346</td>\n",
       "      <td>False</td>\n",
       "      <td>1</td>\n",
       "    </tr>\n",
       "    <tr>\n",
       "      <th>2</th>\n",
       "      <td>LINESTRING (12.7 46.6, 12.71667 46.6)</td>\n",
       "      <td>345</td>\n",
       "      <td>346</td>\n",
       "      <td>False</td>\n",
       "      <td>1</td>\n",
       "    </tr>\n",
       "    <tr>\n",
       "      <th>3</th>\n",
       "      <td>LINESTRING (12.28333 46.58333, 12.26667 46.583...</td>\n",
       "      <td>378</td>\n",
       "      <td>492</td>\n",
       "      <td>False</td>\n",
       "      <td>1</td>\n",
       "    </tr>\n",
       "    <tr>\n",
       "      <th>4</th>\n",
       "      <td>LINESTRING (12.71667 46.6, 12.73333 46.58333, ...</td>\n",
       "      <td>346</td>\n",
       "      <td>462</td>\n",
       "      <td>False</td>\n",
       "      <td>2</td>\n",
       "    </tr>\n",
       "    <tr>\n",
       "      <th>...</th>\n",
       "      <td>...</td>\n",
       "      <td>...</td>\n",
       "      <td>...</td>\n",
       "      <td>...</td>\n",
       "      <td>...</td>\n",
       "    </tr>\n",
       "    <tr>\n",
       "      <th>1180</th>\n",
       "      <td>LINESTRING (12.2 45.88333, 12.18333 45.86667)</td>\n",
       "      <td>2809</td>\n",
       "      <td>2866</td>\n",
       "      <td>False</td>\n",
       "      <td>2</td>\n",
       "    </tr>\n",
       "    <tr>\n",
       "      <th>1181</th>\n",
       "      <td>LINESTRING (12.16667 45.88333, 12.16667 45.866...</td>\n",
       "      <td>2807</td>\n",
       "      <td>2924</td>\n",
       "      <td>False</td>\n",
       "      <td>1</td>\n",
       "    </tr>\n",
       "    <tr>\n",
       "      <th>1182</th>\n",
       "      <td>LINESTRING (12.18333 45.86667, 12.18333 45.85)</td>\n",
       "      <td>2866</td>\n",
       "      <td>2924</td>\n",
       "      <td>False</td>\n",
       "      <td>3</td>\n",
       "    </tr>\n",
       "    <tr>\n",
       "      <th>1183</th>\n",
       "      <td>LINESTRING (12.18333 45.85, 12.2 45.85, 12.2 4...</td>\n",
       "      <td>2924</td>\n",
       "      <td>2983</td>\n",
       "      <td>False</td>\n",
       "      <td>5</td>\n",
       "    </tr>\n",
       "    <tr>\n",
       "      <th>1184</th>\n",
       "      <td>LINESTRING (12.2 45.83333, 12.2 45.83333)</td>\n",
       "      <td>2983</td>\n",
       "      <td>2983</td>\n",
       "      <td>True</td>\n",
       "      <td>5</td>\n",
       "    </tr>\n",
       "  </tbody>\n",
       "</table>\n",
       "<p>1185 rows × 5 columns</p>\n",
       "</div>"
      ],
      "text/plain": [
       "                                               geometry   idx  idx_ds    pit  \\\n",
       "0     LINESTRING (12.73333 46.61667, 12.71667 46.616...   289     346  False   \n",
       "1             LINESTRING (12.73333 46.6, 12.71667 46.6)   347     346  False   \n",
       "2                 LINESTRING (12.7 46.6, 12.71667 46.6)   345     346  False   \n",
       "3     LINESTRING (12.28333 46.58333, 12.26667 46.583...   378     492  False   \n",
       "4     LINESTRING (12.71667 46.6, 12.73333 46.58333, ...   346     462  False   \n",
       "...                                                 ...   ...     ...    ...   \n",
       "1180      LINESTRING (12.2 45.88333, 12.18333 45.86667)  2809    2866  False   \n",
       "1181  LINESTRING (12.16667 45.88333, 12.16667 45.866...  2807    2924  False   \n",
       "1182     LINESTRING (12.18333 45.86667, 12.18333 45.85)  2866    2924  False   \n",
       "1183  LINESTRING (12.18333 45.85, 12.2 45.85, 12.2 4...  2924    2983  False   \n",
       "1184          LINESTRING (12.2 45.83333, 12.2 45.83333)  2983    2983   True   \n",
       "\n",
       "      strord  \n",
       "0          1  \n",
       "1          1  \n",
       "2          1  \n",
       "3          1  \n",
       "4          2  \n",
       "...      ...  \n",
       "1180       2  \n",
       "1181       1  \n",
       "1182       3  \n",
       "1183       5  \n",
       "1184       5  \n",
       "\n",
       "[1185 rows x 5 columns]"
      ]
     },
     "execution_count": 11,
     "metadata": {},
     "output_type": "execute_result"
    }
   ],
   "source": [
    "# Import read method for PCRaster files\n",
    "from hydromt_wflow.pcrm import read_staticmaps_pcr\n",
    "\n",
    "# create a model instance with the updated staticmaps\n",
    "root = \"wflow_piave_subbasin_updated\"\n",
    "mod = WflowModel(root, mode=\"w+\")\n",
    "# Read the pcraster staticmaps\n",
    "staticmaps = read_staticmaps_pcr(\"wflow_piave_subbasin\", crs=4326)\n",
    "mod.set_grid(staticmaps)\n",
    "mod.read_config()\n",
    "# re-generate the basins and rivers staticgeoms, for others (gauges, lakes, reservoirs, glaicers) use the hydromt update method\n",
    "mod.basins\n",
    "mod.rivers"
   ]
  },
  {
   "cell_type": "code",
   "execution_count": 12,
   "id": "04df13a5",
   "metadata": {
    "execution": {
     "iopub.execute_input": "2025-04-09T14:15:48.095472Z",
     "iopub.status.busy": "2025-04-09T14:15:48.095472Z",
     "iopub.status.idle": "2025-04-09T14:15:48.596993Z",
     "shell.execute_reply": "2025-04-09T14:15:48.596993Z"
    }
   },
   "outputs": [],
   "source": [
    "# write the model to the new directory\n",
    "mod.write()"
   ]
  }
 ],
 "metadata": {
  "kernelspec": {
   "display_name": "Python 3 (ipykernel)",
   "language": "python",
   "name": "python3"
  },
  "language_info": {
   "codemirror_mode": {
    "name": "ipython",
    "version": 3
   },
   "file_extension": ".py",
   "mimetype": "text/x-python",
   "name": "python",
   "nbconvert_exporter": "python",
   "pygments_lexer": "ipython3",
   "version": "3.10.16"
  }
 },
 "nbformat": 4,
 "nbformat_minor": 5
}
