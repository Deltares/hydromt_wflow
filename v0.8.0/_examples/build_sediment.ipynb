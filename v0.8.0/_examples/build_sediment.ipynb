{
 "cells": [
  {
   "cell_type": "markdown",
   "id": "9a73590b",
   "metadata": {},
   "source": [
    "## Build a Wflow Sediment model"
   ]
  },
  {
   "cell_type": "markdown",
   "id": "ee510c6e",
   "metadata": {},
   "source": [
    "This notebook demonstrates how to prepare a **Wflow Sediment** model using the command line interace (CLI)."
   ]
  },
  {
   "cell_type": "markdown",
   "id": "6b96aa15",
   "metadata": {},
   "source": [
    "All lines in this notebook which start with `!` are executed from the command line. Within the notebook environment the logging messages are shown after completion. You can also copy these lines and paste these in your shell to get more direct feedback."
   ]
  },
  {
   "cell_type": "markdown",
   "id": "451c8168",
   "metadata": {},
   "source": [
    "### HydroMT CLI build interface"
   ]
  },
  {
   "cell_type": "markdown",
   "id": "2c70853e",
   "metadata": {},
   "source": [
    "Lets first check if the Wflow sediment model is recognized by HydroMT"
   ]
  },
  {
   "cell_type": "code",
   "execution_count": 1,
   "id": "40470302",
   "metadata": {
    "execution": {
     "iopub.execute_input": "2025-04-09T14:14:00.731094Z",
     "iopub.status.busy": "2025-04-09T14:14:00.727906Z",
     "iopub.status.idle": "2025-04-09T14:14:04.557988Z",
     "shell.execute_reply": "2025-04-09T14:14:04.557988Z"
    }
   },
   "outputs": [
    {
     "name": "stdout",
     "output_type": "stream",
     "text": [
      "model plugins:\n",
      " - wflow (hydromt_wflow 0.8.0)\n",
      " - wflow_sediment (hydromt_wflow 0.8.0)\n",
      "generic models (hydromt 0.10.1):\n",
      " - grid_model\n",
      " - vector_model\n",
      " - network_model\n",
      "\n"
     ]
    }
   ],
   "source": [
    "# this should return \"wflow, wflow_sediment\"\n",
    "# as well as hydromt generic models \"grid_model, lumped_model, network_model (mesh_model)\"\n",
    "!hydromt --models"
   ]
  },
  {
   "cell_type": "markdown",
   "id": "7d9b5a20",
   "metadata": {},
   "source": [
    "Using the **HydroMT build** API we can setup a complete model from scratch. Let's get an overview of all the available options:"
   ]
  },
  {
   "cell_type": "code",
   "execution_count": 2,
   "id": "1d39e4a1",
   "metadata": {
    "execution": {
     "iopub.execute_input": "2025-04-09T14:14:04.557988Z",
     "iopub.status.busy": "2025-04-09T14:14:04.557988Z",
     "iopub.status.idle": "2025-04-09T14:14:08.318928Z",
     "shell.execute_reply": "2025-04-09T14:14:08.318418Z"
    }
   },
   "outputs": [
    {
     "name": "stdout",
     "output_type": "stream",
     "text": [
      "Usage: hydromt build [OPTIONS] MODEL MODEL_ROOT\n",
      "\n",
      "  Build models from scratch.\n",
      "\n",
      "  Example usage: --------------\n",
      "\n",
      "  To build a wflow model for a subbasin using a point coordinates snapped to\n",
      "  cells with upstream area >= 50 km2 hydromt build wflow /path/to/model_root\n",
      "  -i /path/to/wflow_config.yml  -r \"{'subbasin': [-7.24, 62.09], 'uparea':\n",
      "  50}\" -d deltares_data -d /path/to/data_catalog.yml -v\n",
      "\n",
      "  To build a sfincs model based on a bbox hydromt build sfincs\n",
      "  /path/to/model_root  -i /path/to/sfincs_config.yml  -r \"{'bbox':\n",
      "  [4.6891,52.9750,4.9576,53.1994]}\"  -d /path/to/data_catalog.yml -v\n",
      "\n",
      "Options:\n",
      "  --opt TEXT               Method specific keyword arguments, see the method\n",
      "                           documentation of the specific model for more\n",
      "                           information about the arguments.\n",
      "  -i, --config PATH        Path to hydroMT configuration file, for the model\n",
      "                           specific implementation.\n",
      "  -r, --region TEXT        Set the region for which to build the model, e.g.\n",
      "                           {'subbasin': [-7.24, 62.09]}\n",
      "  -d, --data TEXT          Path to local yaml data catalog file OR name of\n",
      "                           predefined data catalog.\n",
      "  --dd, --deltares-data    Flag: Shortcut to add the \"deltares_data\" catalog\n",
      "  --fo, --force-overwrite  Flag: If provided overwrite existing model files\n",
      "  --cache                  Flag: If provided cache tiled rasterdatasets\n",
      "  -v, --verbose            Increase verbosity.\n",
      "  -q, --quiet              Decrease verbosity.\n",
      "  --help                   Show this message and exit.\n"
     ]
    }
   ],
   "source": [
    "!hydromt build --help"
   ]
  },
  {
   "cell_type": "markdown",
   "id": "ebd31242",
   "metadata": {},
   "source": [
    "### Model setup configuration"
   ]
  },
  {
   "cell_type": "markdown",
   "id": "fb8282c9",
   "metadata": {},
   "source": [
    "The HydroMT configuration file (YAML) contains the model setup configuration and determines which methods are used to prepare the different components of a Wflow Sediment model and in which order and optionally sets non-default arguments for each method. This configuration is passed to HydroMT using `-i <path_to_config_file>`. We have prepared several example files which are available in the model repository [examples folder](https://github.com/Deltares/hydromt_wflow/tree/main/examples) and from the [docs (building a model)](https://deltares.github.io/hydromt_wflow/latest/user_guide/sediment_build.html). \n",
    "\n",
    "Each header (without indent) (e.g. `setup_basemaps:`) corresponds to a model method. All model methods are explained in the [docs (model methods)](https://deltares.github.io/hydromt_wflow/latest/user_guide/sediment_model_setup.html). "
   ]
  },
  {
   "cell_type": "markdown",
   "id": "cc3fd44d",
   "metadata": {},
   "source": [
    "We will load the default wflow sediment build configuration yaml file for inspection:"
   ]
  },
  {
   "cell_type": "code",
   "execution_count": 3,
   "id": "e88d4aed",
   "metadata": {
    "execution": {
     "iopub.execute_input": "2025-04-09T14:14:08.318928Z",
     "iopub.status.busy": "2025-04-09T14:14:08.318928Z",
     "iopub.status.idle": "2025-04-09T14:14:08.342643Z",
     "shell.execute_reply": "2025-04-09T14:14:08.342643Z"
    }
   },
   "outputs": [
    {
     "name": "stdout",
     "output_type": "stream",
     "text": [
      "setup_config:                     # options parsed to wflow toml file <section>.<option>\n",
      "  starttime: 2010-01-01T00:00:00\n",
      "  endtime: 2010-03-31T00:00:00\n",
      "  timestepsecs: 86400\n",
      "\n",
      "setup_basemaps:\n",
      "  hydrography_fn: merit_hydro      # source hydrography data {merit_hydro, merit_hydro_1k}\n",
      "  basin_index_fn: merit_hydro_index # source of basin index corresponding to hydrography_fn\n",
      "  upscale_method: ihu              # upscaling method for flow direction data, by default 'ihu'\n",
      "  res: 0.00833           # build the model at a 30 arc sec (~1km) resolution\n",
      "\n",
      "setup_rivers:\n",
      "  hydrography_fn: merit_hydro      # source hydrography data, should correspond to hydrography_fn in setup_basemaps\n",
      "  river_geom_fn: hydro_rivers_lin # river source data with river width and bankfull discharge\n",
      "  river_upa: 30               # minimum upstream area threshold for the river map [km2]\n",
      "  rivdph_method: powlaw           # method to estimate depth {'powlaw', 'manning', 'gvf'}\n",
      "  min_rivdph: 1                # minimum river depth [m]\n",
      "  min_rivwth: 30               # minimum river width [m]\n",
      "  slope_len: 2000             # length over which tp calculate river slope [m]\n",
      "  smooth_len: 5000             # length over which to smooth river depth and river width [m]\n",
      "\n",
      "setup_reservoirs:\n",
      "  reservoirs_fn: hydro_reservoirs  # source for reservoirs shape and attributes\n",
      "  timeseries_fn: gww           # additionnal source for reservoir are timeseries to compute reservoirs, Either 'gww' using gwwapi or 'jrc' using hydroengine.\n",
      "  min_area: 1.0           # minimum lake area to consider [km2]\n",
      "\n",
      "setup_lakes:\n",
      "  lakes_fn: hydro_lakes      # source for lakes based on hydroLAKES: {hydro_lakes}\n",
      "  min_area: 1.0              # minimum reservoir area to consider [km2]\n",
      "\n",
      "setup_riverbedsed:\n",
      "\n",
      "setup_lulcmaps:\n",
      "  lulc_fn: globcover_2009        # source for lulc maps: {globcover, vito, corine}\n",
      "  lulc_mapping_fn: globcover_mapping_default  # default mapping for lulc classes\n",
      "\n",
      "setup_laimaps:\n",
      "  lai_fn: modis_lai        # source for LAI: {modis_lai}\n",
      "\n",
      "setup_canopymaps:\n",
      "  canopy_fn: simard           # source for vegetation canopy height: {simard}\n",
      "\n",
      "setup_soilmaps:\n",
      "  soil_fn: soilgrids        # source for soilmaps: {soilgrids}\n",
      "  usleK_method: renard           # method to compute the USLE K factor: {renard, epic}\n",
      "\n",
      "setup_outlets:\n",
      "  river_only: True\n",
      "\n",
      "setup_gauges:\n",
      "  gauges_fn: grdc             # If not None add gaugemap. Either a path or known gauges_fn: {grdc}\n",
      "  snap_to_river: True             # If True snaps gauges from source to river\n",
      "  derive_subcatch: False            # if True derive subcatch map based on gauges.\n",
      "\n",
      "setup_constant_pars:             # constant parameters values\n",
      "  c_Bagnold: 0.0000175\n",
      "  eros_expo: 1.5\n",
      "  eros_ov: 0.9\n",
      "  eros_spl_EUROSEM: 2.0\n",
      "  exp_Bagnold: 1.4\n",
      "  ResTrapEff: 1.0\n",
      "\n"
     ]
    }
   ],
   "source": [
    "fn_config = \"wflow_sediment_build.yml\"\n",
    "with open(fn_config, \"r\") as f:\n",
    "    txt = f.read()\n",
    "print(txt)"
   ]
  },
  {
   "cell_type": "markdown",
   "id": "12860ed2",
   "metadata": {},
   "source": [
    "### Setup Wflow Sediment model from scratch"
   ]
  },
  {
   "cell_type": "code",
   "execution_count": 4,
   "id": "hundred-trailer",
   "metadata": {
    "execution": {
     "iopub.execute_input": "2025-04-09T14:14:08.347758Z",
     "iopub.status.busy": "2025-04-09T14:14:08.347758Z",
     "iopub.status.idle": "2025-04-09T14:14:42.783850Z",
     "shell.execute_reply": "2025-04-09T14:14:42.782874Z"
    },
    "scrolled": true
   },
   "outputs": [
    {
     "name": "stdout",
     "output_type": "stream",
     "text": [
      "2025-04-09 16:14:11,707 - build - log - DEBUG - Writing log messages to new file C:\\code\\py_dev\\hydromt_wflow\\docs\\_examples\\wflow_test_sediment\\hydromt.log.\n",
      "2025-04-09 16:14:11,707 - build - log - INFO - HydroMT version: 0.10.1\n",
      "2025-04-09 16:14:11,707 - build - main - INFO - Building instance of wflow_sediment model at C:\\code\\py_dev\\hydromt_wflow\\docs\\_examples\\wflow_test_sediment.\n",
      "2025-04-09 16:14:11,707 - build - main - INFO - User settings:\n",
      "2025-04-09 16:14:12,131 - build - data_catalog - INFO - Reading data catalog artifact_data latest\n",
      "2025-04-09 16:14:12,131 - build - data_catalog - INFO - Parsing data catalog from C:\\Users\\dalmijn\\.hydromt_data\\artifact_data\\v0.0.9\\data_catalog.yml\n",
      "2025-04-09 16:14:12,743 - build - model_api - INFO - Initializing wflow_sediment model from hydromt_wflow (v0.8.0).\n",
      "2025-04-09 16:14:12,748 - build - data_catalog - INFO - Parsing data catalog from C:\\code\\py_dev\\hydromt_wflow\\hydromt_wflow\\data\\parameters_data.yml\n",
      "2025-04-09 16:14:12,758 - build - model_api - DEBUG - Setting model config options.\n",
      "2025-04-09 16:14:12,771 - build - model_api - DEBUG - Default config read from C:\\code\\py_dev\\hydromt_wflow\\hydromt_wflow\\data\\wflow_sediment\\wflow_sediment.toml\n",
      "2025-04-09 16:14:12,771 - build - model_api - INFO - setup_basemaps.region: {'subbasin': [12.2051, 45.8331], 'strord': 4, 'bounds': [11.7, 45.35, 12.95, 46.7]}\n",
      "2025-04-09 16:14:12,771 - build - model_api - INFO - setup_basemaps.hydrography_fn: merit_hydro\n",
      "2025-04-09 16:14:12,771 - build - model_api - INFO - setup_basemaps.basin_index_fn: merit_hydro_index\n",
      "2025-04-09 16:14:12,771 - build - model_api - INFO - setup_basemaps.res: 0.00833\n",
      "2025-04-09 16:14:12,771 - build - model_api - INFO - setup_basemaps.upscale_method: ihu\n",
      "2025-04-09 16:14:12,771 - build - wflow - INFO - Preparing base hydrography basemaps.\n",
      "2025-04-09 16:14:12,771 - build - rasterdataset - INFO - Reading merit_hydro raster data from C:\\Users\\dalmijn\\.hydromt_data\\artifact_data\\v0.0.9\\data.tar\\merit_hydro\\{variable}.tif\n",
      "2025-04-09 16:14:12,894 - build - basin_mask - DEBUG - Parsed region (kind=subbasin): {'strord': 4, 'bounds': [11.7, 45.35, 12.95, 46.7], 'xy': [12.2051, 45.8331]}\n",
      "2025-04-09 16:14:16,137 - build - basin_mask - INFO - subbasin bbox: [11.7750, 45.8042, 12.7450, 46.6900]\n",
      "2025-04-09 16:14:16,201 - build - wflow - DEBUG - Adding basins vector to geoms.\n",
      "2025-04-09 16:14:16,201 - build - basemaps - DEBUG - Mask in dataset assumed to represent subbasins.\n",
      "2025-04-09 16:14:16,201 - build - basemaps - DEBUG - (Sub)basin at original resolution has 664756 cells.\n",
      "2025-04-09 16:14:16,287 - build - basemaps - DEBUG - Burn subbasin outlet in upstream area data.\n",
      "2025-04-09 16:14:16,346 - build - basemaps - INFO - Upscale flow direction data: 10x, ihu method.\n",
      "2025-04-09 16:14:30,197 - build - basemaps - DEBUG - Derive stream order.\n",
      "2025-04-09 16:14:30,453 - build - basemaps - DEBUG - Map shape: (106, 116); active cells: 6637.\n",
      "2025-04-09 16:14:30,453 - build - basemaps - DEBUG - Outlet coordinates (1/1): (12.20750,45.83583).\n",
      "2025-04-09 16:14:30,632 - build - wflow - DEBUG - Adding region vector to geoms.\n",
      "2025-04-09 16:14:30,635 - build - model_api - INFO - setup_rivers.args: ()\n",
      "2025-04-09 16:14:30,635 - build - model_api - INFO - setup_rivers.hydrography_fn: merit_hydro\n",
      "2025-04-09 16:14:30,635 - build - model_api - INFO - setup_rivers.river_geom_fn: hydro_rivers_lin\n",
      "2025-04-09 16:14:30,635 - build - model_api - INFO - setup_rivers.river_upa: 30\n",
      "2025-04-09 16:14:30,635 - build - model_api - INFO - setup_rivers.rivdph_method: powlaw\n",
      "2025-04-09 16:14:30,635 - build - model_api - INFO - setup_rivers.min_rivdph: 1\n",
      "2025-04-09 16:14:30,635 - build - model_api - INFO - setup_rivers.min_rivwth: 30\n",
      "2025-04-09 16:14:30,635 - build - model_api - INFO - setup_rivers.slope_len: 2000\n",
      "2025-04-09 16:14:30,635 - build - model_api - INFO - setup_rivers.smooth_len: 5000\n",
      "2025-04-09 16:14:30,635 - build - wflow - INFO - Preparing river maps.\n",
      "2025-04-09 16:14:30,637 - build - rasterdataset - INFO - Reading merit_hydro raster data from C:\\Users\\dalmijn\\.hydromt_data\\artifact_data\\v0.0.9\\data.tar\\merit_hydro\\{variable}.tif\n",
      "2025-04-09 16:14:30,717 - build - rasterdataset - DEBUG - Clip to [11.778, 45.807, 12.745, 46.690] (epsg:4326))\n",
      "2025-04-09 16:14:30,727 - build - river - DEBUG - Set river mask (min uparea: 30 km2) and prepare flow dirs.\n",
      "2025-04-09 16:14:30,916 - build - river - DEBUG - Derive river length.\n",
      "2025-04-09 16:14:33,952 - build - river - DEBUG - Derive river slope.\n",
      "2025-04-09 16:14:34,667 - build - river - DEBUG - Derive rivwth from hydrography dataset.\n",
      "2025-04-09 16:14:34,700 - build - dataframe - INFO - Reading roughness_river_mapping_default csv data from C:\\code\\py_dev\\hydromt_wflow\\hydromt_wflow\\data\\wflow\\N_river_mapping.csv\n",
      "2025-04-09 16:14:34,707 - build - landuse - INFO - Deriving N_River using average resampling (nodata=-999.0).\n",
      "2025-04-09 16:14:34,713 - build - geodataframe - INFO - Reading hydro_rivers_lin vector data from C:\\Users\\dalmijn\\.hydromt_data\\artifact_data\\v0.0.9\\data.tar\\rivers_lin2019_v1.gpkg\n",
      "2025-04-09 16:14:34,722 - build - geodataframe - DEBUG - Clip intersects [11.778, 45.807, 12.745, 46.690] (EPSG:4326)\n",
      "2025-04-09 16:14:34,942 - build - river - DEBUG - Derive ['rivwth', 'qbankfull'] from shapefile.\n",
      "2025-04-09 16:14:34,985 - build - river - DEBUG - Valid for 381/655 river cells (max dist: 392 m).\n",
      "2025-04-09 16:14:38,201 - build - wflow - DEBUG - Adding rivers vector to geoms.\n",
      "2025-04-09 16:14:39,036 - build - model_api - INFO - setup_reservoirs.reservoirs_fn: hydro_reservoirs\n",
      "2025-04-09 16:14:39,036 - build - model_api - INFO - setup_reservoirs.timeseries_fn: gww\n",
      "2025-04-09 16:14:39,036 - build - model_api - INFO - setup_reservoirs.min_area: 1.0\n",
      "2025-04-09 16:14:39,036 - build - wflow - INFO - Preparing reservoir maps.\n",
      "2025-04-09 16:14:39,036 - build - geodataframe - INFO - Reading hydro_reservoirs vector data from C:\\Users\\dalmijn\\.hydromt_data\\artifact_data\\v0.0.9\\data.tar\\hydro_reservoirs.gpkg\n",
      "2025-04-09 16:14:39,051 - build - geodataframe - DEBUG - Clip contains [11.775, 45.804, 12.745, 46.690] (EPSG:4326)\n",
      "2025-04-09 16:14:39,051 - build - geodataframe - DEBUG - Convert units for 5 columns.\n",
      "2025-04-09 16:14:39,051 - build - wflow - WARNING - No reservoirs of sufficient size found within region! Skipping reservoir procedures!\n",
      "2025-04-09 16:14:39,051 - build - wflow - INFO - Skipping method, as no data has been found\n",
      "2025-04-09 16:14:39,051 - build - model_api - INFO - setup_lakes.lakes_fn: hydro_lakes\n",
      "2025-04-09 16:14:39,051 - build - model_api - INFO - setup_lakes.min_area: 1.0\n",
      "2025-04-09 16:14:39,051 - build - wflow - INFO - Preparing lake maps.\n",
      "2025-04-09 16:14:39,051 - build - geodataframe - INFO - Reading hydro_lakes vector data from C:\\Users\\dalmijn\\.hydromt_data\\artifact_data\\v0.0.9\\data.tar\\hydro_lakes.gpkg\n",
      "2025-04-09 16:14:39,066 - build - geodataframe - DEBUG - Clip contains [11.775, 45.804, 12.745, 46.690] (EPSG:4326)\n",
      "2025-04-09 16:14:39,066 - build - geodataframe - DEBUG - Convert units for 1 columns.\n",
      "2025-04-09 16:14:39,066 - build - wflow - INFO - 1 lake(s) of sufficient size found within region.\n",
      "2025-04-09 16:14:39,073 - build - waterbodies - DEBUG - Setting lake outlet map based maximum upstream area.\n",
      "2025-04-09 16:14:39,081 - build - wflow - INFO - No rating curve data provided. Using default storage/outflow function parameters.\n",
      "2025-04-09 16:14:39,118 - build - model_api - INFO - setup_riverbedsed.bedsed_mapping_fn: None\n",
      "2025-04-09 16:14:39,118 - build - wflow_sediment - INFO - Preparing riverbedsed parameter maps.\n",
      "2025-04-09 16:14:39,121 - build - dataframe - INFO - Reading riverbedsed_mapping_default csv data from C:\\code\\py_dev\\hydromt_wflow\\hydromt_wflow\\data\\wflow_sediment\\riverbedsed_mapping.csv\n",
      "2025-04-09 16:14:39,127 - build - landuse - INFO - Deriving D50_River using average resampling (nodata=-999.0).\n",
      "2025-04-09 16:14:39,131 - build - landuse - INFO - Deriving ClayF_River using average resampling (nodata=-999.0).\n",
      "2025-04-09 16:14:39,141 - build - landuse - INFO - Deriving SiltF_River using average resampling (nodata=-999.0).\n",
      "2025-04-09 16:14:39,146 - build - landuse - INFO - Deriving SandF_River using average resampling (nodata=-999.0).\n",
      "2025-04-09 16:14:39,150 - build - landuse - INFO - Deriving GravelF_River using average resampling (nodata=-999.0).\n",
      "2025-04-09 16:14:39,156 - build - model_api - INFO - setup_lulcmaps.lulc_fn: globcover_2009\n",
      "2025-04-09 16:14:39,156 - build - model_api - INFO - setup_lulcmaps.lulc_mapping_fn: globcover_mapping_default\n",
      "2025-04-09 16:14:39,156 - build - model_api - INFO - setup_lulcmaps.planted_forest_fn: None\n",
      "2025-04-09 16:14:39,156 - build - model_api - INFO - setup_lulcmaps.lulc_vars: ['landuse', 'Kext', 'PathFrac', 'Sl', 'Swood', 'USLE_C']\n",
      "2025-04-09 16:14:39,156 - build - model_api - INFO - setup_lulcmaps.planted_forest_c: 0.0881\n",
      "2025-04-09 16:14:39,156 - build - model_api - INFO - setup_lulcmaps.orchard_name: Orchard\n",
      "2025-04-09 16:14:39,158 - build - model_api - INFO - setup_lulcmaps.orchard_c: 0.2188\n",
      "2025-04-09 16:14:39,158 - build - wflow - INFO - Preparing LULC parameter maps.\n",
      "2025-04-09 16:14:39,158 - build - rasterdataset - INFO - Reading globcover_2009 raster data from C:\\Users\\dalmijn\\.hydromt_data\\artifact_data\\v0.0.9\\data.tar\\globcover.tif\n",
      "2025-04-09 16:14:39,167 - build - rasterdataset - DEBUG - Clip to [11.778, 45.807, 12.745, 46.690] (epsg:4326))\n",
      "2025-04-09 16:14:39,167 - build - dataframe - INFO - Reading globcover_mapping_default csv data from C:\\code\\py_dev\\hydromt_wflow\\hydromt_wflow\\data\\lulc\\globcover_mapping.csv\n",
      "2025-04-09 16:14:39,178 - build - landuse - INFO - Deriving landuse using nearest resampling (nodata=230).\n",
      "2025-04-09 16:14:39,196 - build - landuse - INFO - Deriving Kext using average resampling (nodata=-999.0).\n",
      "2025-04-09 16:14:39,219 - build - landuse - INFO - Deriving PathFrac using average resampling (nodata=-999.0).\n",
      "2025-04-09 16:14:39,236 - build - landuse - INFO - Deriving Sl using average resampling (nodata=-999.0).\n",
      "2025-04-09 16:14:39,251 - build - landuse - INFO - Deriving Swood using average resampling (nodata=-999.0).\n",
      "2025-04-09 16:14:39,264 - build - landuse - INFO - Deriving USLE_C using average resampling (nodata=-999.0).\n",
      "2025-04-09 16:14:39,295 - build - model_api - INFO - setup_laimaps.lai_fn: modis_lai\n",
      "2025-04-09 16:14:39,295 - build - model_api - INFO - setup_laimaps.lulc_fn: None\n",
      "2025-04-09 16:14:39,295 - build - model_api - INFO - setup_laimaps.lulc_sampling_method: any\n",
      "2025-04-09 16:14:39,295 - build - model_api - INFO - setup_laimaps.lulc_zero_classes: []\n",
      "2025-04-09 16:14:39,295 - build - model_api - INFO - setup_laimaps.buffer: 2\n",
      "2025-04-09 16:14:39,295 - build - wflow - INFO - Preparing LAI maps.\n",
      "2025-04-09 16:14:39,297 - build - rasterdataset - INFO - Reading modis_lai netcdf data from C:\\Users\\dalmijn\\.hydromt_data\\artifact_data\\v0.0.9\\data.tar\\modis_lai.nc\n",
      "2025-04-09 16:14:39,816 - build - rasterdataset - DEBUG - Clip to [11.778, 45.807, 12.745, 46.690] (epsg:4326))\n",
      "2025-04-09 16:14:39,821 - build - rasterdataset - DEBUG - Convert units for 1 variables.\n",
      "2025-04-09 16:14:39,828 - build - landuse - INFO - Deriving LAI using average resampling (nodata=nan).\n",
      "2025-04-09 16:14:39,961 - build - model_api - INFO - setup_canopymaps.canopy_fn: simard\n",
      "2025-04-09 16:14:39,961 - build - wflow_sediment - INFO - Preparing canopy height map.\n",
      "2025-04-09 16:14:39,964 - build - rasterdataset - INFO - Reading simard raster data from C:\\Users\\dalmijn\\.hydromt_data\\artifact_data\\v0.0.9\\data.tar\\simard.tif\n",
      "2025-04-09 16:14:39,976 - build - rasterdataset - DEBUG - Clip to [11.778, 45.807, 12.745, 46.690] (epsg:4326))\n",
      "2025-04-09 16:14:40,011 - build - model_api - INFO - setup_soilmaps.soil_fn: soilgrids\n",
      "2025-04-09 16:14:40,011 - build - model_api - INFO - setup_soilmaps.usleK_method: renard\n",
      "2025-04-09 16:14:40,011 - build - wflow_sediment - INFO - Preparing soil parameter maps.\n",
      "2025-04-09 16:14:40,011 - build - rasterdataset - INFO - Reading soilgrids raster data from C:\\Users\\dalmijn\\.hydromt_data\\artifact_data\\v0.0.9\\data.tar\\soilgrids\\{variable}.tif\n",
      "2025-04-09 16:14:40,383 - build - rasterdataset - DEBUG - Clip to [11.778, 45.807, 12.745, 46.690] (epsg:4326))\n",
      "2025-04-09 16:14:40,394 - build - rasterdataset - DEBUG - Convert units for 21 variables.\n",
      "2025-04-09 16:14:40,875 - build - soilgrids - INFO - Interpolate NAN values for PercentClay\n",
      "2025-04-09 16:14:40,912 - build - soilgrids - INFO - Interpolate NAN values for PercentSilt\n",
      "2025-04-09 16:14:40,941 - build - soilgrids - INFO - Interpolate NAN values for PercentOC\n",
      "2025-04-09 16:14:40,981 - build - soilgrids - INFO - Interpolate NAN values for ErosK\n",
      "2025-04-09 16:14:41,011 - build - soilgrids - INFO - Interpolate NAN values for USLE_K\n",
      "2025-04-09 16:14:41,016 - build - model_api - INFO - setup_outlets.river_only: True\n",
      "2025-04-09 16:14:41,016 - build - model_api - INFO - setup_outlets.toml_output: csv\n",
      "2025-04-09 16:14:41,016 - build - model_api - INFO - setup_outlets.gauge_toml_header: ['TSS']\n",
      "2025-04-09 16:14:41,016 - build - model_api - INFO - setup_outlets.gauge_toml_param: ['lateral.river.SSconc']\n",
      "2025-04-09 16:14:41,016 - build - wflow - INFO - Gauges locations set based on river outlets.\n",
      "2025-04-09 16:14:41,021 - build - wflow - INFO - Gauges map based on catchment river outlets added.\n",
      "2025-04-09 16:14:41,021 - build - wflow - INFO - Adding ['lateral.river.SSconc'] to csv section of toml.\n",
      "2025-04-09 16:14:41,021 - build - model_api - INFO - setup_gauges.gauges_fn: grdc\n",
      "2025-04-09 16:14:41,021 - build - model_api - INFO - setup_gauges.index_col: None\n",
      "2025-04-09 16:14:41,021 - build - model_api - INFO - setup_gauges.snap_to_river: True\n",
      "2025-04-09 16:14:41,021 - build - model_api - INFO - setup_gauges.mask: None\n",
      "2025-04-09 16:14:41,021 - build - model_api - INFO - setup_gauges.snap_uparea: False\n",
      "2025-04-09 16:14:41,021 - build - model_api - INFO - setup_gauges.max_dist: 10000.0\n",
      "2025-04-09 16:14:41,021 - build - model_api - INFO - setup_gauges.wdw: 3\n",
      "2025-04-09 16:14:41,021 - build - model_api - INFO - setup_gauges.rel_error: 0.05\n",
      "2025-04-09 16:14:41,023 - build - model_api - INFO - setup_gauges.abs_error: 50.0\n",
      "2025-04-09 16:14:41,023 - build - model_api - INFO - setup_gauges.fillna: False\n",
      "2025-04-09 16:14:41,023 - build - model_api - INFO - setup_gauges.derive_subcatch: False\n",
      "2025-04-09 16:14:41,023 - build - model_api - INFO - setup_gauges.basename: None\n",
      "2025-04-09 16:14:41,023 - build - model_api - INFO - setup_gauges.toml_output: csv\n",
      "2025-04-09 16:14:41,023 - build - model_api - INFO - setup_gauges.gauge_toml_header: ['Q', 'TSS']\n",
      "2025-04-09 16:14:41,023 - build - model_api - INFO - setup_gauges.gauge_toml_param: ['lateral.river.q_riv', 'lateral.river.SSconc']\n",
      "2025-04-09 16:14:41,023 - build - geodataframe - INFO - Reading grdc csv data from C:\\Users\\dalmijn\\.hydromt_data\\artifact_data\\v0.0.9\\data.tar\\grdc.csv\n",
      "2025-04-09 16:14:41,027 - build - geodataframe - DEBUG - Clip intersects [11.778, 45.807, 12.745, 46.690] (EPSG:4326)\n",
      "2025-04-09 16:14:41,027 - build - wflow - INFO - 3 grdc gauge locations found within domain\n",
      "2025-04-09 16:14:41,451 - build - wflow - INFO - Adding ['lateral.river.q_riv', 'lateral.river.SSconc'] to csv section of toml.\n",
      "2025-04-09 16:14:41,451 - build - model_api - INFO - setup_constant_pars.dtype: float32\n",
      "2025-04-09 16:14:41,451 - build - model_api - INFO - setup_constant_pars.nodata: -999\n",
      "2025-04-09 16:14:41,451 - build - model_api - INFO - setup_constant_pars.c_Bagnold: 1.75e-05\n",
      "2025-04-09 16:14:41,451 - build - model_api - INFO - setup_constant_pars.eros_expo: 1.5\n",
      "2025-04-09 16:14:41,451 - build - model_api - INFO - setup_constant_pars.eros_ov: 0.9\n",
      "2025-04-09 16:14:41,453 - build - model_api - INFO - setup_constant_pars.eros_spl_EUROSEM: 2.0\n",
      "2025-04-09 16:14:41,453 - build - model_api - INFO - setup_constant_pars.exp_Bagnold: 1.4\n",
      "2025-04-09 16:14:41,453 - build - model_api - INFO - setup_constant_pars.ResTrapEff: 1.0\n",
      "2025-04-09 16:14:41,461 - build - wflow - INFO - Write model data to C:\\code\\py_dev\\hydromt_wflow\\docs\\_examples\\wflow_test_sediment\n",
      "2025-04-09 16:14:41,493 - build - wflow - INFO - Write grid to C:\\code\\py_dev\\hydromt_wflow\\docs\\_examples\\wflow_test_sediment\\staticmaps.nc\n",
      "2025-04-09 16:14:41,734 - build - wflow - INFO - Writing model staticgeom to file.\n",
      "2025-04-09 16:14:41,853 - build - wflow - INFO - Writing model config to C:\\code\\py_dev\\hydromt_wflow\\docs\\_examples\\wflow_test_sediment\\wflow_sediment.toml\n"
     ]
    }
   ],
   "source": [
    "# NOTE: copy this line (without !) to your shell for more direct feedback\n",
    "# NOTE: as of hydromt version 0.7.0 the region argument is optional and should be preceded by -r or --region\n",
    "# NOTE: the resolution argument has been removed since hydromt v0.7.0 and can now only be configured from the configuration file under the setup_basemap header\n",
    "!hydromt build wflow_sediment \"./wflow_test_sediment\" -r \"{'subbasin': [12.2051, 45.8331], 'strord': 4, 'bounds': [11.70, 45.35, 12.95, 46.70]}\" -i wflow_sediment_build.yml -d artifact_data -vv"
   ]
  },
  {
   "attachments": {},
   "cell_type": "markdown",
   "id": "b31e92d2",
   "metadata": {},
   "source": [
    "The example above means the following: run **hydromt build** with:\n",
    "\n",
    "* `wflow_sediment` : i.e. build a wflow sediment model\n",
    "* `./wflow_test_sediment` : output model folder\n",
    "* `-r \"{'subbasin': [12.2051, 45.8331], 'strord': 4, 'bounds': [11.70, 45.35, 12.95, 46.70]}\"` : derive a subbasin with its outlet at the given x,y coordinates and within the given bounds [xmin, ymin, xmax, ymax] (WGS84) snapped to a river with minimum stream order (strord) of 4. All *REGION* options are described in the [docs](https://deltares.github.io/hydromt/latest/user_guide/model_region)\n",
    "* `-i wflow_sediment_build.yml` : model setup configuration file\n",
    "* `-d artifact_data` : use pre-defined artifact_data catalog.\n",
    "* `-vv` : give some extra verbosity (2 * v) to display feedback on screen. Now debug messages are provided.\n"
   ]
  },
  {
   "cell_type": "markdown",
   "id": "2eed76e4",
   "metadata": {},
   "source": [
    "Next we check which files have been created. The model root should contain two netcdf (.nc) files, one for the staticmaps and one for the forcing data, a wflow run configuration (.toml) file. These files are sufficient to run the wflow sediment model. In addition several geometry (.geojson) files are saved in the *staticgeoms* folder.  Finally, the setup process is logged in the hydromt.log file. "
   ]
  },
  {
   "cell_type": "code",
   "execution_count": 5,
   "id": "wireless-style",
   "metadata": {
    "execution": {
     "iopub.execute_input": "2025-04-09T14:14:42.785311Z",
     "iopub.status.busy": "2025-04-09T14:14:42.785311Z",
     "iopub.status.idle": "2025-04-09T14:14:42.793437Z",
     "shell.execute_reply": "2025-04-09T14:14:42.793437Z"
    }
   },
   "outputs": [
    {
     "name": "stdout",
     "output_type": "stream",
     "text": [
      "wflow_test_sediment\n",
      " - hydromt.log\n",
      " - hydromt_data.yml\n",
      " - staticmaps.nc\n",
      " - wflow_sediment.toml\n",
      "wflow_test_sediment\\instate\n",
      "wflow_test_sediment\\run_default\n",
      "wflow_test_sediment\\staticgeoms\n",
      " - basins.geojson\n",
      " - basins_highres.geojson\n",
      " - gauges.geojson\n",
      " - gauges_grdc.geojson\n",
      " - lakes.geojson\n",
      " - region.geojson\n",
      " - rivers.geojson\n"
     ]
    }
   ],
   "source": [
    "import os\n",
    "\n",
    "root = \"wflow_test_sediment\"\n",
    "for path, _, files in os.walk(root):\n",
    "    print(path)\n",
    "    for name in files:\n",
    "        if name.endswith(\".xml\"):\n",
    "            continue\n",
    "        print(f\" - {name}\")"
   ]
  },
  {
   "cell_type": "markdown",
   "id": "adef7fa1",
   "metadata": {},
   "source": [
    "### Visualize and/or inspect model schematization"
   ]
  },
  {
   "cell_type": "markdown",
   "id": "20ce9df3",
   "metadata": {},
   "source": [
    "You can (copy and) adapt the following example notebooks in order to visualize your Wflow Sediment model: \n",
    "\n",
    "* The **wflow plot** example notebook contains scripts to visualize your model\n",
    "* The **wflow nc to raster files** example notebook contains scripts to write the nc model files to a netcdf which can be used to inspect (and modify) the model layers in e.g. QGIS."
   ]
  },
  {
   "cell_type": "markdown",
   "id": "01f1186a",
   "metadata": {},
   "source": [
    "### Add Wflow Sediment layers to an existing Wflow model"
   ]
  },
  {
   "cell_type": "markdown",
   "id": "6ca56c32",
   "metadata": {},
   "source": [
    "If you already have a hydrological **Wflow** model and you want to extend it in order to include **sediment** as well, then you do not need to build the wflow_sediment from scratch. You can instead **update** the wflow model with the additional components needed by wflow_sediment. \n",
    "\n",
    "These components are available in the template **wflow_extend_sediment.yml**:"
   ]
  },
  {
   "cell_type": "code",
   "execution_count": 6,
   "id": "fd79d798",
   "metadata": {
    "execution": {
     "iopub.execute_input": "2025-04-09T14:14:42.796675Z",
     "iopub.status.busy": "2025-04-09T14:14:42.796675Z",
     "iopub.status.idle": "2025-04-09T14:14:42.804521Z",
     "shell.execute_reply": "2025-04-09T14:14:42.804521Z"
    }
   },
   "outputs": [
    {
     "name": "stdout",
     "output_type": "stream",
     "text": [
      "setup_config: # options parsed to wflow toml file <section>.<option>\n",
      "  starttime: 2010-02-02T00:00:00\n",
      "  endtime: 2010-02-10T00:00:00\n",
      "  timestepsecs: 86400\n",
      "  input.path_forcing: inmaps-era5-2010.nc\n",
      "#   model.dolake: True               # uncomment if there are lakes in the wflow model\n",
      "#   model.doreservoir: True          # uncomment if there are reservoirs in the wflow model\n",
      "\n",
      "setup_riverbedsed:\n",
      "  bedsed_mapping_fn:       # path to a mapping csv file from streamorder to river bed particles characteristics if any, else default is used\n",
      "\n",
      "setup_lulcmaps:\n",
      "  lulc_fn: globcover_2009        # source for lulc maps: {globcover, vito, corine}\n",
      "  lulc_mapping_fn: globcover_mapping_default  # default mapping for lulc classes\n",
      "\n",
      "setup_canopymaps:\n",
      "  canopy_fn: simard           # source for vegetation canopy height: {simard}\n",
      "\n",
      "setup_soilmaps:\n",
      "  soil_fn: soilgrids        # source for soilmaps: {soilgrids}\n",
      "  usleK_method: renard           # method to compute the USLE K factor: {renard, epic}\n",
      "\n",
      "setup_gauges:\n",
      "  gauges_fn: grdc             # If not None add gaugemap. Either a path or known gauges_fn: {grdc}\n",
      "  snap_to_river: True             # If True snaps gauges from source to river\n",
      "  derive_subcatch: False            # if True derive subcatch map based on gauges.\n",
      "\n",
      "setup_constant_pars:               # constant parameters values\n",
      "  c_Bagnold: 0.0000175\n",
      "  eros_expo: 1.5\n",
      "  eros_ov: 0.9\n",
      "  eros_spl_EUROSEM: 2.0\n",
      "  exp_Bagnold: 1.4\n",
      "  ResTrapEff: 1.0\n",
      "\n"
     ]
    }
   ],
   "source": [
    "fn_config = \"wflow_extend_sediment.yml\"\n",
    "with open(fn_config, \"r\") as f:\n",
    "    txt = f.read()\n",
    "print(txt)"
   ]
  },
  {
   "cell_type": "markdown",
   "id": "7bd19d2b",
   "metadata": {},
   "source": [
    "Let's update the hydrological **Wflow** model available from our example for the Piave subbasin:"
   ]
  },
  {
   "cell_type": "code",
   "execution_count": 7,
   "id": "12142c2c",
   "metadata": {
    "execution": {
     "iopub.execute_input": "2025-04-09T14:14:42.806545Z",
     "iopub.status.busy": "2025-04-09T14:14:42.806545Z",
     "iopub.status.idle": "2025-04-09T14:14:52.488537Z",
     "shell.execute_reply": "2025-04-09T14:14:52.488537Z"
    }
   },
   "outputs": [
    {
     "name": "stdout",
     "output_type": "stream",
     "text": [
      "2025-04-09 16:14:46,305 - update - log - DEBUG - Writing log messages to new file C:\\code\\py_dev\\hydromt_wflow\\docs\\_examples\\wflow_test_extend_sediment\\hydromt.log.\n",
      "2025-04-09 16:14:46,305 - update - log - INFO - HydroMT version: 0.10.1\n",
      "2025-04-09 16:14:46,305 - update - main - INFO - Updating wflow_sediment model at C:\\code\\py_dev\\hydromt_wflow\\docs\\_examples\\wflow_piave_subbasin (r).\n",
      "2025-04-09 16:14:46,305 - update - main - INFO - Output dir: C:\\code\\py_dev\\hydromt_wflow\\docs\\_examples\\wflow_test_extend_sediment\n",
      "2025-04-09 16:14:46,305 - update - main - INFO - User settings:\n",
      "2025-04-09 16:14:46,777 - update - data_catalog - INFO - Reading data catalog artifact_data latest\n",
      "2025-04-09 16:14:46,779 - update - data_catalog - INFO - Parsing data catalog from C:\\Users\\dalmijn\\.hydromt_data\\artifact_data\\v0.0.9\\data_catalog.yml\n",
      "2025-04-09 16:14:47,378 - update - log - DEBUG - Appending log messages to file C:\\code\\py_dev\\hydromt_wflow\\docs\\_examples\\wflow_piave_subbasin\\hydromt.log.\n",
      "2025-04-09 16:14:47,378 - update - model_api - INFO - Initializing wflow_sediment model from hydromt_wflow (v0.8.0).\n",
      "2025-04-09 16:14:47,378 - update - data_catalog - INFO - Parsing data catalog from C:\\code\\py_dev\\hydromt_wflow\\hydromt_wflow\\data\\parameters_data.yml\n",
      "2025-04-09 16:14:47,396 - update - model_api - ERROR - Model config file not found at C:\\code\\py_dev\\hydromt_wflow\\docs\\_examples\\wflow_piave_subbasin\\wflow_sediment.toml\n",
      "2025-04-09 16:14:47,396 - update - wflow - INFO - Read grid from C:\\code\\py_dev\\hydromt_wflow\\docs\\_examples\\wflow_piave_subbasin\\staticmaps.nc\n",
      "2025-04-09 16:14:47,771 - update - wflow - INFO - Reading model staticgeom files.\n",
      "2025-04-09 16:14:47,835 - update - wflow - INFO - Read forcing from C:\\code\\py_dev\\hydromt_wflow\\docs\\_examples\\wflow_piave_subbasin\\inmaps.nc\n",
      "2025-04-09 16:14:47,862 - update - wflow - INFO - Reading model intbl files.\n",
      "2025-04-09 16:14:47,862 - update - wflow - INFO - Reading model table files.\n",
      "2025-04-09 16:14:47,862 - update - wflow - INFO - Model read\n",
      "2025-04-09 16:14:47,862 - update - log - DEBUG - Appending log messages to file C:\\code\\py_dev\\hydromt_wflow\\docs\\_examples\\wflow_test_extend_sediment\\hydromt.log.\n",
      "2025-04-09 16:14:47,867 - update - model_api - DEBUG - Setting model config options.\n",
      "2025-04-09 16:14:47,867 - update - model_api - INFO - setup_riverbedsed.bedsed_mapping_fn: None\n",
      "2025-04-09 16:14:47,867 - update - wflow_sediment - INFO - Preparing riverbedsed parameter maps.\n",
      "2025-04-09 16:14:47,869 - update - dataframe - INFO - Reading riverbedsed_mapping_default csv data from C:\\code\\py_dev\\hydromt_wflow\\hydromt_wflow\\data\\wflow_sediment\\riverbedsed_mapping.csv\n",
      "2025-04-09 16:14:47,877 - update - landuse - INFO - Deriving D50_River using average resampling (nodata=-999.0).\n",
      "2025-04-09 16:14:47,881 - update - landuse - INFO - Deriving ClayF_River using average resampling (nodata=-999.0).\n",
      "2025-04-09 16:14:47,884 - update - landuse - INFO - Deriving SiltF_River using average resampling (nodata=-999.0).\n",
      "2025-04-09 16:14:47,888 - update - landuse - INFO - Deriving SandF_River using average resampling (nodata=-999.0).\n",
      "2025-04-09 16:14:47,893 - update - landuse - INFO - Deriving GravelF_River using average resampling (nodata=-999.0).\n",
      "2025-04-09 16:14:47,903 - update - model_api - INFO - setup_lulcmaps.lulc_fn: globcover_2009\n",
      "2025-04-09 16:14:47,903 - update - model_api - INFO - setup_lulcmaps.lulc_mapping_fn: globcover_mapping_default\n",
      "2025-04-09 16:14:47,903 - update - model_api - INFO - setup_lulcmaps.planted_forest_fn: None\n",
      "2025-04-09 16:14:47,903 - update - model_api - INFO - setup_lulcmaps.lulc_vars: ['landuse', 'Kext', 'PathFrac', 'Sl', 'Swood', 'USLE_C']\n",
      "2025-04-09 16:14:47,903 - update - model_api - INFO - setup_lulcmaps.planted_forest_c: 0.0881\n",
      "2025-04-09 16:14:47,903 - update - model_api - INFO - setup_lulcmaps.orchard_name: Orchard\n",
      "2025-04-09 16:14:47,903 - update - model_api - INFO - setup_lulcmaps.orchard_c: 0.2188\n",
      "2025-04-09 16:14:47,903 - update - wflow - INFO - Preparing LULC parameter maps.\n",
      "2025-04-09 16:14:47,906 - update - rasterdataset - INFO - Reading globcover_2009 raster data from C:\\Users\\dalmijn\\.hydromt_data\\artifact_data\\v0.0.9\\data.tar\\globcover.tif\n",
      "2025-04-09 16:14:47,931 - update - rasterdataset - DEBUG - Clip to [11.775, 45.808, 12.742, 46.692] (epsg:4326))\n",
      "2025-04-09 16:14:47,931 - update - dataframe - INFO - Reading globcover_mapping_default csv data from C:\\code\\py_dev\\hydromt_wflow\\hydromt_wflow\\data\\lulc\\globcover_mapping.csv\n",
      "2025-04-09 16:14:47,944 - update - landuse - INFO - Deriving landuse using nearest resampling (nodata=230).\n",
      "2025-04-09 16:14:47,974 - update - landuse - INFO - Deriving Kext using average resampling (nodata=-999.0).\n",
      "2025-04-09 16:14:47,991 - update - landuse - INFO - Deriving PathFrac using average resampling (nodata=-999.0).\n",
      "2025-04-09 16:14:48,013 - update - landuse - INFO - Deriving Sl using average resampling (nodata=-999.0).\n",
      "2025-04-09 16:14:48,031 - update - landuse - INFO - Deriving Swood using average resampling (nodata=-999.0).\n",
      "2025-04-09 16:14:48,045 - update - landuse - INFO - Deriving USLE_C using average resampling (nodata=-999.0).\n",
      "2025-04-09 16:14:48,071 - update - model_api - INFO - setup_canopymaps.canopy_fn: simard\n",
      "2025-04-09 16:14:48,071 - update - wflow_sediment - INFO - Preparing canopy height map.\n",
      "2025-04-09 16:14:48,075 - update - rasterdataset - INFO - Reading simard raster data from C:\\Users\\dalmijn\\.hydromt_data\\artifact_data\\v0.0.9\\data.tar\\simard.tif\n",
      "2025-04-09 16:14:48,086 - update - rasterdataset - DEBUG - Clip to [11.775, 45.808, 12.742, 46.692] (epsg:4326))\n",
      "2025-04-09 16:14:48,131 - update - model_api - INFO - setup_soilmaps.soil_fn: soilgrids\n",
      "2025-04-09 16:14:48,131 - update - model_api - INFO - setup_soilmaps.usleK_method: renard\n",
      "2025-04-09 16:14:48,131 - update - wflow_sediment - INFO - Preparing soil parameter maps.\n",
      "2025-04-09 16:14:48,136 - update - rasterdataset - INFO - Reading soilgrids raster data from C:\\Users\\dalmijn\\.hydromt_data\\artifact_data\\v0.0.9\\data.tar\\soilgrids\\{variable}.tif\n",
      "2025-04-09 16:14:48,521 - update - rasterdataset - DEBUG - Clip to [11.775, 45.808, 12.742, 46.692] (epsg:4326))\n",
      "2025-04-09 16:14:48,541 - update - rasterdataset - DEBUG - Convert units for 21 variables.\n",
      "2025-04-09 16:14:49,054 - update - soilgrids - INFO - Interpolate NAN values for PercentClay\n",
      "2025-04-09 16:14:49,075 - update - soilgrids - INFO - Interpolate NAN values for PercentSilt\n",
      "2025-04-09 16:14:49,094 - update - soilgrids - INFO - Interpolate NAN values for PercentOC\n",
      "2025-04-09 16:14:49,125 - update - soilgrids - INFO - Interpolate NAN values for ErosK\n",
      "2025-04-09 16:14:49,158 - update - soilgrids - INFO - Interpolate NAN values for USLE_K\n",
      "2025-04-09 16:14:49,166 - update - model_api - INFO - setup_gauges.gauges_fn: grdc\n",
      "2025-04-09 16:14:49,166 - update - model_api - INFO - setup_gauges.index_col: None\n",
      "2025-04-09 16:14:49,166 - update - model_api - INFO - setup_gauges.snap_to_river: True\n",
      "2025-04-09 16:14:49,166 - update - model_api - INFO - setup_gauges.mask: None\n",
      "2025-04-09 16:14:49,166 - update - model_api - INFO - setup_gauges.snap_uparea: False\n",
      "2025-04-09 16:14:49,166 - update - model_api - INFO - setup_gauges.max_dist: 10000.0\n",
      "2025-04-09 16:14:49,166 - update - model_api - INFO - setup_gauges.wdw: 3\n",
      "2025-04-09 16:14:49,166 - update - model_api - INFO - setup_gauges.rel_error: 0.05\n",
      "2025-04-09 16:14:49,166 - update - model_api - INFO - setup_gauges.abs_error: 50.0\n",
      "2025-04-09 16:14:49,166 - update - model_api - INFO - setup_gauges.fillna: False\n",
      "2025-04-09 16:14:49,166 - update - model_api - INFO - setup_gauges.derive_subcatch: False\n",
      "2025-04-09 16:14:49,166 - update - model_api - INFO - setup_gauges.basename: None\n",
      "2025-04-09 16:14:49,166 - update - model_api - INFO - setup_gauges.toml_output: csv\n",
      "2025-04-09 16:14:49,166 - update - model_api - INFO - setup_gauges.gauge_toml_header: ['Q', 'TSS']\n",
      "2025-04-09 16:14:49,166 - update - model_api - INFO - setup_gauges.gauge_toml_param: ['lateral.river.q_riv', 'lateral.river.SSconc']\n",
      "2025-04-09 16:14:49,168 - update - geodataframe - INFO - Reading grdc csv data from C:\\Users\\dalmijn\\.hydromt_data\\artifact_data\\v0.0.9\\data.tar\\grdc.csv\n",
      "2025-04-09 16:14:49,171 - update - geodataframe - DEBUG - Clip intersects [11.775, 45.808, 12.742, 46.692] (EPSG:4326)\n",
      "2025-04-09 16:14:49,171 - update - wflow - INFO - 3 grdc gauge locations found within domain\n",
      "2025-04-09 16:14:51,198 - update - model_api - WARNING - Replacing geom: gauges_grdc\n",
      "2025-04-09 16:14:51,198 - update - wflow - INFO - Adding ['lateral.river.q_riv', 'lateral.river.SSconc'] to csv section of toml.\n",
      "2025-04-09 16:14:51,198 - update - model_api - INFO - setup_constant_pars.dtype: float32\n",
      "2025-04-09 16:14:51,198 - update - model_api - INFO - setup_constant_pars.nodata: -999\n",
      "2025-04-09 16:14:51,198 - update - model_api - INFO - setup_constant_pars.c_Bagnold: 1.75e-05\n",
      "2025-04-09 16:14:51,198 - update - model_api - INFO - setup_constant_pars.eros_expo: 1.5\n",
      "2025-04-09 16:14:51,198 - update - model_api - INFO - setup_constant_pars.eros_ov: 0.9\n",
      "2025-04-09 16:14:51,198 - update - model_api - INFO - setup_constant_pars.eros_spl_EUROSEM: 2.0\n",
      "2025-04-09 16:14:51,198 - update - model_api - INFO - setup_constant_pars.exp_Bagnold: 1.4\n",
      "2025-04-09 16:14:51,198 - update - model_api - INFO - setup_constant_pars.ResTrapEff: 1.0\n",
      "2025-04-09 16:14:51,211 - update - wflow - INFO - Write model data to C:\\code\\py_dev\\hydromt_wflow\\docs\\_examples\\wflow_test_extend_sediment\n",
      "2025-04-09 16:14:51,269 - update - wflow - INFO - Write grid to C:\\code\\py_dev\\hydromt_wflow\\docs\\_examples\\wflow_test_extend_sediment\\staticmaps.nc\n",
      "2025-04-09 16:14:51,574 - update - wflow - INFO - Writing model staticgeom to file.\n",
      "2025-04-09 16:14:51,791 - update - wflow - INFO - Write forcing file\n",
      "2025-04-09 16:14:51,801 - update - wflow - INFO - Process forcing; saving to C:\\code\\py_dev\\hydromt_wflow\\docs\\_examples\\wflow_test_extend_sediment\\inmaps-era5-2010.nc\n",
      "\n",
      "[                                        ] | 0% Completed | 495.60 us\n",
      "[########################################] | 100% Completed | 107.31 ms\n",
      "2025-04-09 16:14:51,923 - update - wflow - INFO - Writing model config to C:\\code\\py_dev\\hydromt_wflow\\docs\\_examples\\wflow_test_extend_sediment\\wflow_sediment.toml\n"
     ]
    }
   ],
   "source": [
    "# NOTE: copy this line (without !) to your shell for more direct feedback\n",
    "!hydromt update wflow_sediment \"wflow_piave_subbasin\" -o \"./wflow_test_extend_sediment\" -i wflow_extend_sediment.yml -d artifact_data -vv"
   ]
  },
  {
   "cell_type": "markdown",
   "id": "7e64ec0c",
   "metadata": {},
   "source": [
    "The example above means the following: run **hydromt update** with:\n",
    "\n",
    "* `wflow_sediment` : i.e. update a wflow_sediment model (in our case a wflow model but with wflow_sediment components)\n",
    "* `wflow_piave_subbasin` : hydrological wflow model folder\n",
    "* `-o \"./wflow_test_extend_sediment\"`: output combined wflow hydrology+sediment models\n",
    "* `-i wflow_extend_sediment.yml` : setup configuration file containing wflow sediment specific components\n",
    "* `-d artifact_data` : use the pre-defined artifact_data catalog\n",
    "* `-vv` : give some extra verbosity (2 * v) to display feedback on screen. Now debug messages are provided."
   ]
  }
 ],
 "metadata": {
  "kernelspec": {
   "display_name": "waterbom",
   "language": "python",
   "name": "python3"
  },
  "language_info": {
   "codemirror_mode": {
    "name": "ipython",
    "version": 3
   },
   "file_extension": ".py",
   "mimetype": "text/x-python",
   "name": "python",
   "nbconvert_exporter": "python",
   "pygments_lexer": "ipython3",
   "version": "3.10.16"
  },
  "vscode": {
   "interpreter": {
    "hash": "5fda536963eae36dbaef69f7df44483d2713515b4e134e53fb983ec0eb9438d0"
   }
  }
 },
 "nbformat": 4,
 "nbformat_minor": 5
}
