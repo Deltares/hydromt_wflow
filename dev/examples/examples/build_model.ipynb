{
 "cells": [
  {
   "cell_type": "markdown",
   "id": "9a73590b",
   "metadata": {},
   "source": [
    "## Build a Wflow model from scratch"
   ]
  },
  {
   "cell_type": "markdown",
   "id": "ee510c6e",
   "metadata": {},
   "source": [
    "This notebook demonstrates how to prepare **Wflow** model from scratch using the command line interace (CLI)."
   ]
  },
  {
   "cell_type": "markdown",
   "id": "6b96aa15",
   "metadata": {},
   "source": [
    "All lines in this notebook which start with `!` are executed from the command line. Within the notebook environment the logging messages are shown after completion. You can also copy these lines and paste these in your shell to get more direct feedback."
   ]
  },
  {
   "cell_type": "markdown",
   "id": "451c8168",
   "metadata": {},
   "source": [
    "### hydroMT CLI build interface"
   ]
  },
  {
   "cell_type": "markdown",
   "id": "2c70853e",
   "metadata": {},
   "source": [
    "Lets first check if the Wflow model is recognized by hydromt"
   ]
  },
  {
   "cell_type": "code",
   "execution_count": 1,
   "id": "40470302",
   "metadata": {
    "execution": {
     "iopub.execute_input": "2022-01-26T16:32:48.365042Z",
     "iopub.status.busy": "2022-01-26T16:32:48.364242Z",
     "iopub.status.idle": "2022-01-26T16:32:51.916737Z",
     "shell.execute_reply": "2022-01-26T16:32:51.915993Z"
    }
   },
   "outputs": [
    {
     "name": "stdout",
     "output_type": "stream",
     "text": [
      "hydroMT model plugins: wflow (v0.1.4.dev0), wflow_sediment (v0.1.4.dev0)\r\n",
      "\u001b[0m"
     ]
    }
   ],
   "source": [
    "# this should return \"wflow, wflow_seciment\"\n",
    "!hydromt --models"
   ]
  },
  {
   "cell_type": "markdown",
   "id": "7d9b5a20",
   "metadata": {},
   "source": [
    "Using the **hydromt build** API we can setup a complete model from scratch. Let's get an overview of all the available options:"
   ]
  },
  {
   "cell_type": "code",
   "execution_count": 2,
   "id": "1d39e4a1",
   "metadata": {
    "execution": {
     "iopub.execute_input": "2022-01-26T16:32:51.924485Z",
     "iopub.status.busy": "2022-01-26T16:32:51.921843Z",
     "iopub.status.idle": "2022-01-26T16:32:55.387548Z",
     "shell.execute_reply": "2022-01-26T16:32:55.386813Z"
    }
   },
   "outputs": [
    {
     "name": "stdout",
     "output_type": "stream",
     "text": [
      "Usage: hydromt build [OPTIONS] MODEL MODEL_ROOT REGION\r\n",
      "\r\n",
      "  Build models from source data.\r\n",
      "\r\n",
      "  Example usage:\r\n",
      "  --------------\r\n",
      "\r\n",
      "  To build a wflow model for a subbasin using and point coordinates snapped to cells with stream order >= 4\r\n",
      "  hydromt build wflow /path/to/model_root \"{'subbasin': [-7.24, 62.09], 'strord': 4}\" -i /path/to/wflow_config.ini\r\n",
      "\r\n",
      "  To build a wflow model based on basin ID\r\n",
      "  hydromt build wflow /path/to/model_root \"{'basin': 230001006}\"\r\n",
      "\r\n",
      "  To build a sfincs model based on a bbox (for Texel)\r\n",
      "  hydromt build sfincs /path/to/model_root \"{'bbox': [4.6891,52.9750,4.9576,53.1994]}\"\r\n",
      "\r\n",
      "Options:\r\n",
      "  -r, --res FLOAT             Model resolution in model src.\r\n",
      "  --build-base / --build-all  Deprecated!\r\n",
      "  --opt TEXT                  Component specific keyword arguments, see the\r\n",
      "                              setup_<component> method of the specific model\r\n",
      "                              for more information about the arguments.\r\n",
      "  -i, --config PATH           Path to hydroMT configuration file, for the\r\n",
      "                              model specific implementation.\r\n",
      "  -d, --data PATH             File path to yml data sources file. See\r\n",
      "                              documentation for required yml file format.\r\n",
      "  --dd, --deltares-data       Parse default deltares data yml from\r\n",
      "                              https://github.com/DirkEilander/hydromt-\r\n",
      "                              artifacts/releases\r\n",
      "  -q, --quiet                 Decrease verbosity.\r\n",
      "  -v, --verbose               Increase verbosity.\r\n",
      "  --help                      Show this message and exit.\r\n",
      "\u001b[0m"
     ]
    }
   ],
   "source": [
    "!hydromt build --help"
   ]
  },
  {
   "cell_type": "markdown",
   "id": "f286fccb",
   "metadata": {},
   "source": [
    "### setup wflow model base layers "
   ]
  },
  {
   "cell_type": "code",
   "execution_count": 3,
   "id": "closed-excerpt",
   "metadata": {
    "execution": {
     "iopub.execute_input": "2022-01-26T16:32:55.392027Z",
     "iopub.status.busy": "2022-01-26T16:32:55.390290Z",
     "iopub.status.idle": "2022-01-26T16:33:25.800682Z",
     "shell.execute_reply": "2022-01-26T16:33:25.801086Z"
    }
   },
   "outputs": [
    {
     "name": "stdout",
     "output_type": "stream",
     "text": [
      "2022-01-26 16:32:58,482 - build - log - INFO - HydroMT version: 0.4.5.dev\r\n",
      "2022-01-26 16:32:58,482 - build - main - INFO - Building instance of wflow model at /home/runner/work/hydromt_wflow/hydromt_wflow/docs/examples/examples/wflow_test_base.\r\n",
      "2022-01-26 16:32:58,482 - build - main - INFO - User settings:\r\n",
      "2022-01-26 16:32:58,490 - build - model_api - INFO - Initializing wflow model from hydromt_wflow (v0.1.4.dev0).\r\n",
      "2022-01-26 16:32:58,490 - build - model_api - INFO - setup_basemaps.region: {'subbasin': [12.2051, 45.8331], 'strord': 4, 'bounds': [11.7, 45.35, 12.95, 46.7]}\r\n",
      "2022-01-26 16:32:58,490 - build - model_api - INFO - setup_basemaps.res: 0.00833\r\n",
      "2022-01-26 16:32:58,490 - build - model_api - INFO - setup_basemaps.hydrography_fn: merit_hydro\r\n",
      "2022-01-26 16:32:58,490 - build - model_api - INFO - setup_basemaps.basin_index_fn: merit_hydro_index\r\n",
      "2022-01-26 16:32:58,491 - build - model_api - INFO - setup_basemaps.upscale_method: ihu\r\n",
      "2022-01-26 16:32:58,491 - build - wflow - INFO - Preparing base hydrography basemaps.\r\n"
     ]
    },
    {
     "name": "stdout",
     "output_type": "stream",
     "text": [
      "2022-01-26 16:32:58,763 - build - data_adapter - INFO - Downloading file to /home/runner/.hydromt_data/data/v0.0.6/data.tar.gz\r\n"
     ]
    },
    {
     "name": "stdout",
     "output_type": "stream",
     "text": [
      "2022-01-26 16:33:00,301 - build - data_adapter - INFO - Adding sample data v0.0.6 from artifacts\r\n"
     ]
    },
    {
     "name": "stdout",
     "output_type": "stream",
     "text": [
      "2022-01-26 16:33:00,386 - build - data_adapter - INFO - DataCatalog: Getting merit_hydro RasterDataset raster data from /home/runner/.hydromt_data/data/v0.0.6/merit_hydro/{variable}.tif\r\n"
     ]
    },
    {
     "name": "stdout",
     "output_type": "stream",
     "text": [
      "2022-01-26 16:33:05,338 - build - basin_mask - INFO - basin bbox: [11.7750, 45.8042, 12.7450, 46.6900] / size: 664756\r\n"
     ]
    },
    {
     "name": "stdout",
     "output_type": "stream",
     "text": [
      "2022-01-26 16:33:05,702 - build - basemaps - INFO - Upscale flow direction data: 10x, ihu method.\r\n"
     ]
    },
    {
     "name": "stdout",
     "output_type": "stream",
     "text": [
      "2022-01-26 16:33:24,633 - build - wflow - INFO - Write model data to /home/runner/work/hydromt_wflow/hydromt_wflow/docs/examples/examples/wflow_test_base\r\n",
      "2022-01-26 16:33:24,638 - build - model_api - INFO - Writing model config to /home/runner/work/hydromt_wflow/hydromt_wflow/docs/examples/examples/wflow_test_base/wflow_sbm.toml\r\n",
      "2022-01-26 16:33:24,639 - build - wflow - INFO - Write staticmaps to /home/runner/work/hydromt_wflow/hydromt_wflow/docs/examples/examples/wflow_test_base/staticmaps.nc\r\n"
     ]
    },
    {
     "name": "stdout",
     "output_type": "stream",
     "text": [
      "2022-01-26 16:33:24,837 - build - wflow - INFO - Writing model staticgeom to file.\r\n"
     ]
    },
    {
     "name": "stdout",
     "output_type": "stream",
     "text": [
      "\u001b[0m"
     ]
    }
   ],
   "source": [
    "# NOTE: copy this line (without !) to your shell for more direct feedback\n",
    "!hydromt build wflow \"./wflow_test_base\" \"{'subbasin': [12.2051, 45.8331], 'strord': 4, 'bounds': [11.70, 45.35, 12.95, 46.70]}\" -r 0.00833 -v"
   ]
  },
  {
   "cell_type": "markdown",
   "id": "cb9d0032",
   "metadata": {},
   "source": [
    "The example above means the following: run **hydromt build** with:\n",
    "\n",
    "* `wflow` : i.e. build a wflow model\n",
    "* `./wflow_test_base` : output model folder\n",
    "* `\"{'subbasin': [12.2051, 45.8331], 'strord': 4, 'bounds': [11.70, 45.35, 12.95, 46.70]}\"` : derive a subbasin with its outlet at the given x,y coordinates and within the given bounds [xmin, ymin, xmax, ymax] (WGS84) snapped to a river with minimum stream order (strord) of 4. All *REGION* options are described in the [docs](https://deltares.github.io/hydromt/latest/user_guide/cli.html#region-options)\n",
    "* `-r 0.0083333` : build the model at a 30 arc sec (~1km) resolution\n",
    "* `-vv` : give some extra verbosity (2 * v) to display feedback on screen. Now debug messages are provided.\n",
    "\n",
    "NOTE: As we did not specify a model configuration, only the base maps (topography and hydrography) have been setup using default parameters. To build a complete model we need the use a configuraton ini-file."
   ]
  },
  {
   "cell_type": "markdown",
   "id": "ebd31242",
   "metadata": {},
   "source": [
    "### Model setup configuration"
   ]
  },
  {
   "cell_type": "markdown",
   "id": "fb8282c9",
   "metadata": {},
   "source": [
    "The ini-file contains the model setup configuration and determines which components are build and in which order and optionally sets non-default arguments for each component. This configuration is passed to hydromt using `-i <path_to_ini_file>`. We have prepared several example ini-files which are available in the model repository [examples folder](https://github.com/Deltares/hydromt_wflow/tree/main/examples) and from the [docs(build_configuration)](https://deltares.github.io/hydromt_wflow/latest/user_guide/wflow/build_configuration.html). \n",
    "\n",
    "Each header as shown between `[...]` (e.g. `[setup_basemaps]`) corresponds to a model component. All model components are explained in the [docs(model_components)](https://deltares.github.io/hydromt_wflow/latest/user_guide/wflow/components.html). "
   ]
  },
  {
   "cell_type": "markdown",
   "id": "cc3fd44d",
   "metadata": {},
   "source": [
    "We will load the default wflow build ini file for inspection:"
   ]
  },
  {
   "cell_type": "code",
   "execution_count": 4,
   "id": "e88d4aed",
   "metadata": {
    "execution": {
     "iopub.execute_input": "2022-01-26T16:33:25.806482Z",
     "iopub.status.busy": "2022-01-26T16:33:25.805973Z",
     "iopub.status.idle": "2022-01-26T16:33:25.812126Z",
     "shell.execute_reply": "2022-01-26T16:33:25.811133Z"
    }
   },
   "outputs": [
    {
     "name": "stdout",
     "output_type": "stream",
     "text": [
      "[global]\n",
      "data_libs       = []            # add optional paths to data yml files\n",
      "\n",
      "[setup_config]                  # options parsed to wflow ini file <section>.<option>\n",
      "starttime = 2010-01-01T00:00:00\n",
      "endtime = 2010-03-31T00:00:00\n",
      "timestepsecs = 86400\n",
      "input.path_forcing = inmaps-era5-2010.nc\n",
      "\n",
      "[setup_basemaps]\n",
      "hydrography_fn     = merit_hydro   # source hydrography data {merit_hydro, merit_hydro_1k}\n",
      "basin_index_fn  = merit_hydro_index # source of basin index corresponding to hydrography_fn\n",
      "upscale_method  = ihu           # upscaling method for flow direction data, by default 'ihu'\n",
      "\n",
      "[setup_rivers]\n",
      "hydrography_fn   = merit_hydro      # source hydrography data, should correspond to hydrography_fn in setup_basemaps\n",
      "river_geom_fn    = rivers_lin2019_v1 # river source data with river width and bankfull discharge\n",
      "river_upa        = 30               # minimum upstream area threshold for the river map [km2]\n",
      "rivdph_method    = powlaw           # method to estimate depth {'powlaw', 'manning', 'gvf'}\n",
      "min_rivdph       = 1                # minimum river depth [m]\n",
      "min_rivwth       = 30               # minimum river width [m]\n",
      "slope_len        = 2000             # length over which tp calculate river slope [m]\n",
      "smooth_len       = 5000             # length over which to smooth river depth and river width [m]\n",
      "\n",
      "# [setup_hydrodem]                  # uncomment for river and/or land local-inertial routing.\n",
      "# elevtn_map      = dem_subgrid     # {'dem_subgrid', 'wflow_dem'}\n",
      "# river_routing   = local-inertial  # {'kinematic-wave', 'local-inertial'}\n",
      "# land_routing    = kinematic-wave  # {'kinematic-wave', 'local-inertial'}\n",
      "\n",
      "[setup_reservoirs]\n",
      "reservoirs_fn   = hydro_reservoirs  # source for reservoirs based on GRAND: {hydro_reservoirs}; None to skip\n",
      "min_area        = 1.0           # minimum lake area to consider [km2]\n",
      "priority_jrc    = True          # if True then JRC data from hydroengine is used to calculate some reservoir attributes instead of the GRanD and HydroLAKES db.   \n",
      "\n",
      "[setup_lakes]\n",
      "lakes_fn        = hydro_lakes   # source for lakes based on hydroLAKES: {hydro_lakes}; None to skip\n",
      "min_area        = 10.0          # minimum reservoir area to consider [km2]\n",
      "\n",
      "[setup_glaciers]\n",
      "glaciers_fn     = rgi           # source for glaciers based on Randolph Glacier Inventory {rgi}; None to skip\n",
      "min_area        = 1.0           # minimum glacier area to consider [km2]\n",
      "\n",
      "[setup_lulcmaps]\n",
      "lulc_fn         = globcover     # source for lulc maps: {globcover, vito, corine}\n",
      "\n",
      "[setup_laimaps]\n",
      "lai_fn          = modis_lai     # source for LAI: {modis_lai}\n",
      "\n",
      "[setup_soilmaps]\n",
      "soil_fn         = soilgrids     # source for soilmaps: {soilgrids}\n",
      "ptf_ksatver     = brakensiek    # pedotransfer function to calculate hydraulic conductivity: {brakensiek, cosby}\n",
      "\n",
      "[setup_gauges]\n",
      "gauges_fn       = grdc          # if not None add gaugemap. Either a path or known gauges_fn: {grdc}\n",
      "snap_to_river   = True          # if True snaps gauges from source to river\n",
      "derive_subcatch = False         # if True derive subcatch map based on gauges.\n",
      "\n",
      "[setup_precip_forcing]\n",
      "precip_fn       = era5          # source for precipitation.\n",
      "precip_clim_fn  = None          # source for high resolution climatology to correct precipitation.\n",
      "\n",
      "[setup_temp_pet_forcing]\n",
      "temp_pet_fn     = era5          # source for temperature and potential evapotranspiration.\n",
      "press_correction= True          # if True temperature is corrected with elevation lapse rate.\n",
      "temp_correction = True          # if True pressure is corrected with elevation lapse rate.\n",
      "dem_forcing_fn  = era5_orography # source of elevation grid corresponding to temp_pet_fn. Used for lapse rate correction.\n",
      "pet_method      = debruin       # method to compute PET: {debruin, makkink}\n",
      "skip_pet        = False         # if True, only temperature is prepared.\n",
      "\n",
      "[setup_constant_pars]\n",
      "KsatHorFrac=100\n",
      "Cfmax = 3.75653\n",
      "cf_soil = 0.038\n",
      "EoverR = 0.11\n",
      "InfiltCapPath = 5\n",
      "InfiltCapSoil = 600 \n",
      "MaxLeakage = 0\n",
      "rootdistpar = -500\n",
      "TT = 0\n",
      "TTI = 2\n",
      "TTM = 0\n",
      "WHC = 0.1\n",
      "G_Cfmax = 5.3\n",
      "G_SIfrac = 0.002\n",
      "G_TT = 1.3\n"
     ]
    }
   ],
   "source": [
    "fn_ini = \"wflow_build.ini\"\n",
    "with open(fn_ini, \"r\") as f:\n",
    "    txt = f.read()\n",
    "print(txt)"
   ]
  },
  {
   "cell_type": "markdown",
   "id": "7584dcae",
   "metadata": {},
   "source": [
    "### Data for model setup"
   ]
  },
  {
   "cell_type": "markdown",
   "id": "dad35651",
   "metadata": {},
   "source": [
    "The `<...>_fn` arguments correspond to a data source from the `DataCatalog` which is based on a yml-file with references to the data paths/urls and how the data should be read. This file can be provided to hydromt using `-d <path_to_yml_file>`. \n",
    "\n",
    "By default some example data for the Piave basin will be downloaded to `~/.hydromt_data/` which is also used for this example. An overview of the available example data is provided [here](https://deltares.github.io/hydromt/latest/user_guide/data.html#available-global-datasets)\n",
    "This example data is a based on the data which available from the Deltares p-drive. \n",
    "If you have acces to this drive, a pre-configured catalog file can be loaded using the `--dd` flag. \n",
    "\n",
    "More background how to write a data catalog yml file can be found in the [hydromt core docs](https://deltares.github.io/hydromt/latest/user_guide/data.html) "
   ]
  },
  {
   "cell_type": "markdown",
   "id": "12860ed2",
   "metadata": {},
   "source": [
    "### Setup complete wflow model "
   ]
  },
  {
   "cell_type": "code",
   "execution_count": 5,
   "id": "hundred-trailer",
   "metadata": {
    "execution": {
     "iopub.execute_input": "2022-01-26T16:33:25.820085Z",
     "iopub.status.busy": "2022-01-26T16:33:25.816525Z",
     "iopub.status.idle": "2022-01-26T16:34:21.498352Z",
     "shell.execute_reply": "2022-01-26T16:34:21.498748Z"
    },
    "scrolled": true
   },
   "outputs": [
    {
     "name": "stdout",
     "output_type": "stream",
     "text": [
      "2022-01-26 16:33:28,835 - build - log - DEBUG - Writing log messages to new file /home/runner/work/hydromt_wflow/hydromt_wflow/docs/examples/examples/wflow_test_full/hydromt.log.\r\n",
      "2022-01-26 16:33:28,835 - build - log - INFO - HydroMT version: 0.4.5.dev\r\n",
      "2022-01-26 16:33:28,835 - build - main - INFO - Building instance of wflow model at /home/runner/work/hydromt_wflow/hydromt_wflow/docs/examples/examples/wflow_test_full.\r\n",
      "2022-01-26 16:33:28,835 - build - main - INFO - User settings:\r\n",
      "2022-01-26 16:33:28,846 - build - model_plugins - DEBUG - Loaded model plugin 'wflow = hydromt_wflow.wflow.WflowModel' (0.1.4.dev0)\r\n",
      "2022-01-26 16:33:28,846 - build - model_api - INFO - Initializing wflow model from hydromt_wflow (v0.1.4.dev0).\r\n",
      "2022-01-26 16:33:28,846 - build - model_api - DEBUG - Setting model config options.\r\n"
     ]
    },
    {
     "name": "stdout",
     "output_type": "stream",
     "text": [
      "2022-01-26 16:33:28,849 - build - model_api - DEBUG - Default config read from /usr/share/miniconda/envs/hydromt-wflow/lib/python3.9/site-packages/hydromt_wflow/data/wflow/wflow_sbm.toml\r\n",
      "2022-01-26 16:33:28,849 - build - model_api - INFO - setup_basemaps.region: {'subbasin': [12.2051, 45.8331], 'strord': 4, 'bounds': [11.7, 45.35, 12.95, 46.7]}\r\n",
      "2022-01-26 16:33:28,850 - build - model_api - INFO - setup_basemaps.res: 0.00833\r\n",
      "2022-01-26 16:33:28,850 - build - model_api - INFO - setup_basemaps.hydrography_fn: merit_hydro\r\n",
      "2022-01-26 16:33:28,850 - build - model_api - INFO - setup_basemaps.basin_index_fn: merit_hydro_index\r\n",
      "2022-01-26 16:33:28,850 - build - model_api - INFO - setup_basemaps.upscale_method: ihu\r\n",
      "2022-01-26 16:33:28,850 - build - wflow - INFO - Preparing base hydrography basemaps.\r\n",
      "2022-01-26 16:33:28,850 - build - data_adapter - INFO - Adding sample data v0.0.6 from artifacts\r\n"
     ]
    },
    {
     "name": "stdout",
     "output_type": "stream",
     "text": [
      "2022-01-26 16:33:28,929 - build - data_adapter - INFO - DataCatalog: Getting merit_hydro RasterDataset raster data from /home/runner/.hydromt_data/data/v0.0.6/merit_hydro/{variable}.tif\r\n"
     ]
    },
    {
     "name": "stdout",
     "output_type": "stream",
     "text": [
      "2022-01-26 16:33:29,020 - build - basin_mask - DEBUG - Parsed region (kind=subbasin): {'strord': 4, 'bounds': [11.7, 45.35, 12.95, 46.7], 'xy': [12.2051, 45.8331]}\r\n"
     ]
    },
    {
     "name": "stdout",
     "output_type": "stream",
     "text": [
      "2022-01-26 16:33:33,747 - build - basin_mask - INFO - basin bbox: [11.7750, 45.8042, 12.7450, 46.6900] / size: 664756\r\n"
     ]
    },
    {
     "name": "stdout",
     "output_type": "stream",
     "text": [
      "2022-01-26 16:33:33,837 - build - wflow - DEBUG - Adding basins vector to staticgeoms.\r\n",
      "2022-01-26 16:33:33,837 - build - basemaps - DEBUG - Mask in dataset assumed to represent subbasins.\r\n",
      "2022-01-26 16:33:33,839 - build - basemaps - DEBUG - (Sub)basin at original resolution has 664756 cells.\r\n"
     ]
    },
    {
     "name": "stdout",
     "output_type": "stream",
     "text": [
      "2022-01-26 16:33:34,011 - build - basemaps - DEBUG - Burn subbasin outlet in upstream area data.\r\n"
     ]
    },
    {
     "name": "stdout",
     "output_type": "stream",
     "text": [
      "2022-01-26 16:33:34,093 - build - basemaps - INFO - Upscale flow direction data: 10x, ihu method.\r\n"
     ]
    },
    {
     "name": "stdout",
     "output_type": "stream",
     "text": [
      "2022-01-26 16:33:52,370 - build - basemaps - DEBUG - Derive stream order.\r\n"
     ]
    },
    {
     "name": "stdout",
     "output_type": "stream",
     "text": [
      "2022-01-26 16:33:52,662 - build - basemaps - DEBUG - Map shape: (106, 116); active cells: 6637.\r\n",
      "2022-01-26 16:33:52,662 - build - basemaps - DEBUG - Outlet coordinates (1/1): (12.20750,45.83583).\r\n"
     ]
    },
    {
     "name": "stdout",
     "output_type": "stream",
     "text": [
      "2022-01-26 16:33:52,735 - build - wflow - DEBUG - Adding region vector to staticgeoms.\r\n",
      "2022-01-26 16:33:52,740 - build - model_api - INFO - setup_rivers.hydrography_fn: merit_hydro\r\n",
      "2022-01-26 16:33:52,740 - build - model_api - INFO - setup_rivers.river_geom_fn: rivers_lin2019_v1\r\n",
      "2022-01-26 16:33:52,740 - build - model_api - INFO - setup_rivers.river_upa: 30\r\n",
      "2022-01-26 16:33:52,740 - build - model_api - INFO - setup_rivers.rivdph_method: powlaw\r\n",
      "2022-01-26 16:33:52,740 - build - model_api - INFO - setup_rivers.slope_len: 2000\r\n",
      "2022-01-26 16:33:52,740 - build - model_api - INFO - setup_rivers.min_rivlen_ratio: 0.1\r\n",
      "2022-01-26 16:33:52,740 - build - model_api - INFO - setup_rivers.min_rivdph: 1\r\n",
      "2022-01-26 16:33:52,740 - build - model_api - INFO - setup_rivers.min_rivwth: 30\r\n",
      "2022-01-26 16:33:52,740 - build - model_api - INFO - setup_rivers.smooth_len: 5000\r\n",
      "2022-01-26 16:33:52,740 - build - model_api - INFO - setup_rivers.rivman_mapping_fn: /usr/share/miniconda/envs/hydromt-wflow/lib/python3.9/site-packages/hydromt_wflow/data/wflow/N_river_mapping.csv\r\n",
      "2022-01-26 16:33:52,740 - build - wflow - INFO - Preparing river maps.\r\n",
      "2022-01-26 16:33:52,740 - build - data_adapter - INFO - DataCatalog: Getting merit_hydro RasterDataset raster data from /home/runner/.hydromt_data/data/v0.0.6/merit_hydro/{variable}.tif\r\n"
     ]
    },
    {
     "name": "stdout",
     "output_type": "stream",
     "text": [
      "2022-01-26 16:33:52,811 - build - data_adapter - DEBUG - RasterDataset: Clip with geom - [11.778, 45.807, 12.745, 46.690]\r\n"
     ]
    },
    {
     "name": "stdout",
     "output_type": "stream",
     "text": [
      "2022-01-26 16:33:52,828 - build - river - DEBUG - Set river mask (min uparea: 30 km2) and prepare flow dirs.\r\n"
     ]
    },
    {
     "name": "stdout",
     "output_type": "stream",
     "text": [
      "2022-01-26 16:33:53,101 - build - river - DEBUG - Derive river length.\r\n"
     ]
    },
    {
     "name": "stdout",
     "output_type": "stream",
     "text": [
      "2022-01-26 16:34:01,036 - build - river - DEBUG - Derive river slope.\r\n"
     ]
    },
    {
     "name": "stdout",
     "output_type": "stream",
     "text": [
      "2022-01-26 16:34:01,894 - build - river - DEBUG - Derive rivwth from hydrography dataset.\r\n"
     ]
    },
    {
     "name": "stdout",
     "output_type": "stream",
     "text": [
      "2022-01-26 16:34:01,942 - build - landuse - INFO - Deriving N_River using average resampling (nodata=-999.0).\r\n"
     ]
    },
    {
     "name": "stdout",
     "output_type": "stream",
     "text": [
      "2022-01-26 16:34:01,957 - build - data_adapter - INFO - DataCatalog: Getting rivers_lin2019_v1 GeoDataFrame vector data from /home/runner/.hydromt_data/data/v0.0.6/rivers_lin2019_v1.gpkg\r\n",
      "2022-01-26 16:34:01,959 - build - data_adapter - INFO - GeoDataFrame: Read vector data and clip to geom (epsg:4326) [11.778, 45.807, 12.745, 46.690].\r\n"
     ]
    },
    {
     "name": "stdout",
     "output_type": "stream",
     "text": [
      "2022-01-26 16:34:02,260 - build - river - DEBUG - Derive ['rivwth', 'qbankfull'] from shapefile.\r\n"
     ]
    },
    {
     "name": "stdout",
     "output_type": "stream",
     "text": [
      "2022-01-26 16:34:02,384 - build - river - DEBUG - Valid for 381/655 river cells (max dist: 392 m).\r\n"
     ]
    },
    {
     "name": "stdout",
     "output_type": "stream",
     "text": [
      "2022-01-26 16:34:04,435 - build - wflow - DEBUG - Adding rivers vector to staticgeoms.\r\n"
     ]
    },
    {
     "name": "stdout",
     "output_type": "stream",
     "text": [
      "2022-01-26 16:34:05,417 - build - model_api - INFO - setup_reservoirs.reservoirs_fn: hydro_reservoirs\r\n",
      "2022-01-26 16:34:05,417 - build - model_api - INFO - setup_reservoirs.min_area: 1.0\r\n",
      "2022-01-26 16:34:05,417 - build - model_api - INFO - setup_reservoirs.priority_jrc: True\r\n",
      "2022-01-26 16:34:05,417 - build - wflow - INFO - Preparing reservoir maps.\r\n",
      "2022-01-26 16:34:05,418 - build - data_adapter - INFO - DataCatalog: Getting hydro_reservoirs GeoDataFrame vector data from /home/runner/.hydromt_data/data/v0.0.6/hydro_reservoirs.gpkg\r\n",
      "2022-01-26 16:34:05,421 - build - data_adapter - INFO - GeoDataFrame: Read vector data and clip to geom (epsg:4326) [11.775, 45.804, 12.745, 46.690].\r\n"
     ]
    },
    {
     "name": "stdout",
     "output_type": "stream",
     "text": [
      "2022-01-26 16:34:05,452 - build - data_adapter - DEBUG - GeoDataFrame: Convert units for 5 columns.\r\n",
      "2022-01-26 16:34:05,456 - build - wflow - WARNING - No reservoirs of sufficient size found within region! Skipping reservoir procedures!\r\n",
      "2022-01-26 16:34:05,456 - build - model_api - INFO - setup_lakes.lakes_fn: hydro_lakes\r\n",
      "2022-01-26 16:34:05,456 - build - model_api - INFO - setup_lakes.min_area: 10.0\r\n",
      "2022-01-26 16:34:05,456 - build - wflow - INFO - Preparing lake maps.\r\n",
      "2022-01-26 16:34:05,456 - build - data_adapter - INFO - DataCatalog: Getting hydro_lakes GeoDataFrame vector data from /home/runner/.hydromt_data/data/v0.0.6/hydro_lakes.gpkg\r\n",
      "2022-01-26 16:34:05,460 - build - data_adapter - INFO - GeoDataFrame: Read vector data and clip to geom (epsg:4326) [11.775, 45.804, 12.745, 46.690].\r\n",
      "2022-01-26 16:34:05,481 - build - data_adapter - DEBUG - GeoDataFrame: Convert units for 1 columns.\r\n",
      "2022-01-26 16:34:05,483 - build - wflow - WARNING - No lakes of sufficient size found within region! Skipping lake procedures!\r\n",
      "2022-01-26 16:34:05,484 - build - model_api - INFO - setup_glaciers.glaciers_fn: rgi\r\n",
      "2022-01-26 16:34:05,484 - build - model_api - INFO - setup_glaciers.min_area: 1.0\r\n",
      "2022-01-26 16:34:05,484 - build - wflow - INFO - Preparing glacier maps.\r\n",
      "2022-01-26 16:34:05,484 - build - data_adapter - INFO - DataCatalog: Getting rgi GeoDataFrame vector data from /home/runner/.hydromt_data/data/v0.0.6/rgi.gpkg\r\n",
      "2022-01-26 16:34:05,487 - build - data_adapter - INFO - GeoDataFrame: Read vector data and clip to geom (epsg:4326) [11.775, 45.804, 12.745, 46.690].\r\n"
     ]
    },
    {
     "name": "stdout",
     "output_type": "stream",
     "text": [
      "2022-01-26 16:34:05,517 - build - wflow - INFO - 1 glaciers of sufficient size found within region.\r\n",
      "2022-01-26 16:34:05,532 - build - glaciers - DEBUG - Creating vector grid for calculating glacier fraction and storage per grid cell\r\n"
     ]
    },
    {
     "name": "stdout",
     "output_type": "stream",
     "text": [
      "2022-01-26 16:34:05,785 - build - glaciers - DEBUG - Setting glacierfrac and store values per glacier.\r\n"
     ]
    },
    {
     "name": "stdout",
     "output_type": "stream",
     "text": [
      "2022-01-26 16:34:09,240 - build - model_api - INFO - setup_lulcmaps.lulc_fn: globcover\r\n",
      "2022-01-26 16:34:09,240 - build - model_api - INFO - setup_lulcmaps.lulc_mapping_fn: None\r\n",
      "2022-01-26 16:34:09,240 - build - model_api - INFO - setup_lulcmaps.lulc_vars: ['landuse', 'Kext', 'N', 'PathFrac', 'RootingDepth', 'Sl', 'Swood', 'WaterFrac']\r\n",
      "2022-01-26 16:34:09,240 - build - wflow - INFO - Preparing LULC parameter maps.\r\n",
      "2022-01-26 16:34:09,240 - build - data_adapter - INFO - DataCatalog: Getting globcover RasterDataset raster data from /home/runner/.hydromt_data/data/v0.0.6/globcover.tif\r\n"
     ]
    },
    {
     "name": "stdout",
     "output_type": "stream",
     "text": [
      "2022-01-26 16:34:09,253 - build - data_adapter - DEBUG - RasterDataset: Clip with geom - [11.778, 45.807, 12.745, 46.690]\r\n",
      "2022-01-26 16:34:09,277 - build - landuse - INFO - Deriving landuse using nearest resampling (nodata=230).\r\n"
     ]
    },
    {
     "name": "stdout",
     "output_type": "stream",
     "text": [
      "2022-01-26 16:34:09,331 - build - landuse - INFO - Deriving Kext using average resampling (nodata=-999.0).\r\n"
     ]
    },
    {
     "name": "stdout",
     "output_type": "stream",
     "text": [
      "2022-01-26 16:34:09,386 - build - landuse - INFO - Deriving N using average resampling (nodata=-999.0).\r\n"
     ]
    },
    {
     "name": "stdout",
     "output_type": "stream",
     "text": [
      "2022-01-26 16:34:09,442 - build - landuse - INFO - Deriving PathFrac using average resampling (nodata=-999.0).\r\n"
     ]
    },
    {
     "name": "stdout",
     "output_type": "stream",
     "text": [
      "2022-01-26 16:34:09,494 - build - landuse - INFO - Deriving RootingDepth using average resampling (nodata=-999).\r\n"
     ]
    },
    {
     "name": "stdout",
     "output_type": "stream",
     "text": [
      "2022-01-26 16:34:09,548 - build - landuse - INFO - Deriving Sl using average resampling (nodata=-999.0).\r\n"
     ]
    },
    {
     "name": "stdout",
     "output_type": "stream",
     "text": [
      "2022-01-26 16:34:09,600 - build - landuse - INFO - Deriving Swood using average resampling (nodata=-999.0).\r\n"
     ]
    },
    {
     "name": "stdout",
     "output_type": "stream",
     "text": [
      "2022-01-26 16:34:09,655 - build - landuse - INFO - Deriving WaterFrac using average resampling (nodata=-999).\r\n"
     ]
    },
    {
     "name": "stdout",
     "output_type": "stream",
     "text": [
      "2022-01-26 16:34:09,720 - build - model_api - INFO - setup_laimaps.lai_fn: modis_lai\r\n",
      "2022-01-26 16:34:09,720 - build - wflow - INFO - Preparing LAI maps.\r\n",
      "2022-01-26 16:34:09,720 - build - data_adapter - INFO - DataCatalog: Getting modis_lai RasterDataset netcdf data from /home/runner/.hydromt_data/data/v0.0.6/modis_lai.nc\r\n",
      "2022-01-26 16:34:09,764 - build - data_adapter - DEBUG - RasterDataset: Clip with geom - [11.778, 45.807, 12.745, 46.690]\r\n"
     ]
    },
    {
     "name": "stdout",
     "output_type": "stream",
     "text": [
      "2022-01-26 16:34:09,778 - build - data_adapter - DEBUG - RasterDataset: Convert units for 1 variables.\r\n",
      "2022-01-26 16:34:09,785 - build - landuse - INFO - Deriving LAI using average resampling (nodata=None).\r\n"
     ]
    },
    {
     "name": "stdout",
     "output_type": "stream",
     "text": [
      "2022-01-26 16:34:09,864 - build - model_api - INFO - setup_soilmaps.soil_fn: soilgrids\r\n",
      "2022-01-26 16:34:09,864 - build - model_api - INFO - setup_soilmaps.ptf_ksatver: brakensiek\r\n",
      "2022-01-26 16:34:09,864 - build - wflow - INFO - Preparing soil parameter maps.\r\n",
      "2022-01-26 16:34:09,864 - build - data_adapter - INFO - DataCatalog: Getting soilgrids RasterDataset raster data from /home/runner/.hydromt_data/data/v0.0.6/soilgrids/{variable}.tif\r\n"
     ]
    },
    {
     "name": "stdout",
     "output_type": "stream",
     "text": [
      "2022-01-26 16:34:10,280 - build - data_adapter - DEBUG - RasterDataset: Clip with geom - [11.778, 45.807, 12.745, 46.690]\r\n",
      "2022-01-26 16:34:10,313 - build - data_adapter - DEBUG - RasterDataset: Convert units for 21 variables.\r\n"
     ]
    },
    {
     "name": "stdout",
     "output_type": "stream",
     "text": [
      "2022-01-26 16:34:10,793 - build - soilgrids - INFO - calculate and resample thetaS\r\n"
     ]
    },
    {
     "name": "stdout",
     "output_type": "stream",
     "text": [
      "2022-01-26 16:34:10,987 - build - soilgrids - INFO - calculate and resample thetaR\r\n"
     ]
    },
    {
     "name": "stdout",
     "output_type": "stream",
     "text": [
      "2022-01-26 16:34:11,219 - build - soilgrids - INFO - calculate and resample KsatVer\r\n"
     ]
    },
    {
     "name": "stdout",
     "output_type": "stream",
     "text": [
      "2022-01-26 16:34:11,259 - build - soilgrids - INFO - calculate and resample pore size distribution index\r\n"
     ]
    },
    {
     "name": "stdout",
     "output_type": "stream",
     "text": [
      "2022-01-26 16:34:11,351 - build - soilgrids - INFO - fit z - log(KsatVer) with numpy linalg regression (y = b*x) -> M_\r\n"
     ]
    },
    {
     "name": "stdout",
     "output_type": "stream",
     "text": [
      "2022-01-26 16:34:12,129 - build - soilgrids - INFO - fit zi - Ksat with curve_fit (scipy.optimize) -> M\r\n"
     ]
    },
    {
     "name": "stdout",
     "output_type": "stream",
     "text": [
      "2022-01-26 16:34:16,151 - build - soilgrids - INFO - Interpolate NAN values for thetaS\r\n"
     ]
    },
    {
     "name": "stdout",
     "output_type": "stream",
     "text": [
      "2022-01-26 16:34:16,336 - build - soilgrids - INFO - Interpolate NAN values for thetaR\r\n",
      "2022-01-26 16:34:16,358 - build - soilgrids - INFO - Interpolate NAN values for SoilThickness\r\n"
     ]
    },
    {
     "name": "stdout",
     "output_type": "stream",
     "text": [
      "2022-01-26 16:34:16,379 - build - soilgrids - INFO - Interpolate NAN values for SoilMinThickness\r\n"
     ]
    },
    {
     "name": "stdout",
     "output_type": "stream",
     "text": [
      "2022-01-26 16:34:16,692 - build - soilgrids - INFO - Interpolate NAN values for c\r\n"
     ]
    },
    {
     "name": "stdout",
     "output_type": "stream",
     "text": [
      "2022-01-26 16:34:16,772 - build - soilgrids - INFO - Interpolate NAN values for KsatVer\r\n"
     ]
    },
    {
     "name": "stdout",
     "output_type": "stream",
     "text": [
      "2022-01-26 16:34:16,854 - build - soilgrids - INFO - Interpolate NAN values for KsatVer_0.0cm\r\n"
     ]
    },
    {
     "name": "stdout",
     "output_type": "stream",
     "text": [
      "2022-01-26 16:34:16,927 - build - soilgrids - INFO - Interpolate NAN values for KsatVer_5.0cm\r\n"
     ]
    },
    {
     "name": "stdout",
     "output_type": "stream",
     "text": [
      "2022-01-26 16:34:16,999 - build - soilgrids - INFO - Interpolate NAN values for KsatVer_15.0cm\r\n"
     ]
    },
    {
     "name": "stdout",
     "output_type": "stream",
     "text": [
      "2022-01-26 16:34:17,075 - build - soilgrids - INFO - Interpolate NAN values for KsatVer_30.0cm\r\n"
     ]
    },
    {
     "name": "stdout",
     "output_type": "stream",
     "text": [
      "2022-01-26 16:34:17,150 - build - soilgrids - INFO - Interpolate NAN values for KsatVer_60.0cm\r\n"
     ]
    },
    {
     "name": "stdout",
     "output_type": "stream",
     "text": [
      "2022-01-26 16:34:17,225 - build - soilgrids - INFO - Interpolate NAN values for KsatVer_100.0cm\r\n"
     ]
    },
    {
     "name": "stdout",
     "output_type": "stream",
     "text": [
      "2022-01-26 16:34:17,300 - build - soilgrids - INFO - Interpolate NAN values for KsatVer_200.0cm\r\n"
     ]
    },
    {
     "name": "stdout",
     "output_type": "stream",
     "text": [
      "2022-01-26 16:34:17,570 - build - soilgrids - INFO - Interpolate NAN values for M_original_\r\n"
     ]
    },
    {
     "name": "stdout",
     "output_type": "stream",
     "text": [
      "2022-01-26 16:34:17,831 - build - soilgrids - INFO - Interpolate NAN values for M_\r\n"
     ]
    },
    {
     "name": "stdout",
     "output_type": "stream",
     "text": [
      "2022-01-26 16:34:18,109 - build - soilgrids - INFO - Interpolate NAN values for f_\r\n"
     ]
    },
    {
     "name": "stdout",
     "output_type": "stream",
     "text": [
      "2022-01-26 16:34:18,397 - build - soilgrids - INFO - Interpolate NAN values for M_original\r\n"
     ]
    },
    {
     "name": "stdout",
     "output_type": "stream",
     "text": [
      "2022-01-26 16:34:18,675 - build - soilgrids - INFO - Interpolate NAN values for M\r\n"
     ]
    },
    {
     "name": "stdout",
     "output_type": "stream",
     "text": [
      "2022-01-26 16:34:18,964 - build - soilgrids - INFO - Interpolate NAN values for f\r\n"
     ]
    },
    {
     "name": "stdout",
     "output_type": "stream",
     "text": [
      "2022-01-26 16:34:19,102 - build - soilgrids - INFO - Interpolate NAN values for wflow_soil\r\n"
     ]
    },
    {
     "name": "stdout",
     "output_type": "stream",
     "text": [
      "2022-01-26 16:34:19,154 - build - model_api - INFO - setup_gauges.gauges_fn: grdc\r\n",
      "2022-01-26 16:34:19,154 - build - model_api - INFO - setup_gauges.source_gdf: None\r\n",
      "2022-01-26 16:34:19,154 - build - model_api - INFO - setup_gauges.snap_to_river: True\r\n",
      "2022-01-26 16:34:19,154 - build - model_api - INFO - setup_gauges.mask: None\r\n",
      "2022-01-26 16:34:19,154 - build - model_api - INFO - setup_gauges.derive_subcatch: False\r\n",
      "2022-01-26 16:34:19,154 - build - model_api - INFO - setup_gauges.derive_outlet: True\r\n",
      "2022-01-26 16:34:19,154 - build - model_api - INFO - setup_gauges.basename: None\r\n",
      "2022-01-26 16:34:19,154 - build - model_api - INFO - setup_gauges.update_toml: True\r\n",
      "2022-01-26 16:34:19,154 - build - model_api - INFO - setup_gauges.gauge_toml_header: None\r\n",
      "2022-01-26 16:34:19,154 - build - model_api - INFO - setup_gauges.gauge_toml_param: None\r\n",
      "2022-01-26 16:34:19,154 - build - wflow - INFO - Gauges locations set based on river outlets.\r\n",
      "2022-01-26 16:34:19,163 - build - wflow - INFO - Gauges map based on catchment river outlets added.\r\n",
      "2022-01-26 16:34:19,163 - build - data_adapter - INFO - DataCatalog: Getting grdc GeoDataFrame csv data from /home/runner/.hydromt_data/data/v0.0.6/grdc.csv\r\n",
      "2022-01-26 16:34:19,166 - build - data_adapter - INFO - GeoDataFrame: Read csv data and clip to geom (epsg:4326) [11.775, 45.804, 12.745, 46.690].\r\n"
     ]
    },
    {
     "name": "stdout",
     "output_type": "stream",
     "text": [
      "2022-01-26 16:34:19,190 - build - wflow - INFO - 3 grdc gauge locations found within domain\r\n",
      "2022-01-26 16:34:19,200 - build - wflow - INFO - Gauges map from grdc added.\r\n",
      "2022-01-26 16:34:19,200 - build - model_api - INFO - setup_precip_forcing.precip_fn: era5\r\n",
      "2022-01-26 16:34:19,200 - build - model_api - INFO - setup_precip_forcing.precip_clim_fn: None\r\n",
      "2022-01-26 16:34:19,200 - build - model_api - INFO - setup_precip_forcing.chunksize: None\r\n",
      "2022-01-26 16:34:19,201 - build - data_adapter - INFO - DataCatalog: Getting era5 RasterDataset netcdf data from /home/runner/.hydromt_data/data/v0.0.6/era5.nc\r\n",
      "2022-01-26 16:34:19,217 - build - data_adapter - DEBUG - RasterDataset: Shifting time labels with 86400 sec.\r\n",
      "2022-01-26 16:34:19,220 - build - data_adapter - DEBUG - RasterDataset: Slicing time dim ('2010-01-01T00:00:00', '2010-03-31T00:00:00')\r\n",
      "2022-01-26 16:34:19,234 - build - data_adapter - DEBUG - RasterDataset: Clip with geom - [11.778, 45.807, 12.745, 46.690]\r\n"
     ]
    },
    {
     "name": "stdout",
     "output_type": "stream",
     "text": [
      "2022-01-26 16:34:19,251 - build - data_adapter - DEBUG - RasterDataset: Convert units for 1 variables.\r\n"
     ]
    },
    {
     "name": "stdout",
     "output_type": "stream",
     "text": [
      "2022-01-26 16:34:19,324 - build - model_api - INFO - setup_temp_pet_forcing.temp_pet_fn: era5\r\n",
      "2022-01-26 16:34:19,325 - build - model_api - INFO - setup_temp_pet_forcing.pet_method: debruin\r\n",
      "2022-01-26 16:34:19,325 - build - model_api - INFO - setup_temp_pet_forcing.press_correction: True\r\n",
      "2022-01-26 16:34:19,325 - build - model_api - INFO - setup_temp_pet_forcing.temp_correction: True\r\n",
      "2022-01-26 16:34:19,325 - build - model_api - INFO - setup_temp_pet_forcing.dem_forcing_fn: era5_orography\r\n",
      "2022-01-26 16:34:19,325 - build - model_api - INFO - setup_temp_pet_forcing.skip_pet: False\r\n",
      "2022-01-26 16:34:19,325 - build - model_api - INFO - setup_temp_pet_forcing.chunksize: None\r\n",
      "2022-01-26 16:34:19,325 - build - data_adapter - INFO - DataCatalog: Getting era5 RasterDataset netcdf data from /home/runner/.hydromt_data/data/v0.0.6/era5.nc\r\n",
      "2022-01-26 16:34:19,336 - build - data_adapter - DEBUG - RasterDataset: Shifting time labels with 86400 sec.\r\n"
     ]
    },
    {
     "name": "stdout",
     "output_type": "stream",
     "text": [
      "2022-01-26 16:34:19,338 - build - data_adapter - DEBUG - RasterDataset: Slicing time dim ('2010-01-01T00:00:00', '2010-03-31T00:00:00')\r\n",
      "2022-01-26 16:34:19,347 - build - data_adapter - DEBUG - RasterDataset: Clip with geom - [11.778, 45.807, 12.745, 46.690]\r\n",
      "2022-01-26 16:34:19,361 - build - data_adapter - DEBUG - RasterDataset: Convert units for 4 variables.\r\n"
     ]
    },
    {
     "name": "stdout",
     "output_type": "stream",
     "text": [
      "2022-01-26 16:34:19,405 - build - data_adapter - INFO - DataCatalog: Getting era5_orography RasterDataset netcdf data from /home/runner/.hydromt_data/data/v0.0.6/era5_orography.nc\r\n",
      "2022-01-26 16:34:19,420 - build - data_adapter - DEBUG - RasterDataset: Clip with geom - [11.625, 45.625, 12.875, 46.875]\r\n"
     ]
    },
    {
     "name": "stdout",
     "output_type": "stream",
     "text": [
      "2022-01-26 16:34:19,442 - build - data_adapter - DEBUG - RasterDataset: Convert units for 1 variables.\r\n"
     ]
    },
    {
     "name": "stdout",
     "output_type": "stream",
     "text": [
      "2022-01-26 16:34:19,863 - build - wflow - INFO - Write model data to /home/runner/work/hydromt_wflow/hydromt_wflow/docs/examples/examples/wflow_test_full\r\n",
      "2022-01-26 16:34:19,877 - build - model_api - INFO - Writing model config to /home/runner/work/hydromt_wflow/hydromt_wflow/docs/examples/examples/wflow_test_full/wflow_sbm.toml\r\n",
      "2022-01-26 16:34:19,878 - build - wflow - INFO - Write staticmaps to /home/runner/work/hydromt_wflow/hydromt_wflow/docs/examples/examples/wflow_test_full/staticmaps.nc\r\n"
     ]
    },
    {
     "name": "stdout",
     "output_type": "stream",
     "text": [
      "2022-01-26 16:34:20,371 - build - wflow - INFO - Writing model staticgeom to file.\r\n"
     ]
    },
    {
     "name": "stdout",
     "output_type": "stream",
     "text": [
      "2022-01-26 16:34:20,505 - build - wflow - INFO - Write forcing file\r\n"
     ]
    },
    {
     "name": "stdout",
     "output_type": "stream",
     "text": [
      "2022-01-26 16:34:20,511 - build - wflow - INFO - Process forcing; saving to /home/runner/work/hydromt_wflow/hydromt_wflow/docs/examples/examples/wflow_test_full/inmaps-era5-2010.nc\r\n",
      "\r",
      "[                                        ] | 0% Completed |  0.0s"
     ]
    },
    {
     "name": "stdout",
     "output_type": "stream",
     "text": [
      "\r",
      "[########################################] | 100% Completed |  0.1s\r\n",
      "\u001b[0m"
     ]
    }
   ],
   "source": [
    "# NOTE: copy this line (without !) to your shell for more direct feedback\n",
    "!hydromt build wflow \"./wflow_test_full\" \"{'subbasin': [12.2051, 45.8331], 'strord': 4, 'bounds': [11.70, 45.35, 12.95, 46.70]}\" -r 0.00833 -i wflow_build.ini -vv"
   ]
  },
  {
   "cell_type": "markdown",
   "id": "b31e92d2",
   "metadata": {},
   "source": [
    "With this example we build a complete wflow model including forcing. Compared to the previous **hydromt build** we have added:\n",
    "* `-i wflow_build.ini` : setup configuration file including all components to build and their arguments"
   ]
  },
  {
   "cell_type": "markdown",
   "id": "2eed76e4",
   "metadata": {},
   "source": [
    "Next we check which files have been created. The model root should contain two netcdf (.nc) files, one for the staticmaps and one for the forcing data, a wflow configuration (.toml) file. These files are sufficient to run the wflow model. In addition several geometry (.geojson) files are saved in the *staticgeoms* folder.  Finally, the setup process is logged in the hydromt.log file. "
   ]
  },
  {
   "cell_type": "code",
   "execution_count": 6,
   "id": "wireless-style",
   "metadata": {
    "execution": {
     "iopub.execute_input": "2022-01-26T16:34:21.503593Z",
     "iopub.status.busy": "2022-01-26T16:34:21.501528Z",
     "iopub.status.idle": "2022-01-26T16:34:21.508376Z",
     "shell.execute_reply": "2022-01-26T16:34:21.507407Z"
    }
   },
   "outputs": [
    {
     "name": "stdout",
     "output_type": "stream",
     "text": [
      "wflow_test_full\n",
      " - inmaps-era5-2010.nc\n",
      " - hydromt.log\n",
      " - staticmaps.nc\n",
      " - wflow_sbm.toml\n",
      " - hydromt_data.yml\n",
      "wflow_test_full/staticgeoms\n",
      " - gauges.geojson\n",
      " - basins.geojson\n",
      " - rivers.geojson\n",
      " - region.geojson\n",
      " - gauges_grdc.geojson\n",
      " - glaciers.geojson\n",
      "wflow_test_full/instate\n",
      "wflow_test_full/run_default\n"
     ]
    }
   ],
   "source": [
    "import os\n",
    "\n",
    "root = \"wflow_test_full\"\n",
    "for path, _, files in os.walk(root):\n",
    "    print(path)\n",
    "    for name in files:\n",
    "        if name.endswith(\".xml\"):\n",
    "            continue\n",
    "        print(f\" - {name}\")"
   ]
  },
  {
   "cell_type": "markdown",
   "id": "adef7fa1",
   "metadata": {},
   "source": [
    "### Visualize and/or inspect model schematization"
   ]
  },
  {
   "cell_type": "markdown",
   "id": "20ce9df3",
   "metadata": {},
   "source": [
    "* The **wflow plot** example notebook contains scripts to visualize your model\n",
    "* The **wflow nc to raster files** example notebook contains scripts to write the nc model files to a netcdf which can be used to inspect (and modify) the model layers in e.g. QGIS."
   ]
  }
 ],
 "metadata": {
  "kernelspec": {
   "display_name": "Python 3 (ipykernel)",
   "language": "python",
   "name": "python3"
  },
  "language_info": {
   "codemirror_mode": {
    "name": "ipython",
    "version": 3
   },
   "file_extension": ".py",
   "mimetype": "text/x-python",
   "name": "python",
   "nbconvert_exporter": "python",
   "pygments_lexer": "ipython3",
   "version": "3.9.9"
  }
 },
 "nbformat": 4,
 "nbformat_minor": 5
}
