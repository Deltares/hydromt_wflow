{
 "cells": [
  {
   "cell_type": "markdown",
   "id": "9a73590b",
   "metadata": {},
   "source": [
    "## Build a Wflow model from scratch"
   ]
  },
  {
   "cell_type": "markdown",
   "id": "ee510c6e",
   "metadata": {},
   "source": [
    "This notebook demonstrates how to prepare **Wflow** model from scratch using the command line interace (CLI)."
   ]
  },
  {
   "cell_type": "markdown",
   "id": "6b96aa15",
   "metadata": {},
   "source": [
    "All lines in this notebook which start with `!` are executed from the command line. Within the notebook environment the logging messages are shown after completion. You can also copy these lines and paste these in your shell to get more direct feedback."
   ]
  },
  {
   "cell_type": "markdown",
   "id": "451c8168",
   "metadata": {},
   "source": [
    "### hydroMT CLI build interface"
   ]
  },
  {
   "cell_type": "markdown",
   "id": "2c70853e",
   "metadata": {},
   "source": [
    "Lets first check if the Wflow model is recognized by hydromt"
   ]
  },
  {
   "cell_type": "code",
   "execution_count": 1,
   "id": "40470302",
   "metadata": {
    "execution": {
     "iopub.execute_input": "2021-06-24T13:17:58.697114Z",
     "iopub.status.busy": "2021-06-24T13:17:58.696712Z",
     "iopub.status.idle": "2021-06-24T13:18:01.211076Z",
     "shell.execute_reply": "2021-06-24T13:18:01.209711Z"
    }
   },
   "outputs": [
    {
     "name": "stdout",
     "output_type": "stream",
     "text": [
      "hydroMT model plugins: wflow, wflow_sediment\r\n",
      "\u001b[0m"
     ]
    }
   ],
   "source": [
    "# this should return \"wflow, wflow_seciment\"\n",
    "!hydromt --models"
   ]
  },
  {
   "cell_type": "markdown",
   "id": "7d9b5a20",
   "metadata": {},
   "source": [
    "Using the **hydromt build** API we can setup a complete model from scratch. Let's get an overview of all the available options:"
   ]
  },
  {
   "cell_type": "code",
   "execution_count": 2,
   "id": "1d39e4a1",
   "metadata": {
    "execution": {
     "iopub.execute_input": "2021-06-24T13:18:01.216479Z",
     "iopub.status.busy": "2021-06-24T13:18:01.214736Z",
     "iopub.status.idle": "2021-06-24T13:18:03.658175Z",
     "shell.execute_reply": "2021-06-24T13:18:03.658655Z"
    }
   },
   "outputs": [
    {
     "name": "stdout",
     "output_type": "stream",
     "text": [
      "Usage: hydromt build [OPTIONS] MODEL MODEL_ROOT REGION\r\n",
      "\r\n",
      "  Build models from source data.\r\n",
      "\r\n",
      "  Example usage:\r\n",
      "  --------------\r\n",
      "\r\n",
      "  To build a wflow model for a subbasin using and point coordinates snapped to cells with stream order >= 4\r\n",
      "  hydromt build wflow /path/to/model_root \"{'subbasin': [-7.24, 62.09], 'strord': 4}\" -i /path/to/wflow_config.ini\r\n",
      "\r\n",
      "  To build a wflow model based on basin ID\r\n",
      "  hydromt build wflow /path/to/model_root \"{'basin': 230001006}\"\r\n",
      "\r\n",
      "  To build a sfincs model based on a bbox (for Texel)\r\n",
      "  hydromt build sfincs /path/to/model_root \"{'bbox': [4.6891,52.9750,4.9576,53.1994]}\"\r\n",
      "\r\n",
      "Options:\r\n",
      "  -r, --res FLOAT             Model resolution in model src.\r\n",
      "  --build-base / --build-all  Deprecated!\r\n",
      "  --opt TEXT                  Component specific keyword arguments, see the\r\n",
      "                              setup_<component> method of the specific model\r\n",
      "                              for more information about the arguments.\r\n",
      "\r\n",
      "  -i, --config PATH           Path to hydroMT configuration file, for the\r\n",
      "                              model specific implementation.\r\n",
      "\r\n",
      "  -d, --data PATH             File path to yml data sources file. See\r\n",
      "                              documentation for required yml file format.\r\n",
      "\r\n",
      "  --dd, --deltares-data       Parse default deltares data yml from\r\n",
      "                              https://github.com/DirkEilander/hydromt-\r\n",
      "                              artifacts/releases\r\n",
      "\r\n",
      "  -q, --quiet                 Decrease verbosity.\r\n",
      "  -v, --verbose               Increase verbosity.\r\n",
      "  --help                      Show this message and exit.\r\n",
      "\u001b[0m"
     ]
    }
   ],
   "source": [
    "!hydromt build --help"
   ]
  },
  {
   "cell_type": "markdown",
   "id": "f286fccb",
   "metadata": {},
   "source": [
    "### setup wflow model base layers "
   ]
  },
  {
   "cell_type": "code",
   "execution_count": 3,
   "id": "closed-excerpt",
   "metadata": {
    "execution": {
     "iopub.execute_input": "2021-06-24T13:18:03.664542Z",
     "iopub.status.busy": "2021-06-24T13:18:03.662771Z",
     "iopub.status.idle": "2021-06-24T13:18:28.479495Z",
     "shell.execute_reply": "2021-06-24T13:18:28.480071Z"
    }
   },
   "outputs": [
    {
     "name": "stdout",
     "output_type": "stream",
     "text": [
      "2021-06-24 13:18:05,681 - build - log - INFO - HydroMT version: 0.4.0\r\n",
      "2021-06-24 13:18:05,681 - build - main - INFO - Building instance of wflow model at /home/runner/work/hydromt_wflow/hydromt_wflow/docs/examples/examples/wflow_test_base.\r\n",
      "2021-06-24 13:18:05,681 - build - main - INFO - User settings:\r\n",
      "2021-06-24 13:18:05,681 - build - wflow - INFO - Preparing base hydrography basemaps.\r\n",
      "2021-06-24 13:18:05,681 - build - data_adapter - INFO - Downloading file to /home/runner/.hydromt_data/data/v0.0.2/data.tar.gz\r\n"
     ]
    },
    {
     "name": "stdout",
     "output_type": "stream",
     "text": [
      "2021-06-24 13:18:08,162 - build - data_adapter - INFO - Updating data sources from yml file /home/runner/.hydromt_data/data/v0.0.2/data_catalog.yml\r\n"
     ]
    },
    {
     "name": "stdout",
     "output_type": "stream",
     "text": [
      "2021-06-24 13:18:08,222 - build - data_adapter - INFO - DataCatalog: Getting merit_hydro RasterDataset raster data from /home/runner/.hydromt_data/data/v0.0.2/merit_hydro/{variable}.tif\r\n"
     ]
    },
    {
     "name": "stdout",
     "output_type": "stream",
     "text": [
      "2021-06-24 13:18:11,432 - build - basin_mask - INFO - basin bbox: [11.7750, 45.8042, 12.7450, 46.6900] / size: 664756\r\n"
     ]
    },
    {
     "name": "stdout",
     "output_type": "stream",
     "text": [
      "2021-06-24 13:18:11,694 - build - basemaps - INFO - Upscale flow direction data: 10x, ihu method.\r\n"
     ]
    },
    {
     "name": "stdout",
     "output_type": "stream",
     "text": [
      "2021-06-24 13:18:27,646 - build - wflow - INFO - Write model data to /home/runner/work/hydromt_wflow/hydromt_wflow/docs/examples/examples/wflow_test_base\r\n"
     ]
    },
    {
     "name": "stdout",
     "output_type": "stream",
     "text": [
      "2021-06-24 13:18:27,649 - build - model_api - INFO - Writing model config to /home/runner/work/hydromt_wflow/hydromt_wflow/docs/examples/examples/wflow_test_base/wflow_sbm.toml\r\n",
      "2021-06-24 13:18:27,649 - build - wflow - INFO - Write staticmaps to /home/runner/work/hydromt_wflow/hydromt_wflow/docs/examples/examples/wflow_test_base/staticmaps.nc\r\n"
     ]
    },
    {
     "name": "stdout",
     "output_type": "stream",
     "text": [
      "2021-06-24 13:18:27,761 - build - wflow - INFO - Writing model staticgeom to file.\r\n"
     ]
    },
    {
     "name": "stdout",
     "output_type": "stream",
     "text": [
      "\u001b[0m"
     ]
    }
   ],
   "source": [
    "# NOTE: copy this line (without !) to your shell for more direct feedback\n",
    "!hydromt build wflow \"./wflow_test_base\" \"{'subbasin': [12.2051, 45.8331], 'strord': 4, 'bounds': [11.70, 45.35, 12.95, 46.70]}\" -r 0.00833 -v"
   ]
  },
  {
   "cell_type": "markdown",
   "id": "cb9d0032",
   "metadata": {},
   "source": [
    "The example above means the following: run **hydromt build** with:\n",
    "\n",
    "* `wflow` : i.e. build a wflow model\n",
    "* `./wflow_test_base` : output model folder\n",
    "* `\"{'subbasin': [12.2051, 45.8331], 'strord': 4, 'bounds': [11.70, 45.35, 12.95, 46.70]}\"` : derive a subbasin with its outlet at the given x,y coordinates and within the given bounds [xmin, ymin, xmax, ymax] (WGS84) snapped to a river with minimum stream order (strord) of 4. All *REGION* options are described in the [docs](https://deltares.github.io/hydromt/latest/user_guide/cli.html#region-options)\n",
    "* `-r 0.0083333` : build the model at a 30 arc sec (~1km) resolution\n",
    "* `-vv` : give some extra verbosity (2 * v) to display feedback on screen. Now debug messages are provided.\n",
    "\n",
    "NOTE: As we did not specify a model configuration, only the base maps (topography and hydrography) have been setup using default parameters. To build a complete model we need the use a configuraton ini-file."
   ]
  },
  {
   "cell_type": "markdown",
   "id": "ebd31242",
   "metadata": {},
   "source": [
    "### Model setup configuration"
   ]
  },
  {
   "cell_type": "markdown",
   "id": "fb8282c9",
   "metadata": {},
   "source": [
    "The ini-file contains the model setup configuration and determines which components are build and in which order and optionally sets non-default arguments for each component. This configuration is passed to hydromt using `-i <path_to_ini_file>`. We have prepared several example ini-files which are available in the model repository [examples folder](https://github.com/Deltares/hydromt_wflow/tree/main/examples) and from the [docs(build_configuration)](https://deltares.github.io/hydromt_wflow/latest/user_guide/wflow/build_configuration.html). \n",
    "\n",
    "Each header as shown between `[...]` (e.g. `[setup_basemaps]`) corresponds to a model component. All model components are explained in the [docs(model_components)](https://deltares.github.io/hydromt_wflow/latest/user_guide/wflow/components.html). "
   ]
  },
  {
   "cell_type": "markdown",
   "id": "cc3fd44d",
   "metadata": {},
   "source": [
    "We will load the default wflow build ini file for inspection:"
   ]
  },
  {
   "cell_type": "code",
   "execution_count": 4,
   "id": "e88d4aed",
   "metadata": {
    "execution": {
     "iopub.execute_input": "2021-06-24T13:18:28.485301Z",
     "iopub.status.busy": "2021-06-24T13:18:28.484614Z",
     "iopub.status.idle": "2021-06-24T13:18:28.489167Z",
     "shell.execute_reply": "2021-06-24T13:18:28.488770Z"
    }
   },
   "outputs": [
    {
     "name": "stdout",
     "output_type": "stream",
     "text": [
      "[global]\n",
      "data_libs       = []            # add optional paths to data yml files\n",
      "\n",
      "[setup_config]                  # options parsed to wflow ini file <section>.<option>\n",
      "starttime = 2010-01-01T00:00:00\n",
      "endtime = 2010-03-31T00:00:00\n",
      "timestepsecs = 86400\n",
      "input.path_forcing = inmaps-era5-2010.nc\n",
      "\n",
      "[setup_basemaps]\n",
      "hydrography_fn     = merit_hydro   # source hydrography data {merit_hydro, merit_hydro_1k}\n",
      "basin_index_fn  = merit_hydro_index # source of basin index corresponding to hydrography_fn\n",
      "upscale_method  = ihu           # upscaling method for flow direction data, by default 'ihu'\n",
      "\n",
      "[setup_rivers]\n",
      "hydrography_fn  = merit_hydro   # source hydrography data, should match basemaps source\n",
      "river_upa       = 30            # minimum upstream area threshold for the river map [km2]\n",
      "slope_len       = 2000          # length over which tp calculate river slope [m]\n",
      "\n",
      "[setup_reservoirs]\n",
      "reservoirs_fn   = hydro_reservoirs  # source for reservoirs based on GRAND: {hydro_reservoirs}; None to skip\n",
      "min_area        = 1.0           # minimum lake area to consider [km2]\n",
      "priority_jrc    = True          # if True then JRC data from hydroengine is used to calculate some reservoir attributes instead of the GRanD and HydroLAKES db.   \n",
      "\n",
      "[setup_lakes]\n",
      "lakes_fn        = hydro_lakes   # source for lakes based on hydroLAKES: {hydro_lakes}; None to skip\n",
      "min_area        = 10.0          # minimum reservoir area to consider [km2]\n",
      "\n",
      "[setup_glaciers]\n",
      "glaciers_fn     = rgi           # source for glaciers based on Randolph Glacier Inventory {rgi}; None to skip\n",
      "min_area        = 1.0           # minimum glacier area to consider [km2]\n",
      "\n",
      "[setup_riverwidth]\n",
      "precip_fn       = chelsa        # source for precip climatology used to estimate discharge: {chelsa}\n",
      "climate_fn      = koppen_geiger # source for climate classification used to estimate discharge: {koppen_geiger}\n",
      "predictor       = discharge     # predictor used in power-law w=a*predictor^b {'discharge'; 'uparea', other staticmaps}; a and b can also be set here.\n",
      "fill            = False         # if False all river width values are set based on predictor, if True only data gaps and lakes/reservoirs in observed width are filled (works only with MERIT hydro)\n",
      "min_wth         = 1             # global minimum width\n",
      "\n",
      "[setup_lulcmaps]\n",
      "lulc_fn         = globcover     # source for lulc maps: {globcover, vito, corine}\n",
      "\n",
      "[setup_laimaps]\n",
      "lai_fn          = modis_lai     # source for LAI: {modis_lai}\n",
      "\n",
      "[setup_soilmaps]\n",
      "soil_fn         = soilgrids     # source for soilmaps: {soilgrids}\n",
      "ptf_ksatver     = brakensiek    # pedotransfer function to calculate hydraulic conductivity: {brakensiek, cosby}\n",
      "\n",
      "[setup_gauges]\n",
      "gauges_fn       = grdc          # if not None add gaugemap. Either a path or known gauges_fn: {grdc}\n",
      "snap_to_river   = True          # if True snaps gauges from source to river\n",
      "derive_subcatch = False         # if True derive subcatch map based on gauges.\n",
      "\n",
      "[setup_precip_forcing]\n",
      "precip_fn       = era5          # source for precipitation.\n",
      "precip_clim_fn  = None          # source for high resolution climatology to correct precipitation.\n",
      "\n",
      "[setup_temp_pet_forcing]\n",
      "temp_pet_fn     = era5          # source for temperature and potential evapotranspiration.\n",
      "press_correction= True          # if True temperature is corrected with elevation lapse rate.\n",
      "temp_correction = True          # if True pressure is corrected with elevation lapse rate.\n",
      "dem_forcing_fn  = era5_orography # source of elevation grid corresponding to temp_pet_fn. Used for lapse rate correction.\n",
      "pet_method      = debruin       # method to compute PET: {debruin, makkink}\n",
      "skip_pet        = False         # if True, only temperature is prepared.\n",
      "\n",
      "[setup_constant_pars]\n",
      "KsatHorFrac=100\n",
      "Cfmax = 3.75653\n",
      "cf_soil = 0.038\n",
      "EoverR = 0.11\n",
      "InfiltCapPath = 5\n",
      "InfiltCapSoil = 600 \n",
      "MaxLeakage = 0\n",
      "rootdistpar = -500\n",
      "TT = 0\n",
      "TTI = 2\n",
      "TTM = 0\n",
      "WHC = 0.1\n",
      "G_Cfmax = 5.3\n",
      "G_SIfrac = 0.002\n",
      "G_TT = 1.3\n"
     ]
    }
   ],
   "source": [
    "fn_ini = 'wflow_build.ini'\n",
    "with open(fn_ini, 'r') as f:\n",
    "    txt = f.read()\n",
    "print(txt)"
   ]
  },
  {
   "cell_type": "markdown",
   "id": "7584dcae",
   "metadata": {},
   "source": [
    "### Data for model setup"
   ]
  },
  {
   "cell_type": "markdown",
   "id": "dad35651",
   "metadata": {},
   "source": [
    "The `<...>_fn` arguments correspond to a data source from the `DataCatalog` which is based on a yml-file with references to the data paths/urls and how the data should be read. This file can be provided to hydromt using `-d <path_to_yml_file>`. \n",
    "\n",
    "By default some example data for the Piave basin will be downloaded to `~/.hydromt_data/` which is also used for this example. An overview of the available example data is provided [here](https://deltares.github.io/hydromt/latest/user_guide/data.html#available-global-datasets)\n",
    "This example data is a based on the data which available from the Deltares p-drive. \n",
    "If you have acces to this drive, a pre-configured catalog file can be loaded using the `--dd` flag. \n",
    "\n",
    "More background how to write a data catalog yml file can be found in the [hydromt core docs](https://deltares.github.io/hydromt/latest/user_guide/data.html) "
   ]
  },
  {
   "cell_type": "markdown",
   "id": "12860ed2",
   "metadata": {},
   "source": [
    "### Setup complete wflow model "
   ]
  },
  {
   "cell_type": "code",
   "execution_count": 5,
   "id": "hundred-trailer",
   "metadata": {
    "execution": {
     "iopub.execute_input": "2021-06-24T13:18:28.495514Z",
     "iopub.status.busy": "2021-06-24T13:18:28.493634Z",
     "iopub.status.idle": "2021-06-24T13:19:10.759826Z",
     "shell.execute_reply": "2021-06-24T13:19:10.759262Z"
    },
    "scrolled": true
   },
   "outputs": [
    {
     "name": "stdout",
     "output_type": "stream",
     "text": [
      "2021-06-24 13:18:30,521 - build - log - DEBUG - Writing log messages to new file /home/runner/work/hydromt_wflow/hydromt_wflow/docs/examples/examples/wflow_test_full/hydromt.log.\r\n",
      "2021-06-24 13:18:30,521 - build - log - INFO - HydroMT version: 0.4.0\r\n",
      "2021-06-24 13:18:30,521 - build - main - INFO - Building instance of wflow model at /home/runner/work/hydromt_wflow/hydromt_wflow/docs/examples/examples/wflow_test_full.\r\n",
      "2021-06-24 13:18:30,521 - build - main - INFO - User settings:\r\n",
      "2021-06-24 13:18:30,524 - build - cli_utils - INFO - global.data_libs: []\r\n",
      "2021-06-24 13:18:30,524 - build - cli_utils - INFO - setup_config.starttime: 2010-01-01T00:00:00\r\n",
      "2021-06-24 13:18:30,524 - build - cli_utils - INFO - setup_config.endtime: 2010-03-31T00:00:00\r\n",
      "2021-06-24 13:18:30,524 - build - cli_utils - INFO - setup_config.timestepsecs: 86400\r\n",
      "2021-06-24 13:18:30,524 - build - cli_utils - INFO - setup_config.input.path_forcing: inmaps-era5-2010.nc\r\n",
      "2021-06-24 13:18:30,524 - build - cli_utils - INFO - setup_basemaps.hydrography_fn: merit_hydro\r\n",
      "2021-06-24 13:18:30,524 - build - cli_utils - INFO - setup_basemaps.basin_index_fn: merit_hydro_index\r\n",
      "2021-06-24 13:18:30,525 - build - cli_utils - INFO - setup_basemaps.upscale_method: ihu\r\n",
      "2021-06-24 13:18:30,525 - build - cli_utils - INFO - setup_rivers.hydrography_fn: merit_hydro\r\n",
      "2021-06-24 13:18:30,525 - build - cli_utils - INFO - setup_rivers.river_upa: 30\r\n",
      "2021-06-24 13:18:30,525 - build - cli_utils - INFO - setup_rivers.slope_len: 2000\r\n",
      "2021-06-24 13:18:30,525 - build - cli_utils - INFO - setup_reservoirs.reservoirs_fn: hydro_reservoirs\r\n",
      "2021-06-24 13:18:30,525 - build - cli_utils - INFO - setup_reservoirs.min_area: 1.0\r\n",
      "2021-06-24 13:18:30,525 - build - cli_utils - INFO - setup_reservoirs.priority_jrc: True\r\n",
      "2021-06-24 13:18:30,525 - build - cli_utils - INFO - setup_lakes.lakes_fn: hydro_lakes\r\n",
      "2021-06-24 13:18:30,525 - build - cli_utils - INFO - setup_lakes.min_area: 10.0\r\n",
      "2021-06-24 13:18:30,525 - build - cli_utils - INFO - setup_glaciers.glaciers_fn: rgi\r\n",
      "2021-06-24 13:18:30,525 - build - cli_utils - INFO - setup_glaciers.min_area: 1.0\r\n",
      "2021-06-24 13:18:30,525 - build - cli_utils - INFO - setup_riverwidth.precip_fn: chelsa\r\n",
      "2021-06-24 13:18:30,525 - build - cli_utils - INFO - setup_riverwidth.climate_fn: koppen_geiger\r\n",
      "2021-06-24 13:18:30,525 - build - cli_utils - INFO - setup_riverwidth.predictor: discharge\r\n",
      "2021-06-24 13:18:30,525 - build - cli_utils - INFO - setup_riverwidth.fill: False\r\n",
      "2021-06-24 13:18:30,525 - build - cli_utils - INFO - setup_riverwidth.min_wth: 1\r\n",
      "2021-06-24 13:18:30,525 - build - cli_utils - INFO - setup_lulcmaps.lulc_fn: globcover\r\n",
      "2021-06-24 13:18:30,525 - build - cli_utils - INFO - setup_laimaps.lai_fn: modis_lai\r\n",
      "2021-06-24 13:18:30,525 - build - cli_utils - INFO - setup_soilmaps.soil_fn: soilgrids\r\n",
      "2021-06-24 13:18:30,525 - build - cli_utils - INFO - setup_soilmaps.ptf_ksatver: brakensiek\r\n",
      "2021-06-24 13:18:30,525 - build - cli_utils - INFO - setup_gauges.gauges_fn: grdc\r\n",
      "2021-06-24 13:18:30,525 - build - cli_utils - INFO - setup_gauges.snap_to_river: True\r\n",
      "2021-06-24 13:18:30,525 - build - cli_utils - INFO - setup_gauges.derive_subcatch: False\r\n",
      "2021-06-24 13:18:30,525 - build - cli_utils - INFO - setup_precip_forcing.precip_fn: era5\r\n",
      "2021-06-24 13:18:30,525 - build - cli_utils - INFO - setup_precip_forcing.precip_clim_fn: None\r\n",
      "2021-06-24 13:18:30,525 - build - cli_utils - INFO - setup_temp_pet_forcing.temp_pet_fn: era5\r\n",
      "2021-06-24 13:18:30,525 - build - cli_utils - INFO - setup_temp_pet_forcing.press_correction: True\r\n",
      "2021-06-24 13:18:30,525 - build - cli_utils - INFO - setup_temp_pet_forcing.temp_correction: True\r\n",
      "2021-06-24 13:18:30,525 - build - cli_utils - INFO - setup_temp_pet_forcing.dem_forcing_fn: era5_orography\r\n",
      "2021-06-24 13:18:30,525 - build - cli_utils - INFO - setup_temp_pet_forcing.pet_method: debruin\r\n",
      "2021-06-24 13:18:30,525 - build - cli_utils - INFO - setup_temp_pet_forcing.skip_pet: False\r\n",
      "2021-06-24 13:18:30,525 - build - cli_utils - INFO - setup_constant_pars.KsatHorFrac: 100\r\n",
      "2021-06-24 13:18:30,525 - build - cli_utils - INFO - setup_constant_pars.Cfmax: 3.75653\r\n",
      "2021-06-24 13:18:30,525 - build - cli_utils - INFO - setup_constant_pars.cf_soil: 0.038\r\n",
      "2021-06-24 13:18:30,526 - build - cli_utils - INFO - setup_constant_pars.EoverR: 0.11\r\n",
      "2021-06-24 13:18:30,526 - build - cli_utils - INFO - setup_constant_pars.InfiltCapPath: 5\r\n",
      "2021-06-24 13:18:30,526 - build - cli_utils - INFO - setup_constant_pars.InfiltCapSoil: 600\r\n",
      "2021-06-24 13:18:30,526 - build - cli_utils - INFO - setup_constant_pars.MaxLeakage: 0\r\n",
      "2021-06-24 13:18:30,526 - build - cli_utils - INFO - setup_constant_pars.rootdistpar: -500\r\n",
      "2021-06-24 13:18:30,526 - build - cli_utils - INFO - setup_constant_pars.TT: 0\r\n",
      "2021-06-24 13:18:30,526 - build - cli_utils - INFO - setup_constant_pars.TTI: 2\r\n",
      "2021-06-24 13:18:30,526 - build - cli_utils - INFO - setup_constant_pars.TTM: 0\r\n",
      "2021-06-24 13:18:30,526 - build - cli_utils - INFO - setup_constant_pars.WHC: 0.1\r\n",
      "2021-06-24 13:18:30,526 - build - cli_utils - INFO - setup_constant_pars.G_Cfmax: 5.3\r\n",
      "2021-06-24 13:18:30,526 - build - cli_utils - INFO - setup_constant_pars.G_SIfrac: 0.002\r\n",
      "2021-06-24 13:18:30,526 - build - cli_utils - INFO - setup_constant_pars.G_TT: 1.3\r\n",
      "2021-06-24 13:18:30,526 - build - model_api - DEBUG - Setting model config options.\r\n",
      "2021-06-24 13:18:30,529 - build - model_api - DEBUG - Default config read from /usr/share/miniconda/envs/hydromt-wflow/lib/python3.9/site-packages/hydromt_wflow/data/wflow/wflow_sbm.toml\r\n",
      "2021-06-24 13:18:30,529 - build - model_api - DEBUG - setup_basemaps.region: {'subbasin': [12.2051, 45.8331], 'strord': 4, 'bounds': [11.7, 45.35, 12.95, 46.7]}\r\n",
      "2021-06-24 13:18:30,529 - build - model_api - DEBUG - setup_basemaps.res: 0.00833\r\n",
      "2021-06-24 13:18:30,529 - build - model_api - DEBUG - setup_basemaps.hydrography_fn: merit_hydro\r\n",
      "2021-06-24 13:18:30,529 - build - model_api - DEBUG - setup_basemaps.basin_index_fn: merit_hydro_index\r\n",
      "2021-06-24 13:18:30,529 - build - model_api - DEBUG - setup_basemaps.upscale_method: ihu\r\n",
      "2021-06-24 13:18:30,529 - build - wflow - INFO - Preparing base hydrography basemaps.\r\n",
      "2021-06-24 13:18:30,529 - build - data_adapter - INFO - Updating data sources from yml file /home/runner/.hydromt_data/data/v0.0.2/data_catalog.yml\r\n"
     ]
    },
    {
     "name": "stdout",
     "output_type": "stream",
     "text": [
      "2021-06-24 13:18:30,593 - build - data_adapter - INFO - DataCatalog: Getting merit_hydro RasterDataset raster data from /home/runner/.hydromt_data/data/v0.0.2/merit_hydro/{variable}.tif\r\n"
     ]
    },
    {
     "name": "stdout",
     "output_type": "stream",
     "text": [
      "2021-06-24 13:18:30,661 - build - basin_mask - DEBUG - Parsed region (kind=subbasin): {'strord': 4, 'bounds': [11.7, 45.35, 12.95, 46.7], 'xy': [12.2051, 45.8331]}\r\n"
     ]
    },
    {
     "name": "stdout",
     "output_type": "stream",
     "text": [
      "2021-06-24 13:18:33,841 - build - basin_mask - INFO - basin bbox: [11.7750, 45.8042, 12.7450, 46.6900] / size: 664756\r\n"
     ]
    },
    {
     "name": "stdout",
     "output_type": "stream",
     "text": [
      "2021-06-24 13:18:33,949 - build - wflow - DEBUG - Adding basins vector to staticgeoms.\r\n",
      "2021-06-24 13:18:33,949 - build - basemaps - DEBUG - Mask in dataset assumed to represent subbasins.\r\n",
      "2021-06-24 13:18:33,951 - build - basemaps - DEBUG - (Sub)basin at original resolution has 664756 cells.\r\n"
     ]
    },
    {
     "name": "stdout",
     "output_type": "stream",
     "text": [
      "2021-06-24 13:18:34,096 - build - basemaps - DEBUG - Burn subbasin outlet in upstream area data.\r\n",
      "2021-06-24 13:18:34,111 - build - basemaps - INFO - Upscale flow direction data: 10x, ihu method.\r\n"
     ]
    },
    {
     "name": "stdout",
     "output_type": "stream",
     "text": [
      "2021-06-24 13:18:49,894 - build - basemaps - DEBUG - Derive stream order.\r\n"
     ]
    },
    {
     "name": "stdout",
     "output_type": "stream",
     "text": [
      "2021-06-24 13:18:50,056 - build - basemaps - DEBUG - Map shape: (106, 116); active cells: 6637.\r\n",
      "2021-06-24 13:18:50,056 - build - basemaps - DEBUG - Outlet coordinates (head): (12.20750,45.83583).\r\n"
     ]
    },
    {
     "name": "stdout",
     "output_type": "stream",
     "text": [
      "2021-06-24 13:18:50,112 - build - wflow - DEBUG - Adding region vector to staticgeoms.\r\n",
      "2021-06-24 13:18:50,123 - build - model_api - DEBUG - setup_rivers.hydrography_fn: merit_hydro\r\n",
      "2021-06-24 13:18:50,123 - build - model_api - DEBUG - setup_rivers.river_upa: 30\r\n",
      "2021-06-24 13:18:50,123 - build - model_api - DEBUG - setup_rivers.slope_len: 2000\r\n",
      "2021-06-24 13:18:50,123 - build - model_api - DEBUG - setup_rivers.n_river_mapping: None\r\n",
      "2021-06-24 13:18:50,123 - build - model_api - DEBUG - setup_rivers.min_rivlen_ratio: 0.1\r\n",
      "2021-06-24 13:18:50,123 - build - wflow - INFO - Preparing river maps.\r\n",
      "2021-06-24 13:18:50,123 - build - data_adapter - INFO - DataCatalog: Getting merit_hydro RasterDataset raster data from /home/runner/.hydromt_data/data/v0.0.2/merit_hydro/{variable}.tif\r\n"
     ]
    },
    {
     "name": "stdout",
     "output_type": "stream",
     "text": [
      "2021-06-24 13:18:50,191 - build - data_adapter - DEBUG - RasterDataset: Clip with geom - [11.778, 45.807, 12.745, 46.690]\r\n"
     ]
    },
    {
     "name": "stdout",
     "output_type": "stream",
     "text": [
      "2021-06-24 13:18:50,220 - build - river - DEBUG - Set river mask with upstream area threshold: 30 km2.\r\n",
      "2021-06-24 13:18:50,228 - build - river - DEBUG - Derive river length.\r\n"
     ]
    },
    {
     "name": "stdout",
     "output_type": "stream",
     "text": [
      "2021-06-24 13:18:55,104 - build - river - DEBUG - Derive river slope.\r\n"
     ]
    },
    {
     "name": "stdout",
     "output_type": "stream",
     "text": [
      "2021-06-24 13:18:55,493 - build - landuse - INFO - Deriving N_River using average resampling (nodata=-999.0).\r\n",
      "2021-06-24 13:18:55,505 - build - wflow - DEBUG - Adding rivers vector to staticgeoms.\r\n"
     ]
    },
    {
     "name": "stdout",
     "output_type": "stream",
     "text": [
      "2021-06-24 13:18:56,091 - build - model_api - DEBUG - setup_reservoirs.reservoirs_fn: hydro_reservoirs\r\n",
      "2021-06-24 13:18:56,091 - build - model_api - DEBUG - setup_reservoirs.min_area: 1.0\r\n",
      "2021-06-24 13:18:56,091 - build - model_api - DEBUG - setup_reservoirs.priority_jrc: True\r\n",
      "2021-06-24 13:18:56,092 - build - wflow - INFO - Preparing reservoir maps.\r\n",
      "2021-06-24 13:18:56,092 - build - data_adapter - INFO - DataCatalog: Getting hydro_reservoirs GeoDataFrame vector data from /home/runner/.hydromt_data/data/v0.0.2/hydro_reservoirs.gpkg\r\n"
     ]
    },
    {
     "name": "stdout",
     "output_type": "stream",
     "text": [
      "2021-06-24 13:18:56,133 - build - data_adapter - DEBUG - GeoDataFrame: Convert units for 5 columns.\r\n",
      "2021-06-24 13:18:56,137 - build - wflow - WARNING - No reservoirs of sufficient size found within region! Skipping reservoir procedures!\r\n",
      "2021-06-24 13:18:56,137 - build - model_api - DEBUG - setup_lakes.lakes_fn: hydro_lakes\r\n",
      "2021-06-24 13:18:56,137 - build - model_api - DEBUG - setup_lakes.min_area: 10.0\r\n",
      "2021-06-24 13:18:56,137 - build - wflow - INFO - Preparing lake maps.\r\n",
      "2021-06-24 13:18:56,137 - build - data_adapter - INFO - DataCatalog: Getting hydro_lakes GeoDataFrame vector data from /home/runner/.hydromt_data/data/v0.0.2/hydro_lakes.gpkg\r\n",
      "2021-06-24 13:18:56,170 - build - data_adapter - DEBUG - GeoDataFrame: Convert units for 1 columns.\r\n",
      "2021-06-24 13:18:56,172 - build - wflow - WARNING - No lakes of sufficient size found within region! Skipping lake procedures!\r\n",
      "2021-06-24 13:18:56,172 - build - model_api - DEBUG - setup_glaciers.glaciers_fn: rgi\r\n",
      "2021-06-24 13:18:56,172 - build - model_api - DEBUG - setup_glaciers.min_area: 1.0\r\n",
      "2021-06-24 13:18:56,172 - build - wflow - INFO - Preparing glacier maps.\r\n",
      "2021-06-24 13:18:56,172 - build - data_adapter - INFO - DataCatalog: Getting rgi GeoDataFrame vector data from /home/runner/.hydromt_data/data/v0.0.2/rgi.gpkg\r\n"
     ]
    },
    {
     "name": "stdout",
     "output_type": "stream",
     "text": [
      "2021-06-24 13:18:56,217 - build - wflow - INFO - 1 glaciers of sufficient size found within region.\r\n"
     ]
    },
    {
     "name": "stdout",
     "output_type": "stream",
     "text": [
      "2021-06-24 13:18:56,238 - build - glaciers - DEBUG - Creating vector grid for calculating glacier fraction and storage per grid cell\r\n"
     ]
    },
    {
     "name": "stdout",
     "output_type": "stream",
     "text": [
      "2021-06-24 13:18:56,451 - build - glaciers - DEBUG - Setting glacierfrac and store values per glacier.\r\n"
     ]
    },
    {
     "name": "stdout",
     "output_type": "stream",
     "text": [
      "2021-06-24 13:18:57,798 - build - model_api - DEBUG - setup_riverwidth.predictor: discharge\r\n",
      "2021-06-24 13:18:57,798 - build - model_api - DEBUG - setup_riverwidth.fill: False\r\n",
      "2021-06-24 13:18:57,798 - build - model_api - DEBUG - setup_riverwidth.fit: False\r\n",
      "2021-06-24 13:18:57,798 - build - model_api - DEBUG - setup_riverwidth.min_wth: 1\r\n",
      "2021-06-24 13:18:57,798 - build - model_api - DEBUG - setup_riverwidth.precip_fn: chelsa\r\n",
      "2021-06-24 13:18:57,798 - build - model_api - DEBUG - setup_riverwidth.climate_fn: koppen_geiger\r\n",
      "2021-06-24 13:18:57,798 - build - data_adapter - INFO - DataCatalog: Getting chelsa RasterDataset raster data from /home/runner/.hydromt_data/data/v0.0.2/chelsa.tif\r\n",
      "2021-06-24 13:18:57,811 - build - data_adapter - DEBUG - RasterDataset: Clip with geom - [11.778, 45.807, 12.745, 46.690]\r\n",
      "2021-06-24 13:18:57,832 - build - data_adapter - INFO - DataCatalog: Getting koppen_geiger RasterDataset raster data from /home/runner/.hydromt_data/data/v0.0.2/koppen_geiger.tif\r\n"
     ]
    },
    {
     "name": "stdout",
     "output_type": "stream",
     "text": [
      "2021-06-24 13:18:57,848 - build - data_adapter - DEBUG - RasterDataset: Clip with geom - [11.778, 45.807, 12.745, 46.690]\r\n",
      "2021-06-24 13:18:57,871 - build - river - DEBUG - Deriving predictor \"discharge\" values\r\n",
      "2021-06-24 13:18:57,877 - build - river - DEBUG - Basin base climate classification: 3 (Cfb)\r\n"
     ]
    },
    {
     "name": "stdout",
     "output_type": "stream",
     "text": [
      "2021-06-24 13:18:57,913 - build - river - WARNING - mask variable \"lakeareas\" not found in maps.\r\n",
      "2021-06-24 13:18:57,914 - build - river - WARNING - mask variable \"resareas\" not found in maps.\r\n",
      "2021-06-24 13:18:57,914 - build - river - DEBUG - glacareas masked out in rivwth data.\r\n",
      "2021-06-24 13:18:57,914 - build - river - INFO - Using \"width = a*discharge^b\"; where a=6.33, b=0.55 (nse=-0.447; outliers=6.09%)\r\n",
      "2021-06-24 13:18:57,914 - build - river - INFO - rivwth set globally based on width-discharge relationship.\r\n",
      "2021-06-24 13:18:57,917 - build - model_api - DEBUG - setup_lulcmaps.lulc_fn: globcover\r\n",
      "2021-06-24 13:18:57,917 - build - model_api - DEBUG - setup_lulcmaps.lulc_mapping_fn: None\r\n",
      "2021-06-24 13:18:57,917 - build - model_api - DEBUG - setup_lulcmaps.lulc_vars: ['landuse', 'Kext', 'N', 'PathFrac', 'RootingDepth', 'Sl', 'Swood', 'WaterFrac']\r\n",
      "2021-06-24 13:18:57,917 - build - wflow - INFO - Preparing LULC parameter maps.\r\n",
      "2021-06-24 13:18:57,917 - build - data_adapter - INFO - DataCatalog: Getting globcover RasterDataset raster data from /home/runner/.hydromt_data/data/v0.0.2/globcover.tif\r\n",
      "2021-06-24 13:18:57,930 - build - data_adapter - DEBUG - RasterDataset: Clip with geom - [11.778, 45.807, 12.745, 46.690]\r\n"
     ]
    },
    {
     "name": "stdout",
     "output_type": "stream",
     "text": [
      "2021-06-24 13:18:57,960 - build - landuse - INFO - Deriving landuse using nearest resampling (nodata=230).\r\n"
     ]
    },
    {
     "name": "stdout",
     "output_type": "stream",
     "text": [
      "2021-06-24 13:18:58,004 - build - landuse - INFO - Deriving Kext using average resampling (nodata=-999.0).\r\n",
      "2021-06-24 13:18:58,047 - build - landuse - INFO - Deriving N using average resampling (nodata=-999.0).\r\n"
     ]
    },
    {
     "name": "stdout",
     "output_type": "stream",
     "text": [
      "2021-06-24 13:18:58,094 - build - landuse - INFO - Deriving PathFrac using average resampling (nodata=-999.0).\r\n"
     ]
    },
    {
     "name": "stdout",
     "output_type": "stream",
     "text": [
      "2021-06-24 13:18:58,136 - build - landuse - INFO - Deriving RootingDepth using average resampling (nodata=-999).\r\n"
     ]
    },
    {
     "name": "stdout",
     "output_type": "stream",
     "text": [
      "2021-06-24 13:18:58,178 - build - landuse - INFO - Deriving Sl using average resampling (nodata=-999.0).\r\n"
     ]
    },
    {
     "name": "stdout",
     "output_type": "stream",
     "text": [
      "2021-06-24 13:18:58,217 - build - landuse - INFO - Deriving Swood using average resampling (nodata=-999.0).\r\n"
     ]
    },
    {
     "name": "stdout",
     "output_type": "stream",
     "text": [
      "2021-06-24 13:18:58,257 - build - landuse - INFO - Deriving WaterFrac using average resampling (nodata=-999).\r\n"
     ]
    },
    {
     "name": "stdout",
     "output_type": "stream",
     "text": [
      "2021-06-24 13:18:58,307 - build - model_api - DEBUG - setup_laimaps.lai_fn: modis_lai\r\n",
      "2021-06-24 13:18:58,307 - build - wflow - INFO - Preparing LAI maps.\r\n",
      "2021-06-24 13:18:58,307 - build - data_adapter - INFO - DataCatalog: Getting modis_lai RasterDataset netcdf data from /home/runner/.hydromt_data/data/v0.0.2/modis_lai.nc\r\n",
      "2021-06-24 13:18:58,323 - build - data_adapter - DEBUG - RasterDataset: Clip with geom - [11.778, 45.807, 12.745, 46.690]\r\n",
      "2021-06-24 13:18:58,347 - build - data_adapter - DEBUG - RasterDataset: Convert units for 1 variables.\r\n",
      "2021-06-24 13:18:58,353 - build - landuse - INFO - Deriving LAI using average resampling (nodata=None).\r\n"
     ]
    },
    {
     "name": "stdout",
     "output_type": "stream",
     "text": [
      "2021-06-24 13:18:58,424 - build - model_api - DEBUG - setup_soilmaps.soil_fn: soilgrids\r\n",
      "2021-06-24 13:18:58,424 - build - model_api - DEBUG - setup_soilmaps.ptf_ksatver: brakensiek\r\n",
      "2021-06-24 13:18:58,424 - build - wflow - INFO - Preparing soil parameter maps.\r\n",
      "2021-06-24 13:18:58,424 - build - data_adapter - INFO - DataCatalog: Getting soilgrids RasterDataset raster data from /home/runner/.hydromt_data/data/v0.0.2/soilgrids/{variable}.tif\r\n"
     ]
    },
    {
     "name": "stdout",
     "output_type": "stream",
     "text": [
      "2021-06-24 13:18:58,747 - build - data_adapter - DEBUG - RasterDataset: Clip with geom - [11.778, 45.807, 12.745, 46.690]\r\n"
     ]
    },
    {
     "name": "stdout",
     "output_type": "stream",
     "text": [
      "2021-06-24 13:18:58,917 - build - data_adapter - DEBUG - RasterDataset: Convert units for 21 variables.\r\n"
     ]
    },
    {
     "name": "stdout",
     "output_type": "stream",
     "text": [
      "2021-06-24 13:18:59,299 - build - soilgrids - INFO - calculate and resample thetaS\r\n"
     ]
    },
    {
     "name": "stdout",
     "output_type": "stream",
     "text": [
      "2021-06-24 13:18:59,860 - build - soilgrids - INFO - calculate and resample thetaR\r\n"
     ]
    },
    {
     "name": "stdout",
     "output_type": "stream",
     "text": [
      "2021-06-24 13:19:00,665 - build - soilgrids - INFO - calculate and resample KsatVer\r\n"
     ]
    },
    {
     "name": "stdout",
     "output_type": "stream",
     "text": [
      "2021-06-24 13:19:02,679 - build - soilgrids - INFO - calculate and resample pore size distribution index\r\n"
     ]
    },
    {
     "name": "stdout",
     "output_type": "stream",
     "text": [
      "2021-06-24 13:19:04,717 - build - soilgrids - INFO - fit z - log(KsatVer) with numpy linalg regression (y = b*x) -> M_\r\n"
     ]
    },
    {
     "name": "stdout",
     "output_type": "stream",
     "text": [
      "2021-06-24 13:19:05,075 - build - soilgrids - INFO - fit zi - Ksat with curve_fit (scipy.optimize) -> M\r\n"
     ]
    },
    {
     "name": "stdout",
     "output_type": "stream",
     "text": [
      "2021-06-24 13:19:08,721 - build - model_api - DEBUG - setup_gauges.gauges_fn: grdc\r\n",
      "2021-06-24 13:19:08,721 - build - model_api - DEBUG - setup_gauges.source_gdf: None\r\n",
      "2021-06-24 13:19:08,721 - build - model_api - DEBUG - setup_gauges.snap_to_river: True\r\n",
      "2021-06-24 13:19:08,721 - build - model_api - DEBUG - setup_gauges.mask: None\r\n",
      "2021-06-24 13:19:08,721 - build - model_api - DEBUG - setup_gauges.derive_subcatch: False\r\n",
      "2021-06-24 13:19:08,721 - build - model_api - DEBUG - setup_gauges.derive_outlet: True\r\n",
      "2021-06-24 13:19:08,721 - build - model_api - DEBUG - setup_gauges.basename: None\r\n",
      "2021-06-24 13:19:08,721 - build - model_api - DEBUG - setup_gauges.update_toml: True\r\n",
      "2021-06-24 13:19:08,721 - build - model_api - DEBUG - setup_gauges.gauge_toml_header: None\r\n",
      "2021-06-24 13:19:08,721 - build - model_api - DEBUG - setup_gauges.gauge_toml_param: None\r\n",
      "2021-06-24 13:19:08,721 - build - wflow - INFO - Gauges locations set based on outlets.\r\n"
     ]
    },
    {
     "name": "stdout",
     "output_type": "stream",
     "text": [
      "2021-06-24 13:19:08,734 - build - wflow - INFO - Gauges map based on catchment outlets added.\r\n",
      "2021-06-24 13:19:08,735 - build - data_adapter - INFO - DataCatalog: Getting grdc GeoDataFrame csv data from /home/runner/.hydromt_data/data/v0.0.2/grdc.csv\r\n",
      "2021-06-24 13:19:08,761 - build - wflow - INFO - 3 grdc gauge locations found within domain\r\n"
     ]
    },
    {
     "name": "stdout",
     "output_type": "stream",
     "text": [
      "2021-06-24 13:19:08,775 - build - wflow - INFO - Gauges map from grdc added.\r\n",
      "2021-06-24 13:19:08,775 - build - model_api - DEBUG - setup_precip_forcing.precip_fn: era5\r\n",
      "2021-06-24 13:19:08,775 - build - model_api - DEBUG - setup_precip_forcing.precip_clim_fn: None\r\n",
      "2021-06-24 13:19:08,775 - build - model_api - DEBUG - setup_precip_forcing.chunksize: None\r\n",
      "2021-06-24 13:19:08,775 - build - data_adapter - INFO - DataCatalog: Getting era5 RasterDataset netcdf data from /home/runner/.hydromt_data/data/v0.0.2/era5.nc\r\n",
      "2021-06-24 13:19:08,786 - build - data_adapter - DEBUG - RasterDataset: Shifting time labels with 86400 sec.\r\n",
      "2021-06-24 13:19:08,788 - build - data_adapter - DEBUG - RasterDataset: Slicing time dim ('2010-01-01T00:00:00', '2010-03-31T00:00:00')\r\n",
      "2021-06-24 13:19:08,801 - build - data_adapter - DEBUG - RasterDataset: Clip with geom - [11.778, 45.807, 12.745, 46.690]\r\n",
      "2021-06-24 13:19:08,823 - build - data_adapter - DEBUG - RasterDataset: Convert units for 1 variables.\r\n"
     ]
    },
    {
     "name": "stdout",
     "output_type": "stream",
     "text": [
      "2021-06-24 13:19:08,900 - build - model_api - DEBUG - setup_temp_pet_forcing.temp_pet_fn: era5\r\n",
      "2021-06-24 13:19:08,901 - build - model_api - DEBUG - setup_temp_pet_forcing.pet_method: debruin\r\n",
      "2021-06-24 13:19:08,901 - build - model_api - DEBUG - setup_temp_pet_forcing.press_correction: True\r\n",
      "2021-06-24 13:19:08,901 - build - model_api - DEBUG - setup_temp_pet_forcing.temp_correction: True\r\n",
      "2021-06-24 13:19:08,901 - build - model_api - DEBUG - setup_temp_pet_forcing.dem_forcing_fn: era5_orography\r\n",
      "2021-06-24 13:19:08,901 - build - model_api - DEBUG - setup_temp_pet_forcing.skip_pet: False\r\n",
      "2021-06-24 13:19:08,901 - build - model_api - DEBUG - setup_temp_pet_forcing.chunksize: None\r\n",
      "2021-06-24 13:19:08,901 - build - data_adapter - INFO - DataCatalog: Getting era5 RasterDataset netcdf data from /home/runner/.hydromt_data/data/v0.0.2/era5.nc\r\n",
      "2021-06-24 13:19:08,910 - build - data_adapter - DEBUG - RasterDataset: Shifting time labels with 86400 sec.\r\n",
      "2021-06-24 13:19:08,912 - build - data_adapter - DEBUG - RasterDataset: Slicing time dim ('2010-01-01T00:00:00', '2010-03-31T00:00:00')\r\n",
      "2021-06-24 13:19:08,922 - build - data_adapter - DEBUG - RasterDataset: Clip with geom - [11.778, 45.807, 12.745, 46.690]\r\n"
     ]
    },
    {
     "name": "stdout",
     "output_type": "stream",
     "text": [
      "2021-06-24 13:19:08,944 - build - data_adapter - DEBUG - RasterDataset: Convert units for 4 variables.\r\n",
      "2021-06-24 13:19:08,975 - build - data_adapter - INFO - DataCatalog: Getting era5_orography RasterDataset netcdf data from /home/runner/.hydromt_data/data/v0.0.2/era5_orography.nc\r\n"
     ]
    },
    {
     "name": "stdout",
     "output_type": "stream",
     "text": [
      "2021-06-24 13:19:08,989 - build - data_adapter - DEBUG - RasterDataset: Clip with geom - [11.625, 45.625, 12.875, 46.875]\r\n",
      "2021-06-24 13:19:09,010 - build - data_adapter - DEBUG - RasterDataset: Convert units for 1 variables.\r\n"
     ]
    },
    {
     "name": "stdout",
     "output_type": "stream",
     "text": [
      "2021-06-24 13:19:09,412 - build - wflow - INFO - Write model data to /home/runner/work/hydromt_wflow/hydromt_wflow/docs/examples/examples/wflow_test_full\r\n",
      "2021-06-24 13:19:09,412 - build - model_api - INFO - Writing model config to /home/runner/work/hydromt_wflow/hydromt_wflow/docs/examples/examples/wflow_test_full/wflow_sbm.toml\r\n",
      "2021-06-24 13:19:09,413 - build - wflow - INFO - Write staticmaps to /home/runner/work/hydromt_wflow/hydromt_wflow/docs/examples/examples/wflow_test_full/staticmaps.nc\r\n"
     ]
    },
    {
     "name": "stdout",
     "output_type": "stream",
     "text": [
      "2021-06-24 13:19:09,816 - build - wflow - INFO - Writing model staticgeom to file.\r\n"
     ]
    },
    {
     "name": "stdout",
     "output_type": "stream",
     "text": [
      "2021-06-24 13:19:09,963 - build - wflow - INFO - Write forcing file\r\n",
      "2021-06-24 13:19:09,968 - build - wflow - INFO - Process forcing; saving to /home/runner/work/hydromt_wflow/hydromt_wflow/docs/examples/examples/wflow_test_full/inmaps-era5-2010.nc\r\n",
      "\r",
      "[                                        ] | 0% Completed |  0.0s"
     ]
    },
    {
     "name": "stdout",
     "output_type": "stream",
     "text": [
      "\r",
      "[########################################] | 100% Completed |  0.1s\r\n",
      "\u001b[0m"
     ]
    }
   ],
   "source": [
    "# NOTE: copy this line (without !) to your shell for more direct feedback\n",
    "!hydromt build wflow \"./wflow_test_full\" \"{'subbasin': [12.2051, 45.8331], 'strord': 4, 'bounds': [11.70, 45.35, 12.95, 46.70]}\" -r 0.00833 -i wflow_build.ini -vv"
   ]
  },
  {
   "cell_type": "markdown",
   "id": "b31e92d2",
   "metadata": {},
   "source": [
    "With this example we build a complete wflow model including forcing. Compared to the previous **hydromt build** we have added:\n",
    "* `-i wflow_build.ini` : setup configuration file including all components to build and their arguments"
   ]
  },
  {
   "cell_type": "markdown",
   "id": "2eed76e4",
   "metadata": {},
   "source": [
    "Next we check which files have been created. The model root should contain two netcdf (.nc) files, one for the staticmaps and one for the forcing data, a wflow configuration (.toml) file. These files are sufficient to run the wflow model. In addition several geometry (.geojson) files are saved in the *staticgeoms* folder.  Finally, the setup process is logged in the hydromt.log file. "
   ]
  },
  {
   "cell_type": "code",
   "execution_count": 6,
   "id": "wireless-style",
   "metadata": {
    "execution": {
     "iopub.execute_input": "2021-06-24T13:19:10.765223Z",
     "iopub.status.busy": "2021-06-24T13:19:10.764003Z",
     "iopub.status.idle": "2021-06-24T13:19:10.768611Z",
     "shell.execute_reply": "2021-06-24T13:19:10.768219Z"
    }
   },
   "outputs": [
    {
     "name": "stdout",
     "output_type": "stream",
     "text": [
      "wflow_test_full\n",
      " - inmaps-era5-2010.nc\n",
      " - wflow_sbm.toml\n",
      " - hydromt.log\n",
      " - staticmaps.nc\n",
      "wflow_test_full/staticgeoms\n",
      " - glaciers.geojson\n",
      " - gauges.geojson\n",
      " - rivers.geojson\n",
      " - region.geojson\n",
      " - gauges_grdc.geojson\n",
      " - basins.geojson\n",
      "wflow_test_full/instate\n",
      "wflow_test_full/run_default\n"
     ]
    }
   ],
   "source": [
    "import os\n",
    "root = 'wflow_test_full'\n",
    "for path, _, files in os.walk(root):\n",
    "    print(path)\n",
    "    for name in files:\n",
    "        if name.endswith('.xml'):\n",
    "            continue\n",
    "        print(f' - {name}')"
   ]
  },
  {
   "cell_type": "markdown",
   "id": "adef7fa1",
   "metadata": {},
   "source": [
    "### Visualize and/or inspect model schematization"
   ]
  },
  {
   "cell_type": "markdown",
   "id": "20ce9df3",
   "metadata": {},
   "source": [
    "* The **wflow plot** example notebook contains scripts to visualize your model\n",
    "* The **wflow nc to raster files** example notebook contains scripts to write the nc model files to a netcdf which can be used to inspect (and modify) the model layers in e.g. QGIS."
   ]
  }
 ],
 "metadata": {
  "kernelspec": {
   "display_name": "Python 3",
   "language": "python",
   "name": "python3"
  },
  "language_info": {
   "codemirror_mode": {
    "name": "ipython",
    "version": 3
   },
   "file_extension": ".py",
   "mimetype": "text/x-python",
   "name": "python",
   "nbconvert_exporter": "python",
   "pygments_lexer": "ipython3",
   "version": "3.9.5"
  }
 },
 "nbformat": 4,
 "nbformat_minor": 5
}
