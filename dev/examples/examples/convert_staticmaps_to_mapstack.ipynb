{
 "cells": [
  {
   "cell_type": "markdown",
   "id": "6ea7a8ea",
   "metadata": {},
   "source": [
    "## Convert wflow staticmaps netcdf to raster files"
   ]
  },
  {
   "cell_type": "markdown",
   "id": "09ab27a8",
   "metadata": {},
   "source": [
    "In order to inspect or (manually) modify wflow staticmaps it is convenient to export the maps to a raster format. Here we show how to read the model maps and save to a so-called mapstack (i.e.: a set of raster files with identical grid) using hydromt.  "
   ]
  },
  {
   "cell_type": "markdown",
   "id": "163edfe3",
   "metadata": {},
   "source": [
    "### Load dependencies"
   ]
  },
  {
   "cell_type": "code",
   "execution_count": 1,
   "id": "d480af50",
   "metadata": {
    "execution": {
     "iopub.execute_input": "2022-04-28T15:19:26.594599Z",
     "iopub.status.busy": "2022-04-28T15:19:26.594317Z",
     "iopub.status.idle": "2022-04-28T15:19:28.909461Z",
     "shell.execute_reply": "2022-04-28T15:19:28.908843Z"
    }
   },
   "outputs": [],
   "source": [
    "import xarray as xr\n",
    "from os.path import join\n",
    "import hydromt\n",
    "from hydromt_wflow import WflowModel"
   ]
  },
  {
   "cell_type": "markdown",
   "id": "1c078a08",
   "metadata": {},
   "source": [
    "### Read wflow staticmaps"
   ]
  },
  {
   "cell_type": "markdown",
   "id": "fb790d49",
   "metadata": {},
   "source": [
    "hydroMT provides an easy method to read the model schematization trought the Model API."
   ]
  },
  {
   "cell_type": "code",
   "execution_count": 2,
   "id": "15044d4b",
   "metadata": {
    "execution": {
     "iopub.execute_input": "2022-04-28T15:19:28.912882Z",
     "iopub.status.busy": "2022-04-28T15:19:28.912634Z",
     "iopub.status.idle": "2022-04-28T15:19:28.980553Z",
     "shell.execute_reply": "2022-04-28T15:19:28.979904Z"
    }
   },
   "outputs": [
    {
     "name": "stdout",
     "output_type": "stream",
     "text": [
      "<xarray.Dataset>\n",
      "Dimensions:               (lat: 53, lon: 58, time: 12, layer: 4)\n",
      "Coordinates:\n",
      "  * lat                   (lat) float64 46.68 46.67 46.65 ... 45.85 45.83 45.82\n",
      "  * lon                   (lon) float64 11.78 11.8 11.82 ... 12.7 12.72 12.73\n",
      "  * time                  (time) int32 1 2 3 4 5 6 7 8 9 10 11 12\n",
      "  * layer                 (layer) int64 0 1 2 3\n",
      "    spatial_ref           int64 0\n",
      "Data variables: (12/86)\n",
      "    x_out                 (lat, lon) float64 nan nan nan nan ... nan nan nan nan\n",
      "    y_out                 (lat, lon) float64 nan nan nan nan ... nan nan nan nan\n",
      "    idx_out               (lat, lon) int32 -1 -1 -1 -1 -1 -1 ... -1 -1 -1 -1 -1\n",
      "    wflow_ldd             (lat, lon) uint8 255 255 255 255 ... 255 255 255 255\n",
      "    wflow_subcatch        (lat, lon) int32 0 0 0 0 0 0 0 0 0 ... 0 0 0 0 0 0 0 0\n",
      "    wflow_uparea          (lat, lon) float32 -9.999e+03 ... -9.999e+03\n",
      "    ...                    ...\n",
      "    TTI                   (lat, lon) float32 -999.0 -999.0 ... -999.0 -999.0\n",
      "    TTM                   (lat, lon) float32 -999.0 -999.0 ... -999.0 -999.0\n",
      "    WHC                   (lat, lon) float32 -999.0 -999.0 ... -999.0 -999.0\n",
      "    G_Cfmax               (lat, lon) float32 -999.0 -999.0 ... -999.0 -999.0\n",
      "    G_SIfrac              (lat, lon) float32 -999.0 -999.0 ... -999.0 -999.0\n",
      "    G_TT                  (lat, lon) float32 -999.0 -999.0 ... -999.0 -999.0\n"
     ]
    }
   ],
   "source": [
    "root = \"wflow_piave_subbasin\"\n",
    "mod = WflowModel(root, mode=\"r\")\n",
    "ds = mod.staticmaps  # here the staticmaps netcdf is loaded\n",
    "print(ds)"
   ]
  },
  {
   "cell_type": "markdown",
   "id": "1acdee64",
   "metadata": {},
   "source": [
    "### Write netcdf to mapstack"
   ]
  },
  {
   "cell_type": "markdown",
   "id": "36073d9b",
   "metadata": {},
   "source": [
    "The raster module provides many raster GIS methods throught the **raster** Dataset accessor. To write a Dataset to a mapstack one line with code is sufficient. We only need to provide the output folder in which all raster files are saved. The default output format is *GeoTIFF*, but this can be changed with the `driver` argument. To write to PCRaster map-files it is recommended to have PCRaster python installed."
   ]
  },
  {
   "cell_type": "code",
   "execution_count": 3,
   "id": "07e4d5b7",
   "metadata": {
    "execution": {
     "iopub.execute_input": "2022-04-28T15:19:28.984327Z",
     "iopub.status.busy": "2022-04-28T15:19:28.984169Z",
     "iopub.status.idle": "2022-04-28T15:19:29.268479Z",
     "shell.execute_reply": "2022-04-28T15:19:29.267949Z"
    }
   },
   "outputs": [],
   "source": [
    "outdir = join(root, \"staticmaps\")\n",
    "ds.raster.to_mapstack(outdir)"
   ]
  },
  {
   "cell_type": "markdown",
   "id": "b848f0e9",
   "metadata": {},
   "source": [
    "Now the model files can easily be inspected and modified e.g. QGIS.\n",
    "\n",
    "NOTE: in QGIS, you can also visualize but direct modification is not (yet) possible."
   ]
  },
  {
   "cell_type": "markdown",
   "id": "e1f84114",
   "metadata": {},
   "source": [
    "### Create staticmaps netcdf files based on mapstack"
   ]
  },
  {
   "cell_type": "markdown",
   "id": "bbe69373",
   "metadata": {},
   "source": [
    "If you want to update the staticmaps after modification the maps can be read into a Dataset by hydromt. We recommend the following workflow:\n",
    "\n",
    "* read the original model\n",
    "* read the updated mapstack\n",
    "* change the model root to write the updated model to a new directory\n",
    "* update the staticmaps of the model\n",
    "* write the model\n",
    "\n",
    "NOTE: We do not read the forcing as it is probably faster to just copy the file instead of loading it into python and writing it back to netcdf.\n",
    "\n",
    "NOTE: The staticgeoms might be changed because of manual changes in the wflow_river, lakes, reservoir or glacier staticmaps and are therefore not read here. To change these maps we recommend using the hydromt update method to keep the staticgeoms and maps aligned."
   ]
  },
  {
   "cell_type": "code",
   "execution_count": 4,
   "id": "42c8a6f3",
   "metadata": {
    "execution": {
     "iopub.execute_input": "2022-04-28T15:19:29.271785Z",
     "iopub.status.busy": "2022-04-28T15:19:29.271622Z",
     "iopub.status.idle": "2022-04-28T15:19:29.324860Z",
     "shell.execute_reply": "2022-04-28T15:19:29.324361Z"
    }
   },
   "outputs": [],
   "source": [
    "# read the original model\n",
    "root = \"wflow_piave_subbasin\"\n",
    "mod = WflowModel(root, mode=\"r\")\n",
    "mod.read_staticmaps()\n",
    "mod.read_config()"
   ]
  },
  {
   "cell_type": "code",
   "execution_count": 5,
   "id": "438a1d35",
   "metadata": {
    "execution": {
     "iopub.execute_input": "2022-04-28T15:19:29.327647Z",
     "iopub.status.busy": "2022-04-28T15:19:29.327410Z",
     "iopub.status.idle": "2022-04-28T15:19:29.914647Z",
     "shell.execute_reply": "2022-04-28T15:19:29.914103Z"
    }
   },
   "outputs": [],
   "source": [
    "# read the updated mapstack\n",
    "# NOTE: The mapstack does not have to include all staticmaps, only the once that are found will be updated.\n",
    "# The name of the staticmap should however have to be unchanged.\n",
    "ds_updated = hydromt.open_mfraster(join(root, \"staticmaps\", \"*.tif\"))"
   ]
  },
  {
   "cell_type": "code",
   "execution_count": 6,
   "id": "98ba4297",
   "metadata": {
    "execution": {
     "iopub.execute_input": "2022-04-28T15:19:29.917752Z",
     "iopub.status.busy": "2022-04-28T15:19:29.917450Z",
     "iopub.status.idle": "2022-04-28T15:19:29.920854Z",
     "shell.execute_reply": "2022-04-28T15:19:29.920363Z"
    }
   },
   "outputs": [],
   "source": [
    "# change root to a new directory\n",
    "root_updated = \"wflow_piave_subbasin_updated\"\n",
    "mod.set_root(root_updated, mode=\"w\")"
   ]
  },
  {
   "cell_type": "code",
   "execution_count": 7,
   "id": "1f9fd886",
   "metadata": {
    "execution": {
     "iopub.execute_input": "2022-04-28T15:19:29.923148Z",
     "iopub.status.busy": "2022-04-28T15:19:29.923003Z",
     "iopub.status.idle": "2022-04-28T15:19:29.925693Z",
     "shell.execute_reply": "2022-04-28T15:19:29.925207Z"
    }
   },
   "outputs": [],
   "source": [
    "# Reinitialize and update the new model staticmaps\n",
    "mod._staticmaps = xr.Dataset()\n",
    "mod.set_staticmaps(ds_updated)"
   ]
  },
  {
   "cell_type": "code",
   "execution_count": 8,
   "id": "2fef2a90",
   "metadata": {
    "execution": {
     "iopub.execute_input": "2022-04-28T15:19:29.928095Z",
     "iopub.status.busy": "2022-04-28T15:19:29.927785Z",
     "iopub.status.idle": "2022-04-28T15:19:30.705170Z",
     "shell.execute_reply": "2022-04-28T15:19:30.704646Z"
    }
   },
   "outputs": [],
   "source": [
    "# write the model to the new directory\n",
    "mod.write()"
   ]
  },
  {
   "cell_type": "markdown",
   "id": "7fdabc58",
   "metadata": {},
   "source": [
    "### Update wflow staticmaps manually using hydroMT"
   ]
  },
  {
   "cell_type": "markdown",
   "id": "e1567262",
   "metadata": {},
   "source": [
    "The previous steps show you how you can easily save a model staticmaps to a GeoTIFF mapstacks and read it again using hydroMT functions **to_mapstack** and **open_mfraster**.\n",
    "\n",
    "However in order to have a fully ready-to-run wflow model, the mapstacks that we create needs to be processed a little more:\n",
    "\n",
    "* The LAI maps have a third *time* dimension (other than x and y coordinates)\n",
    "* The c maps have a third soil *layer* dimension\n",
    "\n",
    "To update manually a wflow model that is then ready to run, we advise to use the following workflow and functions:\n",
    "\n",
    "* read the original model\n",
    "* save the original model staticmaps to formatted PCRaster mapstacks using the **write_staticmaps_pcr** function (based on to_mapstack with c and LAI pre-processing)\n",
    "* manually update the PCRaster maps (eg using QGIS)\n",
    "* read the updated staticmaps using the **read_staticmaps_pcr** function (based on open_mfraster with c and LAI post-processing)\n",
    "* Change the model root to write the updated model to a new directory\n",
    "* Write the model\n",
    "\n",
    "NOTE: We do not read the forcing as it is probably faster to just copy the file instead of loading it into python and writing it back to netcdf.\n",
    "\n",
    "NOTE: The staticgeoms might be changed because of manual changes in the wflow_river, lakes, reservoir or glacier staticmaps and are therefore not read here. To change these maps we recommend using the hydromt update method to keep the staticgeoms and maps aligned."
   ]
  },
  {
   "cell_type": "markdown",
   "id": "3464a5c3",
   "metadata": {},
   "source": [
    "#### Save the staticmaps as a PCRaster mapstack"
   ]
  },
  {
   "cell_type": "code",
   "execution_count": 9,
   "id": "b06f0f2b",
   "metadata": {
    "execution": {
     "iopub.execute_input": "2022-04-28T15:19:30.708660Z",
     "iopub.status.busy": "2022-04-28T15:19:30.708367Z",
     "iopub.status.idle": "2022-04-28T15:19:30.769101Z",
     "shell.execute_reply": "2022-04-28T15:19:30.768530Z"
    }
   },
   "outputs": [],
   "source": [
    "# read the original model\n",
    "root = \"wflow_piave_subbasin\"\n",
    "mod = WflowModel(root, mode=\"r+\")\n",
    "mod.read_staticmaps()\n",
    "mod.read_config()"
   ]
  },
  {
   "cell_type": "code",
   "execution_count": 10,
   "id": "330cfb52",
   "metadata": {
    "execution": {
     "iopub.execute_input": "2022-04-28T15:19:30.772619Z",
     "iopub.status.busy": "2022-04-28T15:19:30.772193Z",
     "iopub.status.idle": "2022-04-28T15:19:31.629262Z",
     "shell.execute_reply": "2022-04-28T15:19:31.628687Z"
    }
   },
   "outputs": [],
   "source": [
    "# save the staticmaps to PCRaster mapstacks and update them manually where needed\n",
    "mod.write_staticmaps_pcr()"
   ]
  },
  {
   "cell_type": "markdown",
   "id": "7474fc4e",
   "metadata": {},
   "source": [
    "#### Create a new wflow model based on the updated PCRaster mapstack"
   ]
  },
  {
   "cell_type": "code",
   "execution_count": 11,
   "id": "ca8c57cc",
   "metadata": {
    "execution": {
     "iopub.execute_input": "2022-04-28T15:19:31.632385Z",
     "iopub.status.busy": "2022-04-28T15:19:31.632079Z",
     "iopub.status.idle": "2022-04-28T15:19:32.337832Z",
     "shell.execute_reply": "2022-04-28T15:19:32.337226Z"
    }
   },
   "outputs": [],
   "source": [
    "# read the updated staticmaps\n",
    "root = \"wflow_piave_subbasin\"\n",
    "mod = WflowModel(root, mode=\"r\")\n",
    "mod.read_staticmaps_pcr()\n",
    "mod.read_config()"
   ]
  },
  {
   "cell_type": "code",
   "execution_count": 12,
   "id": "c84202b5",
   "metadata": {
    "execution": {
     "iopub.execute_input": "2022-04-28T15:19:32.341093Z",
     "iopub.status.busy": "2022-04-28T15:19:32.340754Z",
     "iopub.status.idle": "2022-04-28T15:19:34.934783Z",
     "shell.execute_reply": "2022-04-28T15:19:34.934238Z"
    }
   },
   "outputs": [
    {
     "name": "stderr",
     "output_type": "stream",
     "text": [
      "Model dir already exists and files might be overwritten: /home/runner/work/hydromt_wflow/hydromt_wflow/docs/examples/examples/wflow_piave_subbasin_updated/staticgeoms.\n"
     ]
    },
    {
     "name": "stderr",
     "output_type": "stream",
     "text": [
      "Model dir already exists and files might be overwritten: /home/runner/work/hydromt_wflow/hydromt_wflow/docs/examples/examples/wflow_piave_subbasin_updated/instate.\n"
     ]
    },
    {
     "name": "stderr",
     "output_type": "stream",
     "text": [
      "Model dir already exists and files might be overwritten: /home/runner/work/hydromt_wflow/hydromt_wflow/docs/examples/examples/wflow_piave_subbasin_updated/run_default.\n"
     ]
    },
    {
     "name": "stdout",
     "output_type": "stream",
     "text": [
      "Creating a new directory for the updated model\n"
     ]
    }
   ],
   "source": [
    "# change root to a new directory\n",
    "root_updated = \"wflow_piave_subbasin_updated\"\n",
    "mod.set_root(root_updated, mode=\"w\")\n",
    "# re-generate the basins and rivers staticgeoms, for others (gauges, lakes, reservoirs, glaicers) use the hydromt update method\n",
    "mod.basins\n",
    "mod.rivers\n",
    "print(\"Creating a new directory for the updated model\")"
   ]
  },
  {
   "cell_type": "code",
   "execution_count": 13,
   "id": "04df13a5",
   "metadata": {
    "execution": {
     "iopub.execute_input": "2022-04-28T15:19:34.937628Z",
     "iopub.status.busy": "2022-04-28T15:19:34.937321Z",
     "iopub.status.idle": "2022-04-28T15:19:35.792649Z",
     "shell.execute_reply": "2022-04-28T15:19:35.792124Z"
    }
   },
   "outputs": [],
   "source": [
    "# write the model to the new directory\n",
    "mod.write()"
   ]
  }
 ],
 "metadata": {
  "kernelspec": {
   "display_name": "Python 3 (ipykernel)",
   "language": "python",
   "name": "python3"
  },
  "language_info": {
   "codemirror_mode": {
    "name": "ipython",
    "version": 3
   },
   "file_extension": ".py",
   "mimetype": "text/x-python",
   "name": "python",
   "nbconvert_exporter": "python",
   "pygments_lexer": "ipython3",
   "version": "3.9.12"
  }
 },
 "nbformat": 4,
 "nbformat_minor": 5
}
