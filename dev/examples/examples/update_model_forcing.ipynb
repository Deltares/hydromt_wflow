{
 "cells": [
  {
   "cell_type": "markdown",
   "id": "3f28abc3",
   "metadata": {},
   "source": [
    "## Update a wflow model: forcing"
   ]
  },
  {
   "cell_type": "markdown",
   "id": "a2553c7d",
   "metadata": {},
   "source": [
    "Once you have a **Wflow** model, you may want to update your model in order to use a new landuse map, change a parameter value, add sample locations, use different forcing data, create and run different scenarios etc.\n",
    "\n",
    "With HydroMT, you can easily read your model and update one or several components of your model using the **update** function of the command line interface (CLI). Here are the steps and some examples on how to **update the model forcing**.\n",
    "\n",
    "All lines in this notebook which starts with ! are executed from the command line. Within the notebook environment the logging messages are shown after completion. You can also copy these lines and paste them in your shell to get more feedback."
   ]
  },
  {
   "cell_type": "markdown",
   "id": "eb86e5ad",
   "metadata": {},
   "source": [
    "### Import packages"
   ]
  },
  {
   "cell_type": "markdown",
   "id": "6451cc67",
   "metadata": {},
   "source": [
    "In this notebook, we will use some functions of HydroMT to plot the precipitation from the original and updated models. Here are the libraries to import to realize these steps."
   ]
  },
  {
   "cell_type": "code",
   "execution_count": 1,
   "id": "e9515676",
   "metadata": {
    "execution": {
     "iopub.execute_input": "2022-01-27T12:41:46.749682Z",
     "iopub.status.busy": "2022-01-27T12:41:46.749320Z",
     "iopub.status.idle": "2022-01-27T12:41:47.923633Z",
     "shell.execute_reply": "2022-01-27T12:41:47.923063Z"
    }
   },
   "outputs": [],
   "source": [
    "import xarray as xr\n",
    "import matplotlib.pyplot as plt"
   ]
  },
  {
   "cell_type": "markdown",
   "id": "d897fbcc",
   "metadata": {},
   "source": [
    "### Model setup configuration"
   ]
  },
  {
   "cell_type": "markdown",
   "id": "285bff3c",
   "metadata": {},
   "source": [
    "Updating landuse is an easy step with the command line but sometimes, for example with forcing, you want to update several things at the same time. This is possible by preparing a **configuration file** that includes every components and settings that you want to do during your update.\n",
    "\n",
    "The ini-file contains the model setup configuration and determines which components are updated and in which sequence and sets optional arguments for each component. This configuration is passed to hydromt using `-i <path_to_ini_file>`.\n",
    "\n",
    "Each header as shown between `[...]` (e.g. `[setup_precip_forcing]`) corresponds with a model component which are explained in the [docs(model_components)](https://deltares.github.io/hydromt_wflow/latest/user_guide/wflow/components.html).\n",
    "\n",
    "Let's open the example configuration file **wflow_update_forcing.ini** from the model repository [examples folder] and have a look at the settings."
   ]
  },
  {
   "cell_type": "code",
   "execution_count": 2,
   "id": "033f24ab",
   "metadata": {
    "execution": {
     "iopub.execute_input": "2022-01-27T12:41:47.926975Z",
     "iopub.status.busy": "2022-01-27T12:41:47.926579Z",
     "iopub.status.idle": "2022-01-27T12:41:47.929772Z",
     "shell.execute_reply": "2022-01-27T12:41:47.929460Z"
    }
   },
   "outputs": [
    {
     "name": "stdout",
     "output_type": "stream",
     "text": [
      "[setup_config]                  # options parsed to wflow ini file <section>.<option>\n",
      "starttime = 2010-02-01T00:00:00\n",
      "endtime = 2010-02-10T00:00:00\n",
      "timestepsecs = 86400\n",
      "input.path_forcing = inmaps-chirps-2010.nc\n",
      "\n",
      "[setup_precip_forcing]\n",
      "precip_fn       = chirps_global # source for precipitation.\n",
      "precip_clim_fn  = None          # source for high resolution climatology to correct precipitation.\n",
      "\n",
      "[setup_temp_pet_forcing]\n",
      "temp_pet_fn     = era5          # source for temperature and potential evapotranspiration.\n",
      "press_correction= True          # if True temperature is corrected with elevation lapse rate.\n",
      "temp_correction = True          # if True pressure is corrected with elevation lapse rate.\n",
      "dem_forcing_fn  = era5_orography # source of elevation grid corresponding to temp_pet_fn. Used for lapse rate correction.\n",
      "pet_method      = debruin       # method to compute PET: {debruin, makkink}\n",
      "skip_pet        = False         # if True, only temperature is prepared.\n",
      "\n"
     ]
    }
   ],
   "source": [
    "fn_ini = \"wflow_update_forcing.ini\"\n",
    "with open(fn_ini, \"r\") as f:\n",
    "    txt = f.read()\n",
    "print(txt)"
   ]
  },
  {
   "cell_type": "markdown",
   "id": "100f6165",
   "metadata": {},
   "source": [
    "Here we can see that to fully update wflow forcing, we will run three components of **Wflow**:\n",
    "\n",
    "- **setup_config**: modifies the Wflow TOML configuration file and tells hydroMT what are the start, end, timestep of the forcing data we want to prepare. Note that you can change any options in the TOML file here, including for example the name of the output forcing file with the option *input.path_forcing*.\n",
    "- **setup_precip_forcing**: tells hydroMT how to prepare precipitation data including from which data source and with or without downscaling.\n",
    "- **setup_temp_pet_forcing**: tells hydroMT how to prepare temperature and potential evapotranspiration data including which data source, which computation method for PET and with or without downscaling.\n",
    "\n",
    "You can find more information on the different components and their options in the [docs(model_components)](https://deltares.github.io/hydromt_wflow/latest/user_guide/wflow/components.html).\n",
    "\n",
    "Here we can see that we will prepare daily forcing for 10 days in February 2010 using CHIRPS for precipitation and ERA5 for temperature and potential evapotranspiration."
   ]
  },
  {
   "cell_type": "markdown",
   "id": "d3a9c2d7",
   "metadata": {},
   "source": [
    "### hydroMT CLI update interface"
   ]
  },
  {
   "cell_type": "markdown",
   "id": "84c580a3",
   "metadata": {},
   "source": [
    "Using the `hydroMT build` API, we can update one or several components of an already existing Wflow model. Let's get an overview of the available options:"
   ]
  },
  {
   "cell_type": "code",
   "execution_count": 3,
   "id": "f9253e01",
   "metadata": {
    "execution": {
     "iopub.execute_input": "2022-01-27T12:41:47.932814Z",
     "iopub.status.busy": "2022-01-27T12:41:47.932446Z",
     "iopub.status.idle": "2022-01-27T12:41:50.927592Z",
     "shell.execute_reply": "2022-01-27T12:41:50.927145Z"
    }
   },
   "outputs": [
    {
     "name": "stdout",
     "output_type": "stream",
     "text": [
      "Usage: hydromt update [OPTIONS] MODEL MODEL_ROOT\r\n",
      "\r\n",
      "  Update a specific component of a model. Set an output directory to copy the\r\n",
      "  edited model to a new folder, otherwise maps are overwritten.\r\n",
      "\r\n",
      "  Example usage:\r\n",
      "  --------------\r\n",
      "\r\n",
      "  Update (overwrite) landuse-landcover maps in a wflow model\r\n",
      "  hydromt update wflow /path/to/model_root -c setup_lulcmaps --opt source_name=vito\r\n",
      "\r\n",
      "  Update reservoir maps based on default settings in a wflow model and write to new directory\r\n",
      "  hydromt update wflow /path/to/model_root -o /path/to/model_out -c setup_reservoirs\r\n",
      "\r\n",
      "Options:\r\n",
      "  -o, --model-out DIRECTORY  Output model folder. Maps in MODEL_ROOT are\r\n",
      "                             overwritten if left empty.\r\n",
      "  -c, --components TEXT      Model components from ini file to run\r\n",
      "  --opt TEXT                 Component specific keyword arguments, see the\r\n",
      "                             setup_<component> method of the specific model\r\n",
      "                             for more information about the arguments.\r\n",
      "  -i, --config PATH          Path to hydroMT configuration file, for the model\r\n",
      "                             specific implementation.\r\n",
      "  -d, --data PATH            File path to yml data sources file. See\r\n",
      "                             documentation for required yml file format.\r\n",
      "  --dd, --deltares-data      Parse default deltares data yml from\r\n",
      "                             https://github.com/DirkEilander/hydromt-\r\n",
      "                             artifacts/releases\r\n",
      "  -q, --quiet                Decrease verbosity.\r\n",
      "  -v, --verbose              Increase verbosity.\r\n",
      "  --help                     Show this message and exit.\r\n",
      "\u001b[0m"
     ]
    }
   ],
   "source": [
    "# Print the options available from the update command\n",
    "! hydromt update --help"
   ]
  },
  {
   "cell_type": "markdown",
   "id": "ee4d250d",
   "metadata": {},
   "source": [
    "### Update wflow forcing layers"
   ]
  },
  {
   "cell_type": "code",
   "execution_count": 4,
   "id": "dd69c94d",
   "metadata": {
    "execution": {
     "iopub.execute_input": "2022-01-27T12:41:50.936260Z",
     "iopub.status.busy": "2022-01-27T12:41:50.931852Z",
     "iopub.status.idle": "2022-01-27T12:41:55.153026Z",
     "shell.execute_reply": "2022-01-27T12:41:55.152583Z"
    }
   },
   "outputs": [
    {
     "name": "stdout",
     "output_type": "stream",
     "text": [
      "2022-01-27 12:41:53,407 - update - log - INFO - HydroMT version: 0.4.5.dev\r\n",
      "2022-01-27 12:41:53,407 - update - main - INFO - Updating wflow model at /home/runner/work/hydromt_wflow/hydromt_wflow/docs/examples/examples/wflow_piave_subbasin (r).\r\n",
      "2022-01-27 12:41:53,407 - update - main - INFO - Output dir: /home/runner/work/hydromt_wflow/hydromt_wflow/docs/examples/examples/wflow_piave_forcing\r\n",
      "2022-01-27 12:41:53,407 - update - main - INFO - User settings:\r\n",
      "2022-01-27 12:41:53,414 - update - model_api - INFO - Initializing wflow model from hydromt_wflow (v0.1.4.dev0).\r\n",
      "2022-01-27 12:41:53,416 - update - wflow - INFO - Read staticmaps from /home/runner/work/hydromt_wflow/hydromt_wflow/docs/examples/examples/wflow_piave_subbasin/staticmaps.nc\r\n"
     ]
    },
    {
     "name": "stdout",
     "output_type": "stream",
     "text": [
      "2022-01-27 12:41:53,482 - update - wflow - INFO - Reading model intbl files.\r\n",
      "2022-01-27 12:41:53,482 - update - wflow - INFO - Reading model staticgeom files.\r\n"
     ]
    },
    {
     "name": "stdout",
     "output_type": "stream",
     "text": [
      "2022-01-27 12:41:53,547 - update - wflow - INFO - Read forcing from /home/runner/work/hydromt_wflow/hydromt_wflow/docs/examples/examples/wflow_piave_subbasin/inmaps.nc\r\n"
     ]
    },
    {
     "name": "stdout",
     "output_type": "stream",
     "text": [
      "2022-01-27 12:41:53,555 - update - wflow - INFO - Model read\r\n",
      "2022-01-27 12:41:53,559 - update - model_api - INFO - setup_precip_forcing.precip_fn: chirps_global\r\n",
      "2022-01-27 12:41:53,559 - update - model_api - INFO - setup_precip_forcing.precip_clim_fn: None\r\n",
      "2022-01-27 12:41:53,559 - update - model_api - INFO - setup_precip_forcing.chunksize: None\r\n",
      "2022-01-27 12:41:53,562 - update - data_adapter - INFO - Adding sample data v0.0.6 from artifacts\r\n"
     ]
    },
    {
     "name": "stdout",
     "output_type": "stream",
     "text": [
      "2022-01-27 12:41:53,620 - update - data_adapter - INFO - DataCatalog: Getting chirps_global RasterDataset netcdf data from /home/runner/.hydromt_data/data/v0.0.6/chirps_global.nc\r\n"
     ]
    },
    {
     "name": "stdout",
     "output_type": "stream",
     "text": [
      "2022-01-27 12:41:53,683 - update - model_api - WARNING - Replacing forcing: precip\r\n",
      "2022-01-27 12:41:53,683 - update - model_api - INFO - setup_temp_pet_forcing.temp_pet_fn: era5\r\n",
      "2022-01-27 12:41:53,683 - update - model_api - INFO - setup_temp_pet_forcing.pet_method: debruin\r\n",
      "2022-01-27 12:41:53,683 - update - model_api - INFO - setup_temp_pet_forcing.press_correction: True\r\n",
      "2022-01-27 12:41:53,683 - update - model_api - INFO - setup_temp_pet_forcing.temp_correction: True\r\n",
      "2022-01-27 12:41:53,683 - update - model_api - INFO - setup_temp_pet_forcing.dem_forcing_fn: era5_orography\r\n",
      "2022-01-27 12:41:53,683 - update - model_api - INFO - setup_temp_pet_forcing.skip_pet: False\r\n",
      "2022-01-27 12:41:53,683 - update - model_api - INFO - setup_temp_pet_forcing.chunksize: None\r\n",
      "2022-01-27 12:41:53,687 - update - data_adapter - INFO - DataCatalog: Getting era5 RasterDataset netcdf data from /home/runner/.hydromt_data/data/v0.0.6/era5.nc\r\n"
     ]
    },
    {
     "name": "stdout",
     "output_type": "stream",
     "text": [
      "2022-01-27 12:41:53,740 - update - data_adapter - INFO - DataCatalog: Getting era5_orography RasterDataset netcdf data from /home/runner/.hydromt_data/data/v0.0.6/era5_orography.nc\r\n"
     ]
    },
    {
     "name": "stdout",
     "output_type": "stream",
     "text": [
      "2022-01-27 12:41:53,963 - update - model_api - WARNING - Replacing forcing: pet\r\n",
      "2022-01-27 12:41:53,965 - update - model_api - WARNING - Replacing forcing: temp\r\n",
      "2022-01-27 12:41:53,965 - update - wflow - INFO - Write model data to /home/runner/work/hydromt_wflow/hydromt_wflow/docs/examples/examples/wflow_piave_forcing\r\n",
      "2022-01-27 12:41:53,968 - update - model_api - INFO - Writing model config to /home/runner/work/hydromt_wflow/hydromt_wflow/docs/examples/examples/wflow_piave_forcing/wflow_sbm.toml\r\n",
      "2022-01-27 12:41:53,969 - update - wflow - INFO - Write staticmaps to /home/runner/work/hydromt_wflow/hydromt_wflow/docs/examples/examples/wflow_piave_forcing/staticmaps.nc\r\n"
     ]
    },
    {
     "name": "stdout",
     "output_type": "stream",
     "text": [
      "2022-01-27 12:41:54,365 - update - wflow - INFO - Writing model staticgeom to file.\r\n"
     ]
    },
    {
     "name": "stdout",
     "output_type": "stream",
     "text": [
      "2022-01-27 12:41:54,515 - update - wflow - INFO - Write forcing file\r\n",
      "2022-01-27 12:41:54,520 - update - wflow - INFO - Process forcing; saving to /home/runner/work/hydromt_wflow/hydromt_wflow/docs/examples/examples/wflow_piave_forcing/inmaps-chirps-2010.nc\r\n",
      "\r",
      "[                                        ] | 0% Completed |  0.0s"
     ]
    },
    {
     "name": "stdout",
     "output_type": "stream",
     "text": [
      "\r",
      "[########################################] | 100% Completed |  0.1s\r\n",
      "\u001b[0m"
     ]
    }
   ],
   "source": [
    "# NOTE: copy this line (without !) to your shell for more direct feedback\n",
    "! hydromt update wflow wflow_piave_subbasin -o ./wflow_piave_forcing -i wflow_update_forcing.ini -v"
   ]
  },
  {
   "cell_type": "markdown",
   "id": "90b9ec42",
   "metadata": {},
   "source": [
    "The example above means the following: run **hydromt** with:\n",
    "\n",
    "- `update wflow`: i.e. update a wflow model\n",
    "- `wflow_piave_subbasin`: original model folder\n",
    "- `-o ./wflow_piave_forcing`: output updated model folder\n",
    "- `-i wflow_update_forcing.ini`: setup configuration file containing the components to update and their different options\n",
    "- `v`: give some extra verbosity (2 * v) to display feedback on screen. Now debug messages are provided."
   ]
  },
  {
   "cell_type": "markdown",
   "id": "c2f94675",
   "metadata": {},
   "source": [
    "### Model comparison"
   ]
  },
  {
   "cell_type": "markdown",
   "id": "1fff56c3",
   "metadata": {},
   "source": [
    "From the information above, you can see that the different forcing variables where updated. Compared to the original model, the temperature and potential evapotranspiration still come from the ERA5 data source but now the precipitation are using CHIRPS data.\n",
    "\n",
    "Using the script from the [plot example](https://deltares.github.io/hydromt_wflow/latest/examples/examples/base_plots.html), we can compare the two precipitation datasets together (here *basin average* values)."
   ]
  },
  {
   "cell_type": "code",
   "execution_count": 5,
   "id": "4da9d10a",
   "metadata": {
    "execution": {
     "iopub.execute_input": "2022-01-27T12:41:55.158079Z",
     "iopub.status.busy": "2022-01-27T12:41:55.157391Z",
     "iopub.status.idle": "2022-01-27T12:41:56.172283Z",
     "shell.execute_reply": "2022-01-27T12:41:56.171870Z"
    }
   },
   "outputs": [],
   "source": [
    "# Load both models with hydromt\n",
    "from hydromt_wflow import WflowModel\n",
    "\n",
    "mod0 = WflowModel(root=\"wflow_piave_subbasin\", mode=\"r\")\n",
    "mod1 = WflowModel(root=\"wflow_piave_forcing\", mode=\"r\")"
   ]
  },
  {
   "cell_type": "code",
   "execution_count": 6,
   "id": "94a183be",
   "metadata": {
    "execution": {
     "iopub.execute_input": "2022-01-27T12:41:56.177062Z",
     "iopub.status.busy": "2022-01-27T12:41:56.174569Z",
     "iopub.status.idle": "2022-01-27T12:41:56.379717Z",
     "shell.execute_reply": "2022-01-27T12:41:56.379304Z"
    }
   },
   "outputs": [],
   "source": [
    "# read wflow forcing; mask region outside the basin and compute the basin average\n",
    "# NOTE: only very limited forcing data is available from the artifacts\n",
    "ds_forcing0 = xr.merge(mod0.forcing.values()).where(\n",
    "    mod0.staticmaps[\"wflow_subcatch\"] > 0\n",
    ")\n",
    "ds_forcing0 = ds_forcing0.mean(dim=[ds_forcing0.raster.x_dim, ds_forcing0.raster.y_dim])\n",
    "\n",
    "ds_forcing1 = xr.merge(mod1.forcing.values()).where(\n",
    "    mod1.staticmaps[\"wflow_subcatch\"] > 0\n",
    ")\n",
    "ds_forcing1 = ds_forcing1.mean(dim=[ds_forcing1.raster.x_dim, ds_forcing1.raster.y_dim])"
   ]
  },
  {
   "cell_type": "code",
   "execution_count": 7,
   "id": "e53070e4",
   "metadata": {
    "execution": {
     "iopub.execute_input": "2022-01-27T12:41:56.387329Z",
     "iopub.status.busy": "2022-01-27T12:41:56.385317Z",
     "iopub.status.idle": "2022-01-27T12:41:56.537440Z",
     "shell.execute_reply": "2022-01-27T12:41:56.538047Z"
    }
   },
   "outputs": [
    {
     "data": {
      "text/plain": [
       "Text(0, 0.5, 'precipitation\\nmm.day-1')"
      ]
     },
     "execution_count": 7,
     "metadata": {},
     "output_type": "execute_result"
    },
    {
     "data": {
      "image/png": "[encoded data removed]",
      "text/plain": [
       "<Figure size 432x216 with 1 Axes>"
      ]
     },
     "metadata": {},
     "output_type": "display_data"
    }
   ],
   "source": [
    "# plot precipitation\n",
    "plt.style.use(\"seaborn\")  # set nice style\n",
    "fig, axes = plt.subplots(1, 1, figsize=(6, 3))\n",
    "df0 = ds_forcing0[\"precip\"].squeeze().to_series()\n",
    "df1 = ds_forcing1[\"precip\"].squeeze().to_series()\n",
    "\n",
    "# axes.bar(df1.index, df1.values, facecolor='green', label='CHIRPS')\n",
    "# axes.bar(df0.index, df0.values, facecolor='darkblue', label='ERA5')\n",
    "\n",
    "df0.plot.line(ax=axes, x=\"time\", color=\"darkblue\", label=\"ERA5\")\n",
    "df1.plot.line(ax=axes, x=\"time\", color=\"green\", label=\"CHIRPS\")\n",
    "\n",
    "\n",
    "axes.set_xlabel(\"time\")\n",
    "axes.legend()\n",
    "axes.set_title(\"precipitation\")\n",
    "axes.set_ylabel(\"precipitation\\nmm.day-1\")"
   ]
  }
 ],
 "metadata": {
  "kernelspec": {
   "display_name": "Python 3 (ipykernel)",
   "language": "python",
   "name": "python3"
  },
  "language_info": {
   "codemirror_mode": {
    "name": "ipython",
    "version": 3
   },
   "file_extension": ".py",
   "mimetype": "text/x-python",
   "name": "python",
   "nbconvert_exporter": "python",
   "pygments_lexer": "ipython3",
   "version": "3.9.9"
  }
 },
 "nbformat": 4,
 "nbformat_minor": 5
}
