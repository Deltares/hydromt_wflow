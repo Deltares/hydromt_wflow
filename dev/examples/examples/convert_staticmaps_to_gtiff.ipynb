{
 "cells": [
  {
   "cell_type": "markdown",
   "id": "6ea7a8ea",
   "metadata": {},
   "source": [
    "## Convert wflow staticmaps netcdf to raster files"
   ]
  },
  {
   "cell_type": "markdown",
   "id": "09ab27a8",
   "metadata": {},
   "source": [
    "In order to inspect or (manually) modify wflow staticmaps it is convenient to export the maps to a raster format. Here we show how to read the model maps and save to a so-called mapstack (i.e.: a set of raster files with identical grid) using hydromt.  "
   ]
  },
  {
   "cell_type": "markdown",
   "id": "163edfe3",
   "metadata": {},
   "source": [
    "### Load dependencies"
   ]
  },
  {
   "cell_type": "code",
   "execution_count": 1,
   "id": "d480af50",
   "metadata": {
    "execution": {
     "iopub.execute_input": "2021-05-27T14:05:25.343735Z",
     "iopub.status.busy": "2021-05-27T14:05:25.343151Z",
     "iopub.status.idle": "2021-05-27T14:05:27.455674Z",
     "shell.execute_reply": "2021-05-27T14:05:27.455118Z"
    }
   },
   "outputs": [],
   "source": [
    "import pandas as pd\n",
    "import xarray as xr\n",
    "import numpy as  np\n",
    "from os.path import join, dirname\n",
    "import os\n",
    "import hydromt"
   ]
  },
  {
   "cell_type": "markdown",
   "id": "1c078a08",
   "metadata": {},
   "source": [
    "### Read wflow staticmaps"
   ]
  },
  {
   "cell_type": "markdown",
   "id": "fb790d49",
   "metadata": {},
   "source": [
    "hydroMT provides an easy method to read the model schematization trought the Model API."
   ]
  },
  {
   "cell_type": "code",
   "execution_count": 2,
   "id": "15044d4b",
   "metadata": {
    "execution": {
     "iopub.execute_input": "2021-05-27T14:05:27.459973Z",
     "iopub.status.busy": "2021-05-27T14:05:27.459022Z",
     "iopub.status.idle": "2021-05-27T14:05:27.588478Z",
     "shell.execute_reply": "2021-05-27T14:05:27.587765Z"
    }
   },
   "outputs": [
    {
     "name": "stdout",
     "output_type": "stream",
     "text": [
      "<xarray.Dataset>\n",
      "Dimensions:               (layer: 4, time: 12, x: 58, y: 53)\n",
      "Coordinates:\n",
      "  * x                     (x) float64 11.78 11.8 11.82 ... 12.7 12.72 12.73\n",
      "  * y                     (y) float64 46.68 46.67 46.65 ... 45.85 45.83 45.82\n",
      "    idx_out               (y, x) int32 24029 24049 28860 ... 1281540 1280360\n",
      "    spatial_ref           int32 1\n",
      "    mask                  (y, x) uint8 0 0 0 0 0 0 0 0 0 0 ... 0 0 0 0 0 0 0 0 0\n",
      "  * time                  (time) int32 1 2 3 4 5 6 7 8 9 10 11 12\n",
      "  * layer                 (layer) int64 0 1 2 3\n",
      "Data variables: (12/83)\n",
      "    x_out                 (y, x) float64 nan nan nan nan nan ... nan nan nan nan\n",
      "    y_out                 (y, x) float64 nan nan nan nan nan ... nan nan nan nan\n",
      "    wflow_ldd             (y, x) uint8 255 255 255 255 255 ... 255 255 255 255\n",
      "    wflow_subcatch        (y, x) int32 0 0 0 0 0 0 0 0 0 0 ... 0 0 0 0 0 0 0 0 0\n",
      "    wflow_uparea          (y, x) float64 -9.999e+03 -9.999e+03 ... -9.999e+03\n",
      "    subare                (y, x) float64 -9.999e+03 -9.999e+03 ... -9.999e+03\n",
      "    ...                    ...\n",
      "    TTI                   (y, x) int32 -999 -999 -999 -999 ... -999 -999 -999\n",
      "    TTM                   (y, x) int32 -999 -999 -999 -999 ... -999 -999 -999\n",
      "    WHC                   (y, x) float64 -999.0 -999.0 -999.0 ... -999.0 -999.0\n",
      "    G_Cfmax               (y, x) float64 -999.0 -999.0 -999.0 ... -999.0 -999.0\n",
      "    G_SIfrac              (y, x) float64 -999.0 -999.0 -999.0 ... -999.0 -999.0\n",
      "    G_TT                  (y, x) float64 -999.0 -999.0 -999.0 ... -999.0 -999.0\n"
     ]
    }
   ],
   "source": [
    "root = 'wflow_piave_subbasin' \n",
    "mod = hydromt.WflowModel(root, mode='r')\n",
    "ds = mod.staticmaps  # here the staticmaps netcdf is loaded \n",
    "print(ds)"
   ]
  },
  {
   "cell_type": "markdown",
   "id": "1acdee64",
   "metadata": {},
   "source": [
    "### Write netcdf to mapstack"
   ]
  },
  {
   "cell_type": "markdown",
   "id": "36073d9b",
   "metadata": {},
   "source": [
    "The raster module provides many raster GIS methods throught the **raster** Dataset accessor. To write a Dataset to a mapstack one line with code is sufficient. We only need to provide the output folder in which all raster files are saved. The default output format is *GeoTIFF*, but this can be changed with the `driver` argument. To write to PCRaster map-files it is recommended to have PCRaster python installed."
   ]
  },
  {
   "cell_type": "code",
   "execution_count": 3,
   "id": "07e4d5b7",
   "metadata": {
    "execution": {
     "iopub.execute_input": "2021-05-27T14:05:27.593009Z",
     "iopub.status.busy": "2021-05-27T14:05:27.592352Z",
     "iopub.status.idle": "2021-05-27T14:05:27.990892Z",
     "shell.execute_reply": "2021-05-27T14:05:27.989947Z"
    }
   },
   "outputs": [],
   "source": [
    "outdir =join(root, 'staticmaps')\n",
    "ds.raster.to_mapstack(outdir)"
   ]
  },
  {
   "cell_type": "markdown",
   "id": "b848f0e9",
   "metadata": {},
   "source": [
    "Now the model files can easily be inspected and modified e.g. QGIS.\n",
    "\n",
    "NOTE: in QGIS, you can also visualize but direct modification is not (yet) possible."
   ]
  },
  {
   "cell_type": "markdown",
   "id": "e1f84114",
   "metadata": {},
   "source": [
    "### Create staticmaps netcdf files based on mapstack"
   ]
  },
  {
   "cell_type": "markdown",
   "id": "bbe69373",
   "metadata": {},
   "source": [
    "If you want to update the staticmaps after modification the maps can be read into a Dataset by hydromt. We recommend the following workflow:\n",
    "\n",
    "* read the original model\n",
    "* read the updated mapstack\n",
    "* change the model root to write the updated model to a new directory\n",
    "* update the staticmaps of the model\n",
    "* write the model\n",
    "\n",
    "NOTE: We do not read the forcing as it is probably faster to just copy the file instead of loading it into python and writing it back to netcdf.\n",
    "\n",
    "NOTE: The staticgeoms might be changed because of manual changes in the wflow_river, lakes, reservoir or glacier staticmaps and are therefore not read here. To change these maps we recommend using the hydromt update method to keep the staticgeoms and maps aligned."
   ]
  },
  {
   "cell_type": "code",
   "execution_count": 4,
   "id": "42c8a6f3",
   "metadata": {
    "execution": {
     "iopub.execute_input": "2021-05-27T14:05:27.997649Z",
     "iopub.status.busy": "2021-05-27T14:05:27.994788Z",
     "iopub.status.idle": "2021-05-27T14:05:28.074551Z",
     "shell.execute_reply": "2021-05-27T14:05:28.073374Z"
    }
   },
   "outputs": [],
   "source": [
    "# read the original model\n",
    "root = 'wflow_piave_subbasin' \n",
    "mod = hydromt.WflowModel(root, mode='r')\n",
    "mod.read_staticmaps()\n",
    "mod.read_config()"
   ]
  },
  {
   "cell_type": "code",
   "execution_count": 5,
   "id": "438a1d35",
   "metadata": {
    "execution": {
     "iopub.execute_input": "2021-05-27T14:05:28.080672Z",
     "iopub.status.busy": "2021-05-27T14:05:28.079072Z",
     "iopub.status.idle": "2021-05-27T14:05:28.933264Z",
     "shell.execute_reply": "2021-05-27T14:05:28.932637Z"
    }
   },
   "outputs": [],
   "source": [
    "# read the updated mapstack\n",
    "# NOTE: The mapstack does not have to include all staticmaps, only the once that are found will be updated.\n",
    "# The name of the staticmap should however have to be unchanged. \n",
    "ds_updated = hydromt.open_mfraster(join(root, 'staticmaps', '*.tif'))"
   ]
  },
  {
   "cell_type": "code",
   "execution_count": 6,
   "id": "98ba4297",
   "metadata": {
    "execution": {
     "iopub.execute_input": "2021-05-27T14:05:28.937485Z",
     "iopub.status.busy": "2021-05-27T14:05:28.936552Z",
     "iopub.status.idle": "2021-05-27T14:05:28.940510Z",
     "shell.execute_reply": "2021-05-27T14:05:28.940014Z"
    }
   },
   "outputs": [],
   "source": [
    "# change root to a new directory\n",
    "root_updated = 'wflow_piave_subbasin_updated'\n",
    "mod.set_root(root_updated, mode='w')  "
   ]
  },
  {
   "cell_type": "code",
   "execution_count": 7,
   "id": "1f9fd886",
   "metadata": {
    "execution": {
     "iopub.execute_input": "2021-05-27T14:05:28.986277Z",
     "iopub.status.busy": "2021-05-27T14:05:28.961162Z",
     "iopub.status.idle": "2021-05-27T14:05:30.054995Z",
     "shell.execute_reply": "2021-05-27T14:05:30.055389Z"
    }
   },
   "outputs": [],
   "source": [
    "# update the model staticmaps\n",
    "mod.set_staticmaps(ds_updated)"
   ]
  },
  {
   "cell_type": "code",
   "execution_count": 8,
   "id": "2fef2a90",
   "metadata": {
    "execution": {
     "iopub.execute_input": "2021-05-27T14:05:30.074534Z",
     "iopub.status.busy": "2021-05-27T14:05:30.058166Z",
     "iopub.status.idle": "2021-05-27T14:05:30.998081Z",
     "shell.execute_reply": "2021-05-27T14:05:30.998546Z"
    }
   },
   "outputs": [],
   "source": [
    "# write the model to the new directory\n",
    "mod.write()"
   ]
  }
 ],
 "metadata": {
  "kernelspec": {
   "display_name": "Python 3",
   "language": "python",
   "name": "python3"
  },
  "language_info": {
   "codemirror_mode": {
    "name": "ipython",
    "version": 3
   },
   "file_extension": ".py",
   "mimetype": "text/x-python",
   "name": "python",
   "nbconvert_exporter": "python",
   "pygments_lexer": "ipython3",
   "version": "3.9.4"
  }
 },
 "nbformat": 4,
 "nbformat_minor": 5
}
