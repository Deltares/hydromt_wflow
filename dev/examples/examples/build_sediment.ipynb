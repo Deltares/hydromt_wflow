{
 "cells": [
  {
   "cell_type": "markdown",
   "id": "9a73590b",
   "metadata": {},
   "source": [
    "## Build a Wflow sediment model"
   ]
  },
  {
   "cell_type": "markdown",
   "id": "ee510c6e",
   "metadata": {},
   "source": [
    "This notebook demonstrates how to prepare a **Wflow sediment** model using the command line interace (CLI)."
   ]
  },
  {
   "cell_type": "markdown",
   "id": "6b96aa15",
   "metadata": {},
   "source": [
    "All lines in this notebook which start with `!` are executed from the command line. Within the notebook environment the logging messages are shown after completion. You can also copy these lines and paste these in your shell to get more direct feedback."
   ]
  },
  {
   "cell_type": "markdown",
   "id": "451c8168",
   "metadata": {},
   "source": [
    "### hydroMT CLI build interface"
   ]
  },
  {
   "cell_type": "markdown",
   "id": "2c70853e",
   "metadata": {},
   "source": [
    "Lets first check if the Wflow sediment model is recognized by hydromt"
   ]
  },
  {
   "cell_type": "code",
   "execution_count": 1,
   "id": "40470302",
   "metadata": {
    "execution": {
     "iopub.execute_input": "2021-05-27T14:04:07.077088Z",
     "iopub.status.busy": "2021-05-27T14:04:07.076504Z",
     "iopub.status.idle": "2021-05-27T14:04:10.020968Z",
     "shell.execute_reply": "2021-05-27T14:04:10.021448Z"
    }
   },
   "outputs": [
    {
     "name": "stdout",
     "output_type": "stream",
     "text": [
      "hydroMT model plugins: wflow (v0.1.2.dev0), wflow_sediment (v0.1.2.dev0)\r\n",
      "\u001b[0m"
     ]
    }
   ],
   "source": [
    "# this should return \"wflow, wflow_sediment\"\n",
    "!hydromt --models"
   ]
  },
  {
   "cell_type": "markdown",
   "id": "7d9b5a20",
   "metadata": {},
   "source": [
    "Using the **hydromt build** API we can setup a complete model from scratch. Let's get an overview of all the available options:"
   ]
  },
  {
   "cell_type": "code",
   "execution_count": 2,
   "id": "1d39e4a1",
   "metadata": {
    "execution": {
     "iopub.execute_input": "2021-05-27T14:04:10.026433Z",
     "iopub.status.busy": "2021-05-27T14:04:10.025659Z",
     "iopub.status.idle": "2021-05-27T14:04:12.840721Z",
     "shell.execute_reply": "2021-05-27T14:04:12.840220Z"
    }
   },
   "outputs": [
    {
     "name": "stdout",
     "output_type": "stream",
     "text": [
      "Usage: hydromt build [OPTIONS] MODEL MODEL_ROOT REGION\r\n",
      "\r\n",
      "  Build models from source data.\r\n",
      "\r\n",
      "  Example usage:\r\n",
      "  --------------\r\n",
      "\r\n",
      "  To build a wflow model for a subbasin using and point coordinates snapped to cells with stream order >= 4\r\n",
      "  hydromt build wflow /path/to/model_root \"{'subbasin': [-7.24, 62.09], 'strord': 4}\" -i /path/to/wflow_config.ini\r\n",
      "\r\n",
      "  To build a wflow model based on basin ID\r\n",
      "  hydromt build wflow /path/to/model_root \"{'basin': 230001006}\"\r\n",
      "\r\n",
      "  To build a sfincs model based on a bbox (for Texel)\r\n",
      "  hydromt build sfincs /path/to/model_root \"{'bbox': [4.6891,52.9750,4.9576,53.1994]}\"\r\n",
      "\r\n",
      "Options:\r\n",
      "  -r, --res FLOAT             Model resolution in model src.\r\n",
      "  --build-base / --build-all  Deprecated!\r\n",
      "  --opt TEXT                  Component specific keyword arguments, see the\r\n",
      "                              setup_<component> method of the specific model\r\n",
      "                              for more information about the arguments.\r\n",
      "\r\n",
      "  -i, --config PATH           Path to hydroMT configuration file, for the\r\n",
      "                              model specific implementation.\r\n",
      "\r\n",
      "  -d, --data PATH             File path to yml data sources file. See\r\n",
      "                              documentation for required yml file format.\r\n",
      "\r\n",
      "  --dd, --deltares-data       Parse default deltares data yml from\r\n",
      "                              https://github.com/DirkEilander/hydromt-\r\n",
      "                              artifacts/releases\r\n",
      "\r\n",
      "  -q, --quiet                 Decrease verbosity.\r\n",
      "  -v, --verbose               Increase verbosity.\r\n",
      "  --help                      Show this message and exit.\r\n",
      "\u001b[0m"
     ]
    }
   ],
   "source": [
    "!hydromt build --help"
   ]
  },
  {
   "cell_type": "markdown",
   "id": "ebd31242",
   "metadata": {},
   "source": [
    "### Model setup configuration"
   ]
  },
  {
   "cell_type": "markdown",
   "id": "fb8282c9",
   "metadata": {},
   "source": [
    "The ini-file contains the model setup configuration and determines which components are build and in which order and optionally sets non-default arguments for each component. This configuration is passed to hydromt using `-i <path_to_ini_file>`. We have prepared several example ini-files which are available in the model repository [examples folder](https://github.com/Deltares/hydromt_wflow/tree/main/examples) and from the [docs(build_configuration)](https://deltares.github.io/hydromt_wflow/latest/user_guide/wflow/build_configuration.html). \n",
    "\n",
    "Each header as shown between `[...]` (e.g. `[setup_basemaps]`) corresponds to a model component. All model components are explained in the [docs(model_components)](https://deltares.github.io/hydromt_wflow/latest/user_guide/wflow/components.html). "
   ]
  },
  {
   "cell_type": "markdown",
   "id": "cc3fd44d",
   "metadata": {},
   "source": [
    "We will load the default wflow sediment build ini file for inspection:"
   ]
  },
  {
   "cell_type": "code",
   "execution_count": 3,
   "id": "e88d4aed",
   "metadata": {
    "execution": {
     "iopub.execute_input": "2021-05-27T14:04:12.846004Z",
     "iopub.status.busy": "2021-05-27T14:04:12.845240Z",
     "iopub.status.idle": "2021-05-27T14:04:12.851057Z",
     "shell.execute_reply": "2021-05-27T14:04:12.850260Z"
    }
   },
   "outputs": [
    {
     "name": "stdout",
     "output_type": "stream",
     "text": [
      "[global]\n",
      "data_libs        = []               # add optional paths to data yml files\n",
      "\n",
      "[setup_config]                      # options parsed to wflow ini file <section>.<option>\n",
      "starttime = 2010-01-01T00:00:00\n",
      "endtime = 2010-03-31T00:00:00\n",
      "timestepsecs = 86400\n",
      "\n",
      "[setup_basemaps]\n",
      "hydrography_fn   = merit_hydro      # source hydrography data {merit_hydro, merit_hydro_1k}\n",
      "basin_index_fn   = merit_hydro_index # source of basin index corresponding to hydrography_fn\n",
      "upscale_method   = ihu              # upscaling method for flow direction data, by default 'ihu'\n",
      "\n",
      "[setup_rivers]\n",
      "hydrography_fn   = merit_hydro   # source hydrography data {merit_hydro, merit_hydro_1k}\n",
      "river_upa        = 30               # minimum upstream area threshold for the river map [km2]\n",
      "slope_len        = 2000             # length over which tp calculate river slope [m]\n",
      "\n",
      "[setup_reservoirs]\n",
      "reservoirs_fn    = hydro_reservoirs # source for reservoirs based on GRAND: {hydro_reservoirs}; None to skip\n",
      "min_area         = 1.0              # minimum lake area to consider [km2]\n",
      "priority_jrc     = True             # if True then JRC data from hydroengine is used to calculate some reservoir attributes instead of the GRanD and HydroLAKES db.   \n",
      "\n",
      "[setup_lakes]\n",
      "lakes_fn         = hydro_lakes      # source for lakes based on hydroLAKES: {hydro_lakes}; None to skip\n",
      "min_area         = 1.0              # minimum reservoir area to consider [km2]\n",
      "\n",
      "[setup_riverwidth]\n",
      "precip_fn        = chelsa           # source for precip climatology used to estimate discharge: {chelsa}\n",
      "climate_fn       = koppen_geiger    # source for climate classification used to estimate discharge: {koppen_geiger}\n",
      "predictor        = discharge        # predictor used in power-law w=a*predictor^b {'discharge'; 'uparea', other staticmaps}; a and b can also be set here.\n",
      "fill             = False            # if False all river width values are set based on predictor, if True only data gaps and lakes/reservoirs in observed width are filled (works only with MERIT hydro)\n",
      "min_wth          = 1                # global minimum width\n",
      "\n",
      "[setup_riverbedsed]\n",
      "bedsed_mapping_fn = None             # path to a mapping csv file from streamorder to river bed particles characteristics\n",
      "\n",
      "[setup_lulcmaps]\n",
      "lulc_fn          = globcover        # source for lulc maps: {globcover, vito, corine}\n",
      "\n",
      "[setup_laimaps]\n",
      "lai_fn           = modis_lai        # source for LAI: {modis_lai}\n",
      "\n",
      "[setup_canopymaps]\n",
      "canopy_fn        = simard           # source for vegetation canopy height: {simard}\n",
      "\n",
      "[setup_soilmaps]\n",
      "soil_fn          = soilgrids        # source for soilmaps: {soilgrids}\n",
      "usleK_method     = renard           # method to compute the USLE K factor: {renard, epic}\n",
      "\n",
      "[setup_gauges]\n",
      "gauges_fn        = grdc             # If not None add gaugemap. Either a path or known gauges_fn: {grdc}\n",
      "snap_to_river    = True             # If True snaps gauges from source to river\n",
      "derive_subcatch  = False            # if True derive subcatch map based on gauges.\n",
      "\n",
      "[setup_constant_pars]               # constant parameters values\n",
      "c_Bagnold = 0.0000175\n",
      "eros_expo = 1.5\n",
      "eros_ov = 0.9\n",
      "eros_spl_EUROSEM = 2.0\n",
      "exp_Bagnold = 1.4\n",
      "ResTrapEff = 1.0\n",
      "\n"
     ]
    }
   ],
   "source": [
    "fn_ini = 'wflow_sediment_build.ini'\n",
    "with open(fn_ini, 'r') as f:\n",
    "    txt = f.read()\n",
    "print(txt)"
   ]
  },
  {
   "cell_type": "markdown",
   "id": "12860ed2",
   "metadata": {},
   "source": [
    "### Setup wflow sediment model from scratch"
   ]
  },
  {
   "cell_type": "code",
   "execution_count": 4,
   "id": "hundred-trailer",
   "metadata": {
    "execution": {
     "iopub.execute_input": "2021-05-27T14:04:12.856477Z",
     "iopub.status.busy": "2021-05-27T14:04:12.854193Z",
     "iopub.status.idle": "2021-05-27T14:04:52.075050Z",
     "shell.execute_reply": "2021-05-27T14:04:52.075484Z"
    },
    "scrolled": true
   },
   "outputs": [
    {
     "name": "stdout",
     "output_type": "stream",
     "text": [
      "2021-05-27 14:04:15,387 - build - log - DEBUG - Writing log messages to new file /home/runner/work/hydromt_wflow/hydromt_wflow/docs/examples/examples/wflow_test_sediment/hydromt.log.\r\n",
      "2021-05-27 14:04:15,387 - build - log - INFO - HydroMT version: v0.4.2.dev\r\n",
      "2021-05-27 14:04:15,388 - build - main - INFO - Building instance of wflow_sediment model at /home/runner/work/hydromt_wflow/hydromt_wflow/docs/examples/examples/wflow_test_sediment.\r\n",
      "2021-05-27 14:04:15,388 - build - main - INFO - User settings:\r\n"
     ]
    },
    {
     "name": "stdout",
     "output_type": "stream",
     "text": [
      "2021-05-27 14:04:15,436 - build - model_plugins - DEBUG - Loaded model plugin 'wflow_sediment = hydromt_wflow.wflow_sediment.WflowSedimentModel' (0.1.2.dev0)\r\n",
      "2021-05-27 14:04:15,436 - build - model_api - INFO - Initializing wflow_sediment model from hydromt_wflow (v0.1.2.dev0).\r\n",
      "2021-05-27 14:04:15,437 - build - model_api - DEBUG - Setting model config options.\r\n",
      "2021-05-27 14:04:15,440 - build - model_api - DEBUG - Default config read from /usr/share/miniconda/envs/hydromt-wflow/lib/python3.9/site-packages/hydromt_wflow/data/wflow_sediment/wflow_sediment.toml\r\n",
      "2021-05-27 14:04:15,440 - build - model_api - INFO - setup_basemaps.region: {'subbasin': [12.2051, 45.8331], 'strord': 4, 'bounds': [11.7, 45.35, 12.95, 46.7]}\r\n",
      "2021-05-27 14:04:15,440 - build - model_api - INFO - setup_basemaps.res: 0.00833\r\n",
      "2021-05-27 14:04:15,440 - build - model_api - INFO - setup_basemaps.hydrography_fn: merit_hydro\r\n",
      "2021-05-27 14:04:15,440 - build - model_api - INFO - setup_basemaps.basin_index_fn: merit_hydro_index\r\n",
      "2021-05-27 14:04:15,440 - build - model_api - INFO - setup_basemaps.upscale_method: ihu\r\n",
      "2021-05-27 14:04:15,440 - build - wflow - INFO - Preparing base hydrography basemaps.\r\n",
      "2021-05-27 14:04:15,440 - build - data_adapter - INFO - Updating data sources from yml file /home/runner/.hydromt_data/data/v0.0.4/data_catalog.yml\r\n"
     ]
    },
    {
     "name": "stdout",
     "output_type": "stream",
     "text": [
      "2021-05-27 14:04:15,532 - build - data_adapter - INFO - DataCatalog: Getting merit_hydro RasterDataset raster data from /home/runner/.hydromt_data/data/v0.0.4/merit_hydro/{variable}.tif\r\n"
     ]
    },
    {
     "name": "stdout",
     "output_type": "stream",
     "text": [
      "2021-05-27 14:04:15,640 - build - basin_mask - DEBUG - Parsed region (kind=subbasin): {'strord': 4, 'bounds': [11.7, 45.35, 12.95, 46.7], 'xy': [12.2051, 45.8331]}\r\n"
     ]
    },
    {
     "name": "stdout",
     "output_type": "stream",
     "text": [
      "2021-05-27 14:04:19,707 - build - basin_mask - INFO - basin bbox: [11.7750, 45.8042, 12.7450, 46.6900] / size: 664756\r\n"
     ]
    },
    {
     "name": "stdout",
     "output_type": "stream",
     "text": [
      "2021-05-27 14:04:19,819 - build - wflow - DEBUG - Adding basins vector to staticgeoms.\r\n",
      "2021-05-27 14:04:19,819 - build - basemaps - DEBUG - Mask in dataset assumed to represent subbasins.\r\n",
      "2021-05-27 14:04:19,822 - build - basemaps - DEBUG - (Sub)basin at original resolution has 664756 cells.\r\n"
     ]
    },
    {
     "name": "stdout",
     "output_type": "stream",
     "text": [
      "2021-05-27 14:04:19,983 - build - basemaps - DEBUG - Burn subbasin outlet in upstream area data.\r\n",
      "2021-05-27 14:04:20,000 - build - basemaps - INFO - Upscale flow direction data: 10x, ihu method.\r\n"
     ]
    },
    {
     "name": "stdout",
     "output_type": "stream",
     "text": [
      "2021-05-27 14:04:39,794 - build - basemaps - DEBUG - Derive stream order.\r\n"
     ]
    },
    {
     "name": "stdout",
     "output_type": "stream",
     "text": [
      "2021-05-27 14:04:40,004 - build - basemaps - DEBUG - Map shape: (106, 116); active cells: 6637.\r\n",
      "2021-05-27 14:04:40,004 - build - basemaps - DEBUG - Outlet coordinates (1/1): (12.20750,45.83583).\r\n"
     ]
    },
    {
     "name": "stdout",
     "output_type": "stream",
     "text": [
      "2021-05-27 14:04:40,078 - build - wflow - DEBUG - Adding region vector to staticgeoms.\r\n",
      "2021-05-27 14:04:40,090 - build - model_api - INFO - setup_rivers.hydrography_fn: merit_hydro\r\n",
      "2021-05-27 14:04:40,090 - build - model_api - INFO - setup_rivers.river_upa: 30\r\n",
      "2021-05-27 14:04:40,090 - build - model_api - INFO - setup_rivers.slope_len: 2000\r\n",
      "2021-05-27 14:04:40,090 - build - model_api - INFO - setup_rivers.n_river_mapping: None\r\n",
      "2021-05-27 14:04:40,090 - build - model_api - INFO - setup_rivers.min_rivlen_ratio: 0.1\r\n",
      "2021-05-27 14:04:40,090 - build - wflow - INFO - Preparing river maps.\r\n",
      "2021-05-27 14:04:40,090 - build - data_adapter - INFO - DataCatalog: Getting merit_hydro RasterDataset raster data from /home/runner/.hydromt_data/data/v0.0.4/merit_hydro/{variable}.tif\r\n"
     ]
    },
    {
     "name": "stdout",
     "output_type": "stream",
     "text": [
      "2021-05-27 14:04:40,175 - build - data_adapter - DEBUG - RasterDataset: Clip with geom - [11.778, 45.807, 12.745, 46.690]\r\n"
     ]
    },
    {
     "name": "stdout",
     "output_type": "stream",
     "text": [
      "2021-05-27 14:04:40,208 - build - river - DEBUG - Set river mask with upstream area threshold: 30 km2.\r\n",
      "2021-05-27 14:04:40,218 - build - river - DEBUG - Derive river length.\r\n"
     ]
    },
    {
     "name": "stdout",
     "output_type": "stream",
     "text": [
      "2021-05-27 14:04:46,268 - build - river - DEBUG - Derive river slope.\r\n"
     ]
    },
    {
     "name": "stdout",
     "output_type": "stream",
     "text": [
      "2021-05-27 14:04:46,725 - build - landuse - INFO - Deriving N_River using average resampling (nodata=-999.0).\r\n",
      "2021-05-27 14:04:46,743 - build - wflow - DEBUG - Adding rivers vector to staticgeoms.\r\n"
     ]
    },
    {
     "name": "stdout",
     "output_type": "stream",
     "text": [
      "2021-05-27 14:04:47,464 - build - model_api - INFO - setup_reservoirs.reservoirs_fn: hydro_reservoirs\r\n",
      "2021-05-27 14:04:47,464 - build - model_api - INFO - setup_reservoirs.min_area: 1.0\r\n",
      "2021-05-27 14:04:47,464 - build - model_api - INFO - setup_reservoirs.priority_jrc: True\r\n",
      "2021-05-27 14:04:47,464 - build - wflow - INFO - Preparing reservoir maps.\r\n",
      "2021-05-27 14:04:47,464 - build - data_adapter - INFO - DataCatalog: Getting hydro_reservoirs GeoDataFrame vector data from /home/runner/.hydromt_data/data/v0.0.4/hydro_reservoirs.gpkg\r\n"
     ]
    },
    {
     "name": "stdout",
     "output_type": "stream",
     "text": [
      "2021-05-27 14:04:47,518 - build - data_adapter - DEBUG - GeoDataFrame: Convert units for 5 columns.\r\n",
      "2021-05-27 14:04:47,524 - build - wflow - WARNING - No reservoirs of sufficient size found within region! Skipping reservoir procedures!\r\n",
      "2021-05-27 14:04:47,524 - build - model_api - INFO - setup_lakes.lakes_fn: hydro_lakes\r\n",
      "2021-05-27 14:04:47,524 - build - model_api - INFO - setup_lakes.min_area: 1.0\r\n",
      "2021-05-27 14:04:47,524 - build - wflow - INFO - Preparing lake maps.\r\n",
      "2021-05-27 14:04:47,524 - build - data_adapter - INFO - DataCatalog: Getting hydro_lakes GeoDataFrame vector data from /home/runner/.hydromt_data/data/v0.0.4/hydro_lakes.gpkg\r\n"
     ]
    },
    {
     "name": "stdout",
     "output_type": "stream",
     "text": [
      "2021-05-27 14:04:47,566 - build - data_adapter - DEBUG - GeoDataFrame: Convert units for 1 columns.\r\n",
      "2021-05-27 14:04:47,569 - build - wflow - INFO - 1 lake(s) of sufficient size found within region.\r\n"
     ]
    },
    {
     "name": "stdout",
     "output_type": "stream",
     "text": [
      "2021-05-27 14:04:47,585 - build - waterbodies - DEBUG - Setting lake outlet map based maximum upstream area.\r\n"
     ]
    },
    {
     "name": "stdout",
     "output_type": "stream",
     "text": [
      "2021-05-27 14:04:47,667 - build - model_api - INFO - setup_riverwidth.predictor: discharge\r\n",
      "2021-05-27 14:04:47,667 - build - model_api - INFO - setup_riverwidth.fill: False\r\n",
      "2021-05-27 14:04:47,667 - build - model_api - INFO - setup_riverwidth.fit: False\r\n",
      "2021-05-27 14:04:47,667 - build - model_api - INFO - setup_riverwidth.min_wth: 1\r\n",
      "2021-05-27 14:04:47,667 - build - model_api - INFO - setup_riverwidth.precip_fn: chelsa\r\n",
      "2021-05-27 14:04:47,668 - build - model_api - INFO - setup_riverwidth.climate_fn: koppen_geiger\r\n",
      "2021-05-27 14:04:47,668 - build - data_adapter - INFO - DataCatalog: Getting chelsa RasterDataset raster data from /home/runner/.hydromt_data/data/v0.0.4/chelsa.tif\r\n"
     ]
    },
    {
     "name": "stdout",
     "output_type": "stream",
     "text": [
      "2021-05-27 14:04:47,687 - build - data_adapter - DEBUG - RasterDataset: Clip with geom - [11.778, 45.807, 12.745, 46.690]\r\n",
      "2021-05-27 14:04:47,715 - build - data_adapter - INFO - DataCatalog: Getting koppen_geiger RasterDataset raster data from /home/runner/.hydromt_data/data/v0.0.4/koppen_geiger.tif\r\n",
      "2021-05-27 14:04:47,732 - build - data_adapter - DEBUG - RasterDataset: Clip with geom - [11.778, 45.807, 12.745, 46.690]\r\n"
     ]
    },
    {
     "name": "stdout",
     "output_type": "stream",
     "text": [
      "2021-05-27 14:04:47,760 - build - river - DEBUG - Deriving predictor \"discharge\" values\r\n",
      "2021-05-27 14:04:47,768 - build - river - DEBUG - Basin base climate classification: 3 (Cfb)\r\n"
     ]
    },
    {
     "name": "stdout",
     "output_type": "stream",
     "text": [
      "2021-05-27 14:04:47,827 - build - river - DEBUG - lakeareas masked out in rivwth data.\r\n",
      "2021-05-27 14:04:47,827 - build - river - WARNING - mask variable \"resareas\" not found in maps.\r\n",
      "2021-05-27 14:04:47,827 - build - river - WARNING - mask variable \"glacareas\" not found in maps.\r\n",
      "2021-05-27 14:04:47,827 - build - river - INFO - Using \"width = a*discharge^b\"; where a=6.33, b=0.55 (nse=-0.450; outliers=4.66%)\r\n",
      "2021-05-27 14:04:47,828 - build - river - INFO - rivwth set globally based on width-discharge relationship.\r\n",
      "2021-05-27 14:04:47,831 - build - model_api - INFO - setup_riverbedsed.bedsed_mapping_fn: None\r\n",
      "2021-05-27 14:04:47,831 - build - wflow_sediment - INFO - Preparing riverbedsed parameter maps.\r\n"
     ]
    },
    {
     "name": "stdout",
     "output_type": "stream",
     "text": [
      "2021-05-27 14:04:47,858 - build - landuse - INFO - Deriving D50_River using average resampling (nodata=-999.0).\r\n",
      "2021-05-27 14:04:47,876 - build - landuse - INFO - Deriving ClayF_River using average resampling (nodata=-999.0).\r\n"
     ]
    },
    {
     "name": "stdout",
     "output_type": "stream",
     "text": [
      "2021-05-27 14:04:47,894 - build - landuse - INFO - Deriving SiltF_River using average resampling (nodata=-999.0).\r\n",
      "2021-05-27 14:04:47,911 - build - landuse - INFO - Deriving SandF_River using average resampling (nodata=-999.0).\r\n",
      "2021-05-27 14:04:47,928 - build - landuse - INFO - Deriving GravelF_River using average resampling (nodata=-999.0).\r\n"
     ]
    },
    {
     "name": "stdout",
     "output_type": "stream",
     "text": [
      "2021-05-27 14:04:47,953 - build - model_api - INFO - setup_lulcmaps.lulc_fn: globcover\r\n",
      "2021-05-27 14:04:47,953 - build - model_api - INFO - setup_lulcmaps.lulc_mapping_fn: None\r\n",
      "2021-05-27 14:04:47,953 - build - model_api - INFO - setup_lulcmaps.lulc_vars: ['landuse', 'Cov_River', 'Kext', 'N', 'PathFrac', 'Sl', 'Swood', 'USLE_C', 'WaterFrac']\r\n",
      "2021-05-27 14:04:47,953 - build - wflow - INFO - Preparing LULC parameter maps.\r\n",
      "2021-05-27 14:04:47,953 - build - data_adapter - INFO - DataCatalog: Getting globcover RasterDataset raster data from /home/runner/.hydromt_data/data/v0.0.4/globcover.tif\r\n",
      "2021-05-27 14:04:47,972 - build - data_adapter - DEBUG - RasterDataset: Clip with geom - [11.778, 45.807, 12.745, 46.690]\r\n"
     ]
    },
    {
     "name": "stdout",
     "output_type": "stream",
     "text": [
      "2021-05-27 14:04:48,011 - build - landuse - INFO - Deriving landuse using nearest resampling (nodata=230).\r\n"
     ]
    },
    {
     "name": "stdout",
     "output_type": "stream",
     "text": [
      "2021-05-27 14:04:48,069 - build - landuse - INFO - Deriving Cov_River using average resampling (nodata=-999.0).\r\n"
     ]
    },
    {
     "name": "stdout",
     "output_type": "stream",
     "text": [
      "2021-05-27 14:04:48,124 - build - landuse - INFO - Deriving Kext using average resampling (nodata=-999.0).\r\n"
     ]
    },
    {
     "name": "stdout",
     "output_type": "stream",
     "text": [
      "2021-05-27 14:04:48,178 - build - landuse - INFO - Deriving N using average resampling (nodata=-999.0).\r\n"
     ]
    },
    {
     "name": "stdout",
     "output_type": "stream",
     "text": [
      "2021-05-27 14:04:48,232 - build - landuse - INFO - Deriving PathFrac using average resampling (nodata=-999.0).\r\n"
     ]
    },
    {
     "name": "stdout",
     "output_type": "stream",
     "text": [
      "2021-05-27 14:04:48,287 - build - landuse - INFO - Deriving Sl using average resampling (nodata=-999.0).\r\n"
     ]
    },
    {
     "name": "stdout",
     "output_type": "stream",
     "text": [
      "2021-05-27 14:04:48,344 - build - landuse - INFO - Deriving Swood using average resampling (nodata=-999.0).\r\n"
     ]
    },
    {
     "name": "stdout",
     "output_type": "stream",
     "text": [
      "2021-05-27 14:04:48,398 - build - landuse - INFO - Deriving USLE_C using average resampling (nodata=-999.0).\r\n"
     ]
    },
    {
     "name": "stdout",
     "output_type": "stream",
     "text": [
      "2021-05-27 14:04:48,457 - build - landuse - INFO - Deriving WaterFrac using average resampling (nodata=-999).\r\n"
     ]
    },
    {
     "name": "stdout",
     "output_type": "stream",
     "text": [
      "2021-05-27 14:04:48,533 - build - model_api - INFO - setup_laimaps.lai_fn: modis_lai\r\n",
      "2021-05-27 14:04:48,533 - build - wflow - INFO - Preparing LAI maps.\r\n",
      "2021-05-27 14:04:48,533 - build - data_adapter - INFO - DataCatalog: Getting modis_lai RasterDataset netcdf data from /home/runner/.hydromt_data/data/v0.0.4/modis_lai.nc\r\n"
     ]
    },
    {
     "name": "stdout",
     "output_type": "stream",
     "text": [
      "2021-05-27 14:04:48,553 - build - data_adapter - DEBUG - RasterDataset: Clip with geom - [11.778, 45.807, 12.745, 46.690]\r\n",
      "2021-05-27 14:04:48,582 - build - data_adapter - DEBUG - RasterDataset: Convert units for 1 variables.\r\n",
      "2021-05-27 14:04:48,590 - build - landuse - INFO - Deriving LAI using average resampling (nodata=None).\r\n"
     ]
    },
    {
     "name": "stdout",
     "output_type": "stream",
     "text": [
      "2021-05-27 14:04:48,670 - build - model_api - INFO - setup_canopymaps.canopy_fn: simard\r\n",
      "2021-05-27 14:04:48,670 - build - wflow_sediment - INFO - Preparing canopy height map.\r\n",
      "2021-05-27 14:04:48,671 - build - data_adapter - INFO - DataCatalog: Getting simard RasterDataset raster data from /home/runner/.hydromt_data/data/v0.0.4/simard.tif\r\n",
      "2021-05-27 14:04:48,688 - build - data_adapter - DEBUG - RasterDataset: Clip with geom - [11.778, 45.807, 12.745, 46.690]\r\n"
     ]
    },
    {
     "name": "stdout",
     "output_type": "stream",
     "text": [
      "2021-05-27 14:04:48,754 - build - model_api - INFO - setup_soilmaps.soil_fn: soilgrids\r\n",
      "2021-05-27 14:04:48,754 - build - model_api - INFO - setup_soilmaps.usleK_method: renard\r\n",
      "2021-05-27 14:04:48,754 - build - wflow_sediment - INFO - Preparing soil parameter maps.\r\n",
      "2021-05-27 14:04:48,755 - build - data_adapter - INFO - DataCatalog: Getting soilgrids RasterDataset raster data from /home/runner/.hydromt_data/data/v0.0.4/soilgrids/{variable}.tif\r\n"
     ]
    },
    {
     "name": "stdout",
     "output_type": "stream",
     "text": [
      "2021-05-27 14:04:49,215 - build - data_adapter - DEBUG - RasterDataset: Clip with geom - [11.778, 45.807, 12.745, 46.690]\r\n",
      "2021-05-27 14:04:49,258 - build - data_adapter - DEBUG - RasterDataset: Convert units for 21 variables.\r\n"
     ]
    },
    {
     "name": "stdout",
     "output_type": "stream",
     "text": [
      "2021-05-27 14:04:50,656 - build - model_api - INFO - setup_gauges.gauges_fn: grdc\r\n",
      "2021-05-27 14:04:50,656 - build - model_api - INFO - setup_gauges.source_gdf: None\r\n",
      "2021-05-27 14:04:50,656 - build - model_api - INFO - setup_gauges.snap_to_river: True\r\n",
      "2021-05-27 14:04:50,656 - build - model_api - INFO - setup_gauges.mask: None\r\n",
      "2021-05-27 14:04:50,656 - build - model_api - INFO - setup_gauges.derive_subcatch: False\r\n",
      "2021-05-27 14:04:50,656 - build - model_api - INFO - setup_gauges.derive_outlet: True\r\n",
      "2021-05-27 14:04:50,656 - build - model_api - INFO - setup_gauges.basename: None\r\n",
      "2021-05-27 14:04:50,656 - build - model_api - INFO - setup_gauges.update_toml: True\r\n",
      "2021-05-27 14:04:50,656 - build - model_api - INFO - setup_gauges.gauge_toml_header: None\r\n",
      "2021-05-27 14:04:50,656 - build - model_api - INFO - setup_gauges.gauge_toml_param: None\r\n",
      "2021-05-27 14:04:50,656 - build - wflow - INFO - Gauges locations set based on outlets.\r\n",
      "2021-05-27 14:04:50,669 - build - wflow - INFO - Gauges map based on catchment outlets added.\r\n",
      "2021-05-27 14:04:50,670 - build - data_adapter - INFO - DataCatalog: Getting grdc GeoDataFrame csv data from /home/runner/.hydromt_data/data/v0.0.4/grdc.csv\r\n"
     ]
    },
    {
     "name": "stdout",
     "output_type": "stream",
     "text": [
      "2021-05-27 14:04:50,698 - build - wflow - INFO - 3 grdc gauge locations found within domain\r\n",
      "2021-05-27 14:04:50,714 - build - wflow - INFO - Gauges map from grdc added.\r\n"
     ]
    },
    {
     "name": "stdout",
     "output_type": "stream",
     "text": [
      "2021-05-27 14:04:50,736 - build - wflow - INFO - Write model data to /home/runner/work/hydromt_wflow/hydromt_wflow/docs/examples/examples/wflow_test_sediment\r\n",
      "2021-05-27 14:04:50,736 - build - model_api - INFO - Writing model config to /home/runner/work/hydromt_wflow/hydromt_wflow/docs/examples/examples/wflow_test_sediment/wflow_sediment.toml\r\n",
      "2021-05-27 14:04:50,737 - build - wflow - INFO - Write staticmaps to /home/runner/work/hydromt_wflow/hydromt_wflow/docs/examples/examples/wflow_test_sediment/staticmaps.nc\r\n"
     ]
    },
    {
     "name": "stdout",
     "output_type": "stream",
     "text": [
      "2021-05-27 14:04:51,178 - build - wflow - INFO - Writing model staticgeom to file.\r\n"
     ]
    },
    {
     "name": "stdout",
     "output_type": "stream",
     "text": [
      "\u001b[0m"
     ]
    }
   ],
   "source": [
    "# NOTE: copy this line (without !) to your shell for more direct feedback\n",
    "!hydromt build wflow_sediment \"./wflow_test_sediment\" \"{'subbasin': [12.2051, 45.8331], 'strord': 4, 'bounds': [11.70, 45.35, 12.95, 46.70]}\" -r 0.00833 -i wflow_sediment_build.ini -vv"
   ]
  },
  {
   "cell_type": "markdown",
   "id": "b31e92d2",
   "metadata": {},
   "source": [
    "The example above means the following: run **hydromt build** with:\n",
    "\n",
    "* `wflow_sediment` : i.e. build a wflow sediment model\n",
    "* `./wflow_test_sediment` : output model folder\n",
    "* `\"{'subbasin': [12.2051, 45.8331], 'strord': 4, 'bounds': [11.70, 45.35, 12.95, 46.70]}\"` : derive a subbasin with its outlet at the given x,y coordinates and within the given bounds [xmin, ymin, xmax, ymax] (WGS84) snapped to a river with minimum stream order (strord) of 4. All *REGION* options are described in the [docs](https://deltares.github.io/hydromt/latest/user_guide/cli.html#region-options)\n",
    "* `-r 0.0083333` : build the model at a 30 arc sec (~1km) resolution\n",
    "* `-i wflow_sediment_build.ini` : setup configuration file using\n",
    "* `-vv` : give some extra verbosity (2 * v) to display feedback on screen. Now debug messages are provided.\n"
   ]
  },
  {
   "cell_type": "markdown",
   "id": "2eed76e4",
   "metadata": {},
   "source": [
    "Next we check which files have been created. The model root should contain two netcdf (.nc) files, one for the staticmaps and one for the forcing data, a wflow configuration (.toml) file. These files are sufficient to run the wflow sediment model. In addition several geometry (.geojson) files are saved in the *staticgeoms* folder.  Finally, the setup process is logged in the hydromt.log file. "
   ]
  },
  {
   "cell_type": "code",
   "execution_count": 5,
   "id": "wireless-style",
   "metadata": {
    "execution": {
     "iopub.execute_input": "2021-05-27T14:04:52.081455Z",
     "iopub.status.busy": "2021-05-27T14:04:52.080540Z",
     "iopub.status.idle": "2021-05-27T14:04:52.086821Z",
     "shell.execute_reply": "2021-05-27T14:04:52.086071Z"
    }
   },
   "outputs": [
    {
     "name": "stdout",
     "output_type": "stream",
     "text": [
      "wflow_test_sediment\n",
      " - hydromt.log\n",
      " - staticmaps.nc\n",
      " - wflow_sediment.toml\n",
      "wflow_test_sediment/run_default\n",
      "wflow_test_sediment/instate\n",
      "wflow_test_sediment/inmaps\n",
      "wflow_test_sediment/setup\n",
      "wflow_test_sediment/staticmaps\n",
      "wflow_test_sediment/staticgeoms\n",
      " - lakes.geojson\n",
      " - rivers.geojson\n",
      " - gauges.geojson\n",
      " - basins.geojson\n",
      " - gauges_grdc.geojson\n",
      " - region.geojson\n"
     ]
    }
   ],
   "source": [
    "import os\n",
    "root = 'wflow_test_sediment'\n",
    "for path, _, files in os.walk(root):\n",
    "    print(path)\n",
    "    for name in files:\n",
    "        if name.endswith('.xml'):\n",
    "            continue\n",
    "        print(f' - {name}')"
   ]
  },
  {
   "cell_type": "markdown",
   "id": "adef7fa1",
   "metadata": {},
   "source": [
    "### Visualize and/or inspect model schematization"
   ]
  },
  {
   "cell_type": "markdown",
   "id": "20ce9df3",
   "metadata": {},
   "source": [
    "You can (copy and) adapt the following example notebooks in order to visualize your Wflow sediment model: \n",
    "\n",
    "* The **wflow plot** example notebook contains scripts to visualize your model\n",
    "* The **wflow nc to raster files** example notebook contains scripts to write the nc model files to a netcdf which can be used to inspect (and modify) the model layers in e.g. QGIS."
   ]
  },
  {
   "cell_type": "markdown",
   "id": "01f1186a",
   "metadata": {},
   "source": [
    "### Add Wflow sediment layers to an existing Wflow model"
   ]
  },
  {
   "cell_type": "markdown",
   "id": "6ca56c32",
   "metadata": {},
   "source": [
    "If you already have a hydrological **Wflow** model and you want to extend it in order to include **sediment** as well, then you do not need to build the wflow_sediment from scratch. You can instead **update** the wflow model with the additional components needed by wflow_sediment. \n",
    "\n",
    "These components are available in the template **wflow_extend_sediment.ini**:"
   ]
  },
  {
   "cell_type": "code",
   "execution_count": 6,
   "id": "fd79d798",
   "metadata": {
    "execution": {
     "iopub.execute_input": "2021-05-27T14:04:52.090955Z",
     "iopub.status.busy": "2021-05-27T14:04:52.090303Z",
     "iopub.status.idle": "2021-05-27T14:04:52.095519Z",
     "shell.execute_reply": "2021-05-27T14:04:52.095043Z"
    }
   },
   "outputs": [
    {
     "name": "stdout",
     "output_type": "stream",
     "text": [
      "[global]\n",
      "data_libs        = []               # add optional paths to data yml files\n",
      "\n",
      "[setup_config]\n",
      "# model.dolake = True               # uncomment if there are lakes in the wflow model\n",
      "# model.doreservoir = True          # uncomment if there are reservoirs in the wflow model\n",
      "\n",
      "[setup_riverbedsed]\n",
      "bedsed_mapping_fn   = None             # path to a mapping csv file from streamorder to river bed particles characteristics\n",
      "\n",
      "[setup_lulcmaps]\n",
      "lulc_fn          = globcover        # source for lulc maps: {globcover, vito, corine}\n",
      "\n",
      "[setup_canopymaps]\n",
      "canopy_fn        = simard           # source for vegetation canopy height: {simard}\n",
      "\n",
      "[setup_soilmaps]\n",
      "soil_fn          = soilgrids        # source for soilmaps: {soilgrids}\n",
      "usleK_method     = renard           # method to compute the USLE K factor: {renard, epic}\n",
      "\n",
      "[setup_gauges]\n",
      "gauges_fn        = grdc             # If not None add gaugemap. Either a path or known gauges_fn: {grdc}\n",
      "snap_to_river    = True             # If True snaps gauges from source to river\n",
      "derive_subcatch  = False            # if True derive subcatch map based on gauges.\n",
      "\n",
      "[setup_constant_pars]               # constant parameters values\n",
      "c_Bagnold = 0.0000175\n",
      "eros_expo = 1.5\n",
      "eros_ov = 0.9\n",
      "eros_spl_EUROSEM = 2.0\n",
      "exp_Bagnold = 1.4\n",
      "ResTrapEff = 1.0\n",
      "\n"
     ]
    }
   ],
   "source": [
    "fn_ini = 'wflow_extend_sediment.ini'\n",
    "with open(fn_ini, 'r') as f:\n",
    "    txt = f.read()\n",
    "print(txt)"
   ]
  },
  {
   "cell_type": "markdown",
   "id": "7bd19d2b",
   "metadata": {},
   "source": [
    "Let's update the hydrological **Wflow** model available from our example for the Piave subbasin:"
   ]
  },
  {
   "cell_type": "code",
   "execution_count": 7,
   "id": "12142c2c",
   "metadata": {
    "execution": {
     "iopub.execute_input": "2021-05-27T14:04:52.109059Z",
     "iopub.status.busy": "2021-05-27T14:04:52.108140Z",
     "iopub.status.idle": "2021-05-27T14:05:01.420523Z",
     "shell.execute_reply": "2021-05-27T14:05:01.420952Z"
    }
   },
   "outputs": [
    {
     "name": "stdout",
     "output_type": "stream",
     "text": [
      "2021-05-27 14:04:54,509 - update - log - DEBUG - Writing log messages to new file /home/runner/work/hydromt_wflow/hydromt_wflow/docs/examples/examples/wflow_test_extend_sediment/hydromt.log.\r\n",
      "2021-05-27 14:04:54,509 - update - log - INFO - HydroMT version: v0.4.2.dev\r\n",
      "2021-05-27 14:04:54,509 - update - main - INFO - Updating wflow_sediment model at /home/runner/work/hydromt_wflow/hydromt_wflow/docs/examples/examples/wflow_piave_subbasin (r).\r\n",
      "2021-05-27 14:04:54,509 - update - main - INFO - Output dir: /home/runner/work/hydromt_wflow/hydromt_wflow/docs/examples/examples/wflow_test_extend_sediment\r\n",
      "2021-05-27 14:04:54,510 - update - main - INFO - User settings:\r\n"
     ]
    },
    {
     "name": "stdout",
     "output_type": "stream",
     "text": [
      "2021-05-27 14:04:54,556 - update - model_plugins - DEBUG - Loaded model plugin 'wflow_sediment = hydromt_wflow.wflow_sediment.WflowSedimentModel' (0.1.2.dev0)\r\n",
      "2021-05-27 14:04:54,556 - update - model_api - INFO - Initializing wflow_sediment model from hydromt_wflow (v0.1.2.dev0).\r\n",
      "2021-05-27 14:04:54,556 - update - model_api - ERROR - Model config file not found at /home/runner/work/hydromt_wflow/hydromt_wflow/docs/examples/examples/wflow_piave_subbasin/wflow_sediment.toml\r\n",
      "2021-05-27 14:04:54,556 - update - model_api - ERROR - Model config file not found at /home/runner/work/hydromt_wflow/hydromt_wflow/docs/examples/examples/wflow_piave_subbasin/wflow_sediment.toml\r\n",
      "2021-05-27 14:04:54,556 - update - wflow - INFO - Read staticmaps from /home/runner/work/hydromt_wflow/hydromt_wflow/docs/examples/examples/wflow_piave_subbasin/staticmaps.nc\r\n"
     ]
    },
    {
     "name": "stdout",
     "output_type": "stream",
     "text": [
      "2021-05-27 14:04:54,620 - update - wflow - INFO - Reading model intbl files.\r\n",
      "2021-05-27 14:04:54,621 - update - wflow - INFO - Reading model staticgeom files.\r\n"
     ]
    },
    {
     "name": "stdout",
     "output_type": "stream",
     "text": [
      "2021-05-27 14:04:54,795 - update - model_api - ERROR - Model config file not found at /home/runner/work/hydromt_wflow/hydromt_wflow/docs/examples/examples/wflow_piave_subbasin/wflow_sediment.toml\r\n",
      "2021-05-27 14:04:54,795 - update - wflow - INFO - Read forcing from /home/runner/work/hydromt_wflow/hydromt_wflow/docs/examples/examples/wflow_piave_subbasin/inmaps.nc\r\n",
      "2021-05-27 14:04:54,808 - update - wflow - INFO - Model read\r\n",
      "2021-05-27 14:04:54,820 - update - model_api - INFO - setup_riverbedsed.bedsed_mapping_fn: None\r\n",
      "2021-05-27 14:04:54,820 - update - wflow_sediment - INFO - Preparing riverbedsed parameter maps.\r\n"
     ]
    },
    {
     "name": "stdout",
     "output_type": "stream",
     "text": [
      "2021-05-27 14:04:54,836 - update - landuse - INFO - Deriving D50_River using average resampling (nodata=-999.0).\r\n",
      "2021-05-27 14:04:54,852 - update - landuse - INFO - Deriving ClayF_River using average resampling (nodata=-999.0).\r\n",
      "2021-05-27 14:04:54,869 - update - landuse - INFO - Deriving SiltF_River using average resampling (nodata=-999.0).\r\n"
     ]
    },
    {
     "name": "stdout",
     "output_type": "stream",
     "text": [
      "2021-05-27 14:04:54,886 - update - landuse - INFO - Deriving SandF_River using average resampling (nodata=-999.0).\r\n",
      "2021-05-27 14:04:54,902 - update - landuse - INFO - Deriving GravelF_River using average resampling (nodata=-999.0).\r\n"
     ]
    },
    {
     "name": "stdout",
     "output_type": "stream",
     "text": [
      "2021-05-27 14:04:54,937 - update - model_api - INFO - setup_lulcmaps.lulc_fn: globcover\r\n",
      "2021-05-27 14:04:54,937 - update - model_api - INFO - setup_lulcmaps.lulc_mapping_fn: None\r\n",
      "2021-05-27 14:04:54,937 - update - model_api - INFO - setup_lulcmaps.lulc_vars: ['landuse', 'Cov_River', 'Kext', 'N', 'PathFrac', 'Sl', 'Swood', 'USLE_C', 'WaterFrac']\r\n",
      "2021-05-27 14:04:54,937 - update - wflow - INFO - Preparing LULC parameter maps.\r\n",
      "2021-05-27 14:04:54,949 - update - data_adapter - INFO - Updating data sources from yml file /home/runner/.hydromt_data/data/v0.0.4/data_catalog.yml\r\n"
     ]
    },
    {
     "name": "stdout",
     "output_type": "stream",
     "text": [
      "2021-05-27 14:04:55,032 - update - data_adapter - INFO - DataCatalog: Getting globcover RasterDataset raster data from /home/runner/.hydromt_data/data/v0.0.4/globcover.tif\r\n",
      "2021-05-27 14:04:55,060 - update - data_adapter - DEBUG - RasterDataset: Clip with geom - [11.775, 45.808, 12.742, 46.692]\r\n"
     ]
    },
    {
     "name": "stdout",
     "output_type": "stream",
     "text": [
      "2021-05-27 14:04:55,096 - update - landuse - INFO - Deriving landuse using nearest resampling (nodata=230).\r\n"
     ]
    },
    {
     "name": "stdout",
     "output_type": "stream",
     "text": [
      "2021-05-27 14:04:55,154 - update - landuse - INFO - Deriving Cov_River using average resampling (nodata=-999.0).\r\n"
     ]
    },
    {
     "name": "stdout",
     "output_type": "stream",
     "text": [
      "2021-05-27 14:04:55,213 - update - landuse - INFO - Deriving Kext using average resampling (nodata=-999.0).\r\n"
     ]
    },
    {
     "name": "stdout",
     "output_type": "stream",
     "text": [
      "2021-05-27 14:04:55,275 - update - landuse - INFO - Deriving N using average resampling (nodata=-999.0).\r\n"
     ]
    },
    {
     "name": "stdout",
     "output_type": "stream",
     "text": [
      "2021-05-27 14:04:55,336 - update - landuse - INFO - Deriving PathFrac using average resampling (nodata=-999.0).\r\n"
     ]
    },
    {
     "name": "stdout",
     "output_type": "stream",
     "text": [
      "2021-05-27 14:04:55,395 - update - landuse - INFO - Deriving Sl using average resampling (nodata=-999.0).\r\n"
     ]
    },
    {
     "name": "stdout",
     "output_type": "stream",
     "text": [
      "2021-05-27 14:04:55,452 - update - landuse - INFO - Deriving Swood using average resampling (nodata=-999.0).\r\n"
     ]
    },
    {
     "name": "stdout",
     "output_type": "stream",
     "text": [
      "2021-05-27 14:04:55,506 - update - landuse - INFO - Deriving USLE_C using average resampling (nodata=-999.0).\r\n"
     ]
    },
    {
     "name": "stdout",
     "output_type": "stream",
     "text": [
      "2021-05-27 14:04:55,562 - update - landuse - INFO - Deriving WaterFrac using average resampling (nodata=-999).\r\n"
     ]
    },
    {
     "name": "stdout",
     "output_type": "stream",
     "text": [
      "2021-05-27 14:04:55,657 - update - model_api - INFO - setup_canopymaps.canopy_fn: simard\r\n",
      "2021-05-27 14:04:55,657 - update - wflow_sediment - INFO - Preparing canopy height map.\r\n",
      "2021-05-27 14:04:55,669 - update - data_adapter - INFO - DataCatalog: Getting simard RasterDataset raster data from /home/runner/.hydromt_data/data/v0.0.4/simard.tif\r\n",
      "2021-05-27 14:04:55,685 - update - data_adapter - DEBUG - RasterDataset: Clip with geom - [11.775, 45.808, 12.742, 46.692]\r\n"
     ]
    },
    {
     "name": "stdout",
     "output_type": "stream",
     "text": [
      "2021-05-27 14:04:55,758 - update - model_api - INFO - setup_soilmaps.soil_fn: soilgrids\r\n",
      "2021-05-27 14:04:55,758 - update - model_api - INFO - setup_soilmaps.usleK_method: renard\r\n",
      "2021-05-27 14:04:55,759 - update - wflow_sediment - INFO - Preparing soil parameter maps.\r\n",
      "2021-05-27 14:04:55,770 - update - data_adapter - INFO - DataCatalog: Getting soilgrids RasterDataset raster data from /home/runner/.hydromt_data/data/v0.0.4/soilgrids/{variable}.tif\r\n"
     ]
    },
    {
     "name": "stdout",
     "output_type": "stream",
     "text": [
      "2021-05-27 14:04:56,207 - update - data_adapter - DEBUG - RasterDataset: Clip with geom - [11.775, 45.808, 12.742, 46.692]\r\n"
     ]
    },
    {
     "name": "stdout",
     "output_type": "stream",
     "text": [
      "2021-05-27 14:04:56,251 - update - data_adapter - DEBUG - RasterDataset: Convert units for 21 variables.\r\n"
     ]
    },
    {
     "name": "stdout",
     "output_type": "stream",
     "text": [
      "2021-05-27 14:04:57,683 - update - model_api - INFO - setup_gauges.gauges_fn: grdc\r\n",
      "2021-05-27 14:04:57,683 - update - model_api - INFO - setup_gauges.source_gdf: None\r\n",
      "2021-05-27 14:04:57,684 - update - model_api - INFO - setup_gauges.snap_to_river: True\r\n",
      "2021-05-27 14:04:57,684 - update - model_api - INFO - setup_gauges.mask: None\r\n",
      "2021-05-27 14:04:57,684 - update - model_api - INFO - setup_gauges.derive_subcatch: False\r\n",
      "2021-05-27 14:04:57,684 - update - model_api - INFO - setup_gauges.derive_outlet: True\r\n",
      "2021-05-27 14:04:57,684 - update - model_api - INFO - setup_gauges.basename: None\r\n",
      "2021-05-27 14:04:57,684 - update - model_api - INFO - setup_gauges.update_toml: True\r\n",
      "2021-05-27 14:04:57,684 - update - model_api - INFO - setup_gauges.gauge_toml_header: None\r\n",
      "2021-05-27 14:04:57,684 - update - model_api - INFO - setup_gauges.gauge_toml_param: None\r\n",
      "2021-05-27 14:04:57,684 - update - wflow - INFO - Gauges locations set based on outlets.\r\n"
     ]
    },
    {
     "name": "stdout",
     "output_type": "stream",
     "text": [
      "2021-05-27 14:04:58,723 - update - wflow - INFO - Gauges map based on catchment outlets added.\r\n",
      "2021-05-27 14:04:58,723 - update - data_adapter - INFO - DataCatalog: Getting grdc GeoDataFrame csv data from /home/runner/.hydromt_data/data/v0.0.4/grdc.csv\r\n",
      "2021-05-27 14:04:58,756 - update - wflow - INFO - 3 grdc gauge locations found within domain\r\n"
     ]
    },
    {
     "name": "stdout",
     "output_type": "stream",
     "text": [
      "2021-05-27 14:04:59,702 - update - model_api - DEBUG - Default config read from /usr/share/miniconda/envs/hydromt-wflow/lib/python3.9/site-packages/hydromt_wflow/data/wflow_sediment/wflow_sediment.toml\r\n",
      "2021-05-27 14:04:59,703 - update - wflow - INFO - Gauges map from grdc added.\r\n"
     ]
    },
    {
     "name": "stdout",
     "output_type": "stream",
     "text": [
      "2021-05-27 14:04:59,739 - update - wflow - INFO - Write model data to /home/runner/work/hydromt_wflow/hydromt_wflow/docs/examples/examples/wflow_test_extend_sediment\r\n",
      "2021-05-27 14:04:59,739 - update - model_api - INFO - Writing model config to /home/runner/work/hydromt_wflow/hydromt_wflow/docs/examples/examples/wflow_test_extend_sediment/wflow_sediment.toml\r\n",
      "2021-05-27 14:04:59,739 - update - wflow - INFO - Write staticmaps to /home/runner/work/hydromt_wflow/hydromt_wflow/docs/examples/examples/wflow_test_extend_sediment/staticmaps.nc\r\n"
     ]
    },
    {
     "name": "stdout",
     "output_type": "stream",
     "text": [
      "2021-05-27 14:05:00,538 - update - wflow - INFO - Writing model staticgeom to file.\r\n"
     ]
    },
    {
     "name": "stdout",
     "output_type": "stream",
     "text": [
      "2021-05-27 14:05:00,753 - update - wflow - INFO - Write forcing file\r\n",
      "2021-05-27 14:05:00,771 - update - wflow - INFO - Process forcing; saving to /home/runner/work/hydromt_wflow/hydromt_wflow/docs/examples/examples/wflow_test_extend_sediment/inmaps.nc\r\n",
      "\r",
      "[                                        ] | 0% Completed |  0.0s"
     ]
    },
    {
     "name": "stdout",
     "output_type": "stream",
     "text": [
      "\r",
      "[########################################] | 100% Completed |  0.1s\r\n",
      "\u001b[0m"
     ]
    }
   ],
   "source": [
    "# NOTE: copy this line (without !) to your shell for more direct feedback\n",
    "!hydromt update wflow_sediment \"wflow_piave_subbasin\" -o \"./wflow_test_extend_sediment\" -i wflow_extend_sediment.ini -vv"
   ]
  },
  {
   "cell_type": "markdown",
   "id": "7e64ec0c",
   "metadata": {},
   "source": [
    "The example above means the following: run **hydromt update** with:\n",
    "\n",
    "* `wflow_sediment` : i.e. update a wflow_sediment model (in our case a wflow model but with wflow_sediment components)\n",
    "* `wflow_piave_subbasin` : hydrological wflow model folder\n",
    "* `-o \"./wflow_test_extend_sediment\"`: output combined wflow hydrology+sediment models\n",
    "* `-i wflow_extend_sediment.ini` : setup configuration file containing wflow sediment specific components\n",
    "* `-vv` : give some extra verbosity (2 * v) to display feedback on screen. Now debug messages are provided."
   ]
  }
 ],
 "metadata": {
  "kernelspec": {
   "display_name": "Python 3",
   "language": "python",
   "name": "python3"
  },
  "language_info": {
   "codemirror_mode": {
    "name": "ipython",
    "version": 3
   },
   "file_extension": ".py",
   "mimetype": "text/x-python",
   "name": "python",
   "nbconvert_exporter": "python",
   "pygments_lexer": "ipython3",
   "version": "3.9.4"
  }
 },
 "nbformat": 4,
 "nbformat_minor": 5
}
