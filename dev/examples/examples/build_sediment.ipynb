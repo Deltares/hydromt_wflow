{
 "cells": [
  {
   "cell_type": "markdown",
   "id": "9a73590b",
   "metadata": {},
   "source": [
    "## Build a Wflow sediment model"
   ]
  },
  {
   "cell_type": "markdown",
   "id": "ee510c6e",
   "metadata": {},
   "source": [
    "This notebook demonstrates how to prepare a **Wflow sediment** model using the command line interace (CLI)."
   ]
  },
  {
   "cell_type": "markdown",
   "id": "6b96aa15",
   "metadata": {},
   "source": [
    "All lines in this notebook which start with `!` are executed from the command line. Within the notebook environment the logging messages are shown after completion. You can also copy these lines and paste these in your shell to get more direct feedback."
   ]
  },
  {
   "cell_type": "markdown",
   "id": "451c8168",
   "metadata": {},
   "source": [
    "### hydroMT CLI build interface"
   ]
  },
  {
   "cell_type": "markdown",
   "id": "2c70853e",
   "metadata": {},
   "source": [
    "Lets first check if the Wflow sediment model is recognized by hydromt"
   ]
  },
  {
   "cell_type": "code",
   "execution_count": 1,
   "id": "40470302",
   "metadata": {
    "execution": {
     "iopub.execute_input": "2022-01-27T12:40:05.579276Z",
     "iopub.status.busy": "2022-01-27T12:40:05.578918Z",
     "iopub.status.idle": "2022-01-27T12:40:08.659666Z",
     "shell.execute_reply": "2022-01-27T12:40:08.660432Z"
    }
   },
   "outputs": [
    {
     "name": "stdout",
     "output_type": "stream",
     "text": [
      "hydroMT model plugins: wflow (v0.1.4.dev0), wflow_sediment (v0.1.4.dev0)\r\n",
      "\u001b[0m"
     ]
    }
   ],
   "source": [
    "# this should return \"wflow, wflow_sediment\"\n",
    "!hydromt --models"
   ]
  },
  {
   "cell_type": "markdown",
   "id": "7d9b5a20",
   "metadata": {},
   "source": [
    "Using the **hydromt build** API we can setup a complete model from scratch. Let's get an overview of all the available options:"
   ]
  },
  {
   "cell_type": "code",
   "execution_count": 2,
   "id": "1d39e4a1",
   "metadata": {
    "execution": {
     "iopub.execute_input": "2022-01-27T12:40:08.668064Z",
     "iopub.status.busy": "2022-01-27T12:40:08.664865Z",
     "iopub.status.idle": "2022-01-27T12:40:11.680413Z",
     "shell.execute_reply": "2022-01-27T12:40:11.680025Z"
    }
   },
   "outputs": [
    {
     "name": "stdout",
     "output_type": "stream",
     "text": [
      "Usage: hydromt build [OPTIONS] MODEL MODEL_ROOT REGION\r\n",
      "\r\n",
      "  Build models from source data.\r\n",
      "\r\n",
      "  Example usage:\r\n",
      "  --------------\r\n",
      "\r\n",
      "  To build a wflow model for a subbasin using and point coordinates snapped to cells with stream order >= 4\r\n",
      "  hydromt build wflow /path/to/model_root \"{'subbasin': [-7.24, 62.09], 'strord': 4}\" -i /path/to/wflow_config.ini\r\n",
      "\r\n",
      "  To build a wflow model based on basin ID\r\n",
      "  hydromt build wflow /path/to/model_root \"{'basin': 230001006}\"\r\n",
      "\r\n",
      "  To build a sfincs model based on a bbox (for Texel)\r\n",
      "  hydromt build sfincs /path/to/model_root \"{'bbox': [4.6891,52.9750,4.9576,53.1994]}\"\r\n",
      "\r\n",
      "Options:\r\n",
      "  -r, --res FLOAT             Model resolution in model src.\r\n",
      "  --build-base / --build-all  Deprecated!\r\n",
      "  --opt TEXT                  Component specific keyword arguments, see the\r\n",
      "                              setup_<component> method of the specific model\r\n",
      "                              for more information about the arguments.\r\n",
      "  -i, --config PATH           Path to hydroMT configuration file, for the\r\n",
      "                              model specific implementation.\r\n",
      "  -d, --data PATH             File path to yml data sources file. See\r\n",
      "                              documentation for required yml file format.\r\n",
      "  --dd, --deltares-data       Parse default deltares data yml from\r\n",
      "                              https://github.com/DirkEilander/hydromt-\r\n",
      "                              artifacts/releases\r\n",
      "  -q, --quiet                 Decrease verbosity.\r\n",
      "  -v, --verbose               Increase verbosity.\r\n",
      "  --help                      Show this message and exit.\r\n",
      "\u001b[0m"
     ]
    }
   ],
   "source": [
    "!hydromt build --help"
   ]
  },
  {
   "cell_type": "markdown",
   "id": "ebd31242",
   "metadata": {},
   "source": [
    "### Model setup configuration"
   ]
  },
  {
   "cell_type": "markdown",
   "id": "fb8282c9",
   "metadata": {},
   "source": [
    "The ini-file contains the model setup configuration and determines which components are build and in which order and optionally sets non-default arguments for each component. This configuration is passed to hydromt using `-i <path_to_ini_file>`. We have prepared several example ini-files which are available in the model repository [examples folder](https://github.com/Deltares/hydromt_wflow/tree/main/examples) and from the [docs(build_configuration)](https://deltares.github.io/hydromt_wflow/latest/user_guide/wflow/build_configuration.html). \n",
    "\n",
    "Each header as shown between `[...]` (e.g. `[setup_basemaps]`) corresponds to a model component. All model components are explained in the [docs(model_components)](https://deltares.github.io/hydromt_wflow/latest/user_guide/wflow/components.html). "
   ]
  },
  {
   "cell_type": "markdown",
   "id": "cc3fd44d",
   "metadata": {},
   "source": [
    "We will load the default wflow sediment build ini file for inspection:"
   ]
  },
  {
   "cell_type": "code",
   "execution_count": 3,
   "id": "e88d4aed",
   "metadata": {
    "execution": {
     "iopub.execute_input": "2022-01-27T12:40:11.684632Z",
     "iopub.status.busy": "2022-01-27T12:40:11.684080Z",
     "iopub.status.idle": "2022-01-27T12:40:11.688266Z",
     "shell.execute_reply": "2022-01-27T12:40:11.687773Z"
    }
   },
   "outputs": [
    {
     "name": "stdout",
     "output_type": "stream",
     "text": [
      "[global]\n",
      "data_libs        = []               # add optional paths to data yml files\n",
      "\n",
      "[setup_config]                      # options parsed to wflow ini file <section>.<option>\n",
      "starttime = 2010-01-01T00:00:00\n",
      "endtime = 2010-03-31T00:00:00\n",
      "timestepsecs = 86400\n",
      "\n",
      "[setup_basemaps]\n",
      "hydrography_fn   = merit_hydro      # source hydrography data {merit_hydro, merit_hydro_1k}\n",
      "basin_index_fn   = merit_hydro_index # source of basin index corresponding to hydrography_fn\n",
      "upscale_method   = ihu              # upscaling method for flow direction data, by default 'ihu'\n",
      "\n",
      "[setup_rivers]\n",
      "hydrography_fn   = merit_hydro      # source hydrography data, should correspond to hydrography_fn in setup_basemaps\n",
      "river_geom_fn    = rivers_lin2019_v1 # river source data with river width and bankfull discharge\n",
      "river_upa        = 30               # minimum upstream area threshold for the river map [km2]\n",
      "rivdph_method    = powlaw           # method to estimate depth {'powlaw', 'manning', 'gvf'}\n",
      "min_rivdph       = 1                # minimum river depth [m]\n",
      "min_rivwth       = 30               # minimum river width [m]\n",
      "slope_len        = 2000             # length over which tp calculate river slope [m]\n",
      "smooth_len       = 5000             # length over which to smooth river depth and river width [m]\n",
      "\n",
      "[setup_reservoirs]\n",
      "reservoirs_fn    = hydro_reservoirs # source for reservoirs based on GRAND: {hydro_reservoirs}; None to skip\n",
      "min_area         = 1.0              # minimum lake area to consider [km2]\n",
      "priority_jrc     = True             # if True then JRC data from hydroengine is used to calculate some reservoir attributes instead of the GRanD and HydroLAKES db.   \n",
      "\n",
      "[setup_lakes]\n",
      "lakes_fn         = hydro_lakes      # source for lakes based on hydroLAKES: {hydro_lakes}; None to skip\n",
      "min_area         = 1.0              # minimum reservoir area to consider [km2]\n",
      "\n",
      "[setup_riverbedsed]\n",
      "bedsed_mapping_fn = None             # path to a mapping csv file from streamorder to river bed particles characteristics\n",
      "\n",
      "[setup_lulcmaps]\n",
      "lulc_fn          = globcover        # source for lulc maps: {globcover, vito, corine}\n",
      "\n",
      "[setup_laimaps]\n",
      "lai_fn           = modis_lai        # source for LAI: {modis_lai}\n",
      "\n",
      "[setup_canopymaps]\n",
      "canopy_fn        = simard           # source for vegetation canopy height: {simard}\n",
      "\n",
      "[setup_soilmaps]\n",
      "soil_fn          = soilgrids        # source for soilmaps: {soilgrids}\n",
      "usleK_method     = renard           # method to compute the USLE K factor: {renard, epic}\n",
      "\n",
      "[setup_hydrodem]                 # adds hydrologically conditioned elevation FloodplainZ\n",
      "\n",
      "[setup_gauges]\n",
      "gauges_fn        = grdc             # If not None add gaugemap. Either a path or known gauges_fn: {grdc}\n",
      "snap_to_river    = True             # If True snaps gauges from source to river\n",
      "derive_subcatch  = False            # if True derive subcatch map based on gauges.\n",
      "\n",
      "[setup_constant_pars]               # constant parameters values\n",
      "c_Bagnold = 0.0000175\n",
      "eros_expo = 1.5\n",
      "eros_ov = 0.9\n",
      "eros_spl_EUROSEM = 2.0\n",
      "exp_Bagnold = 1.4\n",
      "ResTrapEff = 1.0\n",
      "\n"
     ]
    }
   ],
   "source": [
    "fn_ini = \"wflow_sediment_build.ini\"\n",
    "with open(fn_ini, \"r\") as f:\n",
    "    txt = f.read()\n",
    "print(txt)"
   ]
  },
  {
   "cell_type": "markdown",
   "id": "12860ed2",
   "metadata": {},
   "source": [
    "### Setup wflow sediment model from scratch"
   ]
  },
  {
   "cell_type": "code",
   "execution_count": 4,
   "id": "hundred-trailer",
   "metadata": {
    "execution": {
     "iopub.execute_input": "2022-01-27T12:40:11.693384Z",
     "iopub.status.busy": "2022-01-27T12:40:11.690838Z",
     "iopub.status.idle": "2022-01-27T12:40:47.471384Z",
     "shell.execute_reply": "2022-01-27T12:40:47.470883Z"
    },
    "scrolled": true
   },
   "outputs": [
    {
     "name": "stdout",
     "output_type": "stream",
     "text": [
      "2022-01-27 12:40:14,167 - build - log - DEBUG - Writing log messages to new file /home/runner/work/hydromt_wflow/hydromt_wflow/docs/examples/examples/wflow_test_sediment/hydromt.log.\r\n",
      "2022-01-27 12:40:14,167 - build - log - INFO - HydroMT version: 0.4.5.dev\r\n",
      "2022-01-27 12:40:14,167 - build - main - INFO - Building instance of wflow_sediment model at /home/runner/work/hydromt_wflow/hydromt_wflow/docs/examples/examples/wflow_test_sediment.\r\n",
      "2022-01-27 12:40:14,167 - build - main - INFO - User settings:\r\n",
      "2022-01-27 12:40:14,175 - build - model_plugins - DEBUG - Loaded model plugin 'wflow_sediment = hydromt_wflow.wflow_sediment.WflowSedimentModel' (0.1.4.dev0)\r\n",
      "2022-01-27 12:40:14,175 - build - model_api - INFO - Initializing wflow_sediment model from hydromt_wflow (v0.1.4.dev0).\r\n",
      "2022-01-27 12:40:14,175 - build - model_api - DEBUG - Setting model config options.\r\n",
      "2022-01-27 12:40:14,177 - build - model_api - DEBUG - Default config read from /usr/share/miniconda/envs/hydromt-wflow/lib/python3.9/site-packages/hydromt_wflow/data/wflow_sediment/wflow_sediment.toml\r\n",
      "2022-01-27 12:40:14,177 - build - model_api - INFO - setup_basemaps.region: {'subbasin': [12.2051, 45.8331], 'strord': 4, 'bounds': [11.7, 45.35, 12.95, 46.7]}\r\n",
      "2022-01-27 12:40:14,178 - build - model_api - INFO - setup_basemaps.res: 0.00833\r\n",
      "2022-01-27 12:40:14,178 - build - model_api - INFO - setup_basemaps.hydrography_fn: merit_hydro\r\n",
      "2022-01-27 12:40:14,178 - build - model_api - INFO - setup_basemaps.basin_index_fn: merit_hydro_index\r\n",
      "2022-01-27 12:40:14,178 - build - model_api - INFO - setup_basemaps.upscale_method: ihu\r\n",
      "2022-01-27 12:40:14,178 - build - wflow - INFO - Preparing base hydrography basemaps.\r\n",
      "2022-01-27 12:40:14,178 - build - data_adapter - INFO - Adding sample data v0.0.6 from artifacts\r\n"
     ]
    },
    {
     "name": "stdout",
     "output_type": "stream",
     "text": [
      "2022-01-27 12:40:14,237 - build - data_adapter - INFO - DataCatalog: Getting merit_hydro RasterDataset raster data from /home/runner/.hydromt_data/data/v0.0.6/merit_hydro/{variable}.tif\r\n"
     ]
    },
    {
     "name": "stdout",
     "output_type": "stream",
     "text": [
      "2022-01-27 12:40:14,306 - build - basin_mask - DEBUG - Parsed region (kind=subbasin): {'strord': 4, 'bounds': [11.7, 45.35, 12.95, 46.7], 'xy': [12.2051, 45.8331]}\r\n"
     ]
    },
    {
     "name": "stdout",
     "output_type": "stream",
     "text": [
      "2022-01-27 12:40:17,609 - build - basin_mask - INFO - subbasin bbox: [11.7750, 45.8042, 12.7450, 46.6900]\r\n"
     ]
    },
    {
     "name": "stdout",
     "output_type": "stream",
     "text": [
      "2022-01-27 12:40:17,680 - build - wflow - DEBUG - Adding basins vector to staticgeoms.\r\n",
      "2022-01-27 12:40:17,680 - build - basemaps - DEBUG - Mask in dataset assumed to represent subbasins.\r\n",
      "2022-01-27 12:40:17,681 - build - basemaps - DEBUG - (Sub)basin at original resolution has 664756 cells.\r\n"
     ]
    },
    {
     "name": "stdout",
     "output_type": "stream",
     "text": [
      "2022-01-27 12:40:17,808 - build - basemaps - DEBUG - Burn subbasin outlet in upstream area data.\r\n"
     ]
    },
    {
     "name": "stdout",
     "output_type": "stream",
     "text": [
      "2022-01-27 12:40:17,870 - build - basemaps - INFO - Upscale flow direction data: 10x, ihu method.\r\n"
     ]
    },
    {
     "name": "stdout",
     "output_type": "stream",
     "text": [
      "2022-01-27 12:40:31,807 - build - basemaps - DEBUG - Derive stream order.\r\n"
     ]
    },
    {
     "name": "stdout",
     "output_type": "stream",
     "text": [
      "2022-01-27 12:40:32,027 - build - basemaps - DEBUG - Map shape: (106, 116); active cells: 6637.\r\n",
      "2022-01-27 12:40:32,027 - build - basemaps - DEBUG - Outlet coordinates (1/1): (12.20750,45.83583).\r\n"
     ]
    },
    {
     "name": "stdout",
     "output_type": "stream",
     "text": [
      "2022-01-27 12:40:32,082 - build - wflow - DEBUG - Adding region vector to staticgeoms.\r\n",
      "2022-01-27 12:40:32,086 - build - model_api - INFO - setup_rivers.hydrography_fn: merit_hydro\r\n",
      "2022-01-27 12:40:32,086 - build - model_api - INFO - setup_rivers.river_geom_fn: rivers_lin2019_v1\r\n",
      "2022-01-27 12:40:32,086 - build - model_api - INFO - setup_rivers.river_upa: 30\r\n",
      "2022-01-27 12:40:32,086 - build - model_api - INFO - setup_rivers.rivdph_method: powlaw\r\n",
      "2022-01-27 12:40:32,086 - build - model_api - INFO - setup_rivers.slope_len: 2000\r\n",
      "2022-01-27 12:40:32,086 - build - model_api - INFO - setup_rivers.min_rivlen_ratio: 0.1\r\n",
      "2022-01-27 12:40:32,086 - build - model_api - INFO - setup_rivers.min_rivdph: 1\r\n",
      "2022-01-27 12:40:32,086 - build - model_api - INFO - setup_rivers.min_rivwth: 30\r\n",
      "2022-01-27 12:40:32,086 - build - model_api - INFO - setup_rivers.smooth_len: 5000\r\n",
      "2022-01-27 12:40:32,086 - build - model_api - INFO - setup_rivers.rivman_mapping_fn: /usr/share/miniconda/envs/hydromt-wflow/lib/python3.9/site-packages/hydromt_wflow/data/wflow/N_river_mapping.csv\r\n",
      "2022-01-27 12:40:32,086 - build - wflow - INFO - Preparing river maps.\r\n",
      "2022-01-27 12:40:32,087 - build - data_adapter - INFO - DataCatalog: Getting merit_hydro RasterDataset raster data from /home/runner/.hydromt_data/data/v0.0.6/merit_hydro/{variable}.tif\r\n"
     ]
    },
    {
     "name": "stdout",
     "output_type": "stream",
     "text": [
      "2022-01-27 12:40:32,140 - build - data_adapter - DEBUG - RasterDataset: Clip with geom - [11.778, 45.807, 12.745, 46.690]\r\n",
      "2022-01-27 12:40:32,153 - build - river - DEBUG - Set river mask (min uparea: 30 km2) and prepare flow dirs.\r\n"
     ]
    },
    {
     "name": "stdout",
     "output_type": "stream",
     "text": [
      "2022-01-27 12:40:32,358 - build - river - DEBUG - Derive river length.\r\n"
     ]
    },
    {
     "name": "stdout",
     "output_type": "stream",
     "text": [
      "2022-01-27 12:40:38,262 - build - river - DEBUG - Derive river slope.\r\n"
     ]
    },
    {
     "name": "stdout",
     "output_type": "stream",
     "text": [
      "2022-01-27 12:40:38,902 - build - river - DEBUG - Derive rivwth from hydrography dataset.\r\n"
     ]
    },
    {
     "name": "stdout",
     "output_type": "stream",
     "text": [
      "2022-01-27 12:40:38,938 - build - landuse - INFO - Deriving N_River using average resampling (nodata=-999.0).\r\n",
      "2022-01-27 12:40:38,949 - build - data_adapter - INFO - DataCatalog: Getting rivers_lin2019_v1 GeoDataFrame vector data from /home/runner/.hydromt_data/data/v0.0.6/rivers_lin2019_v1.gpkg\r\n",
      "2022-01-27 12:40:38,950 - build - data_adapter - INFO - GeoDataFrame: Read vector data and clip to geom (epsg:4326) [11.778, 45.807, 12.745, 46.690].\r\n"
     ]
    },
    {
     "name": "stdout",
     "output_type": "stream",
     "text": [
      "2022-01-27 12:40:39,175 - build - river - DEBUG - Derive ['rivwth', 'qbankfull'] from shapefile.\r\n"
     ]
    },
    {
     "name": "stdout",
     "output_type": "stream",
     "text": [
      "2022-01-27 12:40:39,271 - build - river - DEBUG - Valid for 381/655 river cells (max dist: 392 m).\r\n"
     ]
    },
    {
     "name": "stdout",
     "output_type": "stream",
     "text": [
      "2022-01-27 12:40:40,823 - build - wflow - DEBUG - Adding rivers vector to staticgeoms.\r\n"
     ]
    },
    {
     "name": "stdout",
     "output_type": "stream",
     "text": [
      "2022-01-27 12:40:41,554 - build - model_api - INFO - setup_reservoirs.reservoirs_fn: hydro_reservoirs\r\n",
      "2022-01-27 12:40:41,554 - build - model_api - INFO - setup_reservoirs.min_area: 1.0\r\n",
      "2022-01-27 12:40:41,554 - build - model_api - INFO - setup_reservoirs.priority_jrc: True\r\n",
      "2022-01-27 12:40:41,554 - build - wflow - INFO - Preparing reservoir maps.\r\n",
      "2022-01-27 12:40:41,554 - build - data_adapter - INFO - DataCatalog: Getting hydro_reservoirs GeoDataFrame vector data from /home/runner/.hydromt_data/data/v0.0.6/hydro_reservoirs.gpkg\r\n",
      "2022-01-27 12:40:41,557 - build - data_adapter - INFO - GeoDataFrame: Read vector data and clip to geom (epsg:4326) [11.775, 45.804, 12.745, 46.690].\r\n"
     ]
    },
    {
     "name": "stdout",
     "output_type": "stream",
     "text": [
      "2022-01-27 12:40:41,580 - build - data_adapter - DEBUG - GeoDataFrame: Convert units for 5 columns.\r\n",
      "2022-01-27 12:40:41,583 - build - wflow - WARNING - No reservoirs of sufficient size found within region! Skipping reservoir procedures!\r\n",
      "2022-01-27 12:40:41,583 - build - model_api - INFO - setup_lakes.lakes_fn: hydro_lakes\r\n",
      "2022-01-27 12:40:41,583 - build - model_api - INFO - setup_lakes.min_area: 1.0\r\n",
      "2022-01-27 12:40:41,583 - build - wflow - INFO - Preparing lake maps.\r\n",
      "2022-01-27 12:40:41,583 - build - data_adapter - INFO - DataCatalog: Getting hydro_lakes GeoDataFrame vector data from /home/runner/.hydromt_data/data/v0.0.6/hydro_lakes.gpkg\r\n",
      "2022-01-27 12:40:41,586 - build - data_adapter - INFO - GeoDataFrame: Read vector data and clip to geom (epsg:4326) [11.775, 45.804, 12.745, 46.690].\r\n",
      "2022-01-27 12:40:41,601 - build - data_adapter - DEBUG - GeoDataFrame: Convert units for 1 columns.\r\n",
      "2022-01-27 12:40:41,602 - build - wflow - INFO - 1 lake(s) of sufficient size found within region.\r\n",
      "2022-01-27 12:40:41,609 - build - waterbodies - DEBUG - Setting lake outlet map based maximum upstream area.\r\n"
     ]
    },
    {
     "name": "stdout",
     "output_type": "stream",
     "text": [
      "2022-01-27 12:40:41,658 - build - model_api - INFO - setup_riverbedsed.bedsed_mapping_fn: None\r\n",
      "2022-01-27 12:40:41,658 - build - wflow_sediment - INFO - Preparing riverbedsed parameter maps.\r\n"
     ]
    },
    {
     "name": "stdout",
     "output_type": "stream",
     "text": [
      "2022-01-27 12:40:41,667 - build - landuse - INFO - Deriving D50_River using average resampling (nodata=-999.0).\r\n",
      "2022-01-27 12:40:41,676 - build - landuse - INFO - Deriving ClayF_River using average resampling (nodata=-999.0).\r\n",
      "2022-01-27 12:40:41,686 - build - landuse - INFO - Deriving SiltF_River using average resampling (nodata=-999.0).\r\n",
      "2022-01-27 12:40:41,695 - build - landuse - INFO - Deriving SandF_River using average resampling (nodata=-999.0).\r\n",
      "2022-01-27 12:40:41,704 - build - landuse - INFO - Deriving GravelF_River using average resampling (nodata=-999.0).\r\n"
     ]
    },
    {
     "name": "stdout",
     "output_type": "stream",
     "text": [
      "2022-01-27 12:40:41,719 - build - model_api - INFO - setup_lulcmaps.lulc_fn: globcover\r\n",
      "2022-01-27 12:40:41,719 - build - model_api - INFO - setup_lulcmaps.lulc_mapping_fn: None\r\n",
      "2022-01-27 12:40:41,719 - build - model_api - INFO - setup_lulcmaps.lulc_vars: ['landuse', 'Cov_River', 'Kext', 'N', 'PathFrac', 'Sl', 'Swood', 'USLE_C', 'WaterFrac']\r\n",
      "2022-01-27 12:40:41,719 - build - wflow - INFO - Preparing LULC parameter maps.\r\n",
      "2022-01-27 12:40:41,720 - build - data_adapter - INFO - DataCatalog: Getting globcover RasterDataset raster data from /home/runner/.hydromt_data/data/v0.0.6/globcover.tif\r\n",
      "2022-01-27 12:40:41,729 - build - data_adapter - DEBUG - RasterDataset: Clip with geom - [11.778, 45.807, 12.745, 46.690]\r\n",
      "2022-01-27 12:40:41,745 - build - landuse - INFO - Deriving landuse using nearest resampling (nodata=230).\r\n"
     ]
    },
    {
     "name": "stdout",
     "output_type": "stream",
     "text": [
      "2022-01-27 12:40:41,783 - build - landuse - INFO - Deriving Cov_River using average resampling (nodata=-999.0).\r\n"
     ]
    },
    {
     "name": "stdout",
     "output_type": "stream",
     "text": [
      "2022-01-27 12:40:41,822 - build - landuse - INFO - Deriving Kext using average resampling (nodata=-999.0).\r\n",
      "2022-01-27 12:40:41,860 - build - landuse - INFO - Deriving N using average resampling (nodata=-999.0).\r\n"
     ]
    },
    {
     "name": "stdout",
     "output_type": "stream",
     "text": [
      "2022-01-27 12:40:41,898 - build - landuse - INFO - Deriving PathFrac using average resampling (nodata=-999.0).\r\n"
     ]
    },
    {
     "name": "stdout",
     "output_type": "stream",
     "text": [
      "2022-01-27 12:40:41,936 - build - landuse - INFO - Deriving Sl using average resampling (nodata=-999.0).\r\n"
     ]
    },
    {
     "name": "stdout",
     "output_type": "stream",
     "text": [
      "2022-01-27 12:40:41,974 - build - landuse - INFO - Deriving Swood using average resampling (nodata=-999.0).\r\n",
      "2022-01-27 12:40:42,011 - build - landuse - INFO - Deriving USLE_C using average resampling (nodata=-999.0).\r\n"
     ]
    },
    {
     "name": "stdout",
     "output_type": "stream",
     "text": [
      "2022-01-27 12:40:42,049 - build - landuse - INFO - Deriving WaterFrac using average resampling (nodata=-999).\r\n"
     ]
    },
    {
     "name": "stdout",
     "output_type": "stream",
     "text": [
      "2022-01-27 12:40:42,099 - build - model_api - INFO - setup_laimaps.lai_fn: modis_lai\r\n",
      "2022-01-27 12:40:42,099 - build - wflow - INFO - Preparing LAI maps.\r\n",
      "2022-01-27 12:40:42,099 - build - data_adapter - INFO - DataCatalog: Getting modis_lai RasterDataset netcdf data from /home/runner/.hydromt_data/data/v0.0.6/modis_lai.nc\r\n"
     ]
    },
    {
     "name": "stdout",
     "output_type": "stream",
     "text": [
      "2022-01-27 12:40:42,131 - build - data_adapter - DEBUG - RasterDataset: Clip with geom - [11.778, 45.807, 12.745, 46.690]\r\n",
      "2022-01-27 12:40:42,141 - build - data_adapter - DEBUG - RasterDataset: Convert units for 1 variables.\r\n",
      "2022-01-27 12:40:42,147 - build - landuse - INFO - Deriving LAI using average resampling (nodata=None).\r\n"
     ]
    },
    {
     "name": "stdout",
     "output_type": "stream",
     "text": [
      "2022-01-27 12:40:42,209 - build - model_api - INFO - setup_canopymaps.canopy_fn: simard\r\n",
      "2022-01-27 12:40:42,210 - build - wflow_sediment - INFO - Preparing canopy height map.\r\n",
      "2022-01-27 12:40:42,210 - build - data_adapter - INFO - DataCatalog: Getting simard RasterDataset raster data from /home/runner/.hydromt_data/data/v0.0.6/simard.tif\r\n",
      "2022-01-27 12:40:42,218 - build - data_adapter - DEBUG - RasterDataset: Clip with geom - [11.778, 45.807, 12.745, 46.690]\r\n"
     ]
    },
    {
     "name": "stdout",
     "output_type": "stream",
     "text": [
      "2022-01-27 12:40:42,253 - build - model_api - INFO - setup_soilmaps.soil_fn: soilgrids\r\n",
      "2022-01-27 12:40:42,254 - build - model_api - INFO - setup_soilmaps.usleK_method: renard\r\n",
      "2022-01-27 12:40:42,254 - build - wflow_sediment - INFO - Preparing soil parameter maps.\r\n",
      "2022-01-27 12:40:42,254 - build - data_adapter - INFO - DataCatalog: Getting soilgrids RasterDataset raster data from /home/runner/.hydromt_data/data/v0.0.6/soilgrids/{variable}.tif\r\n"
     ]
    },
    {
     "name": "stdout",
     "output_type": "stream",
     "text": [
      "2022-01-27 12:40:42,536 - build - data_adapter - DEBUG - RasterDataset: Clip with geom - [11.778, 45.807, 12.745, 46.690]\r\n",
      "2022-01-27 12:40:42,555 - build - data_adapter - DEBUG - RasterDataset: Convert units for 21 variables.\r\n"
     ]
    },
    {
     "name": "stdout",
     "output_type": "stream",
     "text": [
      "2022-01-27 12:40:42,997 - build - soilgrids - INFO - Interpolate NAN values for PercentClay\r\n",
      "2022-01-27 12:40:43,023 - build - soilgrids - INFO - Interpolate NAN values for PercentSilt\r\n"
     ]
    },
    {
     "name": "stdout",
     "output_type": "stream",
     "text": [
      "2022-01-27 12:40:43,054 - build - soilgrids - INFO - Interpolate NAN values for PercentOC\r\n"
     ]
    },
    {
     "name": "stdout",
     "output_type": "stream",
     "text": [
      "2022-01-27 12:40:43,103 - build - soilgrids - INFO - Interpolate NAN values for ErosK\r\n",
      "2022-01-27 12:40:43,143 - build - soilgrids - INFO - Interpolate NAN values for USLE_K\r\n"
     ]
    },
    {
     "name": "stdout",
     "output_type": "stream",
     "text": [
      "2022-01-27 12:40:43,154 - build - model_api - INFO - setup_hydrodem.elevtn_map: wflow_dem\r\n",
      "2022-01-27 12:40:43,154 - build - model_api - INFO - setup_hydrodem.river_routing: local-inertial\r\n",
      "2022-01-27 12:40:43,154 - build - model_api - INFO - setup_hydrodem.land_routing: kinematic-wave\r\n",
      "2022-01-27 12:40:43,154 - build - wflow - INFO - Preparing hydrodem_avg map for routing.\r\n",
      "2022-01-27 12:40:43,181 - build - flw - INFO - Condition elevation to D8 flow directions.\r\n"
     ]
    },
    {
     "name": "stdout",
     "output_type": "stream",
     "text": [
      "2022-01-27 12:40:46,633 - build - wflow - DEBUG - Update wflow config model.river_routing=\"local-inertial\"\r\n",
      "2022-01-27 12:40:46,633 - build - wflow - DEBUG - Update wflow config model.land_routing=\"kinematic-wave\"\r\n",
      "2022-01-27 12:40:46,633 - build - main - ERROR - 'land'\r\n",
      "Traceback (most recent call last):\r\n",
      "  File \"/usr/share/miniconda/envs/hydromt-wflow/lib/python3.9/site-packages/hydromt/cli/main.py\", line 196, in build\r\n",
      "    mod.build(region, res, opt=opt)\r\n",
      "  File \"/usr/share/miniconda/envs/hydromt-wflow/lib/python3.9/site-packages/hydromt/models/model_api.py\", line 156, in build\r\n",
      "    self._run_log_method(method, **opt[method])\r\n",
      "  File \"/usr/share/miniconda/envs/hydromt-wflow/lib/python3.9/site-packages/hydromt/models/model_api.py\", line 98, in _run_log_method\r\n",
      "    return func(*args, **kwargs)\r\n",
      "  File \"/usr/share/miniconda/envs/hydromt-wflow/lib/python3.9/site-packages/hydromt_wflow/wflow.py\", line 469, in setup_hydrodem\r\n",
      "    self.config[\"state\"][\"lateral\"][\"land\"].pop(\"qx\", None)\r\n",
      "KeyError: 'land'\r\n",
      "Traceback (most recent call last):\r\n",
      "  File \"/usr/share/miniconda/envs/hydromt-wflow/bin/hydromt\", line 8, in <module>\r\n",
      "    sys.exit(main())\r\n",
      "  File \"/usr/share/miniconda/envs/hydromt-wflow/lib/python3.9/site-packages/click/core.py\", line 1128, in __call__\r\n",
      "    return self.main(*args, **kwargs)\r\n",
      "  File \"/usr/share/miniconda/envs/hydromt-wflow/lib/python3.9/site-packages/click/core.py\", line 1053, in main\r\n",
      "    rv = self.invoke(ctx)\r\n",
      "  File \"/usr/share/miniconda/envs/hydromt-wflow/lib/python3.9/site-packages/click/core.py\", line 1659, in invoke\r\n",
      "    return _process_result(sub_ctx.command.invoke(sub_ctx))\r\n",
      "  File \"/usr/share/miniconda/envs/hydromt-wflow/lib/python3.9/site-packages/click/core.py\", line 1395, in invoke\r\n",
      "    return ctx.invoke(self.callback, **ctx.params)\r\n",
      "  File \"/usr/share/miniconda/envs/hydromt-wflow/lib/python3.9/site-packages/click/core.py\", line 754, in invoke\r\n",
      "    return __callback(*args, **kwargs)\r\n",
      "  File \"/usr/share/miniconda/envs/hydromt-wflow/lib/python3.9/site-packages/click/decorators.py\", line 26, in new_func\r\n",
      "    return f(get_current_context(), *args, **kwargs)\r\n",
      "  File \"/usr/share/miniconda/envs/hydromt-wflow/lib/python3.9/site-packages/hydromt/cli/main.py\", line 196, in build\r\n",
      "    mod.build(region, res, opt=opt)\r\n",
      "  File \"/usr/share/miniconda/envs/hydromt-wflow/lib/python3.9/site-packages/hydromt/models/model_api.py\", line 156, in build\r\n",
      "    self._run_log_method(method, **opt[method])\r\n",
      "  File \"/usr/share/miniconda/envs/hydromt-wflow/lib/python3.9/site-packages/hydromt/models/model_api.py\", line 98, in _run_log_method\r\n"
     ]
    },
    {
     "name": "stdout",
     "output_type": "stream",
     "text": [
      "    return func(*args, **kwargs)\r\n",
      "  File \"/usr/share/miniconda/envs/hydromt-wflow/lib/python3.9/site-packages/hydromt_wflow/wflow.py\", line 469, in setup_hydrodem\r\n",
      "    self.config[\"state\"][\"lateral\"][\"land\"].pop(\"qx\", None)\r\n",
      "KeyError: 'land'\r\n",
      "\u001b[0m"
     ]
    }
   ],
   "source": [
    "# NOTE: copy this line (without !) to your shell for more direct feedback\n",
    "!hydromt build wflow_sediment \"./wflow_test_sediment\" \"{'subbasin': [12.2051, 45.8331], 'strord': 4, 'bounds': [11.70, 45.35, 12.95, 46.70]}\" -r 0.00833 -i wflow_sediment_build.ini -vv"
   ]
  },
  {
   "cell_type": "markdown",
   "id": "b31e92d2",
   "metadata": {},
   "source": [
    "The example above means the following: run **hydromt build** with:\n",
    "\n",
    "* `wflow_sediment` : i.e. build a wflow sediment model\n",
    "* `./wflow_test_sediment` : output model folder\n",
    "* `\"{'subbasin': [12.2051, 45.8331], 'strord': 4, 'bounds': [11.70, 45.35, 12.95, 46.70]}\"` : derive a subbasin with its outlet at the given x,y coordinates and within the given bounds [xmin, ymin, xmax, ymax] (WGS84) snapped to a river with minimum stream order (strord) of 4. All *REGION* options are described in the [docs](https://deltares.github.io/hydromt/latest/user_guide/cli.html#region-options)\n",
    "* `-r 0.0083333` : build the model at a 30 arc sec (~1km) resolution\n",
    "* `-i wflow_sediment_build.ini` : setup configuration file using\n",
    "* `-vv` : give some extra verbosity (2 * v) to display feedback on screen. Now debug messages are provided.\n"
   ]
  },
  {
   "cell_type": "markdown",
   "id": "2eed76e4",
   "metadata": {},
   "source": [
    "Next we check which files have been created. The model root should contain two netcdf (.nc) files, one for the staticmaps and one for the forcing data, a wflow configuration (.toml) file. These files are sufficient to run the wflow sediment model. In addition several geometry (.geojson) files are saved in the *staticgeoms* folder.  Finally, the setup process is logged in the hydromt.log file. "
   ]
  },
  {
   "cell_type": "code",
   "execution_count": 5,
   "id": "wireless-style",
   "metadata": {
    "execution": {
     "iopub.execute_input": "2022-01-27T12:40:47.476519Z",
     "iopub.status.busy": "2022-01-27T12:40:47.476110Z",
     "iopub.status.idle": "2022-01-27T12:40:47.480532Z",
     "shell.execute_reply": "2022-01-27T12:40:47.480024Z"
    }
   },
   "outputs": [
    {
     "name": "stdout",
     "output_type": "stream",
     "text": [
      "wflow_test_sediment\n",
      " - hydromt.log\n",
      "wflow_test_sediment/staticgeoms\n",
      "wflow_test_sediment/instate\n",
      "wflow_test_sediment/run_default\n"
     ]
    }
   ],
   "source": [
    "import os\n",
    "\n",
    "root = \"wflow_test_sediment\"\n",
    "for path, _, files in os.walk(root):\n",
    "    print(path)\n",
    "    for name in files:\n",
    "        if name.endswith(\".xml\"):\n",
    "            continue\n",
    "        print(f\" - {name}\")"
   ]
  },
  {
   "cell_type": "markdown",
   "id": "adef7fa1",
   "metadata": {},
   "source": [
    "### Visualize and/or inspect model schematization"
   ]
  },
  {
   "cell_type": "markdown",
   "id": "20ce9df3",
   "metadata": {},
   "source": [
    "You can (copy and) adapt the following example notebooks in order to visualize your Wflow sediment model: \n",
    "\n",
    "* The **wflow plot** example notebook contains scripts to visualize your model\n",
    "* The **wflow nc to raster files** example notebook contains scripts to write the nc model files to a netcdf which can be used to inspect (and modify) the model layers in e.g. QGIS."
   ]
  },
  {
   "cell_type": "markdown",
   "id": "01f1186a",
   "metadata": {},
   "source": [
    "### Add Wflow sediment layers to an existing Wflow model"
   ]
  },
  {
   "cell_type": "markdown",
   "id": "6ca56c32",
   "metadata": {},
   "source": [
    "If you already have a hydrological **Wflow** model and you want to extend it in order to include **sediment** as well, then you do not need to build the wflow_sediment from scratch. You can instead **update** the wflow model with the additional components needed by wflow_sediment. \n",
    "\n",
    "These components are available in the template **wflow_extend_sediment.ini**:"
   ]
  },
  {
   "cell_type": "code",
   "execution_count": 6,
   "id": "fd79d798",
   "metadata": {
    "execution": {
     "iopub.execute_input": "2022-01-27T12:40:47.483589Z",
     "iopub.status.busy": "2022-01-27T12:40:47.483227Z",
     "iopub.status.idle": "2022-01-27T12:40:47.487681Z",
     "shell.execute_reply": "2022-01-27T12:40:47.487364Z"
    }
   },
   "outputs": [
    {
     "name": "stdout",
     "output_type": "stream",
     "text": [
      "[global]\n",
      "data_libs        = []               # add optional paths to data yml files\n",
      "\n",
      "[setup_config]\n",
      "# model.dolake = True               # uncomment if there are lakes in the wflow model\n",
      "# model.doreservoir = True          # uncomment if there are reservoirs in the wflow model\n",
      "\n",
      "[setup_riverbedsed]\n",
      "bedsed_mapping_fn   = None             # path to a mapping csv file from streamorder to river bed particles characteristics\n",
      "\n",
      "[setup_lulcmaps]\n",
      "lulc_fn          = globcover        # source for lulc maps: {globcover, vito, corine}\n",
      "\n",
      "[setup_canopymaps]\n",
      "canopy_fn        = simard           # source for vegetation canopy height: {simard}\n",
      "\n",
      "[setup_soilmaps]\n",
      "soil_fn          = soilgrids        # source for soilmaps: {soilgrids}\n",
      "usleK_method     = renard           # method to compute the USLE K factor: {renard, epic}\n",
      "\n",
      "[setup_gauges]\n",
      "gauges_fn        = grdc             # If not None add gaugemap. Either a path or known gauges_fn: {grdc}\n",
      "snap_to_river    = True             # If True snaps gauges from source to river\n",
      "derive_subcatch  = False            # if True derive subcatch map based on gauges.\n",
      "\n",
      "[setup_constant_pars]               # constant parameters values\n",
      "c_Bagnold = 0.0000175\n",
      "eros_expo = 1.5\n",
      "eros_ov = 0.9\n",
      "eros_spl_EUROSEM = 2.0\n",
      "exp_Bagnold = 1.4\n",
      "ResTrapEff = 1.0\n",
      "\n"
     ]
    }
   ],
   "source": [
    "fn_ini = \"wflow_extend_sediment.ini\"\n",
    "with open(fn_ini, \"r\") as f:\n",
    "    txt = f.read()\n",
    "print(txt)"
   ]
  },
  {
   "cell_type": "markdown",
   "id": "7bd19d2b",
   "metadata": {},
   "source": [
    "Let's update the hydrological **Wflow** model available from our example for the Piave subbasin:"
   ]
  },
  {
   "cell_type": "code",
   "execution_count": 7,
   "id": "12142c2c",
   "metadata": {
    "execution": {
     "iopub.execute_input": "2022-01-27T12:40:47.491095Z",
     "iopub.status.busy": "2022-01-27T12:40:47.490536Z",
     "iopub.status.idle": "2022-01-27T12:40:54.689592Z",
     "shell.execute_reply": "2022-01-27T12:40:54.689106Z"
    }
   },
   "outputs": [
    {
     "name": "stdout",
     "output_type": "stream",
     "text": [
      "2022-01-27 12:40:49,955 - update - log - DEBUG - Writing log messages to new file /home/runner/work/hydromt_wflow/hydromt_wflow/docs/examples/examples/wflow_test_extend_sediment/hydromt.log.\r\n",
      "2022-01-27 12:40:49,955 - update - log - INFO - HydroMT version: 0.4.5.dev\r\n",
      "2022-01-27 12:40:49,955 - update - main - INFO - Updating wflow_sediment model at /home/runner/work/hydromt_wflow/hydromt_wflow/docs/examples/examples/wflow_piave_subbasin (r).\r\n",
      "2022-01-27 12:40:49,955 - update - main - INFO - Output dir: /home/runner/work/hydromt_wflow/hydromt_wflow/docs/examples/examples/wflow_test_extend_sediment\r\n",
      "2022-01-27 12:40:49,955 - update - main - INFO - User settings:\r\n",
      "2022-01-27 12:40:49,961 - update - model_plugins - DEBUG - Loaded model plugin 'wflow_sediment = hydromt_wflow.wflow_sediment.WflowSedimentModel' (0.1.4.dev0)\r\n",
      "2022-01-27 12:40:49,961 - update - model_api - INFO - Initializing wflow_sediment model from hydromt_wflow (v0.1.4.dev0).\r\n",
      "2022-01-27 12:40:49,962 - update - log - DEBUG - Writing log messages to new file /home/runner/work/hydromt_wflow/hydromt_wflow/docs/examples/examples/wflow_piave_subbasin/hydromt.log.\r\n",
      "2022-01-27 12:40:49,962 - update - model_api - ERROR - Model config file not found at /home/runner/work/hydromt_wflow/hydromt_wflow/docs/examples/examples/wflow_piave_subbasin/wflow_sediment.toml\r\n",
      "2022-01-27 12:40:49,962 - update - model_api - ERROR - Model config file not found at /home/runner/work/hydromt_wflow/hydromt_wflow/docs/examples/examples/wflow_piave_subbasin/wflow_sediment.toml\r\n",
      "2022-01-27 12:40:49,962 - update - wflow - INFO - Read staticmaps from /home/runner/work/hydromt_wflow/hydromt_wflow/docs/examples/examples/wflow_piave_subbasin/staticmaps.nc\r\n"
     ]
    },
    {
     "name": "stdout",
     "output_type": "stream",
     "text": [
      "2022-01-27 12:40:50,049 - update - wflow - INFO - Reading model intbl files.\r\n",
      "2022-01-27 12:40:50,050 - update - model_api - ERROR - Model config file not found at /home/runner/work/hydromt_wflow/hydromt_wflow/docs/examples/examples/wflow_piave_subbasin/wflow_sediment.toml\r\n",
      "2022-01-27 12:40:50,050 - update - wflow - INFO - Reading model staticgeom files.\r\n"
     ]
    },
    {
     "name": "stdout",
     "output_type": "stream",
     "text": [
      "2022-01-27 12:40:50,121 - update - model_api - ERROR - Model config file not found at /home/runner/work/hydromt_wflow/hydromt_wflow/docs/examples/examples/wflow_piave_subbasin/wflow_sediment.toml\r\n",
      "2022-01-27 12:40:50,121 - update - wflow - INFO - Read forcing from /home/runner/work/hydromt_wflow/hydromt_wflow/docs/examples/examples/wflow_piave_subbasin/inmaps.nc\r\n",
      "2022-01-27 12:40:50,130 - update - wflow - INFO - Model read\r\n",
      "2022-01-27 12:40:50,131 - update - log - DEBUG - Appending log messages to file /home/runner/work/hydromt_wflow/hydromt_wflow/docs/examples/examples/wflow_test_extend_sediment/hydromt.log.\r\n",
      "2022-01-27 12:40:50,134 - update - model_api - INFO - setup_riverbedsed.bedsed_mapping_fn: None\r\n",
      "2022-01-27 12:40:50,134 - update - wflow_sediment - INFO - Preparing riverbedsed parameter maps.\r\n",
      "2022-01-27 12:40:50,146 - update - landuse - INFO - Deriving D50_River using average resampling (nodata=-999.0).\r\n"
     ]
    },
    {
     "name": "stdout",
     "output_type": "stream",
     "text": [
      "2022-01-27 12:40:50,155 - update - landuse - INFO - Deriving ClayF_River using average resampling (nodata=-999.0).\r\n",
      "2022-01-27 12:40:50,165 - update - landuse - INFO - Deriving SiltF_River using average resampling (nodata=-999.0).\r\n",
      "2022-01-27 12:40:50,174 - update - landuse - INFO - Deriving SandF_River using average resampling (nodata=-999.0).\r\n",
      "2022-01-27 12:40:50,183 - update - landuse - INFO - Deriving GravelF_River using average resampling (nodata=-999.0).\r\n"
     ]
    },
    {
     "name": "stdout",
     "output_type": "stream",
     "text": [
      "2022-01-27 12:40:50,206 - update - model_api - INFO - setup_lulcmaps.lulc_fn: globcover\r\n",
      "2022-01-27 12:40:50,206 - update - model_api - INFO - setup_lulcmaps.lulc_mapping_fn: None\r\n",
      "2022-01-27 12:40:50,206 - update - model_api - INFO - setup_lulcmaps.lulc_vars: ['landuse', 'Cov_River', 'Kext', 'N', 'PathFrac', 'Sl', 'Swood', 'USLE_C', 'WaterFrac']\r\n",
      "2022-01-27 12:40:50,207 - update - wflow - INFO - Preparing LULC parameter maps.\r\n",
      "2022-01-27 12:40:50,210 - update - data_adapter - INFO - Adding sample data v0.0.6 from artifacts\r\n"
     ]
    },
    {
     "name": "stdout",
     "output_type": "stream",
     "text": [
      "2022-01-27 12:40:50,269 - update - data_adapter - INFO - DataCatalog: Getting globcover RasterDataset raster data from /home/runner/.hydromt_data/data/v0.0.6/globcover.tif\r\n",
      "2022-01-27 12:40:50,287 - update - data_adapter - DEBUG - RasterDataset: Clip with geom - [11.775, 45.808, 12.742, 46.692]\r\n",
      "2022-01-27 12:40:50,305 - update - landuse - INFO - Deriving landuse using nearest resampling (nodata=230).\r\n"
     ]
    },
    {
     "name": "stdout",
     "output_type": "stream",
     "text": [
      "2022-01-27 12:40:50,344 - update - landuse - INFO - Deriving Cov_River using average resampling (nodata=-999.0).\r\n"
     ]
    },
    {
     "name": "stdout",
     "output_type": "stream",
     "text": [
      "2022-01-27 12:40:50,382 - update - landuse - INFO - Deriving Kext using average resampling (nodata=-999.0).\r\n"
     ]
    },
    {
     "name": "stdout",
     "output_type": "stream",
     "text": [
      "2022-01-27 12:40:50,420 - update - landuse - INFO - Deriving N using average resampling (nodata=-999.0).\r\n",
      "2022-01-27 12:40:50,457 - update - landuse - INFO - Deriving PathFrac using average resampling (nodata=-999.0).\r\n"
     ]
    },
    {
     "name": "stdout",
     "output_type": "stream",
     "text": [
      "2022-01-27 12:40:50,495 - update - landuse - INFO - Deriving Sl using average resampling (nodata=-999.0).\r\n"
     ]
    },
    {
     "name": "stdout",
     "output_type": "stream",
     "text": [
      "2022-01-27 12:40:50,533 - update - landuse - INFO - Deriving Swood using average resampling (nodata=-999.0).\r\n"
     ]
    },
    {
     "name": "stdout",
     "output_type": "stream",
     "text": [
      "2022-01-27 12:40:50,572 - update - landuse - INFO - Deriving USLE_C using average resampling (nodata=-999.0).\r\n",
      "2022-01-27 12:40:50,610 - update - landuse - INFO - Deriving WaterFrac using average resampling (nodata=-999).\r\n"
     ]
    },
    {
     "name": "stdout",
     "output_type": "stream",
     "text": [
      "2022-01-27 12:40:50,675 - update - model_api - INFO - setup_canopymaps.canopy_fn: simard\r\n",
      "2022-01-27 12:40:50,675 - update - wflow_sediment - INFO - Preparing canopy height map.\r\n",
      "2022-01-27 12:40:50,678 - update - data_adapter - INFO - DataCatalog: Getting simard RasterDataset raster data from /home/runner/.hydromt_data/data/v0.0.6/simard.tif\r\n",
      "2022-01-27 12:40:50,687 - update - data_adapter - DEBUG - RasterDataset: Clip with geom - [11.775, 45.808, 12.742, 46.692]\r\n"
     ]
    },
    {
     "name": "stdout",
     "output_type": "stream",
     "text": [
      "2022-01-27 12:40:50,725 - update - model_api - INFO - setup_soilmaps.soil_fn: soilgrids\r\n",
      "2022-01-27 12:40:50,725 - update - model_api - INFO - setup_soilmaps.usleK_method: renard\r\n",
      "2022-01-27 12:40:50,725 - update - wflow_sediment - INFO - Preparing soil parameter maps.\r\n",
      "2022-01-27 12:40:50,728 - update - data_adapter - INFO - DataCatalog: Getting soilgrids RasterDataset raster data from /home/runner/.hydromt_data/data/v0.0.6/soilgrids/{variable}.tif\r\n"
     ]
    },
    {
     "name": "stdout",
     "output_type": "stream",
     "text": [
      "2022-01-27 12:40:51,007 - update - data_adapter - DEBUG - RasterDataset: Clip with geom - [11.775, 45.808, 12.742, 46.692]\r\n"
     ]
    },
    {
     "name": "stdout",
     "output_type": "stream",
     "text": [
      "2022-01-27 12:40:51,025 - update - data_adapter - DEBUG - RasterDataset: Convert units for 21 variables.\r\n"
     ]
    },
    {
     "name": "stdout",
     "output_type": "stream",
     "text": [
      "2022-01-27 12:40:51,448 - update - soilgrids - INFO - Interpolate NAN values for PercentClay\r\n",
      "2022-01-27 12:40:51,465 - update - soilgrids - INFO - Interpolate NAN values for PercentSilt\r\n"
     ]
    },
    {
     "name": "stdout",
     "output_type": "stream",
     "text": [
      "2022-01-27 12:40:51,481 - update - soilgrids - INFO - Interpolate NAN values for PercentOC\r\n",
      "2022-01-27 12:40:51,506 - update - soilgrids - INFO - Interpolate NAN values for ErosK\r\n",
      "2022-01-27 12:40:51,528 - update - soilgrids - INFO - Interpolate NAN values for USLE_K\r\n"
     ]
    },
    {
     "name": "stdout",
     "output_type": "stream",
     "text": [
      "2022-01-27 12:40:51,546 - update - model_api - INFO - setup_gauges.gauges_fn: grdc\r\n",
      "2022-01-27 12:40:51,547 - update - model_api - INFO - setup_gauges.source_gdf: None\r\n",
      "2022-01-27 12:40:51,547 - update - model_api - INFO - setup_gauges.snap_to_river: True\r\n",
      "2022-01-27 12:40:51,547 - update - model_api - INFO - setup_gauges.mask: None\r\n",
      "2022-01-27 12:40:51,547 - update - model_api - INFO - setup_gauges.derive_subcatch: False\r\n",
      "2022-01-27 12:40:51,547 - update - model_api - INFO - setup_gauges.derive_outlet: True\r\n",
      "2022-01-27 12:40:51,547 - update - model_api - INFO - setup_gauges.basename: None\r\n",
      "2022-01-27 12:40:51,547 - update - model_api - INFO - setup_gauges.update_toml: True\r\n",
      "2022-01-27 12:40:51,547 - update - model_api - INFO - setup_gauges.gauge_toml_header: None\r\n",
      "2022-01-27 12:40:51,547 - update - model_api - INFO - setup_gauges.gauge_toml_param: None\r\n",
      "2022-01-27 12:40:51,547 - update - wflow - INFO - Gauges locations set based on river outlets.\r\n"
     ]
    },
    {
     "name": "stdout",
     "output_type": "stream",
     "text": [
      "2022-01-27 12:40:52,350 - update - wflow - INFO - Gauges map based on catchment river outlets added.\r\n",
      "2022-01-27 12:40:52,350 - update - data_adapter - INFO - DataCatalog: Getting grdc GeoDataFrame csv data from /home/runner/.hydromt_data/data/v0.0.6/grdc.csv\r\n",
      "2022-01-27 12:40:52,353 - update - data_adapter - INFO - GeoDataFrame: Read csv data and clip to geom (epsg:4326) [11.775, 45.804, 12.745, 46.690].\r\n",
      "2022-01-27 12:40:52,366 - update - wflow - INFO - 3 grdc gauge locations found within domain\r\n"
     ]
    },
    {
     "name": "stdout",
     "output_type": "stream",
     "text": [
      "2022-01-27 12:40:53,263 - update - model_api - DEBUG - Default config read from /usr/share/miniconda/envs/hydromt-wflow/lib/python3.9/site-packages/hydromt_wflow/data/wflow_sediment/wflow_sediment.toml\r\n",
      "2022-01-27 12:40:53,264 - update - wflow - INFO - Gauges map from grdc added.\r\n",
      "2022-01-27 12:40:53,287 - update - wflow - INFO - Write model data to /home/runner/work/hydromt_wflow/hydromt_wflow/docs/examples/examples/wflow_test_extend_sediment\r\n",
      "2022-01-27 12:40:53,291 - update - model_api - INFO - Writing model config to /home/runner/work/hydromt_wflow/hydromt_wflow/docs/examples/examples/wflow_test_extend_sediment/wflow_sediment.toml\r\n",
      "2022-01-27 12:40:53,292 - update - wflow - INFO - Write staticmaps to /home/runner/work/hydromt_wflow/hydromt_wflow/docs/examples/examples/wflow_test_extend_sediment/staticmaps.nc\r\n"
     ]
    },
    {
     "name": "stdout",
     "output_type": "stream",
     "text": [
      "2022-01-27 12:40:53,835 - update - wflow - INFO - Writing model staticgeom to file.\r\n"
     ]
    },
    {
     "name": "stdout",
     "output_type": "stream",
     "text": [
      "2022-01-27 12:40:53,981 - update - wflow - INFO - Write forcing file\r\n",
      "2022-01-27 12:40:53,992 - update - wflow - INFO - Process forcing; saving to /home/runner/work/hydromt_wflow/hydromt_wflow/docs/examples/examples/wflow_test_extend_sediment/inmaps.nc\r\n",
      "\r",
      "[                                        ] | 0% Completed |  0.0s"
     ]
    },
    {
     "name": "stdout",
     "output_type": "stream",
     "text": [
      "\r",
      "[########################################] | 100% Completed |  0.1s\r\n",
      "\u001b[0m"
     ]
    }
   ],
   "source": [
    "# NOTE: copy this line (without !) to your shell for more direct feedback\n",
    "!hydromt update wflow_sediment \"wflow_piave_subbasin\" -o \"./wflow_test_extend_sediment\" -i wflow_extend_sediment.ini -vv"
   ]
  },
  {
   "cell_type": "markdown",
   "id": "7e64ec0c",
   "metadata": {},
   "source": [
    "The example above means the following: run **hydromt update** with:\n",
    "\n",
    "* `wflow_sediment` : i.e. update a wflow_sediment model (in our case a wflow model but with wflow_sediment components)\n",
    "* `wflow_piave_subbasin` : hydrological wflow model folder\n",
    "* `-o \"./wflow_test_extend_sediment\"`: output combined wflow hydrology+sediment models\n",
    "* `-i wflow_extend_sediment.ini` : setup configuration file containing wflow sediment specific components\n",
    "* `-vv` : give some extra verbosity (2 * v) to display feedback on screen. Now debug messages are provided."
   ]
  }
 ],
 "metadata": {
  "kernelspec": {
   "display_name": "Python 3 (ipykernel)",
   "language": "python",
   "name": "python3"
  },
  "language_info": {
   "codemirror_mode": {
    "name": "ipython",
    "version": 3
   },
   "file_extension": ".py",
   "mimetype": "text/x-python",
   "name": "python",
   "nbconvert_exporter": "python",
   "pygments_lexer": "ipython3",
   "version": "3.9.9"
  }
 },
 "nbformat": 4,
 "nbformat_minor": 5
}
