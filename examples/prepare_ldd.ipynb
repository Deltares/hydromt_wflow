{
 "cells": [
  {
   "attachments": {},
   "cell_type": "markdown",
   "metadata": {},
   "source": [
    "## Prepare flow directions and related data from a DEM"
   ]
  },
  {
   "attachments": {},
   "cell_type": "markdown",
   "metadata": {},
   "source": [
    "With HydroMT-Wflow, a user can choose to build a model in a geographic or projected coordinate system from an input Digital Elevation Model (DEM) and Flow Direction (flwdir) dataset.\n",
    "\n",
    "While DEM data are often available, this is not the always the case for the flow directions (flwdir). We made the choice to build a Wflow model directly from user provided DEM and flwdir datasets rather than reprojecting a DEM and/or deriving flwdir on the fly. This is because deriving flow directions is often an iterative process to be sure the flow directions matche the terrain and river network. Note that for the best results the flwdir data should be derived from a high-res DEM (<100 m spatial resolution). The HydroMT-Wflow model builder will automatically resample the flwdir data to the model resolution.\n",
    "\n",
    "Because of this, we prefer to provide this notebook as a possible **pre-processing step** before calling a build a Wflow model with HydroMt-Wflow. Here we use the different [flow directions methods from HydroMT](https://deltares.github.io/hydromt/latest/api.html#flow-direction-methods) and [PyFlwDir](https://deltares.github.io/pyflwdir/latest/index.html)"
   ]
  },
  {
   "attachments": {},
   "cell_type": "markdown",
   "metadata": {},
   "source": [
    "### Load dependencies"
   ]
  },
  {
   "cell_type": "code",
   "execution_count": null,
   "metadata": {},
   "outputs": [],
   "source": [
    "import os\n",
    "import xarray as xr\n",
    "import numpy as np\n",
    "import geopandas as gpd\n",
    "\n",
    "# pyflwdir\n",
    "import pyflwdir\n",
    "\n",
    "# hydromt\n",
    "from hydromt import DataCatalog, flw\n",
    "\n",
    "# plot\n",
    "import matplotlib.pyplot as plt\n",
    "from matplotlib import cm, colors\n",
    "import cartopy.crs as ccrs"
   ]
  },
  {
   "cell_type": "code",
   "execution_count": null,
   "metadata": {},
   "outputs": [],
   "source": [
    "# we assume the model maps are in the geographic CRS EPSG:4326\n",
    "proj = ccrs.PlateCarree()\n",
    "\n",
    "# create nice elevation colormap\n",
    "c_dem = plt.cm.terrain(np.linspace(0.25, 1, 256))\n",
    "cmap = colors.LinearSegmentedColormap.from_list(\"dem\", c_dem)\n",
    "norm = colors.Normalize(vmin=0, vmax=2000)\n",
    "kwargs = dict(cmap=cmap, norm=norm)\n",
    "\n",
    "# legend settings\n",
    "legend_kwargs = dict(\n",
    "    title=\"Legend\",\n",
    "    loc=\"lower right\",\n",
    "    frameon=True,\n",
    "    framealpha=0.7,\n",
    "    edgecolor=\"k\",\n",
    "    facecolor=\"white\",\n",
    ")\n",
    "\n",
    "\n",
    "def add_legend_titles(ax, title, add_legend=True, projected=True):\n",
    "    ax.xaxis.set_visible(True)\n",
    "    ax.yaxis.set_visible(True)\n",
    "    if projected:\n",
    "        ax.set_xlabel(\"Easting [m]\")\n",
    "        ax.set_ylabel(\"Northing [m]\")\n",
    "    else:\n",
    "        ax.set_ylabel(\"latitude [degree north]\")\n",
    "        ax.set_xlabel(\"longitude [degree east]\")\n",
    "    _ = ax.set_title(title)\n",
    "    if add_legend:\n",
    "        legend = ax.legend(**legend_kwargs)\n",
    "\n",
    "        return legend"
   ]
  },
  {
   "attachments": {},
   "cell_type": "markdown",
   "metadata": {},
   "source": [
    "### Deriving flow directions from Elevation data"
   ]
  },
  {
   "attachments": {},
   "cell_type": "markdown",
   "metadata": {},
   "source": [
    "In this example we will use the `merit_hydro` data in the pre-defined `artifact_data` catalog of HydroMT. \n",
    "Note that this dataset already provides flow direction, but for sake of example we only use this as reference dataset.\n",
    "\n",
    "First let's read the data:"
   ]
  },
  {
   "cell_type": "code",
   "execution_count": null,
   "metadata": {},
   "outputs": [],
   "source": [
    "data_catalog = DataCatalog(\"artifact_data\")\n",
    "merit = data_catalog.get_rasterdataset(\n",
    "    \"merit_hydro\", variables=[\"elevtn\", \"flwdir\"], bbox=[12, 46.0, 12.3, 46.2]\n",
    ")"
   ]
  },
  {
   "attachments": {},
   "cell_type": "markdown",
   "metadata": {},
   "source": [
    "To derive flow directions from a DEM, you can use the [hydromt.flw.d8_from_dem](https://deltares.github.io/hydromt/latest/_generated/hydromt.flw.d8_from_dem.html#hydromt.flw.d8_from_dem) method of HydroMT.\n",
    "\n",
    "This method derives D8 flow directions grid from an elevation grid and allows several options to the users:\n",
    " - **outlets**: outlets can be defined at ``edge``s of the grid (defualt) or force all flow to go to the minimum elevation point ``min``. The latter only makes sense if your DEM only is masked to the catchment. Additionnally, the user can also force specific pits locations via ``idxs_pit``.\n",
    " - **depression filling**: local depressions are filled based on their lowest pour point level if the pour point depth is smaller than the maximum pour point depth ``max_depth``, otherwise the lowest elevation in the depression becomes a pit. By default ``max_depth`` is set to -1 m filling all local depressions.\n",
    "- **river burning**: while it is already possible to provide a river vector layer ``gdf_stream`` with ``uparea`` (km2) column to further guide the derivation of flow directions, this option is currently being improved and not yet fully functional. See also HydroMT core PR [305](https://github.com/Deltares/hydromt/pull/305)\n",
    "\n",
    "Let's see an example:"
   ]
  },
  {
   "cell_type": "code",
   "execution_count": null,
   "metadata": {},
   "outputs": [],
   "source": [
    "# Derive flow directions with outlets at the edges -> this is the default\n",
    "merit[\"flwdir_derived\"] = flw.d8_from_dem(\n",
    "    da_elv=merit[\"elevtn\"],\n",
    "    gdf_stream=None,\n",
    "    max_depth=-1,  # no local pits\n",
    "    outlets=\"edge\",\n",
    "    idxs_pit=None,\n",
    ")"
   ]
  },
  {
   "attachments": {},
   "cell_type": "markdown",
   "metadata": {},
   "source": [
    "Let's compare the orignal with the derived flow direction data"
   ]
  },
  {
   "cell_type": "code",
   "execution_count": null,
   "metadata": {},
   "outputs": [],
   "source": [
    "# plot\n",
    "# initialize image with geoaxes\n",
    "fig = plt.figure(figsize=(8, 8))\n",
    "ax = fig.add_subplot()\n",
    "\n",
    "## plot elevation\\\n",
    "merit[\"elevtn\"].plot(\n",
    "    ax=ax, zorder=1, cbar_kwargs=dict(aspect=30, shrink=0.5), alpha=0.5, **kwargs\n",
    ")\n",
    "\n",
    "# plot flwdir\n",
    "flwdir = flw.flwdir_from_da(merit[\"flwdir\"], ftype=\"infer\", check_ftype=True)\n",
    "feat = flwdir.streams(min_sto=3)  # minimum stream order for plotting\n",
    "gdf = gpd.GeoDataFrame.from_features(feat, crs=merit.raster.crs)\n",
    "gdf.to_crs(merit.raster.crs).plot(\n",
    "    ax=ax, color=\"blue\", linewidth=gdf[\"strord\"] / 3, label=\"Original flow directions\"\n",
    ")\n",
    "\n",
    "\n",
    "# plot flwdir edge\n",
    "flwdir_edge = flw.flwdir_from_da(\n",
    "    merit[\"flwdir_derived\"], ftype=\"infer\", check_ftype=True\n",
    ")\n",
    "feate = flwdir_edge.streams(min_sto=3)  # minimum stream order for plotting\n",
    "gdfe = gpd.GeoDataFrame.from_features(feate, crs=merit.raster.crs)\n",
    "gdfe.plot(\n",
    "    ax=ax,\n",
    "    column=\"strord\",\n",
    "    color=\"green\",\n",
    "    linewidth=gdfe[\"strord\"] / 3,\n",
    "    label=\"Derived flow directions\",\n",
    ")\n",
    "\n",
    "legend = add_legend_titles(ax, \"MERIT Hydro derived vs. original flow directions\")"
   ]
  },
  {
   "attachments": {},
   "cell_type": "markdown",
   "metadata": {},
   "source": [
    "## Deriving other DEM and flow directions related data"
   ]
  },
  {
   "attachments": {},
   "cell_type": "markdown",
   "metadata": {},
   "source": [
    "Once you are satisfied with your flow direction map, you can create additionnal derived variables like upstream area or streamorder that can prove useful for example to build a model based on ``subbasin`` region.\n",
    "\n",
    "Here are some examples how to do that using PyFlwdir methods."
   ]
  },
  {
   "cell_type": "code",
   "execution_count": null,
   "metadata": {},
   "outputs": [],
   "source": [
    "# Create a new merit_adapted dataset with the riverburn flow directions\n",
    "merit_adapted = merit[\"elevtn\"].to_dataset(name=\"elevtn\")\n",
    "merit_adapted[\"flwdir\"] = merit[\"flwdir_derived\"]\n",
    "dims = merit_adapted.raster.dims\n",
    "\n",
    "# Create a PyFlwDir object from the dataset\n",
    "flwdir = flw.flwdir_from_da(merit_adapted[\"flwdir\"])\n",
    "\n",
    "# uparea\n",
    "uparea = flwdir.upstream_area(unit=\"km2\")\n",
    "merit_adapted[\"uparea\"] = xr.Variable(dims, uparea, attrs=dict(_FillValue=-9999))\n",
    "\n",
    "# stream order\n",
    "strord = flwdir.stream_order()\n",
    "merit_adapted[\"strord\"] = xr.Variable(dims, strord)\n",
    "merit_adapted[\"strord\"].raster.set_nodata(255)\n",
    "\n",
    "# slope\n",
    "slope = pyflwdir.dem.slope(\n",
    "    elevtn=merit_adapted[\"elevtn\"].values,\n",
    "    nodata=merit_adapted[\"elevtn\"].raster.nodata,\n",
    "    latlon=False,  # True if geographic crs, False if projected crs\n",
    "    transform=merit_adapted[\"elevtn\"].raster.transform,\n",
    ")\n",
    "merit_adapted[\"slope\"] = xr.Variable(dims, slope)\n",
    "merit_adapted[\"slope\"].raster.set_nodata(merit_adapted[\"elevtn\"].raster.nodata)\n",
    "\n",
    "# basin at the pits locations\n",
    "basins = flwdir.basins(idxs=flwdir.idxs_pit).astype(np.int32)\n",
    "merit_adapted[\"basins\"] = xr.Variable(dims, basins, attrs=dict(_FillValue=0))\n",
    "\n",
    "# basin index file\n",
    "gdf_basins = merit_adapted[\"basins\"].raster.vectorize()\n",
    "\n",
    "merit_adapted"
   ]
  },
  {
   "cell_type": "code",
   "execution_count": null,
   "metadata": {},
   "outputs": [],
   "source": [
    "# plot\n",
    "fig, axes = plt.subplots(2, 2, figsize=(12, 10))\n",
    "\n",
    "# plot uparea\n",
    "merit_adapted[\"uparea\"].plot(ax=axes[0, 0])\n",
    "_ = add_legend_titles(axes[0, 0], \"Upstream area [km2]\", add_legend=False)\n",
    "\n",
    "# plot strord\n",
    "merit_adapted[\"strord\"].plot(\n",
    "    ax=axes[0, 1], cmap=colors.ListedColormap(cm.Blues(np.linspace(0.4, 1, 7)))\n",
    ")\n",
    "_ = add_legend_titles(axes[0, 1], \"Strahler Stream order\", add_legend=False)\n",
    "\n",
    "# plot slope\n",
    "merit_adapted[\"slope\"].plot(ax=axes[1, 0])\n",
    "_ = add_legend_titles(axes[1, 0], \"Slope [m/m]\", add_legend=False)\n",
    "\n",
    "# plot basins\n",
    "merit_adapted[\"basins\"].plot(ax=axes[1, 1])\n",
    "_ = add_legend_titles(axes[1, 1], \"Basins ID\", add_legend=False)"
   ]
  },
  {
   "cell_type": "markdown",
   "metadata": {},
   "source": [
    "### Exporting the newly created data and corresponding data catalog"
   ]
  },
  {
   "cell_type": "markdown",
   "metadata": {},
   "source": [
    "Finally, once we are happy with the new dataset, we can write out the data and create the corresponding data catalog so that it can be re-used to build a new wflow model."
   ]
  },
  {
   "cell_type": "code",
   "execution_count": null,
   "metadata": {},
   "outputs": [],
   "source": [
    "# Export the gridded data as tif files in a new folder\n",
    "output_path = \"./elevation_data\"\n",
    "\n",
    "# export the hydrography data as tif files (one per variable)\n",
    "merit_adapted.raster.to_mapstack(\n",
    "    root=os.path.join(output_path, \"merit_adapted\"),\n",
    "    driver=\"GTiff\",\n",
    ")\n",
    "\n",
    "# export the basin index as geosjon\n",
    "gdf_basins.to_file(\n",
    "    os.path.join(output_path, \"merit_adapted_basins.geojson\"), driver=\"GeoJSON\"\n",
    ")"
   ]
  },
  {
   "cell_type": "markdown",
   "metadata": {},
   "source": [
    "Now let's prepare the corresponding data catalog: (the writefile command will directly write a file using the lines in the jupyter cell)"
   ]
  },
  {
   "cell_type": "code",
   "execution_count": null,
   "metadata": {},
   "outputs": [],
   "source": [
    "%%writefile ./elevation_data/data_catalog.yml\n",
    "merit_adapted:\n",
    "  data_type: RasterDataset\n",
    "  driver: raster\n",
    "  crs: 3857\n",
    "  path: ./merit_adapted/{variable}.tif\n",
    "  rename:\n",
    "    slope: lndslp\n",
    "  meta:\n",
    "    category: topography\n",
    "    paper_doi: 10.5194/hess-2020-582\n",
    "    paper_ref: Eilander et al. (2021)\n",
    "    source_license: ODC-By 1.0\n",
    "    source_url: https://zenodo.org/record/5166932#.YVbxJ5pByUk\n",
    "    source_doi: 10.5281/zenodo.5166932\n",
    "    source_version: 1.0\n",
    "    processing_notes: prepared from MERIT Hydro IHU by deriving flow directions with river burning from lin2019_v1 rivers using pyflwdir.\n",
    "    processing_script: prepare_ldd.ipynb from hydromt_wflow repository\n",
    "\n",
    "merit_adapted_index:\n",
    "  data_type: GeoDataFrame\n",
    "  driver: vector\n",
    "  crs: 3857\n",
    "  path: ./merit_adapted_basins.geojson\n",
    "  meta:\n",
    "    category: topography\n",
    "    paper_doi: 10.5194/hess-2020-582\n",
    "    paper_ref: Eilander et al. (2021)\n",
    "    source_license: ODC-By 1.0\n",
    "    source_url: https://zenodo.org/record/5166932#.YVbxJ5pByUk\n",
    "    source_doi: 10.5281/zenodo.5166932\n",
    "    source_version: 1.0\n",
    "    processing_notes: prepared from MERIT Hydro IHU by deriving flow directions with river burning from lin2019_v1 rivers using pyflwdir.\n",
    "    processing_script: prepare_ldd.ipynb from hydromt_wflow repository\n"
   ]
  },
  {
   "cell_type": "markdown",
   "metadata": {},
   "source": [
    "And now let's try to load our data again with hydromt:"
   ]
  },
  {
   "cell_type": "code",
   "execution_count": null,
   "metadata": {},
   "outputs": [],
   "source": [
    "data_catalog = DataCatalog(data_libs=\"./elevation_data/data_catalog.yml\")\n",
    "\n",
    "merit_utm = data_catalog.get_rasterdataset(\"merit_adapted\")\n",
    "merit_utm"
   ]
  }
 ],
 "metadata": {
  "kernelspec": {
   "display_name": "hydromt-wflow",
   "language": "python",
   "name": "python3"
  },
  "language_info": {
   "codemirror_mode": {
    "name": "ipython",
    "version": 3
   },
   "file_extension": ".py",
   "mimetype": "text/x-python",
   "name": "python",
   "nbconvert_exporter": "python",
   "pygments_lexer": "ipython3",
   "version": "3.11.4"
  },
  "orig_nbformat": 4
 },
 "nbformat": 4,
 "nbformat_minor": 2
}
