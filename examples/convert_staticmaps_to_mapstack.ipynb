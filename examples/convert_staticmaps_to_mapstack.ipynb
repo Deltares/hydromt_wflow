{
 "cells": [
  {
   "cell_type": "markdown",
   "id": "0",
   "metadata": {},
   "source": [
    "## Convert Wflow staticmaps netcdf to raster files"
   ]
  },
  {
   "cell_type": "markdown",
   "id": "1",
   "metadata": {},
   "source": [
    "In order to inspect or (manually) modify Wflow staticmaps it is convenient to export the maps to a raster format. Here we show how to read the model maps and save to a so-called mapstack (i.e.: a set of raster files with identical grid) using HydroMT.  "
   ]
  },
  {
   "cell_type": "markdown",
   "id": "2",
   "metadata": {},
   "source": [
    "### Load dependencies"
   ]
  },
  {
   "cell_type": "code",
   "execution_count": null,
   "id": "3",
   "metadata": {},
   "outputs": [],
   "source": [
    "import xarray as xr\n",
    "import shutil\n",
    "from os.path import join, exists\n",
    "from os import listdir, rename\n",
    "import hydromt\n",
    "from hydromt_wflow import WflowModel"
   ]
  },
  {
   "cell_type": "markdown",
   "id": "4",
   "metadata": {},
   "source": [
    "### Read wflow staticmaps"
   ]
  },
  {
   "cell_type": "markdown",
   "id": "5",
   "metadata": {},
   "source": [
    "HydroMT provides an easy method to read the model schematization through the Model API."
   ]
  },
  {
   "cell_type": "code",
   "execution_count": null,
   "id": "6",
   "metadata": {},
   "outputs": [],
   "source": [
    "root = \"wflow_piave_subbasin\"\n",
    "mod = WflowModel(root, mode=\"r\")\n",
    "ds = mod.grid  # here the staticmaps netcdf is loaded\n",
    "print(ds)"
   ]
  },
  {
   "cell_type": "markdown",
   "id": "7",
   "metadata": {},
   "source": [
    "### Write netcdf to mapstack"
   ]
  },
  {
   "cell_type": "markdown",
   "id": "8",
   "metadata": {},
   "source": [
    "The raster module provides many raster GIS methods throught the **raster** Dataset accessor. To write a Dataset to a mapstack one line with code is sufficient. We only need to provide the output folder in which all raster files are saved. The default output format is *GeoTIFF*, but this can be changed with the `driver` argument. To write to PCRaster map-files it is recommended to have PCRaster python installed."
   ]
  },
  {
   "cell_type": "code",
   "execution_count": null,
   "id": "9",
   "metadata": {},
   "outputs": [],
   "source": [
    "updated_staticmaps = \"updated_staticmaps\"\n",
    "if exists(updated_staticmaps):\n",
    "    shutil.rmtree(updated_staticmaps)\n",
    "\n",
    "ds.raster.to_mapstack(updated_staticmaps)\n",
    "listdir(updated_staticmaps)"
   ]
  },
  {
   "cell_type": "markdown",
   "id": "10",
   "metadata": {},
   "source": [
    "Now the model files can easily be inspected and modified e.g. QGIS.\n",
    "\n",
    "> **Note:** in QGIS, you can also visualize netcdf files but direct modification is not (yet) possible."
   ]
  },
  {
   "cell_type": "markdown",
   "id": "11",
   "metadata": {},
   "source": [
    "### Create staticmaps netcdf files based on mapstack"
   ]
  },
  {
   "cell_type": "markdown",
   "id": "12",
   "metadata": {},
   "source": [
    "If you want to update the staticmaps after modification the maps can be read into a Dataset by hydromt. We recommend the following workflow:\n",
    "\n",
    "* read the original model\n",
    "* read the updated mapstack\n",
    "* change the model root to write the updated model to a new directory\n",
    "* update the staticmaps of the model\n",
    "* write the model\n",
    "\n",
    "> **Note:** We do not read the forcing as it is faster to just copy the file instead of loading it into python and writing it back to netcdf.\n",
    "\n",
    "> **Note:** The staticgeoms might be changed because of manual changes in the wflow_river, lakes, reservoir or glacier staticmaps and are therefore not read here. To change these maps we recommend using the hydromt update method to keep the staticgeoms and maps aligned."
   ]
  },
  {
   "cell_type": "code",
   "execution_count": null,
   "id": "13",
   "metadata": {},
   "outputs": [],
   "source": [
    "# Read the model without the updated staticmaps\n",
    "root = \"wflow_piave_subbasin\"\n",
    "mod = WflowModel(root, mode=\"r\")\n",
    "mod.read_grid()\n",
    "mod.read_config()"
   ]
  },
  {
   "cell_type": "markdown",
   "id": "14",
   "metadata": {},
   "source": [
    "### Adding updated maps\n",
    "\n",
    "Given some GeoTiff files, there are 2 ways to add their contents to your model: with or without renaming of the files.\n",
    "\n",
    "The simplest is to overwrite the entire grid by reading all `.tif` files produced using the steps above.\n",
    "\n",
    "> **Note:** If any maps have been manually updated (using QGIS), **do not rename the updated files**. WflowModel uses the filenames to generate variable names automatically. Renaming files can result in a WflowModel with staticmaps containing both the old and new versions of a map, which may lead to inconsistencies in the model."
   ]
  },
  {
   "cell_type": "code",
   "execution_count": null,
   "id": "15",
   "metadata": {},
   "outputs": [],
   "source": [
    "# read the entire updated mapstack\n",
    "ds_updated = hydromt.open_mfraster(join(updated_staticmaps, \"*.tif\"))\n",
    "\n",
    "# Reinitialize and update the new model staticmaps\n",
    "mod._grid = xr.Dataset()\n",
    "mod.set_grid(ds_updated)\n",
    "\n",
    "# Change root to not overwrite the original model\n",
    "updated_root = \"wflow_piave_subbasin_updated\"\n",
    "mod.set_root(updated_root)\n",
    "mod.write()"
   ]
  },
  {
   "cell_type": "markdown",
   "id": "16",
   "metadata": {},
   "source": [
    "### Update static maps separately using `setup_grid_from_raster`\n",
    "\n",
    "Lets say you have updated and renamed the `KsatVer.tif` static map to `KsatVer_updated.tif`, and that you would like to include it in your model.\n",
    "\n",
    "You will need to find the `wflow variable` that corresponds to the map you updated, which in the case of `KsatVer.tif` is `soil_surface_water__vertical_saturated_hydraulic_conductivity`. For information on the available wflow variables, see the [Wflow documentation](https://deltares.github.io/Wflow.jl/dev/user_guide/toml_file.html)\n",
    "\n"
   ]
  },
  {
   "cell_type": "code",
   "execution_count": null,
   "id": "17",
   "metadata": {},
   "outputs": [],
   "source": [
    "mod = WflowModel(root, mode=\"r\")\n",
    "mod.read_grid()\n",
    "mod.read_config()\n",
    "\n",
    "# `KsatVer` corresponds to the `soil_surface_water__vertical_saturated_hydraulic_conductivity` variable\n",
    "wflow_variable = \"soil_surface_water__vertical_saturated_hydraulic_conductivity\"\n",
    "print(f\"Before setup_grid_from_raster: {mod._config[\"input\"][\"static\"][wflow_variable]}\")\n",
    "\n",
    "# For this example we just copy and rename `KsatVer.tif`, but in practice this would be a different file\n",
    "old_map = join(updated_staticmaps, \"KsatVer.tif\")\n",
    "updated_map = join(updated_staticmaps, \"KsatVer_updated.tif\")\n",
    "shutil.copyfile(old_map, updated_map)\n",
    "\n",
    "mod.setup_grid_from_raster(raster_fn=updated_map, reproject_method='nearest', wflow_variables=[wflow_variable])\n",
    "print(f\"After setup_grid_from_raster: {mod._config[\"input\"][\"static\"][wflow_variable]}\")"
   ]
  }
 ],
 "metadata": {
  "kernelspec": {
   "display_name": "docs",
   "language": "python",
   "name": "python3"
  },
  "language_info": {
   "codemirror_mode": {
    "name": "ipython",
    "version": 3
   },
   "file_extension": ".py",
   "mimetype": "text/x-python",
   "name": "python",
   "nbconvert_exporter": "python",
   "pygments_lexer": "ipython3",
   "version": "3.13.3"
  }
 },
 "nbformat": 4,
 "nbformat_minor": 5
}
