{
 "cells": [
  {
   "cell_type": "markdown",
   "id": "0",
   "metadata": {},
   "source": [
    "## Upgrade your model to Wflow.jl version 1"
   ]
  },
  {
   "cell_type": "markdown",
   "id": "1",
   "metadata": {},
   "source": [
    "To ease the process of upgrading your Wflow.jl model to version 1+, HydroMT includes an upgrade function that helps you convert your model very easily: `upgrade_to_v1_wflow`.\n",
    "\n",
    "For sbm type of models, the main difference between Wflow version 0.8.1 and less or Wflow version 1.0.0 and more is that the TOML file structure was updated into new sections and standard names are used to link to internal variable names in the code. For example *lateral.river.q_av* is now *river_water__volume_flow_rate*.\n",
    "\n",
    "For sediment type of models, apart from the difference in the TOML file, estimation of some of the parameters has been moved outside of the Wflow.jl code and into HydroMT-Wflow. This allows the user to more easily adjust values of these parameters if they have local data or calibrate some parameters more easily.\n",
    "\n",
    "The [upgrade_to_v1_wflow](https://deltares.github.io/hydromt_wflow/latest/_generated/hydromt_wflow.WflowSbmModel.upgrade_to_v1_wflow.html) function directly convert the TOML file to v1 format and in the case of [wflow_sediment](https://deltares.github.io/hydromt_wflow/latest/_generated/hydromt_wflow.WflowSedimentModel.upgrade_to_v1_wflow.html) also calls again `setup_soilmaps` and `setup_riverbedsed` functions to create the new required parameters.\n",
    "\n",
    "Let's see how you can use this function."
   ]
  },
  {
   "cell_type": "markdown",
   "id": "2",
   "metadata": {},
   "source": [
    "### Upgrading a Wflow SBM model"
   ]
  },
  {
   "cell_type": "markdown",
   "id": "3",
   "metadata": {},
   "source": [
    "We can call the `upgrade_to_v1_wflow` function using the `update` CLI of HydroMT. Here is the configuration file that we will use:"
   ]
  },
  {
   "cell_type": "code",
   "execution_count": null,
   "id": "4",
   "metadata": {},
   "outputs": [],
   "source": [
    "fn_config = \"wflow_update_v1_sbm.yml\"\n",
    "with open(fn_config, \"r\") as f:\n",
    "    txt = f.read()\n",
    "print(txt)"
   ]
  },
  {
   "cell_type": "markdown",
   "id": "5",
   "metadata": {},
   "source": [
    "In this config, we start by setting the name of the TOML file of the version 0x model (if different than *wflow_sbm.toml*), call the `upgrade_to_v1_wflow` method, and then save the updated TOML file into a new *wflow_sbm_v1.toml* file.\n",
    "\n",
    "Note that if you use the standard *wflow_sbm.toml* name and do not mind it being overwritten, the above example can be reduced into only calling `upgrade_to_v1_wflow`.\n",
    "\n",
    "Let's now call HydroMT update to update our old config (in this case we do not need a data catalog):"
   ]
  },
  {
   "cell_type": "code",
   "execution_count": null,
   "id": "6",
   "metadata": {},
   "outputs": [],
   "source": [
    "!hydromt update wflow_sbm \"./data/wflow_upgrade/sbm\" -i wflow_update_v1_sbm.yml -v"
   ]
  },
  {
   "cell_type": "markdown",
   "id": "7",
   "metadata": {},
   "source": [
    "And let's see the results. Here is what our old TOML file looked like:"
   ]
  },
  {
   "cell_type": "code",
   "execution_count": null,
   "id": "8",
   "metadata": {},
   "outputs": [],
   "source": [
    "toml_v0x = \"./data/wflow_upgrade/sbm/wflow_sbm_v0x.toml\"\n",
    "with open(toml_v0x, \"r\") as f:\n",
    "    txt = f.read()\n",
    "print(txt)"
   ]
  },
  {
   "cell_type": "markdown",
   "id": "9",
   "metadata": {},
   "source": [
    "And here is the same TOML in version 1 format:"
   ]
  },
  {
   "cell_type": "code",
   "execution_count": null,
   "id": "10",
   "metadata": {},
   "outputs": [],
   "source": [
    "toml_v1 = \"./data/wflow_upgrade/sbm/wflow_sbm_v1.toml\"\n",
    "with open(toml_v1, \"r\") as f:\n",
    "    txt = f.read()\n",
    "print(txt)"
   ]
  },
  {
   "cell_type": "markdown",
   "id": "11",
   "metadata": {},
   "source": [
    "The lakes and reservoirs have been merged into one structure and the new staticmaps file has been generated. Here are all the available variables:"
   ]
  },
  {
   "cell_type": "code",
   "execution_count": null,
   "id": "12",
   "metadata": {},
   "outputs": [],
   "source": [
    "import xarray as xr\n",
    "\n",
    "staticmaps = xr.open_dataset(\"./data/wflow_upgrade/sbm/staticmaps_v1.nc\")\n",
    "print(list(staticmaps.data_vars.keys()))"
   ]
  },
  {
   "cell_type": "markdown",
   "id": "13",
   "metadata": {},
   "source": [
    "### Upgrading a Wflow Sediment model"
   ]
  },
  {
   "cell_type": "markdown",
   "id": "14",
   "metadata": {},
   "source": [
    "We can call the `upgrade_to_v1_wflow` function using the `update` CLI of HydroMT. Here is the configuration file that we will use:"
   ]
  },
  {
   "cell_type": "code",
   "execution_count": null,
   "id": "15",
   "metadata": {},
   "outputs": [],
   "source": [
    "fn_config = \"wflow_update_v1_sediment.yml\"\n",
    "with open(fn_config, \"r\") as f:\n",
    "    txt = f.read()\n",
    "print(txt)"
   ]
  },
  {
   "cell_type": "markdown",
   "id": "16",
   "metadata": {},
   "source": [
    "In this config, we start by setting the name of the TOML file of the version 0x model (if different than *wflow_sediment.toml*), call the `upgrade_to_v1_wflow` method, and then save the updated TOML file into a new *wflow_sbm_v1.toml* file and the updated staticmaps file with the additional parameters in *staticmaps_v1.toml*.\n",
    "\n",
    "Note that if you use the standard *wflow_sediment.toml* name and do not mind it or the staticmaps file being overwritten, the above example can be reduced into only calling `upgrade_to_v1_wflow`.\n",
    "\n",
    "Let's now call HydroMT update to update our old config (in this case we do need a data catalog as we will update some of the soil parameters):"
   ]
  },
  {
   "cell_type": "code",
   "execution_count": null,
   "id": "17",
   "metadata": {},
   "outputs": [],
   "source": [
    "!hydromt update wflow_sediment \"./data/wflow_upgrade/sediment\" -i wflow_update_v1_sediment.yml -d artifact_data -v"
   ]
  },
  {
   "cell_type": "markdown",
   "id": "18",
   "metadata": {},
   "source": [
    "And let's see the results. Here is what our old TOML file looked like:"
   ]
  },
  {
   "cell_type": "code",
   "execution_count": null,
   "id": "19",
   "metadata": {},
   "outputs": [],
   "source": [
    "toml_v0x = \"./data/wflow_upgrade/sediment/wflow_sediment_v0x.toml\"\n",
    "with open(toml_v0x, \"r\") as f:\n",
    "    txt = f.read()\n",
    "print(txt)"
   ]
  },
  {
   "cell_type": "markdown",
   "id": "20",
   "metadata": {},
   "source": [
    "And here is the same TOML in version 1 format:"
   ]
  },
  {
   "cell_type": "code",
   "execution_count": null,
   "id": "21",
   "metadata": {},
   "outputs": [],
   "source": [
    "toml_v1 = \"./data/wflow_upgrade/sediment/wflow_sediment_v1.toml\"\n",
    "with open(toml_v1, \"r\") as f:\n",
    "    txt = f.read()\n",
    "print(txt)"
   ]
  },
  {
   "cell_type": "markdown",
   "id": "22",
   "metadata": {},
   "source": [
    "You can also note that the new staticmaps file was generated. Here are all the available variables:"
   ]
  },
  {
   "cell_type": "code",
   "execution_count": null,
   "id": "23",
   "metadata": {},
   "outputs": [],
   "source": [
    "import xarray as xr\n",
    "\n",
    "staticmaps = xr.open_dataset(\"./data/wflow_upgrade/sediment/staticmaps_v1.nc\")\n",
    "print(list(staticmaps.data_vars.keys()))"
   ]
  }
 ],
 "metadata": {
  "kernelspec": {
   "display_name": "docs",
   "language": "python",
   "name": "python3"
  },
  "language_info": {
   "codemirror_mode": {
    "name": "ipython",
    "version": 3
   },
   "file_extension": ".py",
   "mimetype": "text/x-python",
   "name": "python",
   "nbconvert_exporter": "python",
   "pygments_lexer": "ipython3",
   "version": "3.13.7"
  }
 },
 "nbformat": 4,
 "nbformat_minor": 5
}
