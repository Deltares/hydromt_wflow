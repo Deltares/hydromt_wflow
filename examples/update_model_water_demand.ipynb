{
 "cells": [
  {
   "cell_type": "markdown",
   "metadata": {},
   "source": [
    "## Update a wflow model: water demand"
   ]
  },
  {
   "cell_type": "markdown",
   "metadata": {},
   "source": [
    "With HydroMT, you can easily read your model and update one or several components of your model using the **update** function of the command line interface (CLI). Here are the steps and some examples on how to **add water demand information** to your wflow_sbm model.\n",
    "\n",
    "All lines in this notebook which starts with ! are executed from the command line. Within the notebook environment the logging messages are shown after completion. You can also copy these lines and paste them in your shell to get more feedback.\n",
    "\n",
    "You can update a wflow_sbm model to include the simulation of water demand and allocation. This can be important in basins where there substantial human influence, and/or you might want to simulate what will happen if (more) water is consumed. We identify four different sources of water demand:\n",
    "- domestic\n",
    "- industry\n",
    "- livestock\n",
    "- irrigation\n",
    "\n",
    "These four different items are taken into account when adding the required water demand data to your wflow model. Besides computing the water demand, we also need information on the regions where water is allocated. \n",
    "\n",
    "Let's open the example configuration file (**wflow_update_water_demand.yml**) from the model repository [examples folder] and have a look at the main setup."
   ]
  },
  {
   "cell_type": "code",
   "execution_count": null,
   "metadata": {},
   "outputs": [],
   "source": [
    "fn_config = \"wflow_update_water_demand.yml\"\n",
    "with open(fn_config, \"r\") as f:\n",
    "    txt = f.read()\n",
    "print(txt)"
   ]
  },
  {
   "cell_type": "markdown",
   "metadata": {},
   "source": [
    "Here, you see we will be adding the required information to simulate water demand and allocation in wflow, by running three different setup functions:\n",
    "- **setup_allocation**: Adds a map that defines the different regions that will be used to allocate water. By default this is a mix between administrative boundaries and catchment boundaries\n",
    "- **setup_non_irrigation**: Adds maps to the wflow schematization that describe how much water is demanded (gross and net amounts) by three different sources: domestic (dom), industry (ind), and livestock (lsk).\n",
    "- **setup_irrigation**: Adds information about where irrigation takes place, where rice (paddy) fields are located, and updates the wflow model with new layers to reflect the paddy-fields.\n",
    "\n",
    "More information on these steps will be given below (after we have updated the model)"
   ]
  },
  {
   "cell_type": "markdown",
   "metadata": {},
   "source": [
    "### Update the wflow model"
   ]
  },
  {
   "cell_type": "markdown",
   "metadata": {},
   "source": [
    "First, we build a wflow_sbm model for the full Piave basin, as most water demand activities occur in the most downstream locations of the catchment. If you have already prepared this model (based one of the previous examples, you can ignore the first step)."
   ]
  },
  {
   "cell_type": "code",
   "execution_count": null,
   "metadata": {},
   "outputs": [],
   "source": [
    "import os\n",
    "\n",
    "# Check if the full basin model is already there\n",
    "if not os.path.exists(\"./wflow_test_full\"):\n",
    "    # NOTE: copy this line (without !) to your shell for more direct feedback\n",
    "    ! hydromt build wflow \"./wflow_test_full\" -r \"{'basin': [12.2051, 45.8331], 'strord': 4, 'bounds': [11.70, 45.35, 12.95, 46.70]}\" -i wflow_build.yml -d deltares_data -d artifact_data -vv\n",
    "else:\n",
    "    print(\"Model already exists, skipping the building step\")"
   ]
  },
  {
   "cell_type": "markdown",
   "metadata": {},
   "source": [
    "Next, we will update the model using the same configuration file that was shown earlier:"
   ]
  },
  {
   "cell_type": "code",
   "execution_count": null,
   "metadata": {},
   "outputs": [],
   "source": [
    "! hydromt update wflow wflow_test_full -o ./wflow_piave_water_demand -i wflow_update_water_demand.yml -d deltares_data -d \"p:/1000365-002-wflow/tmp/demand/catalog.yml\" -v\n",
    "# -d artifact_data\n",
    "print(\"NOTE: Need to add this data to artifact data!\")"
   ]
  },
  {
   "cell_type": "markdown",
   "metadata": {},
   "source": [
    "### Looking at the added layers\n",
    "\n",
    "To understand what layers have been added, we'll plot the new layers below. To do the plotting, we first have to import the required python libraries:\n",
    "\n",
    "\n",
    "\n",
    "#### Industry, livestock and domestic demand\n",
    "\n",
    "For the non_irrigation related demand, we assume those to be already prepared datasets with gross and net (consumption) demands. In this example, we rely on data from the PCR-GLOBWB model. See the images below for an explanation of the data and added layers to the wflow model configuration."
   ]
  },
  {
   "cell_type": "code",
   "execution_count": null,
   "metadata": {},
   "outputs": [],
   "source": [
    "import numpy as np\n",
    "import matplotlib.pyplot as plt\n",
    "from hydromt_wflow import WflowModel\n",
    "from hydromt_wflow.workflows.demand import calc_kv_at_depth\n",
    "\n",
    "mod = WflowModel(root=\"wflow_piave_water_demand\", mode=\"r\", data_libs=[\"deltares_data\", \"p:/1000365-002-wflow/tmp/demand/catalog.yml\"])\n",
    "print(\"NOTE: Need to add this data to artifact data!\")"
   ]
  },
  {
   "cell_type": "code",
   "execution_count": null,
   "metadata": {},
   "outputs": [],
   "source": [
    "%matplotlib inline\n",
    "\n",
    "month = 6\n",
    "\n",
    "fig, axes = plt.subplots(2, 3, sharex=True, sharey=True, figsize=(10, 8))\n",
    "\n",
    "fig.suptitle(f\"Demand values for month {month}\")\n",
    "\n",
    "axes[0][0].set_title(\"Industry [mm/day]\")\n",
    "axes[0][1].set_title(\"Livestock [mm/day]\")\n",
    "axes[0][2].set_title(\"Domestic [mm/day]\")\n",
    "axes[0][0].set_ylabel(\"Gross\")\n",
    "axes[1][0].set_ylabel(\"Net\")\n",
    "\n",
    "# Extracting the min-max ranges for consistent colorbars\n",
    "ind_min = mod.grid[\"ind_gross\"].min()\n",
    "ind_max = mod.grid[\"ind_gross\"].max()\n",
    "lsk_min = mod.grid[\"lsk_gross\"].min()\n",
    "lsk_max = mod.grid[\"lsk_gross\"].max()\n",
    "dom_min = mod.grid[\"dom_gross\"].min()\n",
    "dom_max = mod.grid[\"dom_gross\"].max()\n",
    "\n",
    "# Plot industry\n",
    "mod.grid[\"ind_gross\"].sel(time=month).plot(ax=axes[0][0], add_labels=False, vmin=ind_min, vmax=ind_max)\n",
    "mod.grid[\"ind_net\"].sel(time=month).plot(ax=axes[1][0], add_labels=False, vmin=ind_min, vmax=ind_max)\n",
    "# Plot livestock\n",
    "mod.grid[\"lsk_gross\"].sel(time=month).plot(ax=axes[0][1], add_labels=False, vmin=lsk_min, vmax=lsk_max)\n",
    "mod.grid[\"lsk_net\"].sel(time=month).plot(ax=axes[1][1], add_labels=False, vmin=lsk_min, vmax=lsk_max)\n",
    "# Plot domestic (adjusted the max range to improve plotting)\n",
    "mod.grid[\"dom_net\"].sel(time=month).plot(ax=axes[0][2], add_labels=False, vmin=dom_min, vmax=dom_max * .3)\n",
    "mod.grid[\"dom_net\"].sel(time=month).plot(ax=axes[1][2], add_labels=False, vmin=dom_min, vmax=dom_max * .3)\n",
    "\n",
    "\n",
    "fig.tight_layout()"
   ]
  },
  {
   "cell_type": "markdown",
   "metadata": {},
   "source": [
    "In the figure above, we see a slight difference between the gross and net demand for the industry sector. This means that this sector consumes part of the demanded water, but returns a portion of the water back. On the other hand, the gross and net demands for both livestock and domestic are roughly the same, meaning that the majority of the water will be consumed.\n",
    "\n",
    "For the industry and livestock sectors, we see the relatively low-resolution of the original data. This data is retrieved from the PCR-GLOBWB model, which was provided at a resolution of 0.5x0.5 degrees (roughly 40x40km). The same holds for the domestic demands data, but it was downscaled using population density in the `setup_non_irrigation` workflow (using the dataset provided in `population_fn`, which is an optional step). The population data is used to identify densely populated regions, and downscales this to the cities/villages where the people actually live. To give an impression, see the figure below for an insight into the population data. Please note that this is the data at the original resolution of ~100x100m. The data at the wflow model resolution is provided in the staticmaps (see `mod.grid[\"Population_scaled\"]`).\n"
   ]
  },
  {
   "cell_type": "code",
   "execution_count": null,
   "metadata": {},
   "outputs": [],
   "source": [
    "# Read original data and slice to model domain\n",
    "pop_ds = mod.data_catalog.get_rasterdataset(\"worldpop_2020_constrained\", geom=mod.geoms[\"basins\"])\n",
    "# Get mask of catchment\n",
    "pop_ds_mask = pop_ds.raster.geometry_mask(mod.geoms[\"basins\"])\n",
    "pop_ds = pop_ds.raster.mask_nodata().where(pop_ds_mask)\n",
    "\n",
    "# Plot data\n",
    "fig, ax = plt.subplots(1, 1, figsize=(6,6))\n",
    "# Add original population data to figure\n",
    "pop_ds.plot(ax=ax, vmax=20, add_labels=False, cbar_kwargs={'label': \"Population per pixel (~100x100m)\"})\n",
    "# Add basin geometry to plot\n",
    "mod.geoms[\"basins\"].plot(ax=ax, facecolor=\"none\", edgecolor=\"red\")"
   ]
  },
  {
   "cell_type": "markdown",
   "metadata": {},
   "source": [
    "#### Irrigation maps\n",
    "\n",
    "For the `setup_irrigation` workflow, a number of maps have been added to the model:\n",
    "- **paddy_irrigation_areas**: mask (0/1) of the cells that are considered to be paddy/rice fields\n",
    "- **nonpaddy_irrigation_areas**: mask (0/1) of the cells that are irrigated, but not paddy/rice fields\n",
    "- **crop_factor**: crop factor map that is used to convert the reference PET to the crop specific evaporation\n",
    "- **irrigation_trigger**: trigger (0/1) that indicates whether we expect irrigation to occur (based on the LAI, to identify the growing season)\n",
    "- **kvfrac**: factor used to multiply the vertical conductivity (`kv`) in order to allow for a layer with very low conductivity (for the paddy fields)\n",
    "\n",
    "Besides those maps, the model configuration has also been update to reflect the new requested layers (see the `wflow_thicknesslayers` argument in the `setup_irrigation` function). These new layers are required to reflect the reduction in vertical conductivity (`kvfrac`) to allow for standing surface water in the cells with paddy irrigation. As a result, the `c` maps are also updated in this workflow."
   ]
  },
  {
   "cell_type": "code",
   "execution_count": null,
   "metadata": {},
   "outputs": [],
   "source": [
    "fig, axes = plt.subplots(1, 3, sharex=True, sharey=True, figsize=(10,5))\n",
    "\n",
    "axes[0].set_title(\"Paddy irrigation [-]\")\n",
    "axes[1].set_title(\"Non-paddy irrigation [-]\")\n",
    "axes[2].set_title(\"Crop factor [-]\")\n",
    "\n",
    "mod.grid[\"paddy_irrigation_areas\"].raster.mask_nodata().plot(ax=axes[0], add_labels=False)\n",
    "mod.grid[\"nonpaddy_irrigation_areas\"].raster.mask_nodata().plot(ax=axes[1], add_labels=False)\n",
    "mod.grid[\"crop_factor\"].raster.mask_nodata().plot(ax=axes[2], add_labels=False)\n",
    "\n",
    "fig.tight_layout()"
   ]
  },
  {
   "cell_type": "markdown",
   "metadata": {},
   "source": [
    "In this figure, we see the cells with paddy (rice fields) and non-paddy irrigated areas. Cells are identified as such when they exceed a fractional threshold of the cell (set by `area_threshold`). A cell can only be either paddy-irrigated, non-paddy-irrigated, or rain-fed. In the third panel, we see the crop factor associated for all of the model pixels.\n",
    "\n",
    "In the figures below, we show the irrigation trigger maps for three months: before the growing season, during the growing season, and in the closing stages of the growing season. A map with a mask (0/1) contains information whether irrigation is allowed to occur during this month."
   ]
  },
  {
   "cell_type": "code",
   "execution_count": null,
   "metadata": {},
   "outputs": [],
   "source": [
    "fig, axes = plt.subplots(1, 3, sharex=True, sharey=True, figsize=(10,5))\n",
    "\n",
    "fig.suptitle(\"Irrigation trigger [-]\")\n",
    "\n",
    "axes[0].set_title(\"February\")\n",
    "axes[1].set_title(\"July\")\n",
    "axes[2].set_title(\"October\")\n",
    "\n",
    "mod.grid[\"irrigation_trigger\"].sel(time=2).raster.mask_nodata().plot(ax=axes[0], add_labels=False, vmin=0, vmax=1)\n",
    "mod.grid[\"irrigation_trigger\"].sel(time=7).raster.mask_nodata().plot(ax=axes[1], add_labels=False, vmin=0, vmax=1)\n",
    "mod.grid[\"irrigation_trigger\"].sel(time=10).raster.mask_nodata().plot(ax=axes[2], add_labels=False, vmin=0, vmax=1)\n",
    "\n",
    "fig.tight_layout()"
   ]
  },
  {
   "cell_type": "markdown",
   "metadata": {},
   "source": [
    "Lastly, a `kvfrac` map is added that adds a layer with very low vertical hydraulic conductivity in the cells with paddy irrigation. The target conductivity value can be set for each layer using the `target_conductivity` parameter, and sets a value for each layer in the wflow model (linked to the `wflow_thicknesslayer` parameter). See the figures below for an indication of these maps and their effect on the vertical conductivity."
   ]
  },
  {
   "cell_type": "code",
   "execution_count": null,
   "metadata": {},
   "outputs": [],
   "source": [
    "fig, axes = plt.subplots(1, 3, figsize=(11,5))\n",
    "\n",
    "ax1, ax2, ax3 = axes.flatten()\n",
    "\n",
    "ax1.set_title(\"kvfrac for layer=0\")\n",
    "ax2.set_title(\"kvfrac for layer=2\")\n",
    "ax3.set_title(\"Effect on kv\")\n",
    "\n",
    "mod.grid[\"kvfrac\"].sel(layer=0).raster.mask_nodata().plot(ax=ax1, add_labels=False, vmin=0, vmax=1)\n",
    "mod.grid[\"kvfrac\"].sel(layer=2).raster.mask_nodata().plot(ax=ax2, add_labels=False, vmin=0, vmax=1)\n",
    "\n",
    "# Take the cumulative sum to get to the cumulative layers\n",
    "layers = np.cumsum(mod.get_config(\"model.thicknesslayers\"))\n",
    "layers = np.append(layers, 2000)\n",
    "# Add layers to figure\n",
    "for layer in layers:\n",
    "    ax3.axhline(y=layer, c=\"0.8\")\n",
    "\n",
    "# Position of a paddy pixel\n",
    "lat = 45.63\n",
    "lon = 12.66\n",
    "\n",
    "# Read required layers\n",
    "kv_0 = mod.grid[\"KsatVer\"].sel(latitude=lat, longitude=lon, method=\"nearest\")\n",
    "kvfrac = mod.grid[\"kvfrac\"].sel(latitude=lat, longitude=lon, method=\"nearest\")\n",
    "f = mod.grid[\"f\"].sel(latitude=lat, longitude=lon, method=\"nearest\")\n",
    "\n",
    "# Compute original kv values (without kvfrac)\n",
    "depths = np.arange(0, 2000)\n",
    "original = calc_kv_at_depth(depth=depths, kv_0=kv_0.values, f=f.values)\n",
    "\n",
    "# Compute new kv values\n",
    "corrected = original.copy()\n",
    "idxs = np.where(kvfrac.values != 1)[0]\n",
    "for idx in idxs:\n",
    "    start_depth = layers[idx-1]\n",
    "    end_depth = layers[idx]\n",
    "    corrected[start_depth:end_depth] *= kvfrac.values[idx]\n",
    "\n",
    "ax3.plot(original, depths, label=\"Without kvfrac\")\n",
    "ax3.plot(corrected, depths, label=\"With kvfrac\")\n",
    "\n",
    "# Flip y-axis for easier understanding of depth profile\n",
    "ax3.set_ylim(2000, 0)\n",
    "ax3.set_xlim(0, ax3.get_xlim()[1])\n",
    "ax3.set_xlabel(\"Vertical conductivity [mm day$^{-1}$]\")\n",
    "ax3.set_ylabel(\"Depth below surface [mm]\")\n",
    "ax3.legend(loc = \"lower right\")\n",
    "\n",
    "fig.tight_layout()"
   ]
  },
  {
   "cell_type": "markdown",
   "metadata": {},
   "source": [
    "#### Water allocation regions\n",
    "\n",
    "To define regions where water can be shared and allocated, a merge between catchment and administrative boundaries is computed. These result in regions where wflow can allocate available water. No water allocation is supported between these regions. To give an impression on how these regions look like, see the following figures for an example."
   ]
  },
  {
   "cell_type": "code",
   "execution_count": null,
   "metadata": {},
   "outputs": [],
   "source": [
    "# Read original data and slice to model domain\n",
    "admin = mod.data_catalog.get_geodataframe(\"gadm_level2\", geom=mod.geoms[\"basins\"])\n",
    "\n",
    "fig, ax = plt.subplots(1)\n",
    "\n",
    "ax.set_title(\"Allocation regions\")\n",
    "\n",
    "mod.grid[\"allocation_regions\"].raster.mask_nodata().plot(ax=ax, add_labels=False)\n",
    "admin.plot(ax=ax, facecolor=\"none\", edgecolor=\"black\")"
   ]
  },
  {
   "cell_type": "markdown",
   "metadata": {},
   "source": [
    "Here we see a couple of distinct administrative boundaries (black lines), some of which already follow the catchment boundaries. When the catchment crosses an administrative boundary, that region receives a different but unique identifier."
   ]
  }
 ],
 "metadata": {
  "kernelspec": {
   "display_name": "hydromt_wflow_dev",
   "language": "python",
   "name": "python3"
  },
  "language_info": {
   "codemirror_mode": {
    "name": "ipython",
    "version": 3
   },
   "file_extension": ".py",
   "mimetype": "text/x-python",
   "name": "python",
   "nbconvert_exporter": "python",
   "pygments_lexer": "ipython3",
   "version": "3.11.6"
  }
 },
 "nbformat": 4,
 "nbformat_minor": 2
}
